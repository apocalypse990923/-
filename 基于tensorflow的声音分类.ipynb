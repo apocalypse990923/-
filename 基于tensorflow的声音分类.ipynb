{
 "cells": [
  {
   "cell_type": "code",
   "execution_count": 1,
   "metadata": {},
   "outputs": [],
   "source": [
    "import pyaudio\n",
    "import librosa\n",
    "import tensorflow as tf\n",
    "import os\n",
    "os.environ['KERAS_BACKEND']='tensorflow'\n",
    "import keras\n",
    "from keras.utils import np_utils\n",
    "import numpy as np\n",
    "import pandas as pd\n",
    "from tqdm import tqdm\n",
    "import random\n",
    "from sklearn.utils import shuffle\n",
    "from sklearn.preprocessing import LabelEncoder"
   ]
  },
  {
   "cell_type": "code",
   "execution_count": 14,
   "metadata": {},
   "outputs": [
    {
     "name": "stdout",
     "output_type": "stream",
     "text": [
      "Audio：1/2\n",
      "Audio：2/2\n"
     ]
    }
   ],
   "source": [
    "#创建自定义训练数据列表\n",
    "#audio_path为音频文件路径，用户需要提前把音频数据集存放在my_dataset/audio目录下，每个文件夹存放一个类别的音频数据，如my_dataset/audio/鸟叫声/...\n",
    "#生成的数据类别的格式为音频路径\\t音频对应的类别标签\n",
    "def get_data_list(audio_path, list_path):\n",
    "    sound_sum = 0\n",
    "    audios = os.listdir(audio_path)\n",
    "\n",
    "    f_train = open(os.path.join(list_path, 'train_list.txt'), 'w')\n",
    "    f_test = open(os.path.join(list_path, 'test_list.txt'), 'w')\n",
    "\n",
    "    for i in range(len(audios)):\n",
    "        sounds = os.listdir(os.path.join(audio_path, audios[i]))\n",
    "        for sound in sounds:\n",
    "            sound_path = os.path.join(audio_path, audios[i], sound)\n",
    "            t = librosa.get_duration(filename=sound_path)\n",
    "            # [可能需要修改参数] 过滤小于2.1秒的音频\n",
    "            if t >= 2:\n",
    "                if sound_sum % 5 == 0:\n",
    "                    f_test.write('%s\\t%d\\n' % (sound_path, i))\n",
    "                else:\n",
    "                    f_train.write('%s\\t%d\\n' % (sound_path, i))\n",
    "                sound_sum += 1\n",
    "        print(\"Audio：%d/%d\" % (i + 1, len(audios)))\n",
    "\n",
    "    f_test.close()\n",
    "    f_train.close()\n",
    "\n",
    "if __name__ == '__main__':\n",
    "    get_data_list('my_dataset/audio', 'my_dataset')"
   ]
  },
  {
   "cell_type": "code",
   "execution_count": 3,
   "metadata": {},
   "outputs": [],
   "source": [
    "# 创建UrbanSound8K数据列表\n",
    "def get_urbansound8k_list(path, urbansound8k_cvs_path):\n",
    "    data_list = []\n",
    "    data = pd.read_csv(urbansound8k_cvs_path)\n",
    "    # 过滤掉长度少于3秒的音频\n",
    "    valid_data = data[['slice_file_name', 'fold', 'classID', 'class']][data['end'] - data['start'] >= 3]\n",
    "    valid_data['path'] = 'fold' + valid_data['fold'].astype('str') + '/' + valid_data['slice_file_name'].astype('str')\n",
    "    for row in valid_data.itertuples():\n",
    "        data_list.append([row.path, row.classID])\n",
    "\n",
    "    f_train = open(os.path.join(path, 'train_list.txt'), 'w')\n",
    "    f_test = open(os.path.join(path, 'test_list.txt'), 'w')\n",
    "\n",
    "    for i, data in enumerate(data_list):\n",
    "        sound_path = os.path.join('dataset/UrbanSound8K/audio/', data[0])\n",
    "        if i % 100 == 0:\n",
    "            f_test.write('%s\\t%d\\n' % (sound_path, data[1]))\n",
    "        else:\n",
    "            f_train.write('%s\\t%d\\n' % (sound_path, data[1]))\n",
    "\n",
    "    f_test.close()\n",
    "    f_train.close()\n",
    "\n",
    "\n",
    "if __name__ == '__main__':\n",
    "    get_urbansound8k_list('dataset', 'dataset/UrbanSound8K/metadata/UrbanSound8K.csv')"
   ]
  },
  {
   "cell_type": "code",
   "execution_count": 16,
   "metadata": {
    "scrolled": true
   },
   "outputs": [
    {
     "name": "stderr",
     "output_type": "stream",
     "text": [
      " 57%|████████████████████████████████████████████▌                                 | 1795/3141 [01:40<01:16, 17.62it/s]C:\\Users\\xuqiu\\anaconda3\\lib\\site-packages\\librosa\\filters.py:238: UserWarning: Empty filters detected in mel frequency basis. Some channels will produce empty responses. Try increasing your sampling rate (and fmax) or reducing n_mels.\n",
      "  warnings.warn(\n",
      "100%|██████████████████████████████████████████████████████████████████████████████| 3141/3141 [05:54<00:00,  8.86it/s]\n",
      "100%|████████████████████████████████████████████████████████████████████████████████| 786/786 [01:31<00:00,  8.56it/s]\n"
     ]
    }
   ],
   "source": [
    "# 获取浮点数组\n",
    "def _float_feature(value):\n",
    "    if not isinstance(value, list):\n",
    "        value = [value]\n",
    "    return tf.train.Feature(float_list=tf.train.FloatList(value=value))\n",
    "\n",
    "\n",
    "# 获取整型数据\n",
    "def _int64_feature(value):\n",
    "    if not isinstance(value, list):\n",
    "        value = [value]\n",
    "    return tf.train.Feature(int64_list=tf.train.Int64List(value=value))\n",
    "\n",
    "\n",
    "# 把数据添加到TFRecord中\n",
    "def data_example(data, label):\n",
    "    feature = {\n",
    "        'data': _float_feature(data),\n",
    "        'label': _int64_feature(label),\n",
    "    }\n",
    "    return tf.train.Example(features=tf.train.Features(feature=feature))\n",
    "\n",
    "\n",
    "# 开始创建tfrecord数据\n",
    "def create_data_tfrecord(data_list_path, save_path):\n",
    "    with open(data_list_path, 'r') as f:\n",
    "        data = f.readlines()\n",
    "    with tf.io.TFRecordWriter(save_path) as writer:\n",
    "        for d in tqdm(data):\n",
    "            try:\n",
    "                path, label = d.replace('\\n', '').split('\\t')\n",
    "                wav, sr = librosa.load(path, sr=48000)\n",
    "                wav_output = []\n",
    "                '''\n",
    "                intervals = librosa.effects.split(wav, top_db=20) #返回有声音的部分，即裁剪静音部分\n",
    "                for sliced in intervals:\n",
    "                    wav_output.extend(wav[sliced[0]:sliced[1]])\n",
    "                '''\n",
    "                wav_output.extend(wav)\n",
    "                # [可能需要修改参数] 音频长度 48000 * 秒数\n",
    "                wav_len = int(48000 * 2)\n",
    "                for i in range(3):\n",
    "                    # 裁剪过长的音频，过短的补0\n",
    "                    if len(wav_output) > wav_len:\n",
    "                        l = len(wav_output) - wav_len\n",
    "                        r = random.randint(0, l)\n",
    "                        wav_output = wav_output[r:wav_len + r]\n",
    "                    else:\n",
    "                        wav_output.extend(np.zeros(shape=[wav_len - len(wav_output)], dtype=np.float32))\n",
    "                    #wav_output = np.array(wav_output)\n",
    "                    # 转成梅尔频谱\n",
    "                    #data = librosa.feature.melspectrogram(y=np.array(wav_output), sr=sr, n_fft=512, hop_length=256).reshape(-1).tolist()\n",
    "                    \n",
    "                    #转化为梅尔倒谱系数mfcc\n",
    "                    melspec = librosa.feature.melspectrogram(y=np.array(wav_output), sr=sr, n_fft=512, hop_length=256)\n",
    "                    logmelspec = librosa.power_to_db(melspec)\n",
    "                    data = librosa.feature.mfcc(S=logmelspec, n_mfcc=40).reshape(-1).tolist()\n",
    "                    \n",
    "                    if len(data) != 40 * 376: continue\n",
    "                    tf_example = data_example(data, int(label))\n",
    "                    writer.write(tf_example.SerializeToString())\n",
    "                    if len(wav_output) <= wav_len:\n",
    "                        break\n",
    "            except Exception as e:\n",
    "                print(e)\n",
    "\n",
    "\n",
    "if __name__ == '__main__':\n",
    "    create_data_tfrecord('my_dataset/train_list.txt', 'my_dataset/new_mfccs_train.tfrecord')\n",
    "    create_data_tfrecord('my_dataset/test_list.txt', 'my_dataset/new_mfccs_test.tfrecord')"
   ]
  },
  {
   "cell_type": "code",
   "execution_count": 175,
   "metadata": {
    "scrolled": true
   },
   "outputs": [
    {
     "name": "stderr",
     "output_type": "stream",
     "text": [
      "100%|██████████| 453/453 [00:58<00:00,  7.81it/s]\n"
     ]
    }
   ],
   "source": [
    "def create_dataset(data_list_path):\n",
    "    X=[]\n",
    "    Y=[]\n",
    "    with open(data_list_path, 'r') as f:\n",
    "        data = f.readlines()\n",
    "    for d in tqdm(data):\n",
    "        path, label = d.replace('\\n', '').split('\\t')\n",
    "        wav, sr = librosa.load(path, sr=48000)\n",
    "        wav_output = []\n",
    "        wav_output.extend(wav)\n",
    "        # [可能需要修改参数] 音频长度 48000 * 秒数\n",
    "        wav_len = int(48000 * 2)\n",
    "        for i in range(5):\n",
    "            # 裁剪过长的音频，过短的补0\n",
    "            if len(wav_output) > wav_len:\n",
    "                l = len(wav_output) - wav_len\n",
    "                r = random.randint(0, l)\n",
    "                wav_output = wav_output[r:wav_len + r]\n",
    "            else:\n",
    "                wav_output.extend(np.zeros(shape=[wav_len - len(wav_output)], dtype=np.float32))\n",
    "            #wav_output = np.array(wav_output)\n",
    "            # 转成梅尔频谱\n",
    "            #data = librosa.feature.melspectrogram(y=np.array(wav_output), sr=sr, n_fft=512, hop_length=256)\n",
    "                    \n",
    "            #转化为梅尔倒谱系数mfcc\n",
    "            melspec = librosa.feature.melspectrogram(y=np.array(wav_output), sr=sr, n_fft=512, hop_length=256)\n",
    "            logmelspec = librosa.power_to_db(melspec)\n",
    "            data = librosa.feature.mfcc(S=logmelspec, n_mfcc=40).reshape(40,376,1)\n",
    "                    \n",
    "            if data.shape != (40,376,1): continue\n",
    "            X.append(data)\n",
    "            Y.append(int(label))\n",
    "    X_dataset, Y_dataset = shuffle(np.array(X), np.array(Y))  #混洗数据\n",
    "    return X_dataset, Y_dataset\n",
    "\n",
    "if __name__ == '__main__':\n",
    "    #X_train, Y_train = create_dataset('my_dataset/train_list.txt')\n",
    "    X_test, Y_test = create_dataset('my_dataset/test_list.txt')"
   ]
  },
  {
   "cell_type": "code",
   "execution_count": 176,
   "metadata": {
    "scrolled": false
   },
   "outputs": [
    {
     "data": {
      "text/plain": [
       "array([0, 0, 0, 1, 0, 0, 0, 1, 0, 0, 1, 1, 0, 1, 1, 0, 0, 1, 1, 0])"
      ]
     },
     "execution_count": 176,
     "metadata": {},
     "output_type": "execute_result"
    }
   ],
   "source": [
    "Y_test[:20]"
   ]
  },
  {
   "cell_type": "code",
   "execution_count": 123,
   "metadata": {},
   "outputs": [
    {
     "data": {
      "text/plain": [
       "(9055, 40, 376, 1)"
      ]
     },
     "execution_count": 123,
     "metadata": {},
     "output_type": "execute_result"
    }
   ],
   "source": [
    "X_train.shape"
   ]
  },
  {
   "cell_type": "code",
   "execution_count": 183,
   "metadata": {},
   "outputs": [
    {
     "data": {
      "text/plain": [
       "array([[1., 0., 0.],\n",
       "       [1., 0., 0.],\n",
       "       [1., 0., 0.],\n",
       "       [0., 1., 0.],\n",
       "       [1., 0., 0.],\n",
       "       [1., 0., 0.],\n",
       "       [1., 0., 0.],\n",
       "       [0., 1., 0.],\n",
       "       [1., 0., 0.],\n",
       "       [1., 0., 0.],\n",
       "       [0., 1., 0.],\n",
       "       [0., 1., 0.],\n",
       "       [1., 0., 0.],\n",
       "       [0., 1., 0.],\n",
       "       [0., 1., 0.],\n",
       "       [1., 0., 0.],\n",
       "       [1., 0., 0.],\n",
       "       [0., 1., 0.],\n",
       "       [0., 1., 0.],\n",
       "       [1., 0., 0.]], dtype=float32)"
      ]
     },
     "execution_count": 183,
     "metadata": {},
     "output_type": "execute_result"
    }
   ],
   "source": [
    "Y_test_onehot_new =np_utils.to_categorical(Y_test, num_classes=3)\n",
    "Y_test_onehot_new[:20]"
   ]
  },
  {
   "cell_type": "code",
   "execution_count": 177,
   "metadata": {
    "scrolled": false
   },
   "outputs": [
    {
     "data": {
      "text/plain": [
       "array([[1., 0.],\n",
       "       [1., 0.],\n",
       "       [1., 0.],\n",
       "       [0., 1.],\n",
       "       [1., 0.],\n",
       "       [1., 0.],\n",
       "       [1., 0.],\n",
       "       [0., 1.],\n",
       "       [1., 0.],\n",
       "       [1., 0.],\n",
       "       [0., 1.],\n",
       "       [0., 1.],\n",
       "       [1., 0.],\n",
       "       [0., 1.],\n",
       "       [0., 1.],\n",
       "       [1., 0.],\n",
       "       [1., 0.],\n",
       "       [0., 1.],\n",
       "       [0., 1.],\n",
       "       [1., 0.]], dtype=float32)"
      ]
     },
     "execution_count": 177,
     "metadata": {},
     "output_type": "execute_result"
    }
   ],
   "source": [
    "#lb = LabelEncoder()\n",
    "Y_test_onehot =np_utils.to_categorical(LabelEncoder().fit_transform(Y_test))\n",
    "Y_test_onehot[:20]"
   ]
  },
  {
   "cell_type": "code",
   "execution_count": 29,
   "metadata": {
    "scrolled": false
   },
   "outputs": [
    {
     "data": {
      "text/plain": [
       "(9055, 2)"
      ]
     },
     "execution_count": 29,
     "metadata": {},
     "output_type": "execute_result"
    }
   ],
   "source": [
    "Y_train.shape"
   ]
  },
  {
   "cell_type": "code",
   "execution_count": 25,
   "metadata": {},
   "outputs": [],
   "source": [
    "#读取TFrecord数据\n",
    "import tensorflow as tf\n",
    "\n",
    "def _parse_data_function(example):\n",
    "    # [可能需要修改参数】 设置的梅尔频谱的shape相乘的值\n",
    "    data_feature_description = {\n",
    "        'data': tf.io.FixedLenFeature([15040], tf.float32),\n",
    "        'label': tf.io.FixedLenFeature([], tf.int64),\n",
    "    }\n",
    "    return tf.io.parse_single_example(example, data_feature_description)\n",
    "\n",
    "\n",
    "def train_reader_tfrecord(data_path, num_epochs, batch_size):\n",
    "    raw_dataset = tf.data.TFRecordDataset(data_path)\n",
    "    train_dataset = raw_dataset.map(_parse_data_function)\n",
    "    train_dataset = train_dataset.shuffle(buffer_size=1000) \\\n",
    "        .repeat(count=num_epochs) \\\n",
    "        .batch(batch_size=batch_size) \\\n",
    "        .prefetch(buffer_size=tf.data.experimental.AUTOTUNE)\n",
    "    return train_dataset\n",
    "\n",
    "\n",
    "def test_reader_tfrecord(data_path, batch_size):\n",
    "    raw_dataset = tf.data.TFRecordDataset(data_path)\n",
    "    test_dataset = raw_dataset.map(_parse_data_function)\n",
    "    test_dataset = test_dataset.shuffle(buffer_size=1000)\n",
    "    test_dataset = test_dataset.batch(batch_size=batch_size)\n",
    "    return test_dataset"
   ]
  },
  {
   "cell_type": "code",
   "execution_count": 27,
   "metadata": {
    "scrolled": true
   },
   "outputs": [
    {
     "name": "stdout",
     "output_type": "stream",
     "text": [
      "Model: \"sequential_2\"\n",
      "_________________________________________________________________\n",
      "Layer (type)                 Output Shape              Param #   \n",
      "=================================================================\n",
      "conv2d_4 (Conv2D)            (None, 40, 376, 32)       832       \n",
      "_________________________________________________________________\n",
      "activation_8 (Activation)    (None, 40, 376, 32)       0         \n",
      "_________________________________________________________________\n",
      "max_pooling2d_4 (MaxPooling2 (None, 20, 188, 32)       0         \n",
      "_________________________________________________________________\n",
      "conv2d_5 (Conv2D)            (None, 20, 188, 64)       51264     \n",
      "_________________________________________________________________\n",
      "activation_9 (Activation)    (None, 20, 188, 64)       0         \n",
      "_________________________________________________________________\n",
      "max_pooling2d_5 (MaxPooling2 (None, 10, 94, 64)        0         \n",
      "_________________________________________________________________\n",
      "flatten_2 (Flatten)          (None, 60160)             0         \n",
      "_________________________________________________________________\n",
      "dense_4 (Dense)              (None, 1024)              61604864  \n",
      "_________________________________________________________________\n",
      "activation_10 (Activation)   (None, 1024)              0         \n",
      "_________________________________________________________________\n",
      "dense_5 (Dense)              (None, 2)                 2050      \n",
      "_________________________________________________________________\n",
      "activation_11 (Activation)   (None, 2)                 0         \n",
      "=================================================================\n",
      "Total params: 61,659,010\n",
      "Trainable params: 61,659,010\n",
      "Non-trainable params: 0\n",
      "_________________________________________________________________\n"
     ]
    }
   ],
   "source": [
    "from keras.layers import Dense, Activation, Convolution2D, MaxPooling2D, Flatten\n",
    "from keras.models import Sequential #models.Sequential，用来一层一层一层的去建立神经层\n",
    "from keras.layers import Dense, Activation #layers.Dense 意思是这个神经层是全连接层 layers.Activation 激励函数\n",
    "from keras.optimizers import Adam\n",
    "\n",
    "#建立卷积神经网络CNN模型\n",
    "class_dim = 2 #总共两种声音，无人机与非无人机\n",
    "EPOCHS = 10\n",
    "BATCH_SIZE=32\n",
    "\n",
    "#添加第一个卷积层，滤波器数量为32，大小是5*5，Padding方法是same即不改变数据的长度和宽带。\n",
    "model = Sequential()\n",
    "model.add(Convolution2D(\n",
    "    filters=32,\n",
    "    kernel_size=5,\n",
    "    strides=1,\n",
    "    padding='same',      # Padding method\n",
    "    data_format='channels_last',\n",
    "    input_shape=(40, 376, 1),\n",
    "))\n",
    "model.add(Activation('relu'))\n",
    "\n",
    "#第一层 pooling（池化，下采样），分辨率长宽各降低一半，输出数据shape为（20，188, 32）\n",
    "model.add(MaxPooling2D(\n",
    "    pool_size=2,\n",
    "    strides=2,\n",
    "    padding='same',    # Padding method\n",
    "    data_format='channels_last',\n",
    "))\n",
    "\n",
    "#再添加第二卷积层，输出滤波器数量64，卷积核大小5\n",
    "model.add(Convolution2D(64, 5, strides=1, padding='same', data_format='channels_last'))\n",
    "model.add(Activation('relu'))\n",
    "\n",
    "#第二层池化层\n",
    "model.add(MaxPooling2D(2, 2, 'same', data_format='channels_last'))\n",
    "\n",
    "#经过以上处理后，数据shape为（10，94，64），需展开为一维，再连接全连接层\n",
    "model.add(Flatten())\n",
    "model.add(Dense(1024))\n",
    "model.add(Activation('relu'))\n",
    "\n",
    "#添加全连接层（输出层）\n",
    "model.add(Dense(class_dim))\n",
    "model.add(Activation('softmax'))\n",
    "\n",
    "model.summary()"
   ]
  },
  {
   "cell_type": "code",
   "execution_count": 28,
   "metadata": {},
   "outputs": [],
   "source": [
    "#编译，设置adam优化方法\n",
    "adam = Adam(lr=1e-3)\n",
    "model.compile(optimizer='adam',\n",
    "              loss='binary_crossentropy',\n",
    "              metrics=['binary_accuracy'])"
   ]
  },
  {
   "cell_type": "code",
   "execution_count": 27,
   "metadata": {
    "scrolled": true
   },
   "outputs": [
    {
     "name": "stdout",
     "output_type": "stream",
     "text": [
      "Epoch 1/10\n"
     ]
    },
    {
     "ename": "ValueError",
     "evalue": "in user code:\n\n    C:\\Users\\xuqiu\\anaconda3\\lib\\site-packages\\tensorflow\\python\\keras\\engine\\training.py:805 train_function  *\n        return step_function(self, iterator)\n    C:\\Users\\xuqiu\\anaconda3\\lib\\site-packages\\tensorflow\\python\\keras\\engine\\training.py:795 step_function  **\n        outputs = model.distribute_strategy.run(run_step, args=(data,))\n    C:\\Users\\xuqiu\\anaconda3\\lib\\site-packages\\tensorflow\\python\\distribute\\distribute_lib.py:1259 run\n        return self._extended.call_for_each_replica(fn, args=args, kwargs=kwargs)\n    C:\\Users\\xuqiu\\anaconda3\\lib\\site-packages\\tensorflow\\python\\distribute\\distribute_lib.py:2730 call_for_each_replica\n        return self._call_for_each_replica(fn, args, kwargs)\n    C:\\Users\\xuqiu\\anaconda3\\lib\\site-packages\\tensorflow\\python\\distribute\\distribute_lib.py:3417 _call_for_each_replica\n        return fn(*args, **kwargs)\n    C:\\Users\\xuqiu\\anaconda3\\lib\\site-packages\\tensorflow\\python\\keras\\engine\\training.py:788 run_step  **\n        outputs = model.train_step(data)\n    C:\\Users\\xuqiu\\anaconda3\\lib\\site-packages\\tensorflow\\python\\keras\\engine\\training.py:755 train_step\n        loss = self.compiled_loss(\n    C:\\Users\\xuqiu\\anaconda3\\lib\\site-packages\\tensorflow\\python\\keras\\engine\\compile_utils.py:203 __call__\n        loss_value = loss_obj(y_t, y_p, sample_weight=sw)\n    C:\\Users\\xuqiu\\anaconda3\\lib\\site-packages\\tensorflow\\python\\keras\\losses.py:152 __call__\n        losses = call_fn(y_true, y_pred)\n    C:\\Users\\xuqiu\\anaconda3\\lib\\site-packages\\tensorflow\\python\\keras\\losses.py:256 call  **\n        return ag_fn(y_true, y_pred, **self._fn_kwargs)\n    C:\\Users\\xuqiu\\anaconda3\\lib\\site-packages\\tensorflow\\python\\util\\dispatch.py:201 wrapper\n        return target(*args, **kwargs)\n    C:\\Users\\xuqiu\\anaconda3\\lib\\site-packages\\tensorflow\\python\\keras\\losses.py:1608 binary_crossentropy\n        K.binary_crossentropy(y_true, y_pred, from_logits=from_logits), axis=-1)\n    C:\\Users\\xuqiu\\anaconda3\\lib\\site-packages\\tensorflow\\python\\util\\dispatch.py:201 wrapper\n        return target(*args, **kwargs)\n    C:\\Users\\xuqiu\\anaconda3\\lib\\site-packages\\tensorflow\\python\\keras\\backend.py:4979 binary_crossentropy\n        return nn.sigmoid_cross_entropy_with_logits(labels=target, logits=output)\n    C:\\Users\\xuqiu\\anaconda3\\lib\\site-packages\\tensorflow\\python\\util\\dispatch.py:201 wrapper\n        return target(*args, **kwargs)\n    C:\\Users\\xuqiu\\anaconda3\\lib\\site-packages\\tensorflow\\python\\ops\\nn_impl.py:173 sigmoid_cross_entropy_with_logits\n        raise ValueError(\"logits and labels must have the same shape (%s vs %s)\" %\n\n    ValueError: logits and labels must have the same shape ((None, 2) vs (None, 1))\n",
     "output_type": "error",
     "traceback": [
      "\u001b[1;31m---------------------------------------------------------------------------\u001b[0m",
      "\u001b[1;31mValueError\u001b[0m                                Traceback (most recent call last)",
      "\u001b[1;32m<ipython-input-27-d80b42868318>\u001b[0m in \u001b[0;36m<module>\u001b[1;34m\u001b[0m\n\u001b[1;32m----> 1\u001b[1;33m \u001b[0mmodel\u001b[0m\u001b[1;33m.\u001b[0m\u001b[0mfit\u001b[0m\u001b[1;33m(\u001b[0m\u001b[0mX_train\u001b[0m\u001b[1;33m,\u001b[0m \u001b[0mY_train\u001b[0m\u001b[1;33m,\u001b[0m \u001b[0mepochs\u001b[0m\u001b[1;33m=\u001b[0m\u001b[1;36m10\u001b[0m\u001b[1;33m,\u001b[0m \u001b[0mbatch_size\u001b[0m\u001b[1;33m=\u001b[0m\u001b[1;36m32\u001b[0m\u001b[1;33m)\u001b[0m\u001b[1;33m\u001b[0m\u001b[1;33m\u001b[0m\u001b[0m\n\u001b[0m",
      "\u001b[1;32m~\\anaconda3\\lib\\site-packages\\tensorflow\\python\\keras\\engine\\training.py\u001b[0m in \u001b[0;36mfit\u001b[1;34m(self, x, y, batch_size, epochs, verbose, callbacks, validation_split, validation_data, shuffle, class_weight, sample_weight, initial_epoch, steps_per_epoch, validation_steps, validation_batch_size, validation_freq, max_queue_size, workers, use_multiprocessing)\u001b[0m\n\u001b[0;32m   1098\u001b[0m                 _r=1):\n\u001b[0;32m   1099\u001b[0m               \u001b[0mcallbacks\u001b[0m\u001b[1;33m.\u001b[0m\u001b[0mon_train_batch_begin\u001b[0m\u001b[1;33m(\u001b[0m\u001b[0mstep\u001b[0m\u001b[1;33m)\u001b[0m\u001b[1;33m\u001b[0m\u001b[1;33m\u001b[0m\u001b[0m\n\u001b[1;32m-> 1100\u001b[1;33m               \u001b[0mtmp_logs\u001b[0m \u001b[1;33m=\u001b[0m \u001b[0mself\u001b[0m\u001b[1;33m.\u001b[0m\u001b[0mtrain_function\u001b[0m\u001b[1;33m(\u001b[0m\u001b[0miterator\u001b[0m\u001b[1;33m)\u001b[0m\u001b[1;33m\u001b[0m\u001b[1;33m\u001b[0m\u001b[0m\n\u001b[0m\u001b[0;32m   1101\u001b[0m               \u001b[1;32mif\u001b[0m \u001b[0mdata_handler\u001b[0m\u001b[1;33m.\u001b[0m\u001b[0mshould_sync\u001b[0m\u001b[1;33m:\u001b[0m\u001b[1;33m\u001b[0m\u001b[1;33m\u001b[0m\u001b[0m\n\u001b[0;32m   1102\u001b[0m                 \u001b[0mcontext\u001b[0m\u001b[1;33m.\u001b[0m\u001b[0masync_wait\u001b[0m\u001b[1;33m(\u001b[0m\u001b[1;33m)\u001b[0m\u001b[1;33m\u001b[0m\u001b[1;33m\u001b[0m\u001b[0m\n",
      "\u001b[1;32m~\\anaconda3\\lib\\site-packages\\tensorflow\\python\\eager\\def_function.py\u001b[0m in \u001b[0;36m__call__\u001b[1;34m(self, *args, **kwds)\u001b[0m\n\u001b[0;32m    826\u001b[0m     \u001b[0mtracing_count\u001b[0m \u001b[1;33m=\u001b[0m \u001b[0mself\u001b[0m\u001b[1;33m.\u001b[0m\u001b[0mexperimental_get_tracing_count\u001b[0m\u001b[1;33m(\u001b[0m\u001b[1;33m)\u001b[0m\u001b[1;33m\u001b[0m\u001b[1;33m\u001b[0m\u001b[0m\n\u001b[0;32m    827\u001b[0m     \u001b[1;32mwith\u001b[0m \u001b[0mtrace\u001b[0m\u001b[1;33m.\u001b[0m\u001b[0mTrace\u001b[0m\u001b[1;33m(\u001b[0m\u001b[0mself\u001b[0m\u001b[1;33m.\u001b[0m\u001b[0m_name\u001b[0m\u001b[1;33m)\u001b[0m \u001b[1;32mas\u001b[0m \u001b[0mtm\u001b[0m\u001b[1;33m:\u001b[0m\u001b[1;33m\u001b[0m\u001b[1;33m\u001b[0m\u001b[0m\n\u001b[1;32m--> 828\u001b[1;33m       \u001b[0mresult\u001b[0m \u001b[1;33m=\u001b[0m \u001b[0mself\u001b[0m\u001b[1;33m.\u001b[0m\u001b[0m_call\u001b[0m\u001b[1;33m(\u001b[0m\u001b[1;33m*\u001b[0m\u001b[0margs\u001b[0m\u001b[1;33m,\u001b[0m \u001b[1;33m**\u001b[0m\u001b[0mkwds\u001b[0m\u001b[1;33m)\u001b[0m\u001b[1;33m\u001b[0m\u001b[1;33m\u001b[0m\u001b[0m\n\u001b[0m\u001b[0;32m    829\u001b[0m       \u001b[0mcompiler\u001b[0m \u001b[1;33m=\u001b[0m \u001b[1;34m\"xla\"\u001b[0m \u001b[1;32mif\u001b[0m \u001b[0mself\u001b[0m\u001b[1;33m.\u001b[0m\u001b[0m_experimental_compile\u001b[0m \u001b[1;32melse\u001b[0m \u001b[1;34m\"nonXla\"\u001b[0m\u001b[1;33m\u001b[0m\u001b[1;33m\u001b[0m\u001b[0m\n\u001b[0;32m    830\u001b[0m       \u001b[0mnew_tracing_count\u001b[0m \u001b[1;33m=\u001b[0m \u001b[0mself\u001b[0m\u001b[1;33m.\u001b[0m\u001b[0mexperimental_get_tracing_count\u001b[0m\u001b[1;33m(\u001b[0m\u001b[1;33m)\u001b[0m\u001b[1;33m\u001b[0m\u001b[1;33m\u001b[0m\u001b[0m\n",
      "\u001b[1;32m~\\anaconda3\\lib\\site-packages\\tensorflow\\python\\eager\\def_function.py\u001b[0m in \u001b[0;36m_call\u001b[1;34m(self, *args, **kwds)\u001b[0m\n\u001b[0;32m    853\u001b[0m       \u001b[1;31m# In this case we have created variables on the first call, so we run the\u001b[0m\u001b[1;33m\u001b[0m\u001b[1;33m\u001b[0m\u001b[1;33m\u001b[0m\u001b[0m\n\u001b[0;32m    854\u001b[0m       \u001b[1;31m# defunned version which is guaranteed to never create variables.\u001b[0m\u001b[1;33m\u001b[0m\u001b[1;33m\u001b[0m\u001b[1;33m\u001b[0m\u001b[0m\n\u001b[1;32m--> 855\u001b[1;33m       \u001b[1;32mreturn\u001b[0m \u001b[0mself\u001b[0m\u001b[1;33m.\u001b[0m\u001b[0m_stateless_fn\u001b[0m\u001b[1;33m(\u001b[0m\u001b[1;33m*\u001b[0m\u001b[0margs\u001b[0m\u001b[1;33m,\u001b[0m \u001b[1;33m**\u001b[0m\u001b[0mkwds\u001b[0m\u001b[1;33m)\u001b[0m  \u001b[1;31m# pylint: disable=not-callable\u001b[0m\u001b[1;33m\u001b[0m\u001b[1;33m\u001b[0m\u001b[0m\n\u001b[0m\u001b[0;32m    856\u001b[0m     \u001b[1;32melif\u001b[0m \u001b[0mself\u001b[0m\u001b[1;33m.\u001b[0m\u001b[0m_stateful_fn\u001b[0m \u001b[1;32mis\u001b[0m \u001b[1;32mnot\u001b[0m \u001b[1;32mNone\u001b[0m\u001b[1;33m:\u001b[0m\u001b[1;33m\u001b[0m\u001b[1;33m\u001b[0m\u001b[0m\n\u001b[0;32m    857\u001b[0m       \u001b[1;31m# Release the lock early so that multiple threads can perform the call\u001b[0m\u001b[1;33m\u001b[0m\u001b[1;33m\u001b[0m\u001b[1;33m\u001b[0m\u001b[0m\n",
      "\u001b[1;32m~\\anaconda3\\lib\\site-packages\\tensorflow\\python\\eager\\function.py\u001b[0m in \u001b[0;36m__call__\u001b[1;34m(self, *args, **kwargs)\u001b[0m\n\u001b[0;32m   2939\u001b[0m     \u001b[1;32mwith\u001b[0m \u001b[0mself\u001b[0m\u001b[1;33m.\u001b[0m\u001b[0m_lock\u001b[0m\u001b[1;33m:\u001b[0m\u001b[1;33m\u001b[0m\u001b[1;33m\u001b[0m\u001b[0m\n\u001b[0;32m   2940\u001b[0m       (graph_function,\n\u001b[1;32m-> 2941\u001b[1;33m        filtered_flat_args) = self._maybe_define_function(args, kwargs)\n\u001b[0m\u001b[0;32m   2942\u001b[0m     return graph_function._call_flat(\n\u001b[0;32m   2943\u001b[0m         filtered_flat_args, captured_inputs=graph_function.captured_inputs)  # pylint: disable=protected-access\n",
      "\u001b[1;32m~\\anaconda3\\lib\\site-packages\\tensorflow\\python\\eager\\function.py\u001b[0m in \u001b[0;36m_maybe_define_function\u001b[1;34m(self, args, kwargs)\u001b[0m\n\u001b[0;32m   3355\u001b[0m               \u001b[0mself\u001b[0m\u001b[1;33m.\u001b[0m\u001b[0minput_signature\u001b[0m \u001b[1;32mis\u001b[0m \u001b[1;32mNone\u001b[0m \u001b[1;32mand\u001b[0m\u001b[1;33m\u001b[0m\u001b[1;33m\u001b[0m\u001b[0m\n\u001b[0;32m   3356\u001b[0m               call_context_key in self._function_cache.missed):\n\u001b[1;32m-> 3357\u001b[1;33m             return self._define_function_with_shape_relaxation(\n\u001b[0m\u001b[0;32m   3358\u001b[0m                 args, kwargs, flat_args, filtered_flat_args, cache_key_context)\n\u001b[0;32m   3359\u001b[0m \u001b[1;33m\u001b[0m\u001b[0m\n",
      "\u001b[1;32m~\\anaconda3\\lib\\site-packages\\tensorflow\\python\\eager\\function.py\u001b[0m in \u001b[0;36m_define_function_with_shape_relaxation\u001b[1;34m(self, args, kwargs, flat_args, filtered_flat_args, cache_key_context)\u001b[0m\n\u001b[0;32m   3277\u001b[0m           expand_composites=True)\n\u001b[0;32m   3278\u001b[0m \u001b[1;33m\u001b[0m\u001b[0m\n\u001b[1;32m-> 3279\u001b[1;33m     graph_function = self._create_graph_function(\n\u001b[0m\u001b[0;32m   3280\u001b[0m         args, kwargs, override_flat_arg_shapes=relaxed_arg_shapes)\n\u001b[0;32m   3281\u001b[0m     \u001b[0mself\u001b[0m\u001b[1;33m.\u001b[0m\u001b[0m_function_cache\u001b[0m\u001b[1;33m.\u001b[0m\u001b[0marg_relaxed\u001b[0m\u001b[1;33m[\u001b[0m\u001b[0mrank_only_cache_key\u001b[0m\u001b[1;33m]\u001b[0m \u001b[1;33m=\u001b[0m \u001b[0mgraph_function\u001b[0m\u001b[1;33m\u001b[0m\u001b[1;33m\u001b[0m\u001b[0m\n",
      "\u001b[1;32m~\\anaconda3\\lib\\site-packages\\tensorflow\\python\\eager\\function.py\u001b[0m in \u001b[0;36m_create_graph_function\u001b[1;34m(self, args, kwargs, override_flat_arg_shapes)\u001b[0m\n\u001b[0;32m   3194\u001b[0m     \u001b[0marg_names\u001b[0m \u001b[1;33m=\u001b[0m \u001b[0mbase_arg_names\u001b[0m \u001b[1;33m+\u001b[0m \u001b[0mmissing_arg_names\u001b[0m\u001b[1;33m\u001b[0m\u001b[1;33m\u001b[0m\u001b[0m\n\u001b[0;32m   3195\u001b[0m     graph_function = ConcreteFunction(\n\u001b[1;32m-> 3196\u001b[1;33m         func_graph_module.func_graph_from_py_func(\n\u001b[0m\u001b[0;32m   3197\u001b[0m             \u001b[0mself\u001b[0m\u001b[1;33m.\u001b[0m\u001b[0m_name\u001b[0m\u001b[1;33m,\u001b[0m\u001b[1;33m\u001b[0m\u001b[1;33m\u001b[0m\u001b[0m\n\u001b[0;32m   3198\u001b[0m             \u001b[0mself\u001b[0m\u001b[1;33m.\u001b[0m\u001b[0m_python_function\u001b[0m\u001b[1;33m,\u001b[0m\u001b[1;33m\u001b[0m\u001b[1;33m\u001b[0m\u001b[0m\n",
      "\u001b[1;32m~\\anaconda3\\lib\\site-packages\\tensorflow\\python\\framework\\func_graph.py\u001b[0m in \u001b[0;36mfunc_graph_from_py_func\u001b[1;34m(name, python_func, args, kwargs, signature, func_graph, autograph, autograph_options, add_control_dependencies, arg_names, op_return_value, collections, capture_by_value, override_flat_arg_shapes)\u001b[0m\n\u001b[0;32m    988\u001b[0m         \u001b[0m_\u001b[0m\u001b[1;33m,\u001b[0m \u001b[0moriginal_func\u001b[0m \u001b[1;33m=\u001b[0m \u001b[0mtf_decorator\u001b[0m\u001b[1;33m.\u001b[0m\u001b[0munwrap\u001b[0m\u001b[1;33m(\u001b[0m\u001b[0mpython_func\u001b[0m\u001b[1;33m)\u001b[0m\u001b[1;33m\u001b[0m\u001b[1;33m\u001b[0m\u001b[0m\n\u001b[0;32m    989\u001b[0m \u001b[1;33m\u001b[0m\u001b[0m\n\u001b[1;32m--> 990\u001b[1;33m       \u001b[0mfunc_outputs\u001b[0m \u001b[1;33m=\u001b[0m \u001b[0mpython_func\u001b[0m\u001b[1;33m(\u001b[0m\u001b[1;33m*\u001b[0m\u001b[0mfunc_args\u001b[0m\u001b[1;33m,\u001b[0m \u001b[1;33m**\u001b[0m\u001b[0mfunc_kwargs\u001b[0m\u001b[1;33m)\u001b[0m\u001b[1;33m\u001b[0m\u001b[1;33m\u001b[0m\u001b[0m\n\u001b[0m\u001b[0;32m    991\u001b[0m \u001b[1;33m\u001b[0m\u001b[0m\n\u001b[0;32m    992\u001b[0m       \u001b[1;31m# invariant: `func_outputs` contains only Tensors, CompositeTensors,\u001b[0m\u001b[1;33m\u001b[0m\u001b[1;33m\u001b[0m\u001b[1;33m\u001b[0m\u001b[0m\n",
      "\u001b[1;32m~\\anaconda3\\lib\\site-packages\\tensorflow\\python\\eager\\def_function.py\u001b[0m in \u001b[0;36mwrapped_fn\u001b[1;34m(*args, **kwds)\u001b[0m\n\u001b[0;32m    632\u001b[0m             \u001b[0mxla_context\u001b[0m\u001b[1;33m.\u001b[0m\u001b[0mExit\u001b[0m\u001b[1;33m(\u001b[0m\u001b[1;33m)\u001b[0m\u001b[1;33m\u001b[0m\u001b[1;33m\u001b[0m\u001b[0m\n\u001b[0;32m    633\u001b[0m         \u001b[1;32melse\u001b[0m\u001b[1;33m:\u001b[0m\u001b[1;33m\u001b[0m\u001b[1;33m\u001b[0m\u001b[0m\n\u001b[1;32m--> 634\u001b[1;33m           \u001b[0mout\u001b[0m \u001b[1;33m=\u001b[0m \u001b[0mweak_wrapped_fn\u001b[0m\u001b[1;33m(\u001b[0m\u001b[1;33m)\u001b[0m\u001b[1;33m.\u001b[0m\u001b[0m__wrapped__\u001b[0m\u001b[1;33m(\u001b[0m\u001b[1;33m*\u001b[0m\u001b[0margs\u001b[0m\u001b[1;33m,\u001b[0m \u001b[1;33m**\u001b[0m\u001b[0mkwds\u001b[0m\u001b[1;33m)\u001b[0m\u001b[1;33m\u001b[0m\u001b[1;33m\u001b[0m\u001b[0m\n\u001b[0m\u001b[0;32m    635\u001b[0m         \u001b[1;32mreturn\u001b[0m \u001b[0mout\u001b[0m\u001b[1;33m\u001b[0m\u001b[1;33m\u001b[0m\u001b[0m\n\u001b[0;32m    636\u001b[0m \u001b[1;33m\u001b[0m\u001b[0m\n",
      "\u001b[1;32m~\\anaconda3\\lib\\site-packages\\tensorflow\\python\\framework\\func_graph.py\u001b[0m in \u001b[0;36mwrapper\u001b[1;34m(*args, **kwargs)\u001b[0m\n\u001b[0;32m    975\u001b[0m           \u001b[1;32mexcept\u001b[0m \u001b[0mException\u001b[0m \u001b[1;32mas\u001b[0m \u001b[0me\u001b[0m\u001b[1;33m:\u001b[0m  \u001b[1;31m# pylint:disable=broad-except\u001b[0m\u001b[1;33m\u001b[0m\u001b[1;33m\u001b[0m\u001b[0m\n\u001b[0;32m    976\u001b[0m             \u001b[1;32mif\u001b[0m \u001b[0mhasattr\u001b[0m\u001b[1;33m(\u001b[0m\u001b[0me\u001b[0m\u001b[1;33m,\u001b[0m \u001b[1;34m\"ag_error_metadata\"\u001b[0m\u001b[1;33m)\u001b[0m\u001b[1;33m:\u001b[0m\u001b[1;33m\u001b[0m\u001b[1;33m\u001b[0m\u001b[0m\n\u001b[1;32m--> 977\u001b[1;33m               \u001b[1;32mraise\u001b[0m \u001b[0me\u001b[0m\u001b[1;33m.\u001b[0m\u001b[0mag_error_metadata\u001b[0m\u001b[1;33m.\u001b[0m\u001b[0mto_exception\u001b[0m\u001b[1;33m(\u001b[0m\u001b[0me\u001b[0m\u001b[1;33m)\u001b[0m\u001b[1;33m\u001b[0m\u001b[1;33m\u001b[0m\u001b[0m\n\u001b[0m\u001b[0;32m    978\u001b[0m             \u001b[1;32melse\u001b[0m\u001b[1;33m:\u001b[0m\u001b[1;33m\u001b[0m\u001b[1;33m\u001b[0m\u001b[0m\n\u001b[0;32m    979\u001b[0m               \u001b[1;32mraise\u001b[0m\u001b[1;33m\u001b[0m\u001b[1;33m\u001b[0m\u001b[0m\n",
      "\u001b[1;31mValueError\u001b[0m: in user code:\n\n    C:\\Users\\xuqiu\\anaconda3\\lib\\site-packages\\tensorflow\\python\\keras\\engine\\training.py:805 train_function  *\n        return step_function(self, iterator)\n    C:\\Users\\xuqiu\\anaconda3\\lib\\site-packages\\tensorflow\\python\\keras\\engine\\training.py:795 step_function  **\n        outputs = model.distribute_strategy.run(run_step, args=(data,))\n    C:\\Users\\xuqiu\\anaconda3\\lib\\site-packages\\tensorflow\\python\\distribute\\distribute_lib.py:1259 run\n        return self._extended.call_for_each_replica(fn, args=args, kwargs=kwargs)\n    C:\\Users\\xuqiu\\anaconda3\\lib\\site-packages\\tensorflow\\python\\distribute\\distribute_lib.py:2730 call_for_each_replica\n        return self._call_for_each_replica(fn, args, kwargs)\n    C:\\Users\\xuqiu\\anaconda3\\lib\\site-packages\\tensorflow\\python\\distribute\\distribute_lib.py:3417 _call_for_each_replica\n        return fn(*args, **kwargs)\n    C:\\Users\\xuqiu\\anaconda3\\lib\\site-packages\\tensorflow\\python\\keras\\engine\\training.py:788 run_step  **\n        outputs = model.train_step(data)\n    C:\\Users\\xuqiu\\anaconda3\\lib\\site-packages\\tensorflow\\python\\keras\\engine\\training.py:755 train_step\n        loss = self.compiled_loss(\n    C:\\Users\\xuqiu\\anaconda3\\lib\\site-packages\\tensorflow\\python\\keras\\engine\\compile_utils.py:203 __call__\n        loss_value = loss_obj(y_t, y_p, sample_weight=sw)\n    C:\\Users\\xuqiu\\anaconda3\\lib\\site-packages\\tensorflow\\python\\keras\\losses.py:152 __call__\n        losses = call_fn(y_true, y_pred)\n    C:\\Users\\xuqiu\\anaconda3\\lib\\site-packages\\tensorflow\\python\\keras\\losses.py:256 call  **\n        return ag_fn(y_true, y_pred, **self._fn_kwargs)\n    C:\\Users\\xuqiu\\anaconda3\\lib\\site-packages\\tensorflow\\python\\util\\dispatch.py:201 wrapper\n        return target(*args, **kwargs)\n    C:\\Users\\xuqiu\\anaconda3\\lib\\site-packages\\tensorflow\\python\\keras\\losses.py:1608 binary_crossentropy\n        K.binary_crossentropy(y_true, y_pred, from_logits=from_logits), axis=-1)\n    C:\\Users\\xuqiu\\anaconda3\\lib\\site-packages\\tensorflow\\python\\util\\dispatch.py:201 wrapper\n        return target(*args, **kwargs)\n    C:\\Users\\xuqiu\\anaconda3\\lib\\site-packages\\tensorflow\\python\\keras\\backend.py:4979 binary_crossentropy\n        return nn.sigmoid_cross_entropy_with_logits(labels=target, logits=output)\n    C:\\Users\\xuqiu\\anaconda3\\lib\\site-packages\\tensorflow\\python\\util\\dispatch.py:201 wrapper\n        return target(*args, **kwargs)\n    C:\\Users\\xuqiu\\anaconda3\\lib\\site-packages\\tensorflow\\python\\ops\\nn_impl.py:173 sigmoid_cross_entropy_with_logits\n        raise ValueError(\"logits and labels must have the same shape (%s vs %s)\" %\n\n    ValueError: logits and labels must have the same shape ((None, 2) vs (None, 1))\n"
     ]
    }
   ],
   "source": [
    "model.fit(X_train, Y_train, epochs=10, batch_size=32)"
   ]
  },
  {
   "cell_type": "code",
   "execution_count": 40,
   "metadata": {},
   "outputs": [
    {
     "name": "stdout",
     "output_type": "stream",
     "text": [
      "71/71 [==============================] - 8s 111ms/step - loss: 0.0032 - accuracy: 0.3863\n"
     ]
    }
   ],
   "source": [
    "loss, accuracy = model.evaluate(X_test, Y_test)"
   ]
  },
  {
   "cell_type": "code",
   "execution_count": 48,
   "metadata": {
    "scrolled": false
   },
   "outputs": [
    {
     "name": "stdout",
     "output_type": "stream",
     "text": [
      "Model: \"sequential_6\"\n",
      "_________________________________________________________________\n",
      "Layer (type)                 Output Shape              Param #   \n",
      "=================================================================\n",
      "resnet50v2 (Functional)      (None, 4, 4, 2048)        23558528  \n",
      "_________________________________________________________________\n",
      "activity_regularization_6 (A (None, 4, 4, 2048)        0         \n",
      "_________________________________________________________________\n",
      "dropout_6 (Dropout)          (None, 4, 4, 2048)        0         \n",
      "_________________________________________________________________\n",
      "global_max_pooling2d_6 (Glob (None, 2048)              0         \n",
      "_________________________________________________________________\n",
      "dense_6 (Dense)              (None, 10)                20490     \n",
      "=================================================================\n",
      "Total params: 23,579,018\n",
      "Trainable params: 23,533,578\n",
      "Non-trainable params: 45,440\n",
      "_________________________________________________________________\n"
     ]
    }
   ],
   "source": [
    "#建立模型\n",
    "class_dim = 10 #总共十种声音\n",
    "EPOCHS = 1\n",
    "BATCH_SIZE=32\n",
    "\n",
    "model = tf.keras.models.Sequential([\n",
    "    tf.keras.applications.ResNet50V2(include_top=False, weights=None, input_shape=(128, 128, 1)), #默认为channel last，channel填在最后\n",
    "    tf.keras.layers.ActivityRegularization(l2=0.5), #对基于代价函数的输入活动应用一个正则化更新\n",
    "    tf.keras.layers.Dropout(rate=0.5),   #防止过拟合\n",
    "    tf.keras.layers.GlobalMaxPooling2D(),\n",
    "    tf.keras.layers.Dense(units=class_dim, activation=tf.nn.softmax)\n",
    "])\n",
    "\n",
    "model.summary() #显示模型的结构\n",
    "\n",
    "\n",
    "# 定义优化方法\n",
    "optimizer = tf.keras.optimizers.Adam(learning_rate=1e-3)\n",
    "\n",
    "train_dataset = train_reader_tfrecord('dataset/train.tfrecord', EPOCHS, batch_size=BATCH_SIZE)\n",
    "test_dataset = test_reader_tfrecord('dataset/test.tfrecord', batch_size=BATCH_SIZE)"
   ]
  },
  {
   "cell_type": "code",
   "execution_count": 20,
   "metadata": {},
   "outputs": [],
   "source": [
    "train_dataset = train_reader_tfrecord('my_dataset/new_mfccs_train.tfrecord', EPOCHS, batch_size=BATCH_SIZE)\n",
    "test_dataset = test_reader_tfrecord('my_dataset/new_mfccs_test.tfrecord', batch_size=BATCH_SIZE)\n",
    "optimizer = tf.keras.optimizers.Adam(learning_rate=1e-3)"
   ]
  },
  {
   "cell_type": "code",
   "execution_count": 187,
   "metadata": {
    "scrolled": true
   },
   "outputs": [
    {
     "name": "stdout",
     "output_type": "stream",
     "text": [
      "(32, 40, 376, 1)\n",
      "Batch 0, Loss 6.277274, Accuracy 0.000000\n",
      "(32, 40, 376, 1)\n",
      "(32, 40, 376, 1)\n",
      "(32, 40, 376, 1)\n",
      "(32, 40, 376, 1)\n",
      "(32, 40, 376, 1)\n",
      "(32, 40, 376, 1)\n",
      "(32, 40, 376, 1)\n",
      "(32, 40, 376, 1)\n",
      "(32, 40, 376, 1)\n",
      "(32, 40, 376, 1)\n",
      "(32, 40, 376, 1)\n",
      "(32, 40, 376, 1)\n",
      "(32, 40, 376, 1)\n",
      "(32, 40, 376, 1)\n",
      "(32, 40, 376, 1)\n",
      "(32, 40, 376, 1)\n",
      "(32, 40, 376, 1)\n",
      "(32, 40, 376, 1)\n",
      "(32, 40, 376, 1)\n",
      "(32, 40, 376, 1)\n",
      "Batch 20, Loss 0.692296, Accuracy 0.656250\n",
      "(32, 40, 376, 1)\n",
      "(32, 40, 376, 1)\n",
      "(32, 40, 376, 1)\n",
      "(32, 40, 376, 1)\n",
      "(32, 40, 376, 1)\n",
      "(32, 40, 376, 1)\n",
      "(32, 40, 376, 1)\n",
      "(32, 40, 376, 1)\n",
      "(32, 40, 376, 1)\n",
      "(32, 40, 376, 1)\n",
      "(32, 40, 376, 1)\n",
      "(32, 40, 376, 1)\n",
      "(32, 40, 376, 1)\n",
      "(32, 40, 376, 1)\n",
      "(32, 40, 376, 1)\n",
      "(32, 40, 376, 1)\n",
      "(32, 40, 376, 1)\n",
      "(32, 40, 376, 1)\n",
      "(32, 40, 376, 1)\n",
      "(32, 40, 376, 1)\n",
      "Batch 40, Loss 0.698357, Accuracy 0.375000\n",
      "(32, 40, 376, 1)\n",
      "(32, 40, 376, 1)\n",
      "(32, 40, 376, 1)\n",
      "(32, 40, 376, 1)\n",
      "(32, 40, 376, 1)\n",
      "(32, 40, 376, 1)\n",
      "(32, 40, 376, 1)\n",
      "(32, 40, 376, 1)\n",
      "(32, 40, 376, 1)\n",
      "(32, 40, 376, 1)\n",
      "(32, 40, 376, 1)\n",
      "(32, 40, 376, 1)\n",
      "(32, 40, 376, 1)\n",
      "(32, 40, 376, 1)\n",
      "(32, 40, 376, 1)\n",
      "(32, 40, 376, 1)\n",
      "(32, 40, 376, 1)\n",
      "(32, 40, 376, 1)\n",
      "(32, 40, 376, 1)\n",
      "(32, 40, 376, 1)\n",
      "Batch 60, Loss 0.664322, Accuracy 1.000000\n",
      "(32, 40, 376, 1)\n",
      "(32, 40, 376, 1)\n",
      "(32, 40, 376, 1)\n",
      "(32, 40, 376, 1)\n",
      "(32, 40, 376, 1)\n",
      "(32, 40, 376, 1)\n",
      "(32, 40, 376, 1)\n",
      "(32, 40, 376, 1)\n",
      "(32, 40, 376, 1)\n",
      "(32, 40, 376, 1)\n",
      "(32, 40, 376, 1)\n",
      "(32, 40, 376, 1)\n",
      "(32, 40, 376, 1)\n",
      "(32, 40, 376, 1)\n",
      "(32, 40, 376, 1)\n",
      "(32, 40, 376, 1)\n",
      "(32, 40, 376, 1)\n",
      "(32, 40, 376, 1)\n",
      "(32, 40, 376, 1)\n",
      "(32, 40, 376, 1)\n",
      "Batch 80, Loss 0.685360, Accuracy 0.562500\n",
      "(32, 40, 376, 1)\n",
      "(32, 40, 376, 1)\n",
      "(32, 40, 376, 1)\n",
      "(32, 40, 376, 1)\n",
      "(32, 40, 376, 1)\n",
      "(32, 40, 376, 1)\n",
      "(32, 40, 376, 1)\n",
      "(32, 40, 376, 1)\n",
      "(32, 40, 376, 1)\n",
      "(32, 40, 376, 1)\n",
      "(32, 40, 376, 1)\n",
      "(32, 40, 376, 1)\n",
      "(32, 40, 376, 1)\n",
      "(32, 40, 376, 1)\n",
      "(32, 40, 376, 1)\n",
      "(32, 40, 376, 1)\n",
      "(32, 40, 376, 1)\n",
      "(32, 40, 376, 1)\n",
      "(32, 40, 376, 1)\n",
      "(32, 40, 376, 1)\n",
      "Batch 100, Loss 0.709381, Accuracy 0.468750\n",
      "(32, 40, 376, 1)\n",
      "(32, 40, 376, 1)\n",
      "(32, 40, 376, 1)\n",
      "(32, 40, 376, 1)\n",
      "(32, 40, 376, 1)\n",
      "(32, 40, 376, 1)\n",
      "(32, 40, 376, 1)\n",
      "(32, 40, 376, 1)\n",
      "(32, 40, 376, 1)\n",
      "(32, 40, 376, 1)\n",
      "(32, 40, 376, 1)\n",
      "(32, 40, 376, 1)\n",
      "(32, 40, 376, 1)\n",
      "(32, 40, 376, 1)\n",
      "(32, 40, 376, 1)\n",
      "(32, 40, 376, 1)\n",
      "(32, 40, 376, 1)\n",
      "(32, 40, 376, 1)\n",
      "(32, 40, 376, 1)\n",
      "(32, 40, 376, 1)\n",
      "Batch 120, Loss 0.584028, Accuracy 0.968750\n",
      "(32, 40, 376, 1)\n",
      "(32, 40, 376, 1)\n",
      "(32, 40, 376, 1)\n",
      "(32, 40, 376, 1)\n",
      "(32, 40, 376, 1)\n",
      "(32, 40, 376, 1)\n",
      "(32, 40, 376, 1)\n",
      "(32, 40, 376, 1)\n",
      "(32, 40, 376, 1)\n",
      "(32, 40, 376, 1)\n",
      "(32, 40, 376, 1)\n",
      "(32, 40, 376, 1)\n",
      "(32, 40, 376, 1)\n",
      "(32, 40, 376, 1)\n",
      "(32, 40, 376, 1)\n",
      "(32, 40, 376, 1)\n",
      "(32, 40, 376, 1)\n",
      "(32, 40, 376, 1)\n",
      "(32, 40, 376, 1)\n",
      "(32, 40, 376, 1)\n",
      "Batch 140, Loss 0.712410, Accuracy 0.500000\n",
      "(32, 40, 376, 1)\n",
      "(32, 40, 376, 1)\n",
      "(32, 40, 376, 1)\n",
      "(32, 40, 376, 1)\n",
      "(32, 40, 376, 1)\n",
      "(32, 40, 376, 1)\n",
      "(32, 40, 376, 1)\n",
      "(32, 40, 376, 1)\n",
      "(32, 40, 376, 1)\n",
      "(32, 40, 376, 1)\n",
      "(32, 40, 376, 1)\n",
      "(32, 40, 376, 1)\n",
      "(32, 40, 376, 1)\n",
      "(32, 40, 376, 1)\n",
      "(32, 40, 376, 1)\n",
      "(32, 40, 376, 1)\n",
      "(32, 40, 376, 1)\n",
      "(32, 40, 376, 1)\n",
      "(32, 40, 376, 1)\n",
      "(32, 40, 376, 1)\n",
      "Batch 160, Loss 0.694557, Accuracy 0.500000\n",
      "(32, 40, 376, 1)\n",
      "(32, 40, 376, 1)\n",
      "(32, 40, 376, 1)\n",
      "(32, 40, 376, 1)\n",
      "(32, 40, 376, 1)\n",
      "(32, 40, 376, 1)\n",
      "(32, 40, 376, 1)\n",
      "(32, 40, 376, 1)\n",
      "(32, 40, 376, 1)\n",
      "(32, 40, 376, 1)\n",
      "(32, 40, 376, 1)\n",
      "(32, 40, 376, 1)\n",
      "(32, 40, 376, 1)\n",
      "(32, 40, 376, 1)\n",
      "(32, 40, 376, 1)\n",
      "(32, 40, 376, 1)\n",
      "(32, 40, 376, 1)\n",
      "(32, 40, 376, 1)\n",
      "(32, 40, 376, 1)\n",
      "(32, 40, 376, 1)\n",
      "Batch 180, Loss 0.268688, Accuracy 0.843750\n",
      "(32, 40, 376, 1)\n",
      "(32, 40, 376, 1)\n",
      "(32, 40, 376, 1)\n",
      "(32, 40, 376, 1)\n",
      "(32, 40, 376, 1)\n",
      "(32, 40, 376, 1)\n",
      "(32, 40, 376, 1)\n",
      "(32, 40, 376, 1)\n",
      "(32, 40, 376, 1)\n",
      "(32, 40, 376, 1)\n",
      "(32, 40, 376, 1)\n",
      "(32, 40, 376, 1)\n",
      "(32, 40, 376, 1)\n",
      "(32, 40, 376, 1)\n",
      "(32, 40, 376, 1)\n",
      "(32, 40, 376, 1)\n",
      "(32, 40, 376, 1)\n",
      "(32, 40, 376, 1)\n",
      "(32, 40, 376, 1)\n",
      "(32, 40, 376, 1)\n",
      "Batch 200, Loss 0.075327, Accuracy 0.968750\n",
      "=================================================\n",
      "Test, Loss 0.083056, Accuracy 0.977083\n",
      "=================================================\n",
      "(32, 40, 376, 1)\n",
      "(32, 40, 376, 1)\n",
      "(32, 40, 376, 1)\n",
      "(32, 40, 376, 1)\n",
      "(32, 40, 376, 1)\n",
      "(32, 40, 376, 1)\n",
      "(32, 40, 376, 1)\n",
      "(32, 40, 376, 1)\n",
      "(32, 40, 376, 1)\n",
      "(32, 40, 376, 1)\n",
      "(32, 40, 376, 1)\n",
      "(32, 40, 376, 1)\n",
      "(32, 40, 376, 1)\n",
      "(32, 40, 376, 1)\n",
      "(32, 40, 376, 1)\n",
      "(32, 40, 376, 1)\n",
      "(32, 40, 376, 1)\n",
      "(32, 40, 376, 1)\n",
      "(32, 40, 376, 1)\n",
      "(32, 40, 376, 1)\n",
      "Batch 220, Loss 0.013514, Accuracy 1.000000\n",
      "(32, 40, 376, 1)\n",
      "(32, 40, 376, 1)\n",
      "(32, 40, 376, 1)\n",
      "(32, 40, 376, 1)\n",
      "(32, 40, 376, 1)\n",
      "(32, 40, 376, 1)\n",
      "(32, 40, 376, 1)\n",
      "(32, 40, 376, 1)\n",
      "(32, 40, 376, 1)\n",
      "(32, 40, 376, 1)\n",
      "(32, 40, 376, 1)\n",
      "(32, 40, 376, 1)\n",
      "(32, 40, 376, 1)\n",
      "(32, 40, 376, 1)\n",
      "(32, 40, 376, 1)\n",
      "(32, 40, 376, 1)\n",
      "(32, 40, 376, 1)\n",
      "(32, 40, 376, 1)\n",
      "(32, 40, 376, 1)\n",
      "(32, 40, 376, 1)\n",
      "Batch 240, Loss 0.209067, Accuracy 0.968750\n",
      "(32, 40, 376, 1)\n",
      "(32, 40, 376, 1)\n",
      "(32, 40, 376, 1)\n",
      "(32, 40, 376, 1)\n",
      "(32, 40, 376, 1)\n",
      "(32, 40, 376, 1)\n",
      "(32, 40, 376, 1)\n",
      "(32, 40, 376, 1)\n",
      "(32, 40, 376, 1)\n",
      "(32, 40, 376, 1)\n",
      "(32, 40, 376, 1)\n",
      "(32, 40, 376, 1)\n",
      "(32, 40, 376, 1)\n",
      "(32, 40, 376, 1)\n",
      "(32, 40, 376, 1)\n",
      "(32, 40, 376, 1)\n",
      "(32, 40, 376, 1)\n",
      "(32, 40, 376, 1)\n",
      "(32, 40, 376, 1)\n",
      "(32, 40, 376, 1)\n",
      "Batch 260, Loss 0.000048, Accuracy 1.000000\n",
      "(32, 40, 376, 1)\n",
      "(32, 40, 376, 1)\n",
      "(32, 40, 376, 1)\n",
      "(32, 40, 376, 1)\n",
      "(32, 40, 376, 1)\n",
      "(32, 40, 376, 1)\n",
      "(32, 40, 376, 1)\n",
      "(32, 40, 376, 1)\n",
      "(32, 40, 376, 1)\n",
      "(32, 40, 376, 1)\n",
      "(32, 40, 376, 1)\n",
      "(32, 40, 376, 1)\n",
      "(32, 40, 376, 1)\n",
      "(32, 40, 376, 1)\n",
      "(32, 40, 376, 1)\n",
      "(32, 40, 376, 1)\n",
      "(32, 40, 376, 1)\n",
      "(32, 40, 376, 1)\n",
      "(32, 40, 376, 1)\n",
      "(32, 40, 376, 1)\n",
      "Batch 280, Loss 0.000000, Accuracy 1.000000\n",
      "(32, 40, 376, 1)\n",
      "(32, 40, 376, 1)\n",
      "(32, 40, 376, 1)\n",
      "(32, 40, 376, 1)\n",
      "(32, 40, 376, 1)\n",
      "(32, 40, 376, 1)\n",
      "(32, 40, 376, 1)\n",
      "(32, 40, 376, 1)\n",
      "(32, 40, 376, 1)\n",
      "(32, 40, 376, 1)\n",
      "(32, 40, 376, 1)\n",
      "(32, 40, 376, 1)\n",
      "(32, 40, 376, 1)\n",
      "(32, 40, 376, 1)\n",
      "(32, 40, 376, 1)\n",
      "(32, 40, 376, 1)\n",
      "(32, 40, 376, 1)\n",
      "(32, 40, 376, 1)\n",
      "(32, 40, 376, 1)\n",
      "(32, 40, 376, 1)\n",
      "Batch 300, Loss 0.117517, Accuracy 0.968750\n",
      "(32, 40, 376, 1)\n",
      "(32, 40, 376, 1)\n",
      "(32, 40, 376, 1)\n",
      "(32, 40, 376, 1)\n",
      "(32, 40, 376, 1)\n",
      "(32, 40, 376, 1)\n",
      "(32, 40, 376, 1)\n",
      "(32, 40, 376, 1)\n",
      "(32, 40, 376, 1)\n",
      "(32, 40, 376, 1)\n",
      "(32, 40, 376, 1)\n",
      "(32, 40, 376, 1)\n",
      "(32, 40, 376, 1)\n",
      "(32, 40, 376, 1)\n",
      "(32, 40, 376, 1)\n",
      "(32, 40, 376, 1)\n",
      "(32, 40, 376, 1)\n",
      "(32, 40, 376, 1)\n",
      "(32, 40, 376, 1)\n",
      "(32, 40, 376, 1)\n",
      "Batch 320, Loss 0.010147, Accuracy 1.000000\n",
      "(32, 40, 376, 1)\n",
      "(32, 40, 376, 1)\n",
      "(32, 40, 376, 1)\n",
      "(32, 40, 376, 1)\n",
      "(32, 40, 376, 1)\n",
      "(32, 40, 376, 1)\n",
      "(32, 40, 376, 1)\n",
      "(32, 40, 376, 1)\n",
      "(32, 40, 376, 1)\n",
      "(32, 40, 376, 1)\n",
      "(32, 40, 376, 1)\n",
      "(32, 40, 376, 1)\n",
      "(32, 40, 376, 1)\n",
      "(32, 40, 376, 1)\n",
      "(32, 40, 376, 1)\n",
      "(32, 40, 376, 1)\n",
      "(32, 40, 376, 1)\n",
      "(32, 40, 376, 1)\n",
      "(32, 40, 376, 1)\n",
      "(32, 40, 376, 1)\n",
      "Batch 340, Loss 0.000004, Accuracy 1.000000\n",
      "(32, 40, 376, 1)\n",
      "(32, 40, 376, 1)\n",
      "(32, 40, 376, 1)\n",
      "(32, 40, 376, 1)\n",
      "(32, 40, 376, 1)\n",
      "(32, 40, 376, 1)\n",
      "(32, 40, 376, 1)\n",
      "(32, 40, 376, 1)\n",
      "(32, 40, 376, 1)\n",
      "(32, 40, 376, 1)\n",
      "(32, 40, 376, 1)\n",
      "(32, 40, 376, 1)\n",
      "(32, 40, 376, 1)\n",
      "(32, 40, 376, 1)\n",
      "(32, 40, 376, 1)\n",
      "(32, 40, 376, 1)\n",
      "(32, 40, 376, 1)\n",
      "(32, 40, 376, 1)\n",
      "(32, 40, 376, 1)\n",
      "(32, 40, 376, 1)\n",
      "Batch 360, Loss 0.000009, Accuracy 1.000000\n",
      "(32, 40, 376, 1)\n",
      "(32, 40, 376, 1)\n",
      "(32, 40, 376, 1)\n",
      "(32, 40, 376, 1)\n",
      "(32, 40, 376, 1)\n",
      "(32, 40, 376, 1)\n",
      "(32, 40, 376, 1)\n",
      "(32, 40, 376, 1)\n",
      "(32, 40, 376, 1)\n",
      "(32, 40, 376, 1)\n",
      "(32, 40, 376, 1)\n",
      "(32, 40, 376, 1)\n",
      "(32, 40, 376, 1)\n",
      "(32, 40, 376, 1)\n",
      "(32, 40, 376, 1)\n",
      "(32, 40, 376, 1)\n",
      "(32, 40, 376, 1)\n",
      "(32, 40, 376, 1)\n",
      "(32, 40, 376, 1)\n",
      "(32, 40, 376, 1)\n",
      "Batch 380, Loss 0.000363, Accuracy 1.000000\n",
      "(32, 40, 376, 1)\n",
      "(32, 40, 376, 1)\n",
      "(32, 40, 376, 1)\n",
      "(32, 40, 376, 1)\n",
      "(32, 40, 376, 1)\n",
      "(32, 40, 376, 1)\n",
      "(32, 40, 376, 1)\n",
      "(32, 40, 376, 1)\n",
      "(32, 40, 376, 1)\n",
      "(32, 40, 376, 1)\n",
      "(32, 40, 376, 1)\n",
      "(32, 40, 376, 1)\n",
      "(32, 40, 376, 1)\n",
      "(32, 40, 376, 1)\n",
      "(32, 40, 376, 1)\n",
      "(32, 40, 376, 1)\n",
      "(32, 40, 376, 1)\n",
      "(32, 40, 376, 1)\n",
      "(32, 40, 376, 1)\n",
      "(32, 40, 376, 1)\n",
      "Batch 400, Loss 0.000000, Accuracy 1.000000\n",
      "=================================================\n",
      "Test, Loss 0.018499, Accuracy 0.997917\n",
      "=================================================\n",
      "(32, 40, 376, 1)\n",
      "(32, 40, 376, 1)\n",
      "(32, 40, 376, 1)\n",
      "(32, 40, 376, 1)\n",
      "(32, 40, 376, 1)\n",
      "(32, 40, 376, 1)\n",
      "(32, 40, 376, 1)\n",
      "(32, 40, 376, 1)\n",
      "(32, 40, 376, 1)\n",
      "(32, 40, 376, 1)\n",
      "(32, 40, 376, 1)\n"
     ]
    },
    {
     "name": "stdout",
     "output_type": "stream",
     "text": [
      "(32, 40, 376, 1)\n",
      "(32, 40, 376, 1)\n",
      "(32, 40, 376, 1)\n",
      "(32, 40, 376, 1)\n",
      "(32, 40, 376, 1)\n",
      "(32, 40, 376, 1)\n",
      "(32, 40, 376, 1)\n",
      "(32, 40, 376, 1)\n",
      "(32, 40, 376, 1)\n",
      "Batch 420, Loss 0.000002, Accuracy 1.000000\n",
      "(32, 40, 376, 1)\n",
      "(32, 40, 376, 1)\n",
      "(32, 40, 376, 1)\n",
      "(32, 40, 376, 1)\n",
      "(32, 40, 376, 1)\n",
      "(32, 40, 376, 1)\n",
      "(32, 40, 376, 1)\n",
      "(32, 40, 376, 1)\n",
      "(32, 40, 376, 1)\n",
      "(32, 40, 376, 1)\n",
      "(32, 40, 376, 1)\n",
      "(32, 40, 376, 1)\n",
      "(32, 40, 376, 1)\n",
      "(32, 40, 376, 1)\n",
      "(32, 40, 376, 1)\n",
      "(32, 40, 376, 1)\n",
      "(32, 40, 376, 1)\n",
      "(32, 40, 376, 1)\n",
      "(32, 40, 376, 1)\n",
      "(32, 40, 376, 1)\n",
      "Batch 440, Loss 0.000000, Accuracy 1.000000\n",
      "(32, 40, 376, 1)\n",
      "(32, 40, 376, 1)\n",
      "(32, 40, 376, 1)\n",
      "(32, 40, 376, 1)\n",
      "(32, 40, 376, 1)\n",
      "(32, 40, 376, 1)\n",
      "(32, 40, 376, 1)\n",
      "(32, 40, 376, 1)\n",
      "(32, 40, 376, 1)\n",
      "(32, 40, 376, 1)\n",
      "(32, 40, 376, 1)\n",
      "(32, 40, 376, 1)\n",
      "(32, 40, 376, 1)\n",
      "(32, 40, 376, 1)\n",
      "(32, 40, 376, 1)\n",
      "(32, 40, 376, 1)\n",
      "(32, 40, 376, 1)\n",
      "(32, 40, 376, 1)\n",
      "(32, 40, 376, 1)\n",
      "(32, 40, 376, 1)\n",
      "Batch 460, Loss 0.000002, Accuracy 1.000000\n",
      "(32, 40, 376, 1)\n",
      "(32, 40, 376, 1)\n",
      "(32, 40, 376, 1)\n",
      "(32, 40, 376, 1)\n",
      "(32, 40, 376, 1)\n",
      "(32, 40, 376, 1)\n",
      "(32, 40, 376, 1)\n",
      "(32, 40, 376, 1)\n",
      "(32, 40, 376, 1)\n",
      "(32, 40, 376, 1)\n",
      "(32, 40, 376, 1)\n",
      "(32, 40, 376, 1)\n",
      "(32, 40, 376, 1)\n",
      "(32, 40, 376, 1)\n",
      "(32, 40, 376, 1)\n",
      "(32, 40, 376, 1)\n",
      "(32, 40, 376, 1)\n",
      "(32, 40, 376, 1)\n",
      "(32, 40, 376, 1)\n",
      "(32, 40, 376, 1)\n",
      "Batch 480, Loss 0.000042, Accuracy 1.000000\n",
      "(32, 40, 376, 1)\n",
      "(32, 40, 376, 1)\n",
      "(32, 40, 376, 1)\n",
      "(32, 40, 376, 1)\n",
      "(32, 40, 376, 1)\n",
      "(32, 40, 376, 1)\n",
      "(32, 40, 376, 1)\n",
      "(32, 40, 376, 1)\n",
      "(32, 40, 376, 1)\n",
      "(32, 40, 376, 1)\n",
      "(32, 40, 376, 1)\n",
      "(32, 40, 376, 1)\n",
      "(32, 40, 376, 1)\n",
      "(32, 40, 376, 1)\n",
      "(32, 40, 376, 1)\n",
      "(32, 40, 376, 1)\n",
      "(32, 40, 376, 1)\n",
      "(32, 40, 376, 1)\n",
      "(32, 40, 376, 1)\n",
      "(32, 40, 376, 1)\n",
      "Batch 500, Loss 0.000000, Accuracy 1.000000\n",
      "(32, 40, 376, 1)\n",
      "(32, 40, 376, 1)\n",
      "(32, 40, 376, 1)\n",
      "(32, 40, 376, 1)\n",
      "(32, 40, 376, 1)\n",
      "(32, 40, 376, 1)\n",
      "(32, 40, 376, 1)\n",
      "(32, 40, 376, 1)\n",
      "(32, 40, 376, 1)\n",
      "(32, 40, 376, 1)\n",
      "(32, 40, 376, 1)\n",
      "(32, 40, 376, 1)\n",
      "(32, 40, 376, 1)\n",
      "(32, 40, 376, 1)\n",
      "(32, 40, 376, 1)\n",
      "(32, 40, 376, 1)\n",
      "(32, 40, 376, 1)\n",
      "(32, 40, 376, 1)\n",
      "(32, 40, 376, 1)\n",
      "(32, 40, 376, 1)\n",
      "Batch 520, Loss 0.000000, Accuracy 1.000000\n",
      "(32, 40, 376, 1)\n",
      "(32, 40, 376, 1)\n",
      "(32, 40, 376, 1)\n",
      "(32, 40, 376, 1)\n",
      "(32, 40, 376, 1)\n",
      "(32, 40, 376, 1)\n",
      "(32, 40, 376, 1)\n",
      "(32, 40, 376, 1)\n",
      "(32, 40, 376, 1)\n",
      "(32, 40, 376, 1)\n",
      "(32, 40, 376, 1)\n",
      "(32, 40, 376, 1)\n",
      "(32, 40, 376, 1)\n",
      "(32, 40, 376, 1)\n",
      "(32, 40, 376, 1)\n",
      "(32, 40, 376, 1)\n",
      "(32, 40, 376, 1)\n",
      "(32, 40, 376, 1)\n",
      "(32, 40, 376, 1)\n",
      "(32, 40, 376, 1)\n",
      "Batch 540, Loss 0.000000, Accuracy 1.000000\n",
      "(32, 40, 376, 1)\n",
      "(32, 40, 376, 1)\n",
      "(32, 40, 376, 1)\n",
      "(32, 40, 376, 1)\n",
      "(32, 40, 376, 1)\n",
      "(32, 40, 376, 1)\n",
      "(32, 40, 376, 1)\n",
      "(32, 40, 376, 1)\n",
      "(32, 40, 376, 1)\n",
      "(32, 40, 376, 1)\n",
      "(32, 40, 376, 1)\n",
      "(32, 40, 376, 1)\n",
      "(32, 40, 376, 1)\n",
      "(32, 40, 376, 1)\n",
      "(32, 40, 376, 1)\n",
      "(32, 40, 376, 1)\n",
      "(32, 40, 376, 1)\n",
      "(32, 40, 376, 1)\n",
      "(32, 40, 376, 1)\n",
      "(32, 40, 376, 1)\n",
      "Batch 560, Loss 0.000032, Accuracy 1.000000\n",
      "(32, 40, 376, 1)\n",
      "(32, 40, 376, 1)\n",
      "(32, 40, 376, 1)\n",
      "(32, 40, 376, 1)\n",
      "(30, 40, 376, 1)\n"
     ]
    }
   ],
   "source": [
    "#训练模型\n",
    "for batch_id, data in enumerate(train_dataset):\n",
    "    # [可能需要修改参数】 设置的梅尔频谱的shape\n",
    "    #要注意的是在创建TFRecord文件时，已经把音频数据的梅尔频谱转换为一维list了，所以在数据输入到模型前，需要把数据reshape为之前的shape，操作方式为reshape((-1, 128, 128, 1))\n",
    "    sounds = data['data'].numpy().reshape((-1, 40, 376, 1))\n",
    "    print(sounds.shape)\n",
    "    labels = data['label'].numpy()\n",
    "    labels =np_utils.to_categorical(labels, num_classes=2)\n",
    "    # 执行训练\n",
    "    with tf.GradientTape() as tape:\n",
    "        predictions = model(sounds)\n",
    "        # 获取损失值\n",
    "        #train_loss = tf.keras.losses.sparse_categorical_crossentropy(labels, predictions)\n",
    "        train_loss = tf.keras.losses.binary_crossentropy(labels, predictions)\n",
    "        train_loss = tf.reduce_mean(train_loss)\n",
    "        # 获取准确率\n",
    "        #train_accuracy = tf.keras.metrics.sparse_categorical_accuracy(labels, predictions)\n",
    "        train_accuracy = tf.keras.metrics.binary_accuracy(labels, predictions)\n",
    "        train_accuracy = np.sum(train_accuracy.numpy()) / len(train_accuracy.numpy())\n",
    "\n",
    "    # 更新梯度\n",
    "    gradients = tape.gradient(train_loss, model.trainable_variables)\n",
    "    optimizer.apply_gradients(zip(gradients, model.trainable_variables))\n",
    "\n",
    "    if batch_id % 20 == 0:\n",
    "        print(\"Batch %d, Loss %f, Accuracy %f\" % (batch_id, train_loss.numpy(), train_accuracy))\n",
    "\n",
    "    if batch_id % 200 == 0 and batch_id != 0:\n",
    "        test_losses = list()\n",
    "        test_accuracies = list()\n",
    "        for d in test_dataset:\n",
    "            # [可能需要修改参数】 设置的梅尔频谱的shape\n",
    "            test_sounds = d['data'].numpy().reshape((-1, 40, 376, 1))\n",
    "            test_labels = d['label'].numpy()\n",
    "            test_labels =np_utils.to_categorical(test_labels, num_classes=2)\n",
    "\n",
    "            test_result = model(test_sounds)\n",
    "            # 获取损失值\n",
    "            #test_loss = tf.keras.losses.sparse_categorical_crossentropy(test_labels, test_result)\n",
    "            test_loss = tf.keras.losses.binary_crossentropy(test_labels, test_result)\n",
    "            test_loss = tf.reduce_mean(test_loss)\n",
    "            test_losses.append(test_loss)\n",
    "            # 获取准确率\n",
    "            #test_accuracy = tf.keras.metrics.sparse_categorical_accuracy(test_labels, test_result)\n",
    "            test_accuracy = tf.keras.metrics.binary_accuracy(test_labels, test_result)\n",
    "            test_accuracy = np.sum(test_accuracy.numpy()) / len(test_accuracy.numpy())\n",
    "            test_accuracies.append(test_accuracy)\n",
    "\n",
    "        print('=================================================')\n",
    "        print(\"Test, Loss %f, Accuracy %f\" % (\n",
    "            sum(test_losses) / len(test_losses), sum(test_accuracies) / len(test_accuracies)))\n",
    "        print('=================================================')\n",
    "\n",
    "        # 保存模型\n",
    "        model.save(filepath='models/test.h5')"
   ]
  },
  {
   "cell_type": "code",
   "execution_count": 95,
   "metadata": {},
   "outputs": [],
   "source": [
    "train_dataset = train_reader_tfrecord('my_dataset/train.tfrecord', EPOCHS, batch_size=BATCH_SIZE)"
   ]
  },
  {
   "cell_type": "code",
   "execution_count": 130,
   "metadata": {},
   "outputs": [
    {
     "ename": "AttributeError",
     "evalue": "'PrefetchDataset' object has no attribute 'data'",
     "output_type": "error",
     "traceback": [
      "\u001b[1;31m---------------------------------------------------------------------------\u001b[0m",
      "\u001b[1;31mAttributeError\u001b[0m                            Traceback (most recent call last)",
      "\u001b[1;32m<ipython-input-130-5b177db88b4c>\u001b[0m in \u001b[0;36m<module>\u001b[1;34m\u001b[0m\n\u001b[1;32m----> 1\u001b[1;33m \u001b[0mtrain_dataset\u001b[0m\u001b[1;33m.\u001b[0m\u001b[0mdata\u001b[0m\u001b[1;33m\u001b[0m\u001b[1;33m\u001b[0m\u001b[0m\n\u001b[0m",
      "\u001b[1;31mAttributeError\u001b[0m: 'PrefetchDataset' object has no attribute 'data'"
     ]
    }
   ],
   "source": [
    "train_dataset"
   ]
  },
  {
   "cell_type": "code",
   "execution_count": 135,
   "metadata": {},
   "outputs": [],
   "source": [
    "test_dataset = test_reader_tfrecord('my_dataset/test.tfrecord', batch_size=BATCH_SIZE)"
   ]
  },
  {
   "cell_type": "code",
   "execution_count": 136,
   "metadata": {},
   "outputs": [
    {
     "data": {
      "text/plain": [
       "<MapDataset shapes: {data: (15040,), label: ()}, types: {data: tf.float32, label: tf.int64}>"
      ]
     },
     "execution_count": 136,
     "metadata": {},
     "output_type": "execute_result"
    }
   ],
   "source": [
    "test_dataset"
   ]
  },
  {
   "cell_type": "code",
   "execution_count": 29,
   "metadata": {},
   "outputs": [],
   "source": [
    "feature_description = { # 定义Feature结构，告诉解码器每个Feature的类型是什么\n",
    "    'data': tf.io.FixedLenFeature([15040], tf.float32),\n",
    "    #'data': tf.io.FixedLenFeature([48128], tf.float32),\n",
    "    'label': tf.io.FixedLenFeature([], tf.int64),\n",
    "}\n",
    "\n",
    "def read_and_decode(example):\n",
    "    feature_dict = tf.io.parse_single_example(example, feature_description)\n",
    "    data = feature_dict['data']\n",
    "    data = tf.reshape(data,[40, 376, 1])\n",
    "    #data = tf.reshape(data,[128, 376, 1])\n",
    "    label = feature_dict['label']\n",
    "    label = tf.one_hot(label,2)\n",
    "    return data, label"
   ]
  },
  {
   "cell_type": "code",
   "execution_count": 30,
   "metadata": {
    "scrolled": true
   },
   "outputs": [
    {
     "name": "stdout",
     "output_type": "stream",
     "text": [
      "982/982 [==============================] - 541s 551ms/step - loss: 20.5494 - binary_accuracy: 0.9654\n"
     ]
    },
    {
     "data": {
      "text/plain": [
       "<tensorflow.python.keras.callbacks.History at 0x1ad6563e070>"
      ]
     },
     "execution_count": 30,
     "metadata": {},
     "output_type": "execute_result"
    }
   ],
   "source": [
    "tfrecord_file = 'my_dataset/new_mfccs_train.tfrecord'\n",
    "dataset = tf.data.TFRecordDataset(tfrecord_file)\n",
    "'''\n",
    "dataset = dataset.map(read_and_decode)\n",
    "dataset = dataset.shuffle(buffer_size = 100)\n",
    "dataset = dataset.repeat(count=EPOCHS)\n",
    "dataset = dataset.batch(batch_size = BATCH_SIZE)\n",
    "'''\n",
    "dataset = dataset.map(read_and_decode)\n",
    "dataset = dataset.shuffle(buffer_size=1000) \\\n",
    "        .repeat(count=EPOCHS) \\\n",
    "        .batch(batch_size=BATCH_SIZE) \\\n",
    "        .prefetch(buffer_size=tf.data.experimental.AUTOTUNE)\n",
    "model.fit(dataset)"
   ]
  },
  {
   "cell_type": "code",
   "execution_count": 44,
   "metadata": {},
   "outputs": [
    {
     "data": {
      "text/plain": [
       "<tensorflow.python.keras.engine.sequential.Sequential at 0x1ad2f9aa790>"
      ]
     },
     "execution_count": 44,
     "metadata": {},
     "output_type": "execute_result"
    }
   ],
   "source": [
    "model = tf.keras.models.load_model('models/test.h5')\n",
    "model"
   ]
  },
  {
   "cell_type": "code",
   "execution_count": 31,
   "metadata": {
    "scrolled": true
   },
   "outputs": [
    {
     "name": "stdout",
     "output_type": "stream",
     "text": [
      "25/25 [==============================] - 3s 101ms/step - loss: 0.0037 - binary_accuracy: 0.9987\n"
     ]
    }
   ],
   "source": [
    "tfrecord_file = 'my_dataset/new_mfccs_test.tfrecord'\n",
    "dataset = tf.data.TFRecordDataset(tfrecord_file) \n",
    "\n",
    "dataset = dataset.map(read_and_decode)\n",
    "dataset = dataset.shuffle(buffer_size = 100)\n",
    "dataset = dataset.batch(batch_size = 32)\n",
    "\n",
    "loss, accuracy = model.evaluate(dataset)"
   ]
  },
  {
   "cell_type": "code",
   "execution_count": 41,
   "metadata": {},
   "outputs": [],
   "source": [
    "model.save(filepath='models/test.h5')"
   ]
  },
  {
   "cell_type": "code",
   "execution_count": 153,
   "metadata": {
    "scrolled": true
   },
   "outputs": [
    {
     "ename": "NameError",
     "evalue": "name 'X' is not defined",
     "output_type": "error",
     "traceback": [
      "\u001b[1;31m---------------------------------------------------------------------------\u001b[0m",
      "\u001b[1;31mNameError\u001b[0m                                 Traceback (most recent call last)",
      "\u001b[1;32m<ipython-input-153-ec91b8d31ac0>\u001b[0m in \u001b[0;36m<module>\u001b[1;34m\u001b[0m\n\u001b[1;32m----> 1\u001b[1;33m \u001b[0mdataset\u001b[0m \u001b[1;33m=\u001b[0m \u001b[0mtf\u001b[0m\u001b[1;33m.\u001b[0m\u001b[0mdata\u001b[0m\u001b[1;33m.\u001b[0m\u001b[0mDataset\u001b[0m\u001b[1;33m.\u001b[0m\u001b[0mfrom_tensor_slices\u001b[0m\u001b[1;33m(\u001b[0m\u001b[1;33m(\u001b[0m\u001b[0mX\u001b[0m\u001b[1;33m,\u001b[0m\u001b[0mY\u001b[0m\u001b[1;33m)\u001b[0m\u001b[1;33m)\u001b[0m\u001b[1;33m\u001b[0m\u001b[1;33m\u001b[0m\u001b[0m\n\u001b[0m",
      "\u001b[1;31mNameError\u001b[0m: name 'X' is not defined"
     ]
    }
   ],
   "source": [
    "dataset = tf.data.Dataset.from_tensor_slices((X,Y)) "
   ]
  },
  {
   "cell_type": "code",
   "execution_count": 146,
   "metadata": {},
   "outputs": [],
   "source": [
    "def read_and_decode(filename_queue):     #输入文件名队列\n",
    "    #reader=tf.TFRecordReader()\n",
    "    #_,serialized_example=reader.read(filename_queue)\n",
    "    serialized_example=tf.data.TFRecordDataset(tfrecord_file)\n",
    "    #解析一个example,如果需要解析多个样例，使用parse_example函数\n",
    "    features=tf.io.parse_single_example(   \n",
    "            serialized_example,\n",
    "            #必须写明feature里面的key的名称\n",
    "            features={\n",
    "                     'data': tf.io.FixedLenFeature([15040], tf.float32),\n",
    "                     'label': tf.io.FixedLenFeature([], tf.int64),\n",
    "                      })\n",
    "    #对于BytesList,要重新进行编码，把string类型的0维Tensor变成uint8类型的一维Tensor\n",
    "    #image = tf.decode_raw(features['image_raw'], tf.uint8)\n",
    "    #image.set_shape([IMAGE_PIXELS])\n",
    "    #tensor(\"input/DecodeRaw:0\",shape=(784,),dtype=uint8)\n",
    "\n",
    "    #image张量的形状为：tensor(\"input/sub:0\",shape=(784,),dtype=float32)\n",
    "    #image = tf.cast(image, tf.float32) * (1. / 255) - 0.5\n",
    "\n",
    "    #把标记从uint8类型转换为int32类性\n",
    "    #label张量的形状为tensor（“input/cast_1:0\",shape=(),dtype=int32)\n",
    "    #label = tf.cast(features['label'], tf.int32)\n",
    "    data = features['data']\n",
    "    data = tf.reshape(data,(40, 376, 1))\n",
    "    label = features['label']\n",
    "    return data,label"
   ]
  },
  {
   "cell_type": "code",
   "execution_count": 147,
   "metadata": {
    "scrolled": true
   },
   "outputs": [
    {
     "ename": "ValueError",
     "evalue": "Attempt to convert a value (<TFRecordDatasetV2 shapes: (), types: tf.string>) with an unsupported type (<class 'tensorflow.python.data.ops.readers.TFRecordDatasetV2'>) to a Tensor.",
     "output_type": "error",
     "traceback": [
      "\u001b[1;31m---------------------------------------------------------------------------\u001b[0m",
      "\u001b[1;31mValueError\u001b[0m                                Traceback (most recent call last)",
      "\u001b[1;32m<ipython-input-147-440611e88c8a>\u001b[0m in \u001b[0;36m<module>\u001b[1;34m\u001b[0m\n\u001b[1;32m----> 1\u001b[1;33m \u001b[0mdata\u001b[0m\u001b[1;33m,\u001b[0m\u001b[0mlabel\u001b[0m\u001b[1;33m=\u001b[0m\u001b[0mread_and_decode\u001b[0m\u001b[1;33m(\u001b[0m\u001b[1;34m'my_dataset/train.tfrecord'\u001b[0m\u001b[1;33m)\u001b[0m\u001b[1;33m\u001b[0m\u001b[1;33m\u001b[0m\u001b[0m\n\u001b[0m",
      "\u001b[1;32m<ipython-input-146-349e47667e2c>\u001b[0m in \u001b[0;36mread_and_decode\u001b[1;34m(filename_queue)\u001b[0m\n\u001b[0;32m      4\u001b[0m     \u001b[0mserialized_example\u001b[0m\u001b[1;33m=\u001b[0m\u001b[0mtf\u001b[0m\u001b[1;33m.\u001b[0m\u001b[0mdata\u001b[0m\u001b[1;33m.\u001b[0m\u001b[0mTFRecordDataset\u001b[0m\u001b[1;33m(\u001b[0m\u001b[0mtfrecord_file\u001b[0m\u001b[1;33m)\u001b[0m\u001b[1;33m\u001b[0m\u001b[1;33m\u001b[0m\u001b[0m\n\u001b[0;32m      5\u001b[0m     \u001b[1;31m#解析一个example,如果需要解析多个样例，使用parse_example函数\u001b[0m\u001b[1;33m\u001b[0m\u001b[1;33m\u001b[0m\u001b[1;33m\u001b[0m\u001b[0m\n\u001b[1;32m----> 6\u001b[1;33m     features=tf.io.parse_single_example(   \n\u001b[0m\u001b[0;32m      7\u001b[0m             \u001b[0mserialized_example\u001b[0m\u001b[1;33m,\u001b[0m\u001b[1;33m\u001b[0m\u001b[1;33m\u001b[0m\u001b[0m\n\u001b[0;32m      8\u001b[0m             \u001b[1;31m#必须写明feature里面的key的名称\u001b[0m\u001b[1;33m\u001b[0m\u001b[1;33m\u001b[0m\u001b[1;33m\u001b[0m\u001b[0m\n",
      "\u001b[1;32m~\\anaconda3\\lib\\site-packages\\tensorflow\\python\\util\\dispatch.py\u001b[0m in \u001b[0;36mwrapper\u001b[1;34m(*args, **kwargs)\u001b[0m\n\u001b[0;32m    199\u001b[0m     \u001b[1;34m\"\"\"Call target, and fall back on dispatchers if there is a TypeError.\"\"\"\u001b[0m\u001b[1;33m\u001b[0m\u001b[1;33m\u001b[0m\u001b[0m\n\u001b[0;32m    200\u001b[0m     \u001b[1;32mtry\u001b[0m\u001b[1;33m:\u001b[0m\u001b[1;33m\u001b[0m\u001b[1;33m\u001b[0m\u001b[0m\n\u001b[1;32m--> 201\u001b[1;33m       \u001b[1;32mreturn\u001b[0m \u001b[0mtarget\u001b[0m\u001b[1;33m(\u001b[0m\u001b[1;33m*\u001b[0m\u001b[0margs\u001b[0m\u001b[1;33m,\u001b[0m \u001b[1;33m**\u001b[0m\u001b[0mkwargs\u001b[0m\u001b[1;33m)\u001b[0m\u001b[1;33m\u001b[0m\u001b[1;33m\u001b[0m\u001b[0m\n\u001b[0m\u001b[0;32m    202\u001b[0m     \u001b[1;32mexcept\u001b[0m \u001b[1;33m(\u001b[0m\u001b[0mTypeError\u001b[0m\u001b[1;33m,\u001b[0m \u001b[0mValueError\u001b[0m\u001b[1;33m)\u001b[0m\u001b[1;33m:\u001b[0m\u001b[1;33m\u001b[0m\u001b[1;33m\u001b[0m\u001b[0m\n\u001b[0;32m    203\u001b[0m       \u001b[1;31m# Note: convert_to_eager_tensor currently raises a ValueError, not a\u001b[0m\u001b[1;33m\u001b[0m\u001b[1;33m\u001b[0m\u001b[1;33m\u001b[0m\u001b[0m\n",
      "\u001b[1;32m~\\anaconda3\\lib\\site-packages\\tensorflow\\python\\ops\\parsing_ops.py\u001b[0m in \u001b[0;36mparse_single_example_v2\u001b[1;34m(serialized, features, example_names, name)\u001b[0m\n\u001b[0;32m    448\u001b[0m     \u001b[1;32mraise\u001b[0m \u001b[0mValueError\u001b[0m\u001b[1;33m(\u001b[0m\u001b[1;34m\"Missing features.\"\u001b[0m\u001b[1;33m)\u001b[0m\u001b[1;33m\u001b[0m\u001b[1;33m\u001b[0m\u001b[0m\n\u001b[0;32m    449\u001b[0m   \u001b[1;32mwith\u001b[0m \u001b[0mops\u001b[0m\u001b[1;33m.\u001b[0m\u001b[0mname_scope\u001b[0m\u001b[1;33m(\u001b[0m\u001b[0mname\u001b[0m\u001b[1;33m,\u001b[0m \u001b[1;34m\"ParseSingleExample\"\u001b[0m\u001b[1;33m,\u001b[0m \u001b[1;33m[\u001b[0m\u001b[0mserialized\u001b[0m\u001b[1;33m,\u001b[0m \u001b[0mexample_names\u001b[0m\u001b[1;33m]\u001b[0m\u001b[1;33m)\u001b[0m\u001b[1;33m:\u001b[0m\u001b[1;33m\u001b[0m\u001b[1;33m\u001b[0m\u001b[0m\n\u001b[1;32m--> 450\u001b[1;33m     \u001b[0mserialized\u001b[0m \u001b[1;33m=\u001b[0m \u001b[0mops\u001b[0m\u001b[1;33m.\u001b[0m\u001b[0mconvert_to_tensor\u001b[0m\u001b[1;33m(\u001b[0m\u001b[0mserialized\u001b[0m\u001b[1;33m,\u001b[0m \u001b[0mname\u001b[0m\u001b[1;33m=\u001b[0m\u001b[1;34m\"serialized\"\u001b[0m\u001b[1;33m)\u001b[0m\u001b[1;33m\u001b[0m\u001b[1;33m\u001b[0m\u001b[0m\n\u001b[0m\u001b[0;32m    451\u001b[0m     \u001b[0mserialized\u001b[0m \u001b[1;33m=\u001b[0m \u001b[0m_assert_scalar\u001b[0m\u001b[1;33m(\u001b[0m\u001b[0mserialized\u001b[0m\u001b[1;33m,\u001b[0m \u001b[1;34m\"serialized\"\u001b[0m\u001b[1;33m)\u001b[0m\u001b[1;33m\u001b[0m\u001b[1;33m\u001b[0m\u001b[0m\n\u001b[0;32m    452\u001b[0m     \u001b[1;32mreturn\u001b[0m \u001b[0mparse_example_v2\u001b[0m\u001b[1;33m(\u001b[0m\u001b[0mserialized\u001b[0m\u001b[1;33m,\u001b[0m \u001b[0mfeatures\u001b[0m\u001b[1;33m,\u001b[0m \u001b[0mexample_names\u001b[0m\u001b[1;33m,\u001b[0m \u001b[0mname\u001b[0m\u001b[1;33m)\u001b[0m\u001b[1;33m\u001b[0m\u001b[1;33m\u001b[0m\u001b[0m\n",
      "\u001b[1;32m~\\anaconda3\\lib\\site-packages\\tensorflow\\python\\profiler\\trace.py\u001b[0m in \u001b[0;36mwrapped\u001b[1;34m(*args, **kwargs)\u001b[0m\n\u001b[0;32m    161\u001b[0m         \u001b[1;32mwith\u001b[0m \u001b[0mTrace\u001b[0m\u001b[1;33m(\u001b[0m\u001b[0mtrace_name\u001b[0m\u001b[1;33m,\u001b[0m \u001b[1;33m**\u001b[0m\u001b[0mtrace_kwargs\u001b[0m\u001b[1;33m)\u001b[0m\u001b[1;33m:\u001b[0m\u001b[1;33m\u001b[0m\u001b[1;33m\u001b[0m\u001b[0m\n\u001b[0;32m    162\u001b[0m           \u001b[1;32mreturn\u001b[0m \u001b[0mfunc\u001b[0m\u001b[1;33m(\u001b[0m\u001b[1;33m*\u001b[0m\u001b[0margs\u001b[0m\u001b[1;33m,\u001b[0m \u001b[1;33m**\u001b[0m\u001b[0mkwargs\u001b[0m\u001b[1;33m)\u001b[0m\u001b[1;33m\u001b[0m\u001b[1;33m\u001b[0m\u001b[0m\n\u001b[1;32m--> 163\u001b[1;33m       \u001b[1;32mreturn\u001b[0m \u001b[0mfunc\u001b[0m\u001b[1;33m(\u001b[0m\u001b[1;33m*\u001b[0m\u001b[0margs\u001b[0m\u001b[1;33m,\u001b[0m \u001b[1;33m**\u001b[0m\u001b[0mkwargs\u001b[0m\u001b[1;33m)\u001b[0m\u001b[1;33m\u001b[0m\u001b[1;33m\u001b[0m\u001b[0m\n\u001b[0m\u001b[0;32m    164\u001b[0m \u001b[1;33m\u001b[0m\u001b[0m\n\u001b[0;32m    165\u001b[0m     \u001b[1;32mreturn\u001b[0m \u001b[0mwrapped\u001b[0m\u001b[1;33m\u001b[0m\u001b[1;33m\u001b[0m\u001b[0m\n",
      "\u001b[1;32m~\\anaconda3\\lib\\site-packages\\tensorflow\\python\\framework\\ops.py\u001b[0m in \u001b[0;36mconvert_to_tensor\u001b[1;34m(value, dtype, name, as_ref, preferred_dtype, dtype_hint, ctx, accepted_result_types)\u001b[0m\n\u001b[0;32m   1538\u001b[0m \u001b[1;33m\u001b[0m\u001b[0m\n\u001b[0;32m   1539\u001b[0m     \u001b[1;32mif\u001b[0m \u001b[0mret\u001b[0m \u001b[1;32mis\u001b[0m \u001b[1;32mNone\u001b[0m\u001b[1;33m:\u001b[0m\u001b[1;33m\u001b[0m\u001b[1;33m\u001b[0m\u001b[0m\n\u001b[1;32m-> 1540\u001b[1;33m       \u001b[0mret\u001b[0m \u001b[1;33m=\u001b[0m \u001b[0mconversion_func\u001b[0m\u001b[1;33m(\u001b[0m\u001b[0mvalue\u001b[0m\u001b[1;33m,\u001b[0m \u001b[0mdtype\u001b[0m\u001b[1;33m=\u001b[0m\u001b[0mdtype\u001b[0m\u001b[1;33m,\u001b[0m \u001b[0mname\u001b[0m\u001b[1;33m=\u001b[0m\u001b[0mname\u001b[0m\u001b[1;33m,\u001b[0m \u001b[0mas_ref\u001b[0m\u001b[1;33m=\u001b[0m\u001b[0mas_ref\u001b[0m\u001b[1;33m)\u001b[0m\u001b[1;33m\u001b[0m\u001b[1;33m\u001b[0m\u001b[0m\n\u001b[0m\u001b[0;32m   1541\u001b[0m \u001b[1;33m\u001b[0m\u001b[0m\n\u001b[0;32m   1542\u001b[0m     \u001b[1;32mif\u001b[0m \u001b[0mret\u001b[0m \u001b[1;32mis\u001b[0m \u001b[0mNotImplemented\u001b[0m\u001b[1;33m:\u001b[0m\u001b[1;33m\u001b[0m\u001b[1;33m\u001b[0m\u001b[0m\n",
      "\u001b[1;32m~\\anaconda3\\lib\\site-packages\\tensorflow\\python\\framework\\constant_op.py\u001b[0m in \u001b[0;36m_constant_tensor_conversion_function\u001b[1;34m(v, dtype, name, as_ref)\u001b[0m\n\u001b[0;32m    337\u001b[0m                                          as_ref=False):\n\u001b[0;32m    338\u001b[0m   \u001b[0m_\u001b[0m \u001b[1;33m=\u001b[0m \u001b[0mas_ref\u001b[0m\u001b[1;33m\u001b[0m\u001b[1;33m\u001b[0m\u001b[0m\n\u001b[1;32m--> 339\u001b[1;33m   \u001b[1;32mreturn\u001b[0m \u001b[0mconstant\u001b[0m\u001b[1;33m(\u001b[0m\u001b[0mv\u001b[0m\u001b[1;33m,\u001b[0m \u001b[0mdtype\u001b[0m\u001b[1;33m=\u001b[0m\u001b[0mdtype\u001b[0m\u001b[1;33m,\u001b[0m \u001b[0mname\u001b[0m\u001b[1;33m=\u001b[0m\u001b[0mname\u001b[0m\u001b[1;33m)\u001b[0m\u001b[1;33m\u001b[0m\u001b[1;33m\u001b[0m\u001b[0m\n\u001b[0m\u001b[0;32m    340\u001b[0m \u001b[1;33m\u001b[0m\u001b[0m\n\u001b[0;32m    341\u001b[0m \u001b[1;33m\u001b[0m\u001b[0m\n",
      "\u001b[1;32m~\\anaconda3\\lib\\site-packages\\tensorflow\\python\\framework\\constant_op.py\u001b[0m in \u001b[0;36mconstant\u001b[1;34m(value, dtype, shape, name)\u001b[0m\n\u001b[0;32m    262\u001b[0m     \u001b[0mValueError\u001b[0m\u001b[1;33m:\u001b[0m \u001b[1;32mif\u001b[0m \u001b[0mcalled\u001b[0m \u001b[0mon\u001b[0m \u001b[0ma\u001b[0m \u001b[0msymbolic\u001b[0m \u001b[0mtensor\u001b[0m\u001b[1;33m.\u001b[0m\u001b[1;33m\u001b[0m\u001b[1;33m\u001b[0m\u001b[0m\n\u001b[0;32m    263\u001b[0m   \"\"\"\n\u001b[1;32m--> 264\u001b[1;33m   return _constant_impl(value, dtype, shape, name, verify_shape=False,\n\u001b[0m\u001b[0;32m    265\u001b[0m                         allow_broadcast=True)\n\u001b[0;32m    266\u001b[0m \u001b[1;33m\u001b[0m\u001b[0m\n",
      "\u001b[1;32m~\\anaconda3\\lib\\site-packages\\tensorflow\\python\\framework\\constant_op.py\u001b[0m in \u001b[0;36m_constant_impl\u001b[1;34m(value, dtype, shape, name, verify_shape, allow_broadcast)\u001b[0m\n\u001b[0;32m    274\u001b[0m       \u001b[1;32mwith\u001b[0m \u001b[0mtrace\u001b[0m\u001b[1;33m.\u001b[0m\u001b[0mTrace\u001b[0m\u001b[1;33m(\u001b[0m\u001b[1;34m\"tf.constant\"\u001b[0m\u001b[1;33m)\u001b[0m\u001b[1;33m:\u001b[0m\u001b[1;33m\u001b[0m\u001b[1;33m\u001b[0m\u001b[0m\n\u001b[0;32m    275\u001b[0m         \u001b[1;32mreturn\u001b[0m \u001b[0m_constant_eager_impl\u001b[0m\u001b[1;33m(\u001b[0m\u001b[0mctx\u001b[0m\u001b[1;33m,\u001b[0m \u001b[0mvalue\u001b[0m\u001b[1;33m,\u001b[0m \u001b[0mdtype\u001b[0m\u001b[1;33m,\u001b[0m \u001b[0mshape\u001b[0m\u001b[1;33m,\u001b[0m \u001b[0mverify_shape\u001b[0m\u001b[1;33m)\u001b[0m\u001b[1;33m\u001b[0m\u001b[1;33m\u001b[0m\u001b[0m\n\u001b[1;32m--> 276\u001b[1;33m     \u001b[1;32mreturn\u001b[0m \u001b[0m_constant_eager_impl\u001b[0m\u001b[1;33m(\u001b[0m\u001b[0mctx\u001b[0m\u001b[1;33m,\u001b[0m \u001b[0mvalue\u001b[0m\u001b[1;33m,\u001b[0m \u001b[0mdtype\u001b[0m\u001b[1;33m,\u001b[0m \u001b[0mshape\u001b[0m\u001b[1;33m,\u001b[0m \u001b[0mverify_shape\u001b[0m\u001b[1;33m)\u001b[0m\u001b[1;33m\u001b[0m\u001b[1;33m\u001b[0m\u001b[0m\n\u001b[0m\u001b[0;32m    277\u001b[0m \u001b[1;33m\u001b[0m\u001b[0m\n\u001b[0;32m    278\u001b[0m   \u001b[0mg\u001b[0m \u001b[1;33m=\u001b[0m \u001b[0mops\u001b[0m\u001b[1;33m.\u001b[0m\u001b[0mget_default_graph\u001b[0m\u001b[1;33m(\u001b[0m\u001b[1;33m)\u001b[0m\u001b[1;33m\u001b[0m\u001b[1;33m\u001b[0m\u001b[0m\n",
      "\u001b[1;32m~\\anaconda3\\lib\\site-packages\\tensorflow\\python\\framework\\constant_op.py\u001b[0m in \u001b[0;36m_constant_eager_impl\u001b[1;34m(ctx, value, dtype, shape, verify_shape)\u001b[0m\n\u001b[0;32m    299\u001b[0m \u001b[1;32mdef\u001b[0m \u001b[0m_constant_eager_impl\u001b[0m\u001b[1;33m(\u001b[0m\u001b[0mctx\u001b[0m\u001b[1;33m,\u001b[0m \u001b[0mvalue\u001b[0m\u001b[1;33m,\u001b[0m \u001b[0mdtype\u001b[0m\u001b[1;33m,\u001b[0m \u001b[0mshape\u001b[0m\u001b[1;33m,\u001b[0m \u001b[0mverify_shape\u001b[0m\u001b[1;33m)\u001b[0m\u001b[1;33m:\u001b[0m\u001b[1;33m\u001b[0m\u001b[1;33m\u001b[0m\u001b[0m\n\u001b[0;32m    300\u001b[0m   \u001b[1;34m\"\"\"Implementation of eager constant.\"\"\"\u001b[0m\u001b[1;33m\u001b[0m\u001b[1;33m\u001b[0m\u001b[0m\n\u001b[1;32m--> 301\u001b[1;33m   \u001b[0mt\u001b[0m \u001b[1;33m=\u001b[0m \u001b[0mconvert_to_eager_tensor\u001b[0m\u001b[1;33m(\u001b[0m\u001b[0mvalue\u001b[0m\u001b[1;33m,\u001b[0m \u001b[0mctx\u001b[0m\u001b[1;33m,\u001b[0m \u001b[0mdtype\u001b[0m\u001b[1;33m)\u001b[0m\u001b[1;33m\u001b[0m\u001b[1;33m\u001b[0m\u001b[0m\n\u001b[0m\u001b[0;32m    302\u001b[0m   \u001b[1;32mif\u001b[0m \u001b[0mshape\u001b[0m \u001b[1;32mis\u001b[0m \u001b[1;32mNone\u001b[0m\u001b[1;33m:\u001b[0m\u001b[1;33m\u001b[0m\u001b[1;33m\u001b[0m\u001b[0m\n\u001b[0;32m    303\u001b[0m     \u001b[1;32mreturn\u001b[0m \u001b[0mt\u001b[0m\u001b[1;33m\u001b[0m\u001b[1;33m\u001b[0m\u001b[0m\n",
      "\u001b[1;32m~\\anaconda3\\lib\\site-packages\\tensorflow\\python\\framework\\constant_op.py\u001b[0m in \u001b[0;36mconvert_to_eager_tensor\u001b[1;34m(value, ctx, dtype)\u001b[0m\n\u001b[0;32m     96\u001b[0m       \u001b[0mdtype\u001b[0m \u001b[1;33m=\u001b[0m \u001b[0mdtypes\u001b[0m\u001b[1;33m.\u001b[0m\u001b[0mas_dtype\u001b[0m\u001b[1;33m(\u001b[0m\u001b[0mdtype\u001b[0m\u001b[1;33m)\u001b[0m\u001b[1;33m.\u001b[0m\u001b[0mas_datatype_enum\u001b[0m\u001b[1;33m\u001b[0m\u001b[1;33m\u001b[0m\u001b[0m\n\u001b[0;32m     97\u001b[0m   \u001b[0mctx\u001b[0m\u001b[1;33m.\u001b[0m\u001b[0mensure_initialized\u001b[0m\u001b[1;33m(\u001b[0m\u001b[1;33m)\u001b[0m\u001b[1;33m\u001b[0m\u001b[1;33m\u001b[0m\u001b[0m\n\u001b[1;32m---> 98\u001b[1;33m   \u001b[1;32mreturn\u001b[0m \u001b[0mops\u001b[0m\u001b[1;33m.\u001b[0m\u001b[0mEagerTensor\u001b[0m\u001b[1;33m(\u001b[0m\u001b[0mvalue\u001b[0m\u001b[1;33m,\u001b[0m \u001b[0mctx\u001b[0m\u001b[1;33m.\u001b[0m\u001b[0mdevice_name\u001b[0m\u001b[1;33m,\u001b[0m \u001b[0mdtype\u001b[0m\u001b[1;33m)\u001b[0m\u001b[1;33m\u001b[0m\u001b[1;33m\u001b[0m\u001b[0m\n\u001b[0m\u001b[0;32m     99\u001b[0m \u001b[1;33m\u001b[0m\u001b[0m\n\u001b[0;32m    100\u001b[0m \u001b[1;33m\u001b[0m\u001b[0m\n",
      "\u001b[1;31mValueError\u001b[0m: Attempt to convert a value (<TFRecordDatasetV2 shapes: (), types: tf.string>) with an unsupported type (<class 'tensorflow.python.data.ops.readers.TFRecordDatasetV2'>) to a Tensor."
     ]
    }
   ],
   "source": [
    "data,label=read_and_decode('my_dataset/train.tfrecord')"
   ]
  },
  {
   "cell_type": "code",
   "execution_count": 192,
   "metadata": {
    "scrolled": true
   },
   "outputs": [
    {
     "data": {
      "text/plain": [
       "<tf.Tensor: shape=(30, 2), dtype=float32, numpy=\n",
       "array([[8.7199126e-34, 1.0000000e+00],\n",
       "       [2.4190417e-11, 1.0000000e+00],\n",
       "       [1.0000000e+00, 0.0000000e+00],\n",
       "       [1.0000000e+00, 0.0000000e+00],\n",
       "       [1.2443055e-09, 1.0000000e+00],\n",
       "       [2.9277664e-11, 1.0000000e+00],\n",
       "       [8.4347731e-14, 1.0000000e+00],\n",
       "       [1.0000000e+00, 0.0000000e+00],\n",
       "       [5.8341115e-14, 1.0000000e+00],\n",
       "       [1.0000000e+00, 4.7905309e-18],\n",
       "       [3.9787279e-23, 1.0000000e+00],\n",
       "       [1.0000000e+00, 0.0000000e+00],\n",
       "       [1.2653178e-33, 1.0000000e+00],\n",
       "       [1.0000000e+00, 0.0000000e+00],\n",
       "       [9.0344907e-23, 1.0000000e+00],\n",
       "       [3.8353136e-12, 1.0000000e+00],\n",
       "       [1.0000000e+00, 0.0000000e+00],\n",
       "       [1.0000000e+00, 0.0000000e+00],\n",
       "       [2.9766440e-13, 1.0000000e+00],\n",
       "       [7.2514921e-18, 1.0000000e+00],\n",
       "       [1.1259031e-19, 1.0000000e+00],\n",
       "       [1.6270456e-17, 1.0000000e+00],\n",
       "       [1.4857785e-15, 1.0000000e+00],\n",
       "       [2.1330684e-21, 1.0000000e+00],\n",
       "       [1.0000000e+00, 2.0385169e-31],\n",
       "       [1.0000000e+00, 1.6939210e-23],\n",
       "       [4.3110902e-27, 1.0000000e+00],\n",
       "       [1.0000000e+00, 6.3029139e-13],\n",
       "       [2.5934016e-34, 1.0000000e+00],\n",
       "       [1.0000000e+00, 0.0000000e+00]], dtype=float32)>"
      ]
     },
     "execution_count": 192,
     "metadata": {},
     "output_type": "execute_result"
    }
   ],
   "source": [
    "model(sounds)"
   ]
  },
  {
   "cell_type": "code",
   "execution_count": 28,
   "metadata": {
    "scrolled": true
   },
   "outputs": [
    {
     "data": {
      "text/plain": [
       "<tf.Tensor: shape=(32,), dtype=int64, numpy=\n",
       "array([0, 1, 1, 1, 1, 0, 1, 0, 0, 1, 1, 1, 0, 1, 0, 1, 1, 1, 1, 0, 0, 1,\n",
       "       1, 0, 0, 1, 1, 0, 0, 1, 1, 0], dtype=int64)>"
      ]
     },
     "execution_count": 28,
     "metadata": {},
     "output_type": "execute_result"
    }
   ],
   "source": [
    "result = model.predict(sounds)\n",
    "lab = tf.argmax(result, 1)\n",
    "lab"
   ]
  },
  {
   "cell_type": "code",
   "execution_count": 20,
   "metadata": {},
   "outputs": [
    {
     "data": {
      "text/plain": [
       "numpy.ndarray"
      ]
     },
     "execution_count": 20,
     "metadata": {},
     "output_type": "execute_result"
    }
   ],
   "source": [
    "type(sounds)"
   ]
  },
  {
   "cell_type": "code",
   "execution_count": 40,
   "metadata": {},
   "outputs": [
    {
     "data": {
      "text/plain": [
       "(1, 128, 128, 1)"
      ]
     },
     "execution_count": 40,
     "metadata": {},
     "output_type": "execute_result"
    }
   ],
   "source": [
    "sounds.shape"
   ]
  },
  {
   "cell_type": "code",
   "execution_count": 41,
   "metadata": {},
   "outputs": [
    {
     "data": {
      "text/plain": [
       "(128, 128, 1)"
      ]
     },
     "execution_count": 41,
     "metadata": {},
     "output_type": "execute_result"
    }
   ],
   "source": [
    "sounds[0].shape"
   ]
  },
  {
   "cell_type": "code",
   "execution_count": 14,
   "metadata": {},
   "outputs": [
    {
     "data": {
      "text/plain": [
       "tensorflow.python.framework.ops.EagerTensor"
      ]
     },
     "execution_count": 14,
     "metadata": {},
     "output_type": "execute_result"
    }
   ],
   "source": [
    "type(labels)"
   ]
  },
  {
   "cell_type": "code",
   "execution_count": 15,
   "metadata": {},
   "outputs": [
    {
     "data": {
      "text/plain": [
       "TensorShape([32])"
      ]
     },
     "execution_count": 15,
     "metadata": {},
     "output_type": "execute_result"
    }
   ],
   "source": [
    "labels.shape"
   ]
  },
  {
   "cell_type": "code",
   "execution_count": 29,
   "metadata": {},
   "outputs": [
    {
     "data": {
      "text/plain": [
       "<tf.Tensor: shape=(32,), dtype=int64, numpy=\n",
       "array([0, 1, 1, 1, 1, 0, 1, 0, 0, 1, 1, 1, 0, 1, 0, 1, 1, 1, 1, 0, 0, 1,\n",
       "       1, 0, 0, 1, 1, 0, 0, 1, 1, 0], dtype=int64)>"
      ]
     },
     "execution_count": 29,
     "metadata": {},
     "output_type": "execute_result"
    }
   ],
   "source": [
    "labels"
   ]
  },
  {
   "cell_type": "code",
   "execution_count": 16,
   "metadata": {
    "scrolled": true
   },
   "outputs": [
    {
     "data": {
      "text/plain": [
       "<tf.Tensor: shape=(32, 2), dtype=float32, numpy=\n",
       "array([[1., 0.],\n",
       "       [0., 1.],\n",
       "       [0., 1.],\n",
       "       [0., 1.],\n",
       "       [0., 1.],\n",
       "       [1., 0.],\n",
       "       [0., 1.],\n",
       "       [1., 0.],\n",
       "       [1., 0.],\n",
       "       [0., 1.],\n",
       "       [0., 1.],\n",
       "       [0., 1.],\n",
       "       [1., 0.],\n",
       "       [0., 1.],\n",
       "       [1., 0.],\n",
       "       [0., 1.],\n",
       "       [0., 1.],\n",
       "       [0., 1.],\n",
       "       [0., 1.],\n",
       "       [1., 0.],\n",
       "       [1., 0.],\n",
       "       [0., 1.],\n",
       "       [0., 1.],\n",
       "       [1., 0.],\n",
       "       [1., 0.],\n",
       "       [0., 1.],\n",
       "       [0., 1.],\n",
       "       [1., 0.],\n",
       "       [1., 0.],\n",
       "       [0., 1.],\n",
       "       [0., 1.],\n",
       "       [1., 0.]], dtype=float32)>"
      ]
     },
     "execution_count": 16,
     "metadata": {},
     "output_type": "execute_result"
    }
   ],
   "source": [
    "tf.one_hot(labels,2)"
   ]
  },
  {
   "cell_type": "code",
   "execution_count": 42,
   "metadata": {},
   "outputs": [
    {
     "data": {
      "text/plain": [
       "array([1, 1, 1, 1, 1, 0, 0, 1, 1, 1, 0, 0, 1, 0, 1, 0, 0, 1, 1, 0, 1, 1,\n",
       "       0, 0, 0, 0, 1, 0, 0, 0, 1, 1], dtype=int64)"
      ]
     },
     "execution_count": 42,
     "metadata": {},
     "output_type": "execute_result"
    }
   ],
   "source": [
    "labels.numpy()"
   ]
  },
  {
   "cell_type": "code",
   "execution_count": 114,
   "metadata": {},
   "outputs": [
    {
     "data": {
      "text/plain": [
       "(22,)"
      ]
     },
     "execution_count": 114,
     "metadata": {},
     "output_type": "execute_result"
    }
   ],
   "source": [
    "labels.numpy().shape"
   ]
  },
  {
   "cell_type": "code",
   "execution_count": 115,
   "metadata": {},
   "outputs": [
    {
     "name": "stdout",
     "output_type": "stream",
     "text": [
      "[1 0 1 1 1 0 0 1 1 0 0 1 1 1 1 0 0 0 0 0 1 1]\n"
     ]
    }
   ],
   "source": [
    "print(labels.numpy())"
   ]
  },
  {
   "cell_type": "code",
   "execution_count": 7,
   "metadata": {},
   "outputs": [],
   "source": [
    "def abs_subtract(array, num): #绝对值减:正的减，负的加\n",
    "    coefficient=(np.ceil(array/(np.abs(array)*1.1).max())-0.5)*2\n",
    "    return array-coefficient*num\n",
    "\n",
    "def eliminate_dc(signal): #消除直流分量\n",
    "    dc = np.mean(np.abs(signal))\n",
    "    return abs_subtract(signal,dc)"
   ]
  },
  {
   "cell_type": "code",
   "execution_count": 33,
   "metadata": {
    "scrolled": true
   },
   "outputs": [
    {
     "data": {
      "text/plain": [
       "\"\\nif __name__ == '__main__':\\n    # 要预测的音频文件\\n    path = 'save_audio/无人机室内8/0f84731c-97ab-11eb-bef9-80fa5b45a5aa.wav'\\n    label = infer(path)\\n    print('音频：%s 的预测结果标签为：%d' % (path, label))\\n\""
      ]
     },
     "execution_count": 33,
     "metadata": {},
     "output_type": "execute_result"
    }
   ],
   "source": [
    "#预测\n",
    "\n",
    "# 读取音频数据\n",
    "def load_data(data_path):\n",
    "    wav, sr = librosa.load(data_path, sr=48000)\n",
    "    '''\n",
    "    intervals = librosa.effects.split(wav, top_db=20) #返回有声音的部分，即裁剪静音部分\n",
    "    for sliced in intervals:\n",
    "        wav_output.extend(wav[sliced[0]:sliced[1]])\n",
    "    '''\n",
    "    wav_output = []\n",
    "    wav_output.extend(wav)\n",
    "    #assert len(wav_output) >= 8000, \"有效音频小于0.5s\"\n",
    "    wav_len = int(48000 * 2)\n",
    "    if len(wav_output) > wav_len:\n",
    "        l = len(wav_output) - wav_len\n",
    "        r = random.randint(0, l)\n",
    "        wav_output = wav_output[r:wav_len + r]\n",
    "    else:\n",
    "        wav_output.extend(np.zeros(shape=[wav_len - len(wav_output)], dtype=np.float32))\n",
    "    melspec = librosa.feature.melspectrogram(y=np.array(wav_output), sr=sr, n_fft=512, hop_length=256)\n",
    "    #melspec = melspec[np.newaxis, ..., np.newaxis]\n",
    "    logmelspec = librosa.power_to_db(melspec)\n",
    "    data = librosa.feature.mfcc(S=logmelspec, n_mfcc=40)\n",
    "    data = data[np.newaxis, ..., np.newaxis]  #reshape为神经网络的四维输入格式，相当于reshape((1, 40, 376, 1))\n",
    "    \n",
    "    #return melspec\n",
    "    return data\n",
    "\n",
    "\n",
    "def infer(audio_path):\n",
    "    data = load_data(audio_path)\n",
    "    result = model.predict(data)\n",
    "    lab = tf.argmax(result, 1)\n",
    "    return lab\n",
    "\n",
    "'''\n",
    "if __name__ == '__main__':\n",
    "    # 要预测的音频文件\n",
    "    path = 'save_audio/无人机室内8/0f84731c-97ab-11eb-bef9-80fa5b45a5aa.wav'\n",
    "    label = infer(path)\n",
    "    print('音频：%s 的预测结果标签为：%d' % (path, label))\n",
    "'''"
   ]
  },
  {
   "cell_type": "code",
   "execution_count": 9,
   "metadata": {},
   "outputs": [
    {
     "data": {
      "text/plain": [
       "0"
      ]
     },
     "execution_count": 9,
     "metadata": {},
     "output_type": "execute_result"
    }
   ],
   "source": [
    "int(label)"
   ]
  },
  {
   "cell_type": "code",
   "execution_count": 6,
   "metadata": {},
   "outputs": [
    {
     "data": {
      "text/plain": [
       "tensorflow.python.framework.ops.EagerTensor"
      ]
     },
     "execution_count": 6,
     "metadata": {},
     "output_type": "execute_result"
    }
   ],
   "source": [
    "type(label)"
   ]
  },
  {
   "cell_type": "code",
   "execution_count": 26,
   "metadata": {},
   "outputs": [
    {
     "data": {
      "text/plain": [
       "166"
      ]
     },
     "execution_count": 26,
     "metadata": {},
     "output_type": "execute_result"
    }
   ],
   "source": [
    "sounds = os.listdir('save_audio/无人机室内1')\n",
    "len(sounds)"
   ]
  },
  {
   "cell_type": "code",
   "execution_count": 51,
   "metadata": {
    "scrolled": true
   },
   "outputs": [
    {
     "name": "stderr",
     "output_type": "stream",
     "text": [
      "  1%|▌                                                                                 | 2/318 [00:00<00:26, 11.98it/s]"
     ]
    },
    {
     "name": "stdout",
     "output_type": "stream",
     "text": [
      "音频：save_audio/无人机室内7\\94b8629c-9ccc-11eb-84b0-80fa5b45a5aa.wav 的预测结果标签为：0\n",
      "音频：save_audio/无人机室内7\\94b8d77f-9ccc-11eb-bc2b-80fa5b45a5aa.wav 的预测结果标签为：0\n",
      "音频：save_audio/无人机室内7\\94b8ff6a-9ccc-11eb-8f78-80fa5b45a5aa.wav 的预测结果标签为：0\n"
     ]
    },
    {
     "name": "stderr",
     "output_type": "stream",
     "text": [
      "  2%|█▌                                                                                | 6/318 [00:00<00:25, 12.26it/s]"
     ]
    },
    {
     "name": "stdout",
     "output_type": "stream",
     "text": [
      "音频：save_audio/无人机室内7\\94b9257e-9ccc-11eb-a94d-80fa5b45a5aa.wav 的预测结果标签为：0\n",
      "音频：save_audio/无人机室内7\\94ba0f34-9ccc-11eb-90f5-80fa5b45a5aa.wav 的预测结果标签为：0\n",
      "音频：save_audio/无人机室内7\\94ba3731-9ccc-11eb-a4f9-80fa5b45a5aa.wav 的预测结果标签为：0\n"
     ]
    },
    {
     "name": "stderr",
     "output_type": "stream",
     "text": [
      "\r",
      "  3%|██                                                                                | 8/318 [00:00<00:24, 12.42it/s]"
     ]
    },
    {
     "name": "stdout",
     "output_type": "stream",
     "text": [
      "音频：save_audio/无人机室内7\\94ba8412-9ccc-11eb-8067-80fa5b45a5aa.wav 的预测结果标签为：0\n",
      "音频：save_audio/无人机室内7\\94baaf05-9ccc-11eb-b0aa-80fa5b45a5aa.wav 的预测结果标签为：0\n",
      "音频：save_audio/无人机室内7\\94baeb77-9ccc-11eb-a75f-80fa5b45a5aa.wav 的预测结果标签为：0\n"
     ]
    },
    {
     "name": "stderr",
     "output_type": "stream",
     "text": [
      "  4%|███                                                                              | 12/318 [00:00<00:25, 11.98it/s]"
     ]
    },
    {
     "name": "stdout",
     "output_type": "stream",
     "text": [
      "音频：save_audio/无人机室内7\\94bb0e31-9ccc-11eb-bb38-80fa5b45a5aa.wav 的预测结果标签为：0\n",
      "音频：save_audio/无人机室内7\\94bb2d4e-9ccc-11eb-ad18-80fa5b45a5aa.wav 的预测结果标签为：0\n",
      "音频：save_audio/无人机室内7\\94bb654f-9ccc-11eb-b7ab-80fa5b45a5aa.wav 的预测结果标签为：0\n"
     ]
    },
    {
     "name": "stderr",
     "output_type": "stream",
     "text": [
      "\r",
      "  4%|███▌                                                                             | 14/318 [00:01<00:24, 12.16it/s]"
     ]
    },
    {
     "name": "stdout",
     "output_type": "stream",
     "text": [
      "音频：save_audio/无人机室内7\\94bb6dc8-9ccc-11eb-a33d-80fa5b45a5aa.wav 的预测结果标签为：0\n",
      "音频：save_audio/无人机室内7\\94bb9e21-9ccc-11eb-b565-80fa5b45a5aa.wav 的预测结果标签为：0\n",
      "音频：save_audio/无人机室内7\\94bbdb35-9ccc-11eb-af88-80fa5b45a5aa.wav 的预测结果标签为：0\n"
     ]
    },
    {
     "name": "stderr",
     "output_type": "stream",
     "text": [
      "  6%|████▌                                                                            | 18/318 [00:01<00:25, 11.92it/s]"
     ]
    },
    {
     "name": "stdout",
     "output_type": "stream",
     "text": [
      "音频：save_audio/无人机室内7\\94bbe2b1-9ccc-11eb-a11a-80fa5b45a5aa.wav 的预测结果标签为：0\n",
      "音频：save_audio/无人机室内7\\94bc09af-9ccc-11eb-933e-80fa5b45a5aa.wav 的预测结果标签为：0\n",
      "音频：save_audio/无人机室内7\\94bc4d48-9ccc-11eb-90be-80fa5b45a5aa.wav 的预测结果标签为：0\n"
     ]
    },
    {
     "name": "stderr",
     "output_type": "stream",
     "text": [
      "\r",
      "  6%|█████                                                                            | 20/318 [00:01<00:24, 12.04it/s]"
     ]
    },
    {
     "name": "stdout",
     "output_type": "stream",
     "text": [
      "音频：save_audio/无人机室内7\\94bc70ee-9ccc-11eb-9c9c-80fa5b45a5aa.wav 的预测结果标签为：0\n",
      "音频：save_audio/无人机室内7\\94bc9324-9ccc-11eb-b8f3-80fa5b45a5aa.wav 的预测结果标签为：0\n",
      "音频：save_audio/无人机室内7\\94bcb51c-9ccc-11eb-8997-80fa5b45a5aa.wav 的预测结果标签为：0\n"
     ]
    },
    {
     "name": "stderr",
     "output_type": "stream",
     "text": [
      "  8%|██████                                                                           | 24/318 [00:01<00:24, 12.12it/s]"
     ]
    },
    {
     "name": "stdout",
     "output_type": "stream",
     "text": [
      "音频：save_audio/无人机室内7\\94bcccab-9ccc-11eb-b35c-80fa5b45a5aa.wav 的预测结果标签为：0\n",
      "音频：save_audio/无人机室内7\\94bd0744-9ccc-11eb-adcb-80fa5b45a5aa.wav 的预测结果标签为：0\n",
      "音频：save_audio/无人机室内7\\94bd1a52-9ccc-11eb-bacc-80fa5b45a5aa.wav 的预测结果标签为：0\n"
     ]
    },
    {
     "name": "stderr",
     "output_type": "stream",
     "text": [
      "\r",
      "  8%|██████▌                                                                          | 26/318 [00:02<00:23, 12.38it/s]"
     ]
    },
    {
     "name": "stdout",
     "output_type": "stream",
     "text": [
      "音频：save_audio/无人机室内7\\94bd4215-9ccc-11eb-9f4b-80fa5b45a5aa.wav 的预测结果标签为：0\n",
      "音频：save_audio/无人机室内7\\94bd6848-9ccc-11eb-86e6-80fa5b45a5aa.wav 的预测结果标签为：0\n",
      "音频：save_audio/无人机室内7\\94bd8f33-9ccc-11eb-bb6b-80fa5b45a5aa.wav 的预测结果标签为：0\n"
     ]
    },
    {
     "name": "stderr",
     "output_type": "stream",
     "text": [
      "  9%|███████▋                                                                         | 30/318 [00:02<00:23, 12.03it/s]"
     ]
    },
    {
     "name": "stdout",
     "output_type": "stream",
     "text": [
      "音频：save_audio/无人机室内7\\94bdbaf5-9ccc-11eb-a54b-80fa5b45a5aa.wav 的预测结果标签为：0\n",
      "音频：save_audio/无人机室内7\\94bde16b-9ccc-11eb-8f7b-80fa5b45a5aa.wav 的预测结果标签为：0\n",
      "音频：save_audio/无人机室内7\\94be0419-9ccc-11eb-bf7e-80fa5b45a5aa.wav 的预测结果标签为：0\n"
     ]
    },
    {
     "name": "stderr",
     "output_type": "stream",
     "text": [
      "\r",
      " 10%|████████▏                                                                        | 32/318 [00:02<00:23, 11.99it/s]"
     ]
    },
    {
     "name": "stdout",
     "output_type": "stream",
     "text": [
      "音频：save_audio/无人机室内7\\94be2b0c-9ccc-11eb-9f1b-80fa5b45a5aa.wav 的预测结果标签为：0\n",
      "音频：save_audio/无人机室内7\\94be51fd-9ccc-11eb-9370-80fa5b45a5aa.wav 的预测结果标签为：0\n",
      "音频：save_audio/无人机室内7\\94be9921-9ccc-11eb-9038-80fa5b45a5aa.wav 的预测结果标签为：0\n"
     ]
    },
    {
     "name": "stderr",
     "output_type": "stream",
     "text": [
      " 11%|█████████▏                                                                       | 36/318 [00:02<00:23, 12.21it/s]"
     ]
    },
    {
     "name": "stdout",
     "output_type": "stream",
     "text": [
      "音频：save_audio/无人机室内7\\94be9ff9-9ccc-11eb-903e-80fa5b45a5aa.wav 的预测结果标签为：0\n",
      "音频：save_audio/无人机室内7\\94bec793-9ccc-11eb-8551-80fa5b45a5aa.wav 的预测结果标签为：0\n",
      "音频：save_audio/无人机室内7\\94beede3-9ccc-11eb-bebd-80fa5b45a5aa.wav 的预测结果标签为：0\n"
     ]
    },
    {
     "name": "stderr",
     "output_type": "stream",
     "text": [
      "\r",
      " 12%|█████████▋                                                                       | 38/318 [00:03<00:22, 12.68it/s]"
     ]
    },
    {
     "name": "stdout",
     "output_type": "stream",
     "text": [
      "音频：save_audio/无人机室内7\\94bf15ba-9ccc-11eb-b3d7-80fa5b45a5aa.wav 的预测结果标签为：0\n",
      "音频：save_audio/无人机室内7\\94bf48ce-9ccc-11eb-8ff0-80fa5b45a5aa.wav 的预测结果标签为：0\n",
      "音频：save_audio/无人机室内7\\94bf654e-9ccc-11eb-9e0d-80fa5b45a5aa.wav 的预测结果标签为：0\n"
     ]
    },
    {
     "name": "stderr",
     "output_type": "stream",
     "text": [
      " 13%|██████████▋                                                                      | 42/318 [00:03<00:22, 12.25it/s]"
     ]
    },
    {
     "name": "stdout",
     "output_type": "stream",
     "text": [
      "音频：save_audio/无人机室内7\\94bf9e7a-9ccc-11eb-a022-80fa5b45a5aa.wav 的预测结果标签为：0\n",
      "音频：save_audio/无人机室内7\\94bfb09d-9ccc-11eb-b3b4-80fa5b45a5aa.wav 的预测结果标签为：0\n",
      "音频：save_audio/无人机室内7\\94bfd794-9ccc-11eb-8e7b-80fa5b45a5aa.wav 的预测结果标签为：0\n"
     ]
    },
    {
     "name": "stderr",
     "output_type": "stream",
     "text": [
      "\r",
      " 14%|███████████▏                                                                     | 44/318 [00:03<00:22, 11.95it/s]"
     ]
    },
    {
     "name": "stdout",
     "output_type": "stream",
     "text": [
      "音频：save_audio/无人机室内7\\94c01988-9ccc-11eb-b03a-80fa5b45a5aa.wav 的预测结果标签为：0\n",
      "音频：save_audio/无人机室内7\\94c03c6a-9ccc-11eb-801a-80fa5b45a5aa.wav 的预测结果标签为：0\n",
      "音频：save_audio/无人机室内7\\94c06b38-9ccc-11eb-bed9-80fa5b45a5aa.wav 的预测结果标签为：0\n"
     ]
    },
    {
     "name": "stderr",
     "output_type": "stream",
     "text": [
      " 15%|████████████▏                                                                    | 48/318 [00:03<00:22, 11.80it/s]"
     ]
    },
    {
     "name": "stdout",
     "output_type": "stream",
     "text": [
      "音频：save_audio/无人机室内7\\94c09a61-9ccc-11eb-9695-80fa5b45a5aa.wav 的预测结果标签为：0\n",
      "音频：save_audio/无人机室内7\\94c0c1d8-9ccc-11eb-99a0-80fa5b45a5aa.wav 的预测结果标签为：0\n",
      "音频：save_audio/无人机室内7\\94c0e4bf-9ccc-11eb-aa23-80fa5b45a5aa.wav 的预测结果标签为：0\n"
     ]
    },
    {
     "name": "stderr",
     "output_type": "stream",
     "text": [
      "\r",
      " 16%|████████████▋                                                                    | 50/318 [00:04<00:22, 11.99it/s]"
     ]
    },
    {
     "name": "stdout",
     "output_type": "stream",
     "text": [
      "音频：save_audio/无人机室内7\\94c0e846-9ccc-11eb-b48a-80fa5b45a5aa.wav 的预测结果标签为：0\n",
      "音频：save_audio/无人机室内7\\94c11e71-9ccc-11eb-b29a-80fa5b45a5aa.wav 的预测结果标签为：0\n",
      "音频：save_audio/无人机室内7\\94c141ed-9ccc-11eb-ba97-80fa5b45a5aa.wav 的预测结果标签为：0\n"
     ]
    },
    {
     "name": "stderr",
     "output_type": "stream",
     "text": [
      " 17%|█████████████▊                                                                   | 54/318 [00:04<00:22, 11.98it/s]"
     ]
    },
    {
     "name": "stdout",
     "output_type": "stream",
     "text": [
      "音频：save_audio/无人机室内7\\94c172c8-9ccc-11eb-9375-80fa5b45a5aa.wav 的预测结果标签为：0\n",
      "音频：save_audio/无人机室内7\\94c1841e-9ccc-11eb-91d8-80fa5b45a5aa.wav 的预测结果标签为：0\n",
      "音频：save_audio/无人机室内7\\94c1ccee-9ccc-11eb-861b-80fa5b45a5aa.wav 的预测结果标签为：0\n"
     ]
    },
    {
     "name": "stderr",
     "output_type": "stream",
     "text": [
      "\r",
      " 18%|██████████████▎                                                                  | 56/318 [00:04<00:22, 11.82it/s]"
     ]
    },
    {
     "name": "stdout",
     "output_type": "stream",
     "text": [
      "音频：save_audio/无人机室内7\\94c1f8fc-9ccc-11eb-b96a-80fa5b45a5aa.wav 的预测结果标签为：0\n",
      "音频：save_audio/无人机室内7\\94c22006-9ccc-11eb-a298-80fa5b45a5aa.wav 的预测结果标签为：0\n",
      "音频：save_audio/无人机室内7\\94c246f7-9ccc-11eb-9a9e-80fa5b45a5aa.wav 的预测结果标签为：0"
     ]
    },
    {
     "name": "stderr",
     "output_type": "stream",
     "text": [
      "\r",
      " 18%|██████████████▊                                                                  | 58/318 [00:04<00:22, 11.79it/s]"
     ]
    },
    {
     "name": "stdout",
     "output_type": "stream",
     "text": [
      "\n",
      "音频：save_audio/无人机室内7\\94c26de2-9ccc-11eb-9c69-80fa5b45a5aa.wav 的预测结果标签为：0\n",
      "音频：save_audio/无人机室内7\\94c294e2-9ccc-11eb-ba76-80fa5b45a5aa.wav 的预测结果标签为：0\n"
     ]
    },
    {
     "name": "stderr",
     "output_type": "stream",
     "text": [
      " 19%|███████████████▊                                                                 | 62/318 [00:05<00:20, 12.43it/s]"
     ]
    },
    {
     "name": "stdout",
     "output_type": "stream",
     "text": [
      "音频：save_audio/无人机室内7\\94c2d95f-9ccc-11eb-aa57-80fa5b45a5aa.wav 的预测结果标签为：0\n",
      "音频：save_audio/无人机室内7\\94c309b9-9ccc-11eb-aa57-80fa5b45a5aa.wav 的预测结果标签为：0\n",
      "音频：save_audio/无人机室内7\\94c3318a-9ccc-11eb-915b-80fa5b45a5aa.wav 的预测结果标签为：0\n"
     ]
    },
    {
     "name": "stderr",
     "output_type": "stream",
     "text": [
      "\r",
      " 20%|████████████████▎                                                                | 64/318 [00:05<00:27,  9.13it/s]"
     ]
    },
    {
     "name": "stdout",
     "output_type": "stream",
     "text": [
      "音频：save_audio/无人机室内7\\94c3579e-9ccc-11eb-8324-80fa5b45a5aa.wav 的预测结果标签为：0\n",
      "音频：save_audio/无人机室内7\\94c38041-9ccc-11eb-bf9f-80fa5b45a5aa.wav 的预测结果标签为：0\n",
      "音频：save_audio/无人机室内7\\94c3b276-9ccc-11eb-93f0-80fa5b45a5aa.wav 的预测结果标签为：0\n"
     ]
    },
    {
     "name": "stderr",
     "output_type": "stream",
     "text": [
      "\r",
      " 21%|████████████████▊                                                                | 66/318 [00:05<00:26,  9.68it/s]"
     ]
    },
    {
     "name": "stdout",
     "output_type": "stream",
     "text": [
      "音频：save_audio/无人机室内7\\94c3dd14-9ccc-11eb-b982-80fa5b45a5aa.wav 的预测结果标签为：0\n",
      "音频：save_audio/无人机室内7\\94c40511-9ccc-11eb-bda0-80fa5b45a5aa.wav 的预测结果标签为：0\n",
      "音频：save_audio/无人机室内7\\94c41cbc-9ccc-11eb-b971-80fa5b45a5aa.wav 的预测结果标签为：0"
     ]
    },
    {
     "name": "stderr",
     "output_type": "stream",
     "text": [
      " 22%|█████████████████▊                                                               | 70/318 [00:06<00:23, 10.43it/s]"
     ]
    },
    {
     "name": "stdout",
     "output_type": "stream",
     "text": [
      "\n",
      "音频：save_audio/无人机室内7\\94c4415b-9ccc-11eb-b476-80fa5b45a5aa.wav 的预测结果标签为：0\n",
      "音频：save_audio/无人机室内7\\94c46cd8-9ccc-11eb-a06f-80fa5b45a5aa.wav 的预测结果标签为：0\n"
     ]
    },
    {
     "name": "stderr",
     "output_type": "stream",
     "text": [
      "\r",
      " 23%|██████████████████▎                                                              | 72/318 [00:06<00:23, 10.62it/s]"
     ]
    },
    {
     "name": "stdout",
     "output_type": "stream",
     "text": [
      "音频：save_audio/无人机室内7\\94c48ad2-9ccc-11eb-b020-80fa5b45a5aa.wav 的预测结果标签为：0\n",
      "音频：save_audio/无人机室内7\\94c4acb9-9ccc-11eb-b646-80fa5b45a5aa.wav 的预测结果标签为：0\n",
      "音频：save_audio/无人机室内7\\94c4c93e-9ccc-11eb-8e77-80fa5b45a5aa.wav 的预测结果标签为：0\n"
     ]
    },
    {
     "name": "stderr",
     "output_type": "stream",
     "text": [
      " 24%|███████████████████▎                                                             | 76/318 [00:06<00:20, 11.62it/s]"
     ]
    },
    {
     "name": "stdout",
     "output_type": "stream",
     "text": [
      "音频：save_audio/无人机室内7\\94c4f5e2-9ccc-11eb-9ce4-80fa5b45a5aa.wav 的预测结果标签为：0\n",
      "音频：save_audio/无人机室内7\\94c51c74-9ccc-11eb-9a9c-80fa5b45a5aa.wav 的预测结果标签为：0\n",
      "音频：save_audio/无人机室内7\\94c53e99-9ccc-11eb-93ed-80fa5b45a5aa.wav 的预测结果标签为：0\n"
     ]
    },
    {
     "name": "stderr",
     "output_type": "stream",
     "text": [
      "\r",
      " 25%|███████████████████▊                                                             | 78/318 [00:06<00:20, 11.60it/s]"
     ]
    },
    {
     "name": "stdout",
     "output_type": "stream",
     "text": [
      "音频：save_audio/无人机室内7\\94c56883-9ccc-11eb-b1ee-80fa5b45a5aa.wav 的预测结果标签为：0\n",
      "音频：save_audio/无人机室内7\\94c58d44-9ccc-11eb-beef-80fa5b45a5aa.wav 的预测结果标签为：0\n",
      "音频：save_audio/无人机室内7\\94c5a086-9ccc-11eb-8e0e-80fa5b45a5aa.wav 的预测结果标签为：0\n"
     ]
    },
    {
     "name": "stderr",
     "output_type": "stream",
     "text": [
      " 26%|████████████████████▉                                                            | 82/318 [00:07<00:20, 11.49it/s]"
     ]
    },
    {
     "name": "stdout",
     "output_type": "stream",
     "text": [
      "音频：save_audio/无人机室内7\\94c5d965-9ccc-11eb-822d-80fa5b45a5aa.wav 的预测结果标签为：0\n",
      "音频：save_audio/无人机室内7\\94c5ede6-9ccc-11eb-bc21-80fa5b45a5aa.wav 的预测结果标签为：0\n",
      "音频：save_audio/无人机室内7\\94c61e8c-9ccc-11eb-9684-80fa5b45a5aa.wav 的预测结果标签为：0\n"
     ]
    },
    {
     "name": "stderr",
     "output_type": "stream",
     "text": [
      "\r",
      " 26%|█████████████████████▍                                                           | 84/318 [00:07<00:20, 11.68it/s]"
     ]
    },
    {
     "name": "stdout",
     "output_type": "stream",
     "text": [
      "音频：save_audio/无人机室内7\\94c63e06-9ccc-11eb-bf9e-80fa5b45a5aa.wav 的预测结果标签为：0\n",
      "音频：save_audio/无人机室内7\\94c662ca-9ccc-11eb-941e-80fa5b45a5aa.wav 的预测结果标签为：0\n",
      "音频：save_audio/无人机室内7\\94c68aac-9ccc-11eb-9fea-80fa5b45a5aa.wav 的预测结果标签为：0\n"
     ]
    },
    {
     "name": "stderr",
     "output_type": "stream",
     "text": [
      " 28%|██████████████████████▍                                                          | 88/318 [00:07<00:19, 11.97it/s]"
     ]
    },
    {
     "name": "stdout",
     "output_type": "stream",
     "text": [
      "音频：save_audio/无人机室内7\\94c6b0b5-9ccc-11eb-af77-80fa5b45a5aa.wav 的预测结果标签为：0\n",
      "音频：save_audio/无人机室内7\\94c6d81c-9ccc-11eb-9665-80fa5b45a5aa.wav 的预测结果标签为：0\n",
      "音频：save_audio/无人机室内7\\94c6fe9c-9ccc-11eb-8357-80fa5b45a5aa.wav 的预测结果标签为：0\n"
     ]
    },
    {
     "name": "stderr",
     "output_type": "stream",
     "text": [
      "\r",
      " 28%|██████████████████████▉                                                          | 90/318 [00:07<00:19, 11.98it/s]"
     ]
    },
    {
     "name": "stdout",
     "output_type": "stream",
     "text": [
      "音频：save_audio/无人机室内7\\94c71b7d-9ccc-11eb-ba26-80fa5b45a5aa.wav 的预测结果标签为：0\n",
      "音频：save_audio/无人机室内7\\94c74183-9ccc-11eb-8f2a-80fa5b45a5aa.wav 的预测结果标签为：0\n",
      "音频：save_audio/无人机室内7\\94c753db-9ccc-11eb-a26d-80fa5b45a5aa.wav 的预测结果标签为：0\n"
     ]
    },
    {
     "name": "stderr",
     "output_type": "stream",
     "text": [
      " 30%|███████████████████████▉                                                         | 94/318 [00:08<00:18, 11.92it/s]"
     ]
    },
    {
     "name": "stdout",
     "output_type": "stream",
     "text": [
      "音频：save_audio/无人机室内7\\94c78b19-9ccc-11eb-84a3-80fa5b45a5aa.wav 的预测结果标签为：0\n",
      "音频：save_audio/无人机室内7\\94c7ad21-9ccc-11eb-9d1f-80fa5b45a5aa.wav 的预测结果标签为：0\n",
      "音频：save_audio/无人机室内7\\94c7c990-9ccc-11eb-aa03-80fa5b45a5aa.wav 的预测结果标签为：0\n"
     ]
    },
    {
     "name": "stderr",
     "output_type": "stream",
     "text": [
      "\r",
      " 30%|████████████████████████▍                                                        | 96/318 [00:08<00:18, 11.88it/s]"
     ]
    },
    {
     "name": "stdout",
     "output_type": "stream",
     "text": [
      "音频：save_audio/无人机室内7\\94c7ef56-9ccc-11eb-ad61-80fa5b45a5aa.wav 的预测结果标签为：0\n",
      "音频：save_audio/无人机室内7\\94c812be-9ccc-11eb-b994-80fa5b45a5aa.wav 的预测结果标签为：0\n",
      "音频：save_audio/无人机室内7\\94c83e7f-9ccc-11eb-94b1-80fa5b45a5aa.wav 的预测结果标签为：0\n"
     ]
    },
    {
     "name": "stderr",
     "output_type": "stream",
     "text": [
      "\r",
      " 31%|████████████████████████▉                                                        | 98/318 [00:08<00:18, 11.75it/s]"
     ]
    },
    {
     "name": "stdout",
     "output_type": "stream",
     "text": [
      "音频：save_audio/无人机室内7\\94c864d0-9ccc-11eb-b0a7-80fa5b45a5aa.wav 的预测结果标签为：0\n",
      "音频：save_audio/无人机室内7\\94c88430-9ccc-11eb-81ca-80fa5b45a5aa.wav 的预测结果标签为：0\n"
     ]
    },
    {
     "name": "stderr",
     "output_type": "stream",
     "text": [
      " 32%|█████████████████████████▋                                                      | 102/318 [00:08<00:17, 12.44it/s]"
     ]
    },
    {
     "name": "stdout",
     "output_type": "stream",
     "text": [
      "音频：save_audio/无人机室内7\\94c8a4d4-9ccc-11eb-bcbd-80fa5b45a5aa.wav 的预测结果标签为：0\n",
      "音频：save_audio/无人机室内7\\94c8c603-9ccc-11eb-b14f-80fa5b45a5aa.wav 的预测结果标签为：0\n",
      "音频：save_audio/无人机室内7\\94c8dce7-9ccc-11eb-9a40-80fa5b45a5aa.wav 的预测结果标签为：0\n"
     ]
    },
    {
     "name": "stderr",
     "output_type": "stream",
     "text": [
      "\r",
      " 33%|██████████████████████████▏                                                     | 104/318 [00:08<00:17, 12.18it/s]"
     ]
    },
    {
     "name": "stdout",
     "output_type": "stream",
     "text": [
      "音频：save_audio/无人机室内7\\94c90204-9ccc-11eb-870a-80fa5b45a5aa.wav 的预测结果标签为：0\n",
      "音频：save_audio/无人机室内7\\94c92e9d-9ccc-11eb-8e74-80fa5b45a5aa.wav 的预测结果标签为：0\n",
      "音频：save_audio/无人机室内7\\94c94fe6-9ccc-11eb-854c-80fa5b45a5aa.wav 的预测结果标签为：0"
     ]
    },
    {
     "name": "stderr",
     "output_type": "stream",
     "text": [
      "\r",
      " 33%|██████████████████████████▋                                                     | 106/318 [00:09<00:17, 11.91it/s]"
     ]
    },
    {
     "name": "stdout",
     "output_type": "stream",
     "text": [
      "\n",
      "音频：save_audio/无人机室内7\\94c97189-9ccc-11eb-a8da-80fa5b45a5aa.wav 的预测结果标签为：0\n",
      "音频：save_audio/无人机室内7\\94c98e89-9ccc-11eb-a0d5-80fa5b45a5aa.wav 的预测结果标签为：0"
     ]
    },
    {
     "name": "stderr",
     "output_type": "stream",
     "text": [
      "\r",
      " 34%|███████████████████████████▏                                                    | 108/318 [00:09<00:17, 11.85it/s]"
     ]
    },
    {
     "name": "stdout",
     "output_type": "stream",
     "text": [
      "\n",
      "音频：save_audio/无人机室内7\\94c9b3d1-9ccc-11eb-b87a-80fa5b45a5aa.wav 的预测结果标签为：0\n",
      "音频：save_audio/无人机室内7\\94c9cd32-9ccc-11eb-aedd-80fa5b45a5aa.wav 的预测结果标签为：0\n"
     ]
    },
    {
     "name": "stderr",
     "output_type": "stream",
     "text": [
      " 35%|████████████████████████████▏                                                   | 112/318 [00:09<00:18, 11.42it/s]"
     ]
    },
    {
     "name": "stdout",
     "output_type": "stream",
     "text": [
      "音频：save_audio/无人机室内7\\94c9f97e-9ccc-11eb-9860-80fa5b45a5aa.wav 的预测结果标签为：0\n",
      "音频：save_audio/无人机室内7\\94ca1a5f-9ccc-11eb-aba2-80fa5b45a5aa.wav 的预测结果标签为：0\n",
      "音频：save_audio/无人机室内7\\94ca38c5-9ccc-11eb-bbcc-80fa5b45a5aa.wav 的预测结果标签为：0\n"
     ]
    },
    {
     "name": "stderr",
     "output_type": "stream",
     "text": [
      "\r",
      " 36%|████████████████████████████▋                                                   | 114/318 [00:09<00:17, 11.63it/s]"
     ]
    },
    {
     "name": "stdout",
     "output_type": "stream",
     "text": [
      "音频：save_audio/无人机室内7\\94ca57b1-9ccc-11eb-88e1-80fa5b45a5aa.wav 的预测结果标签为：0\n",
      "音频：save_audio/无人机室内7\\94ca841d-9ccc-11eb-8df3-80fa5b45a5aa.wav 的预测结果标签为：0\n",
      "音频：save_audio/无人机室内7\\94caa5a6-9ccc-11eb-bc72-80fa5b45a5aa.wav 的预测结果标签为：0\n"
     ]
    },
    {
     "name": "stderr",
     "output_type": "stream",
     "text": [
      " 37%|█████████████████████████████▋                                                  | 118/318 [00:10<00:16, 11.84it/s]"
     ]
    },
    {
     "name": "stdout",
     "output_type": "stream",
     "text": [
      "音频：save_audio/无人机室内7\\94cacc95-9ccc-11eb-8d3d-80fa5b45a5aa.wav 的预测结果标签为：0\n",
      "音频：save_audio/无人机室内7\\94cae065-9ccc-11eb-9c05-80fa5b45a5aa.wav 的预测结果标签为：0\n",
      "音频：save_audio/无人机室内7\\94cb1407-9ccc-11eb-9a52-80fa5b45a5aa.wav 的预测结果标签为：0\n"
     ]
    },
    {
     "name": "stderr",
     "output_type": "stream",
     "text": [
      "\r",
      " 38%|██████████████████████████████▏                                                 | 120/318 [00:10<00:18, 10.87it/s]"
     ]
    },
    {
     "name": "stdout",
     "output_type": "stream",
     "text": [
      "音频：save_audio/无人机室内7\\94cb1a81-9ccc-11eb-92f3-80fa5b45a5aa.wav 的预测结果标签为：0\n",
      "音频：save_audio/无人机室内7\\94cb5c05-9ccc-11eb-bfb1-80fa5b45a5aa.wav 的预测结果标签为：0\n",
      "音频：save_audio/无人机室内7\\94cb6867-9ccc-11eb-b246-80fa5b45a5aa.wav 的预测结果标签为：0"
     ]
    },
    {
     "name": "stderr",
     "output_type": "stream",
     "text": [
      "\r",
      " 38%|██████████████████████████████▋                                                 | 122/318 [00:10<00:17, 11.11it/s]"
     ]
    },
    {
     "name": "stdout",
     "output_type": "stream",
     "text": [
      "\n",
      "音频：save_audio/无人机室内7\\94cba3fa-9ccc-11eb-9e81-80fa5b45a5aa.wav 的预测结果标签为：0\n",
      "音频：save_audio/无人机室内7\\94cbc6c7-9ccc-11eb-b721-80fa5b45a5aa.wav 的预测结果标签为：0\n"
     ]
    },
    {
     "name": "stderr",
     "output_type": "stream",
     "text": [
      " 40%|███████████████████████████████▋                                                | 126/318 [00:10<00:16, 11.60it/s]"
     ]
    },
    {
     "name": "stdout",
     "output_type": "stream",
     "text": [
      "音频：save_audio/无人机室内7\\94cbe06c-9ccc-11eb-824c-80fa5b45a5aa.wav 的预测结果标签为：0\n",
      "音频：save_audio/无人机室内7\\94cc0882-9ccc-11eb-963c-80fa5b45a5aa.wav 的预测结果标签为：0\n",
      "音频：save_audio/无人机室内7\\94cc2b34-9ccc-11eb-8841-80fa5b45a5aa.wav 的预测结果标签为：0\n"
     ]
    },
    {
     "name": "stderr",
     "output_type": "stream",
     "text": [
      "\r",
      " 40%|████████████████████████████████▏                                               | 128/318 [00:10<00:16, 11.78it/s]"
     ]
    },
    {
     "name": "stdout",
     "output_type": "stream",
     "text": [
      "音频：save_audio/无人机室内7\\94cc2b35-9ccc-11eb-bb58-80fa5b45a5aa.wav 的预测结果标签为：0\n",
      "音频：save_audio/无人机室内7\\94cc6ba5-9ccc-11eb-9401-80fa5b45a5aa.wav 的预测结果标签为：0\n",
      "音频：save_audio/无人机室内7\\94cc8942-9ccc-11eb-8be9-80fa5b45a5aa.wav 的预测结果标签为：0\n"
     ]
    },
    {
     "name": "stderr",
     "output_type": "stream",
     "text": [
      " 42%|█████████████████████████████████▏                                              | 132/318 [00:11<00:15, 11.88it/s]"
     ]
    },
    {
     "name": "stdout",
     "output_type": "stream",
     "text": [
      "音频：save_audio/无人机室内7\\94ccb0a4-9ccc-11eb-996a-80fa5b45a5aa.wav 的预测结果标签为：0\n",
      "音频：save_audio/无人机室内7\\94cccb68-9ccc-11eb-a16f-80fa5b45a5aa.wav 的预测结果标签为：0\n",
      "音频：save_audio/无人机室内7\\94ccf146-9ccc-11eb-b04d-80fa5b45a5aa.wav 的预测结果标签为：0\n"
     ]
    },
    {
     "name": "stderr",
     "output_type": "stream",
     "text": [
      "\r",
      " 42%|█████████████████████████████████▋                                              | 134/318 [00:11<00:15, 11.89it/s]"
     ]
    },
    {
     "name": "stdout",
     "output_type": "stream",
     "text": [
      "音频：save_audio/无人机室内7\\94cd1217-9ccc-11eb-9d26-80fa5b45a5aa.wav 的预测结果标签为：0\n",
      "音频：save_audio/无人机室内7\\94cd326a-9ccc-11eb-97a2-80fa5b45a5aa.wav 的预测结果标签为：0\n",
      "音频：save_audio/无人机室内7\\94cd5ee5-9ccc-11eb-ae3f-80fa5b45a5aa.wav 的预测结果标签为：0\n"
     ]
    },
    {
     "name": "stderr",
     "output_type": "stream",
     "text": [
      " 43%|██████████████████████████████████▋                                             | 138/318 [00:11<00:14, 12.16it/s]"
     ]
    },
    {
     "name": "stdout",
     "output_type": "stream",
     "text": [
      "音频：save_audio/无人机室内7\\94cd7af4-9ccc-11eb-810a-80fa5b45a5aa.wav 的预测结果标签为：0\n",
      "音频：save_audio/无人机室内7\\94cd9dd9-9ccc-11eb-a68f-80fa5b45a5aa.wav 的预测结果标签为：0\n",
      "音频：save_audio/无人机室内7\\94cdb9dc-9ccc-11eb-afa2-80fa5b45a5aa.wav 的预测结果标签为：0\n"
     ]
    },
    {
     "name": "stderr",
     "output_type": "stream",
     "text": [
      "\r",
      " 44%|███████████████████████████████████▏                                            | 140/318 [00:11<00:14, 11.96it/s]"
     ]
    },
    {
     "name": "stdout",
     "output_type": "stream",
     "text": [
      "音频：save_audio/无人机室内7\\94cde8f6-9ccc-11eb-b1fa-80fa5b45a5aa.wav 的预测结果标签为：0\n",
      "音频：save_audio/无人机室内7\\94cdfeb0-9ccc-11eb-8cfd-80fa5b45a5aa.wav 的预测结果标签为：0\n",
      "音频：save_audio/无人机室内7\\94ce2c46-9ccc-11eb-ab4c-80fa5b45a5aa.wav 的预测结果标签为：0\n"
     ]
    },
    {
     "name": "stderr",
     "output_type": "stream",
     "text": [
      " 45%|████████████████████████████████████▏                                           | 144/318 [00:12<00:14, 12.00it/s]"
     ]
    },
    {
     "name": "stdout",
     "output_type": "stream",
     "text": [
      "音频：save_audio/无人机室内7\\94ce4c9f-9ccc-11eb-a9e4-80fa5b45a5aa.wav 的预测结果标签为：0\n",
      "音频：save_audio/无人机室内7\\94ce6578-9ccc-11eb-b523-80fa5b45a5aa.wav 的预测结果标签为：0\n",
      "音频：save_audio/无人机室内7\\94ce8bb7-9ccc-11eb-a51b-80fa5b45a5aa.wav 的预测结果标签为：0\n"
     ]
    },
    {
     "name": "stderr",
     "output_type": "stream",
     "text": [
      "\r",
      " 46%|████████████████████████████████████▋                                           | 146/318 [00:12<00:14, 11.85it/s]"
     ]
    },
    {
     "name": "stdout",
     "output_type": "stream",
     "text": [
      "音频：save_audio/无人机室内7\\94ce9a84-9ccc-11eb-8bf4-80fa5b45a5aa.wav 的预测结果标签为：0\n",
      "音频：save_audio/无人机室内7\\94ceca4d-9ccc-11eb-a026-80fa5b45a5aa.wav 的预测结果标签为：0\n",
      "音频：save_audio/无人机室内7\\94cee870-9ccc-11eb-90a4-80fa5b45a5aa.wav 的预测结果标签为：0\n"
     ]
    },
    {
     "name": "stderr",
     "output_type": "stream",
     "text": [
      " 47%|█████████████████████████████████████▋                                          | 150/318 [00:12<00:14, 11.99it/s]"
     ]
    },
    {
     "name": "stdout",
     "output_type": "stream",
     "text": [
      "音频：save_audio/无人机室内7\\94cee871-9ccc-11eb-b581-80fa5b45a5aa.wav 的预测结果标签为：0\n",
      "音频：save_audio/无人机室内7\\94cf289b-9ccc-11eb-bdf0-80fa5b45a5aa.wav 的预测结果标签为：0\n",
      "音频：save_audio/无人机室内7\\94cf4683-9ccc-11eb-89c6-80fa5b45a5aa.wav 的预测结果标签为：0\n"
     ]
    },
    {
     "name": "stderr",
     "output_type": "stream",
     "text": [
      "\r",
      " 48%|██████████████████████████████████████▏                                         | 152/318 [00:12<00:13, 12.07it/s]"
     ]
    },
    {
     "name": "stdout",
     "output_type": "stream",
     "text": [
      "音频：save_audio/无人机室内7\\94cf6580-9ccc-11eb-80d6-80fa5b45a5aa.wav 的预测结果标签为：0\n",
      "音频：save_audio/无人机室内7\\94cf8886-9ccc-11eb-8f88-80fa5b45a5aa.wav 的预测结果标签为：0\n",
      "音频：save_audio/无人机室内7\\94cfb165-9ccc-11eb-b782-80fa5b45a5aa.wav 的预测结果标签为：0\n"
     ]
    },
    {
     "name": "stderr",
     "output_type": "stream",
     "text": [
      " 49%|███████████████████████████████████████▏                                        | 156/318 [00:13<00:13, 12.17it/s]"
     ]
    },
    {
     "name": "stdout",
     "output_type": "stream",
     "text": [
      "音频：save_audio/无人机室内7\\94cfdd54-9ccc-11eb-a2bf-80fa5b45a5aa.wav 的预测结果标签为：0\n",
      "音频：save_audio/无人机室内7\\94d00486-9ccc-11eb-b14a-80fa5b45a5aa.wav 的预测结果标签为：0\n",
      "音频：save_audio/无人机室内7\\94d0219c-9ccc-11eb-a334-80fa5b45a5aa.wav 的预测结果标签为：0\n"
     ]
    },
    {
     "name": "stderr",
     "output_type": "stream",
     "text": [
      "\r",
      " 50%|███████████████████████████████████████▋                                        | 158/318 [00:13<00:13, 12.00it/s]"
     ]
    },
    {
     "name": "stdout",
     "output_type": "stream",
     "text": [
      "音频：save_audio/无人机室内7\\94d0485a-9ccc-11eb-b0f3-80fa5b45a5aa.wav 的预测结果标签为：0\n",
      "音频：save_audio/无人机室内7\\94d06e0a-9ccc-11eb-8a8c-80fa5b45a5aa.wav 的预测结果标签为：0\n",
      "音频：save_audio/无人机室内7\\94d08d1f-9ccc-11eb-8261-80fa5b45a5aa.wav 的预测结果标签为：0\n"
     ]
    },
    {
     "name": "stderr",
     "output_type": "stream",
     "text": [
      " 51%|████████████████████████████████████████▊                                       | 162/318 [00:13<00:12, 12.15it/s]"
     ]
    },
    {
     "name": "stdout",
     "output_type": "stream",
     "text": [
      "音频：save_audio/无人机室内7\\94d0acdf-9ccc-11eb-9fc9-80fa5b45a5aa.wav 的预测结果标签为：0\n",
      "音频：save_audio/无人机室内7\\94d0cc57-9ccc-11eb-a209-80fa5b45a5aa.wav 的预测结果标签为：0\n",
      "音频：save_audio/无人机室内7\\94d0eba2-9ccc-11eb-a2bc-80fa5b45a5aa.wav 的预测结果标签为：0\n"
     ]
    },
    {
     "name": "stderr",
     "output_type": "stream",
     "text": [
      "\r",
      " 52%|█████████████████████████████████████████▎                                      | 164/318 [00:13<00:12, 12.09it/s]"
     ]
    },
    {
     "name": "stdout",
     "output_type": "stream",
     "text": [
      "音频：save_audio/无人机室内7\\94d10b74-9ccc-11eb-8f88-80fa5b45a5aa.wav 的预测结果标签为：0\n",
      "音频：save_audio/无人机室内7\\94d12575-9ccc-11eb-8956-80fa5b45a5aa.wav 的预测结果标签为：0\n",
      "音频：save_audio/无人机室内7\\94d1454b-9ccc-11eb-9a18-80fa5b45a5aa.wav 的预测结果标签为：0\n"
     ]
    },
    {
     "name": "stderr",
     "output_type": "stream",
     "text": [
      " 53%|██████████████████████████████████████████▎                                     | 168/318 [00:14<00:12, 11.59it/s]"
     ]
    },
    {
     "name": "stdout",
     "output_type": "stream",
     "text": [
      "音频：save_audio/无人机室内7\\94d16b9b-9ccc-11eb-a8d6-80fa5b45a5aa.wav 的预测结果标签为：0\n",
      "音频：save_audio/无人机室内7\\94d188ea-9ccc-11eb-b0e6-80fa5b45a5aa.wav 的预测结果标签为：0\n",
      "音频：save_audio/无人机室内7\\94d1acc3-9ccc-11eb-9a43-80fa5b45a5aa.wav 的预测结果标签为：0\n"
     ]
    },
    {
     "name": "stderr",
     "output_type": "stream",
     "text": [
      "\r",
      " 53%|██████████████████████████████████████████▊                                     | 170/318 [00:14<00:12, 11.72it/s]"
     ]
    },
    {
     "name": "stdout",
     "output_type": "stream",
     "text": [
      "音频：save_audio/无人机室内7\\94d1d015-9ccc-11eb-9bab-80fa5b45a5aa.wav 的预测结果标签为：0\n",
      "音频：save_audio/无人机室内7\\94d1fb50-9ccc-11eb-ac22-80fa5b45a5aa.wav 的预测结果标签为：0\n",
      "音频：save_audio/无人机室内7\\94d21a96-9ccc-11eb-88ff-80fa5b45a5aa.wav 的预测结果标签为：0\n"
     ]
    },
    {
     "name": "stderr",
     "output_type": "stream",
     "text": [
      " 55%|███████████████████████████████████████████▊                                    | 174/318 [00:14<00:12, 11.83it/s]"
     ]
    },
    {
     "name": "stdout",
     "output_type": "stream",
     "text": [
      "音频：save_audio/无人机室内7\\94d23e57-9ccc-11eb-b7af-80fa5b45a5aa.wav 的预测结果标签为：0\n",
      "音频：save_audio/无人机室内7\\94d25dce-9ccc-11eb-a69a-80fa5b45a5aa.wav 的预测结果标签为：0\n",
      "音频：save_audio/无人机室内7\\94d287a0-9ccc-11eb-aa99-80fa5b45a5aa.wav 的预测结果标签为：0\n"
     ]
    },
    {
     "name": "stderr",
     "output_type": "stream",
     "text": [
      "\r",
      " 55%|████████████████████████████████████████████▎                                   | 176/318 [00:14<00:11, 11.92it/s]"
     ]
    },
    {
     "name": "stdout",
     "output_type": "stream",
     "text": [
      "音频：save_audio/无人机室内7\\94d2a6d2-9ccc-11eb-b82c-80fa5b45a5aa.wav 的预测结果标签为：0\n",
      "音频：save_audio/无人机室内7\\94d2c843-9ccc-11eb-9516-80fa5b45a5aa.wav 的预测结果标签为：0\n",
      "音频：save_audio/无人机室内7\\94d2dd5a-9ccc-11eb-971f-80fa5b45a5aa.wav 的预测结果标签为：0\n"
     ]
    },
    {
     "name": "stderr",
     "output_type": "stream",
     "text": [
      " 57%|█████████████████████████████████████████████▎                                  | 180/318 [00:15<00:11, 12.12it/s]"
     ]
    },
    {
     "name": "stdout",
     "output_type": "stream",
     "text": [
      "音频：save_audio/无人机室内7\\94d304de-9ccc-11eb-86fd-80fa5b45a5aa.wav 的预测结果标签为：0\n",
      "音频：save_audio/无人机室内7\\94d32673-9ccc-11eb-a500-80fa5b45a5aa.wav 的预测结果标签为：0\n",
      "音频：save_audio/无人机室内7\\94d33c92-9ccc-11eb-8988-80fa5b45a5aa.wav 的预测结果标签为：0\n"
     ]
    },
    {
     "name": "stderr",
     "output_type": "stream",
     "text": [
      "\r",
      " 57%|█████████████████████████████████████████████▊                                  | 182/318 [00:15<00:11, 12.19it/s]"
     ]
    },
    {
     "name": "stdout",
     "output_type": "stream",
     "text": [
      "音频：save_audio/无人机室内7\\94d35a5d-9ccc-11eb-895a-80fa5b45a5aa.wav 的预测结果标签为：0\n",
      "音频：save_audio/无人机室内7\\94d38e30-9ccc-11eb-a9b6-80fa5b45a5aa.wav 的预测结果标签为：0\n",
      "音频：save_audio/无人机室内7\\94d3a8ca-9ccc-11eb-b2dd-80fa5b45a5aa.wav 的预测结果标签为：0\n"
     ]
    },
    {
     "name": "stderr",
     "output_type": "stream",
     "text": [
      " 58%|██████████████████████████████████████████████▊                                 | 186/318 [00:15<00:10, 12.48it/s]"
     ]
    },
    {
     "name": "stdout",
     "output_type": "stream",
     "text": [
      "音频：save_audio/无人机室内7\\94d3c720-9ccc-11eb-b4dd-80fa5b45a5aa.wav 的预测结果标签为：0\n",
      "音频：save_audio/无人机室内7\\94d3f25d-9ccc-11eb-9c0e-80fa5b45a5aa.wav 的预测结果标签为：0\n",
      "音频：save_audio/无人机室内7\\94d41a40-9ccc-11eb-bb2d-80fa5b45a5aa.wav 的预测结果标签为：0\n"
     ]
    },
    {
     "name": "stderr",
     "output_type": "stream",
     "text": [
      "\r",
      " 59%|███████████████████████████████████████████████▎                                | 188/318 [00:15<00:10, 12.38it/s]"
     ]
    },
    {
     "name": "stdout",
     "output_type": "stream",
     "text": [
      "音频：save_audio/无人机室内7\\94d462f2-9ccc-11eb-9948-80fa5b45a5aa.wav 的预测结果标签为：0\n",
      "音频：save_audio/无人机室内7\\94d48a3e-9ccc-11eb-888f-80fa5b45a5aa.wav 的预测结果标签为：0\n",
      "音频：save_audio/无人机室内7\\94d4bbd4-9ccc-11eb-85dd-80fa5b45a5aa.wav 的预测结果标签为：0\n"
     ]
    },
    {
     "name": "stderr",
     "output_type": "stream",
     "text": [
      " 60%|████████████████████████████████████████████████▎                               | 192/318 [00:16<00:10, 11.96it/s]"
     ]
    },
    {
     "name": "stdout",
     "output_type": "stream",
     "text": [
      "音频：save_audio/无人机室内7\\94d4d7df-9ccc-11eb-a639-80fa5b45a5aa.wav 的预测结果标签为：0\n",
      "音频：save_audio/无人机室内7\\94d511ee-9ccc-11eb-83ef-80fa5b45a5aa.wav 的预测结果标签为：0\n",
      "音频：save_audio/无人机室内7\\94d5393f-9ccc-11eb-8a3f-80fa5b45a5aa.wav 的预测结果标签为：0\n"
     ]
    },
    {
     "name": "stderr",
     "output_type": "stream",
     "text": [
      "\r",
      " 61%|████████████████████████████████████████████████▊                               | 194/318 [00:16<00:10, 11.64it/s]"
     ]
    },
    {
     "name": "stdout",
     "output_type": "stream",
     "text": [
      "音频：save_audio/无人机室内7\\94d55a4c-9ccc-11eb-a4e1-80fa5b45a5aa.wav 的预测结果标签为：0\n",
      "音频：save_audio/无人机室内7\\94d57aaf-9ccc-11eb-9983-80fa5b45a5aa.wav 的预测结果标签为：0\n",
      "音频：save_audio/无人机室内7\\94d59c83-9ccc-11eb-abbd-80fa5b45a5aa.wav 的预测结果标签为：0\n"
     ]
    },
    {
     "name": "stderr",
     "output_type": "stream",
     "text": [
      "\r",
      " 62%|█████████████████████████████████████████████████▎                              | 196/318 [00:16<00:10, 11.69it/s]"
     ]
    },
    {
     "name": "stdout",
     "output_type": "stream",
     "text": [
      "音频：save_audio/无人机室内7\\94d5c9bc-9ccc-11eb-a27b-80fa5b45a5aa.wav 的预测结果标签为：0\n",
      "音频：save_audio/无人机室内7\\94d5e889-9ccc-11eb-b329-80fa5b45a5aa.wav 的预测结果标签为：0\n",
      "音频：save_audio/无人机室内7\\94d62643-9ccc-11eb-8b1e-80fa5b45a5aa.wav 的预测结果标签为：0"
     ]
    },
    {
     "name": "stderr",
     "output_type": "stream",
     "text": [
      " 63%|██████████████████████████████████████████████████▎                             | 200/318 [00:16<00:10, 11.75it/s]"
     ]
    },
    {
     "name": "stdout",
     "output_type": "stream",
     "text": [
      "\n",
      "音频：save_audio/无人机室内7\\94d64b9e-9ccc-11eb-919d-80fa5b45a5aa.wav 的预测结果标签为：0\n",
      "音频：save_audio/无人机室内7\\94d6850f-9ccc-11eb-94cd-80fa5b45a5aa.wav 的预测结果标签为：0\n"
     ]
    },
    {
     "name": "stderr",
     "output_type": "stream",
     "text": [
      "\r",
      " 64%|██████████████████████████████████████████████████▊                             | 202/318 [00:17<00:09, 11.68it/s]"
     ]
    },
    {
     "name": "stdout",
     "output_type": "stream",
     "text": [
      "音频：save_audio/无人机室内7\\94d6ab55-9ccc-11eb-9d6c-80fa5b45a5aa.wav 的预测结果标签为：0\n",
      "音频：save_audio/无人机室内7\\94d6d247-9ccc-11eb-a18f-80fa5b45a5aa.wav 的预测结果标签为：0\n",
      "音频：save_audio/无人机室内7\\94d6f93e-9ccc-11eb-8aea-80fa5b45a5aa.wav 的预测结果标签为：0\n"
     ]
    },
    {
     "name": "stderr",
     "output_type": "stream",
     "text": [
      " 65%|███████████████████████████████████████████████████▊                            | 206/318 [00:17<00:09, 12.34it/s]"
     ]
    },
    {
     "name": "stdout",
     "output_type": "stream",
     "text": [
      "音频：save_audio/无人机室内7\\94d72032-9ccc-11eb-a6f9-80fa5b45a5aa.wav 的预测结果标签为：0\n",
      "音频：save_audio/无人机室内7\\94d74c5a-9ccc-11eb-afed-80fa5b45a5aa.wav 的预测结果标签为：0\n",
      "音频：save_audio/无人机室内7\\94d76e27-9ccc-11eb-949b-80fa5b45a5aa.wav 的预测结果标签为：0\n"
     ]
    },
    {
     "name": "stderr",
     "output_type": "stream",
     "text": [
      "\r",
      " 65%|████████████████████████████████████████████████████▎                           | 208/318 [00:17<00:09, 12.15it/s]"
     ]
    },
    {
     "name": "stdout",
     "output_type": "stream",
     "text": [
      "音频：save_audio/无人机室内7\\94d7b1c6-9ccc-11eb-ab1a-80fa5b45a5aa.wav 的预测结果标签为：0\n",
      "音频：save_audio/无人机室内7\\94d7d292-9ccc-11eb-b7d3-80fa5b45a5aa.wav 的预测结果标签为：0\n",
      "音频：save_audio/无人机室内7\\94d7f193-9ccc-11eb-bb41-80fa5b45a5aa.wav 的预测结果标签为：0\n"
     ]
    },
    {
     "name": "stderr",
     "output_type": "stream",
     "text": [
      " 67%|█████████████████████████████████████████████████████▎                          | 212/318 [00:17<00:08, 11.82it/s]"
     ]
    },
    {
     "name": "stdout",
     "output_type": "stream",
     "text": [
      "音频：save_audio/无人机室内7\\94d80fac-9ccc-11eb-8f58-80fa5b45a5aa.wav 的预测结果标签为：0\n",
      "音频：save_audio/无人机室内7\\94d811f1-9ccc-11eb-a931-80fa5b45a5aa.wav 的预测结果标签为：0\n",
      "音频：save_audio/无人机室内7\\94d84485-9ccc-11eb-9a3b-80fa5b45a5aa.wav 的预测结果标签为：0\n"
     ]
    },
    {
     "name": "stderr",
     "output_type": "stream",
     "text": [
      "\r",
      " 67%|█████████████████████████████████████████████████████▊                          | 214/318 [00:18<00:08, 11.97it/s]"
     ]
    },
    {
     "name": "stdout",
     "output_type": "stream",
     "text": [
      "音频：save_audio/无人机室内7\\94d86dcc-9ccc-11eb-aecf-80fa5b45a5aa.wav 的预测结果标签为：0\n",
      "音频：save_audio/无人机室内7\\94d88f05-9ccc-11eb-ba63-80fa5b45a5aa.wav 的预测结果标签为：0\n",
      "音频：save_audio/无人机室内7\\94d8b0ef-9ccc-11eb-8676-80fa5b45a5aa.wav 的预测结果标签为：0\n"
     ]
    },
    {
     "name": "stderr",
     "output_type": "stream",
     "text": [
      " 69%|██████████████████████████████████████████████████████▊                         | 218/318 [00:18<00:08, 11.96it/s]"
     ]
    },
    {
     "name": "stdout",
     "output_type": "stream",
     "text": [
      "音频：save_audio/无人机室内7\\94d8dac6-9ccc-11eb-b555-80fa5b45a5aa.wav 的预测结果标签为：0\n",
      "音频：save_audio/无人机室内7\\94d901bf-9ccc-11eb-9aa8-80fa5b45a5aa.wav 的预测结果标签为：0\n",
      "音频：save_audio/无人机室内7\\94d91c15-9ccc-11eb-9fee-80fa5b45a5aa.wav 的预测结果标签为：0\n"
     ]
    },
    {
     "name": "stderr",
     "output_type": "stream",
     "text": [
      "\r",
      " 69%|███████████████████████████████████████████████████████▎                        | 220/318 [00:18<00:08, 12.17it/s]"
     ]
    },
    {
     "name": "stdout",
     "output_type": "stream",
     "text": [
      "音频：save_audio/无人机室内7\\94d9419b-9ccc-11eb-a18a-80fa5b45a5aa.wav 的预测结果标签为：0\n",
      "音频：save_audio/无人机室内7\\94d96079-9ccc-11eb-ae2d-80fa5b45a5aa.wav 的预测结果标签为：0\n",
      "音频：save_audio/无人机室内7\\94d98b58-9ccc-11eb-b922-80fa5b45a5aa.wav 的预测结果标签为：0\n"
     ]
    },
    {
     "name": "stderr",
     "output_type": "stream",
     "text": [
      " 70%|████████████████████████████████████████████████████████▎                       | 224/318 [00:18<00:07, 12.02it/s]"
     ]
    },
    {
     "name": "stdout",
     "output_type": "stream",
     "text": [
      "音频：save_audio/无人机室内7\\94d9a89d-9ccc-11eb-ab88-80fa5b45a5aa.wav 的预测结果标签为：0\n",
      "音频：save_audio/无人机室内7\\94d9d4b6-9ccc-11eb-a906-80fa5b45a5aa.wav 的预测结果标签为：0\n",
      "音频：save_audio/无人机室内7\\94d9fff2-9ccc-11eb-9542-80fa5b45a5aa.wav 的预测结果标签为：0\n"
     ]
    },
    {
     "name": "stderr",
     "output_type": "stream",
     "text": [
      "\r",
      " 71%|████████████████████████████████████████████████████████▊                       | 226/318 [00:19<00:07, 12.37it/s]"
     ]
    },
    {
     "name": "stdout",
     "output_type": "stream",
     "text": [
      "音频：save_audio/无人机室内7\\94da1c1e-9ccc-11eb-ac95-80fa5b45a5aa.wav 的预测结果标签为：0\n",
      "音频：save_audio/无人机室内7\\94da4338-9ccc-11eb-8cd7-80fa5b45a5aa.wav 的预测结果标签为：0\n",
      "音频：save_audio/无人机室内7\\94da5c2f-9ccc-11eb-95f9-80fa5b45a5aa.wav 的预测结果标签为：0\n"
     ]
    },
    {
     "name": "stderr",
     "output_type": "stream",
     "text": [
      " 72%|█████████████████████████████████████████████████████████▊                      | 230/318 [00:19<00:07, 12.39it/s]"
     ]
    },
    {
     "name": "stdout",
     "output_type": "stream",
     "text": [
      "音频：save_audio/无人机室内7\\94da8adf-9ccc-11eb-a5e7-80fa5b45a5aa.wav 的预测结果标签为：0\n",
      "音频：save_audio/无人机室内7\\94dab180-9ccc-11eb-a897-80fa5b45a5aa.wav 的预测结果标签为：0\n",
      "音频：save_audio/无人机室内7\\94dad17d-9ccc-11eb-8b41-80fa5b45a5aa.wav 的预测结果标签为：0\n"
     ]
    },
    {
     "name": "stderr",
     "output_type": "stream",
     "text": [
      "\r",
      " 73%|██████████████████████████████████████████████████████████▎                     | 232/318 [00:19<00:06, 12.34it/s]"
     ]
    },
    {
     "name": "stdout",
     "output_type": "stream",
     "text": [
      "音频：save_audio/无人机室内7\\94daf50e-9ccc-11eb-bc4b-80fa5b45a5aa.wav 的预测结果标签为：0\n",
      "音频：save_audio/无人机室内7\\94db151b-9ccc-11eb-aa5d-80fa5b45a5aa.wav 的预测结果标签为：0\n",
      "音频：save_audio/无人机室内7\\94db31cd-9ccc-11eb-81b0-80fa5b45a5aa.wav 的预测结果标签为：0\n"
     ]
    },
    {
     "name": "stderr",
     "output_type": "stream",
     "text": [
      " 74%|███████████████████████████████████████████████████████████▎                    | 236/318 [00:19<00:06, 12.32it/s]"
     ]
    },
    {
     "name": "stdout",
     "output_type": "stream",
     "text": [
      "音频：save_audio/无人机室内7\\94db53c6-9ccc-11eb-894b-80fa5b45a5aa.wav 的预测结果标签为：0\n",
      "音频：save_audio/无人机室内7\\94db6c52-9ccc-11eb-929a-80fa5b45a5aa.wav 的预测结果标签为：0\n",
      "音频：save_audio/无人机室内7\\94dba117-9ccc-11eb-bdae-80fa5b45a5aa.wav 的预测结果标签为：0\n"
     ]
    },
    {
     "name": "stderr",
     "output_type": "stream",
     "text": [
      "\r",
      " 75%|███████████████████████████████████████████████████████████▊                    | 238/318 [00:20<00:06, 12.01it/s]"
     ]
    },
    {
     "name": "stdout",
     "output_type": "stream",
     "text": [
      "音频：save_audio/无人机室内7\\94dbc331-9ccc-11eb-8517-80fa5b45a5aa.wav 的预测结果标签为：0\n",
      "音频：save_audio/无人机室内7\\94dbe343-9ccc-11eb-b9fb-80fa5b45a5aa.wav 的预测结果标签为：0\n",
      "音频：save_audio/无人机室内7\\94dc02db-9ccc-11eb-9c57-80fa5b45a5aa.wav 的预测结果标签为：0\n"
     ]
    },
    {
     "name": "stderr",
     "output_type": "stream",
     "text": [
      " 76%|████████████████████████████████████████████████████████████▉                   | 242/318 [00:20<00:06, 11.77it/s]"
     ]
    },
    {
     "name": "stdout",
     "output_type": "stream",
     "text": [
      "音频：save_audio/无人机室内7\\94dc2326-9ccc-11eb-af5d-80fa5b45a5aa.wav 的预测结果标签为：0\n",
      "音频：save_audio/无人机室内7\\94dc43f2-9ccc-11eb-816c-80fa5b45a5aa.wav 的预测结果标签为：0\n",
      "音频：save_audio/无人机室内7\\94dc689d-9ccc-11eb-a634-80fa5b45a5aa.wav 的预测结果标签为：0\n"
     ]
    },
    {
     "name": "stderr",
     "output_type": "stream",
     "text": [
      "\r",
      " 77%|█████████████████████████████████████████████████████████████▍                  | 244/318 [00:20<00:06, 11.81it/s]"
     ]
    },
    {
     "name": "stdout",
     "output_type": "stream",
     "text": [
      "音频：save_audio/无人机室内7\\94dc8f83-9ccc-11eb-b2bc-80fa5b45a5aa.wav 的预测结果标签为：0\n",
      "音频：save_audio/无人机室内7\\94dcb752-9ccc-11eb-a837-80fa5b45a5aa.wav 的预测结果标签为：0\n",
      "音频：save_audio/无人机室内7\\94dcd781-9ccc-11eb-94ce-80fa5b45a5aa.wav 的预测结果标签为：0\n"
     ]
    },
    {
     "name": "stderr",
     "output_type": "stream",
     "text": [
      "\r",
      " 77%|█████████████████████████████████████████████████████████████▉                  | 246/318 [00:20<00:06, 11.83it/s]"
     ]
    },
    {
     "name": "stdout",
     "output_type": "stream",
     "text": [
      "音频：save_audio/无人机室内7\\94dcec23-9ccc-11eb-adb2-80fa5b45a5aa.wav 的预测结果标签为：0\n",
      "音频：save_audio/无人机室内7\\94dd1b75-9ccc-11eb-9838-80fa5b45a5aa.wav 的预测结果标签为：0\n",
      "音频：save_audio/无人机室内7\\94dd3e41-9ccc-11eb-950b-80fa5b45a5aa.wav 的预测结果标签为：0"
     ]
    },
    {
     "name": "stderr",
     "output_type": "stream",
     "text": [
      "\r",
      " 78%|██████████████████████████████████████████████████████████████▍                 | 248/318 [00:20<00:06, 11.53it/s]"
     ]
    },
    {
     "name": "stdout",
     "output_type": "stream",
     "text": [
      "\n",
      "音频：save_audio/无人机室内7\\94dd5dca-9ccc-11eb-8676-80fa5b45a5aa.wav 的预测结果标签为：0\n",
      "音频：save_audio/无人机室内7\\94dd766e-9ccc-11eb-accf-80fa5b45a5aa.wav 的预测结果标签为：0"
     ]
    },
    {
     "name": "stderr",
     "output_type": "stream",
     "text": [
      " 79%|███████████████████████████████████████████████████████████████▍                | 252/318 [00:21<00:05, 11.60it/s]"
     ]
    },
    {
     "name": "stdout",
     "output_type": "stream",
     "text": [
      "\n",
      "音频：save_audio/无人机室内7\\94dd9b46-9ccc-11eb-9bd9-80fa5b45a5aa.wav 的预测结果标签为：0\n",
      "音频：save_audio/无人机室内7\\94ddcb0b-9ccc-11eb-9455-80fa5b45a5aa.wav 的预测结果标签为：0\n"
     ]
    },
    {
     "name": "stderr",
     "output_type": "stream",
     "text": [
      "\r",
      " 80%|███████████████████████████████████████████████████████████████▉                | 254/318 [00:21<00:05, 11.77it/s]"
     ]
    },
    {
     "name": "stdout",
     "output_type": "stream",
     "text": [
      "音频：save_audio/无人机室内7\\94dde9aa-9ccc-11eb-957c-80fa5b45a5aa.wav 的预测结果标签为：0\n",
      "音频：save_audio/无人机室内7\\94de0b47-9ccc-11eb-a7af-80fa5b45a5aa.wav 的预测结果标签为：0\n",
      "音频：save_audio/无人机室内7\\94de20a8-9ccc-11eb-97c2-80fa5b45a5aa.wav 的预测结果标签为：0\n"
     ]
    },
    {
     "name": "stderr",
     "output_type": "stream",
     "text": [
      " 81%|████████████████████████████████████████████████████████████████▉               | 258/318 [00:21<00:04, 12.12it/s]"
     ]
    },
    {
     "name": "stdout",
     "output_type": "stream",
     "text": [
      "音频：save_audio/无人机室内7\\94de473b-9ccc-11eb-a46d-80fa5b45a5aa.wav 的预测结果标签为：0\n",
      "音频：save_audio/无人机室内7\\94de7105-9ccc-11eb-90ea-80fa5b45a5aa.wav 的预测结果标签为：0\n",
      "音频：save_audio/无人机室内7\\94de9033-9ccc-11eb-bfba-80fa5b45a5aa.wav 的预测结果标签为：0\n"
     ]
    },
    {
     "name": "stderr",
     "output_type": "stream",
     "text": [
      "\r",
      " 82%|█████████████████████████████████████████████████████████████████▍              | 260/318 [00:21<00:04, 11.98it/s]"
     ]
    },
    {
     "name": "stdout",
     "output_type": "stream",
     "text": [
      "音频：save_audio/无人机室内7\\94de9526-9ccc-11eb-b994-80fa5b45a5aa.wav 的预测结果标签为：0\n",
      "音频：save_audio/无人机室内7\\94ded303-9ccc-11eb-9be9-80fa5b45a5aa.wav 的预测结果标签为：0\n",
      "音频：save_audio/无人机室内7\\94def62d-9ccc-11eb-a175-80fa5b45a5aa.wav 的预测结果标签为：0\n"
     ]
    },
    {
     "name": "stderr",
     "output_type": "stream",
     "text": [
      " 83%|██████████████████████████████████████████████████████████████████▍             | 264/318 [00:22<00:05, 10.06it/s]"
     ]
    },
    {
     "name": "stdout",
     "output_type": "stream",
     "text": [
      "音频：save_audio/无人机室内7\\94df1d2c-9ccc-11eb-9d57-80fa5b45a5aa.wav 的预测结果标签为：0\n",
      "音频：save_audio/无人机室内7\\94df4541-9ccc-11eb-9fdd-80fa5b45a5aa.wav 的预测结果标签为：0\n",
      "音频：save_audio/无人机室内7\\94df6457-9ccc-11eb-bb30-80fa5b45a5aa.wav 的预测结果标签为：0\n"
     ]
    },
    {
     "name": "stderr",
     "output_type": "stream",
     "text": [
      "\r",
      " 84%|██████████████████████████████████████████████████████████████████▉             | 266/318 [00:22<00:04, 10.61it/s]"
     ]
    },
    {
     "name": "stdout",
     "output_type": "stream",
     "text": [
      "音频：save_audio/无人机室内7\\94df8535-9ccc-11eb-84f3-80fa5b45a5aa.wav 的预测结果标签为：0\n",
      "音频：save_audio/无人机室内7\\94dfa5db-9ccc-11eb-b495-80fa5b45a5aa.wav 的预测结果标签为：0\n",
      "音频：save_audio/无人机室内7\\94dfbfd5-9ccc-11eb-a184-80fa5b45a5aa.wav 的预测结果标签为：0\n"
     ]
    },
    {
     "name": "stderr",
     "output_type": "stream",
     "text": [
      " 85%|███████████████████████████████████████████████████████████████████▉            | 270/318 [00:22<00:04, 11.23it/s]"
     ]
    },
    {
     "name": "stdout",
     "output_type": "stream",
     "text": [
      "音频：save_audio/无人机室内7\\94dfe56d-9ccc-11eb-b213-80fa5b45a5aa.wav 的预测结果标签为：0\n",
      "音频：save_audio/无人机室内7\\94e00511-9ccc-11eb-9ae0-80fa5b45a5aa.wav 的预测结果标签为：0\n",
      "音频：save_audio/无人机室内7\\94e02757-9ccc-11eb-8d8a-80fa5b45a5aa.wav 的预测结果标签为：0\n"
     ]
    },
    {
     "name": "stderr",
     "output_type": "stream",
     "text": [
      "\r",
      " 86%|████████████████████████████████████████████████████████████████████▍           | 272/318 [00:23<00:04, 11.44it/s]"
     ]
    },
    {
     "name": "stdout",
     "output_type": "stream",
     "text": [
      "音频：save_audio/无人机室内7\\94e04c33-9ccc-11eb-9bd9-80fa5b45a5aa.wav 的预测结果标签为：0\n",
      "音频：save_audio/无人机室内7\\94e06e07-9ccc-11eb-9e51-80fa5b45a5aa.wav 的预测结果标签为：0\n",
      "音频：save_audio/无人机室内7\\94e08fa0-9ccc-11eb-aaa0-80fa5b45a5aa.wav 的预测结果标签为：0\n"
     ]
    },
    {
     "name": "stderr",
     "output_type": "stream",
     "text": [
      " 87%|█████████████████████████████████████████████████████████████████████▍          | 276/318 [00:23<00:03, 11.51it/s]"
     ]
    },
    {
     "name": "stdout",
     "output_type": "stream",
     "text": [
      "音频：save_audio/无人机室内7\\94e0bc7f-9ccc-11eb-a12b-80fa5b45a5aa.wav 的预测结果标签为：0\n",
      "音频：save_audio/无人机室内7\\94e0e328-9ccc-11eb-af98-80fa5b45a5aa.wav 的预测结果标签为：0\n",
      "音频：save_audio/无人机室内7\\94e0f72e-9ccc-11eb-99ad-80fa5b45a5aa.wav 的预测结果标签为：0\n"
     ]
    },
    {
     "name": "stderr",
     "output_type": "stream",
     "text": [
      "\r",
      " 87%|█████████████████████████████████████████████████████████████████████▉          | 278/318 [00:23<00:03, 11.88it/s]"
     ]
    },
    {
     "name": "stdout",
     "output_type": "stream",
     "text": [
      "音频：save_audio/无人机室内7\\94e11cc4-9ccc-11eb-aad3-80fa5b45a5aa.wav 的预测结果标签为：0\n",
      "音频：save_audio/无人机室内7\\94e13a1d-9ccc-11eb-a0ce-80fa5b45a5aa.wav 的预测结果标签为：0\n",
      "音频：save_audio/无人机室内7\\94e15fdb-9ccc-11eb-ae2e-80fa5b45a5aa.wav 的预测结果标签为：0\n"
     ]
    },
    {
     "name": "stderr",
     "output_type": "stream",
     "text": [
      " 89%|██████████████████████████████████████████████████████████████████████▉         | 282/318 [00:23<00:03, 11.93it/s]"
     ]
    },
    {
     "name": "stdout",
     "output_type": "stream",
     "text": [
      "音频：save_audio/无人机室内7\\94e18786-9ccc-11eb-a150-80fa5b45a5aa.wav 的预测结果标签为：0\n",
      "音频：save_audio/无人机室内7\\94e1b4d8-9ccc-11eb-a80d-80fa5b45a5aa.wav 的预测结果标签为：0\n",
      "音频：save_audio/无人机室内7\\94e1caa0-9ccc-11eb-89f2-80fa5b45a5aa.wav 的预测结果标签为：0\n"
     ]
    },
    {
     "name": "stderr",
     "output_type": "stream",
     "text": [
      "\r",
      " 89%|███████████████████████████████████████████████████████████████████████▍        | 284/318 [00:24<00:02, 12.01it/s]"
     ]
    },
    {
     "name": "stdout",
     "output_type": "stream",
     "text": [
      "音频：save_audio/无人机室内7\\94e1ee3b-9ccc-11eb-866c-80fa5b45a5aa.wav 的预测结果标签为：0\n",
      "音频：save_audio/无人机室内7\\94e21f94-9ccc-11eb-86be-80fa5b45a5aa.wav 的预测结果标签为：0\n",
      "音频：save_audio/无人机室内7\\94e24433-9ccc-11eb-bf94-80fa5b45a5aa.wav 的预测结果标签为：0\n"
     ]
    },
    {
     "name": "stderr",
     "output_type": "stream",
     "text": [
      " 91%|████████████████████████████████████████████████████████████████████████▍       | 288/318 [00:24<00:02, 12.05it/s]"
     ]
    },
    {
     "name": "stdout",
     "output_type": "stream",
     "text": [
      "音频：save_audio/无人机室内7\\94e26320-9ccc-11eb-a62a-80fa5b45a5aa.wav 的预测结果标签为：0\n",
      "音频：save_audio/无人机室内7\\94e28a13-9ccc-11eb-8d12-80fa5b45a5aa.wav 的预测结果标签为：0\n",
      "音频：save_audio/无人机室内7\\94e2b54e-9ccc-11eb-88f3-80fa5b45a5aa.wav 的预测结果标签为：0\n"
     ]
    },
    {
     "name": "stderr",
     "output_type": "stream",
     "text": [
      "\r",
      " 91%|████████████████████████████████████████████████████████████████████████▉       | 290/318 [00:24<00:02, 12.18it/s]"
     ]
    },
    {
     "name": "stdout",
     "output_type": "stream",
     "text": [
      "音频：save_audio/无人机室内7\\94e2d800-9ccc-11eb-9613-80fa5b45a5aa.wav 的预测结果标签为：0\n",
      "音频：save_audio/无人机室内7\\94e30252-9ccc-11eb-a9e1-80fa5b45a5aa.wav 的预测结果标签为：0\n",
      "音频：save_audio/无人机室内7\\94e3218d-9ccc-11eb-9868-80fa5b45a5aa.wav 的预测结果标签为：0\n"
     ]
    },
    {
     "name": "stderr",
     "output_type": "stream",
     "text": [
      " 92%|█████████████████████████████████████████████████████████████████████████▉      | 294/318 [00:24<00:01, 12.31it/s]"
     ]
    },
    {
     "name": "stdout",
     "output_type": "stream",
     "text": [
      "音频：save_audio/无人机室内7\\94e34478-9ccc-11eb-8917-80fa5b45a5aa.wav 的预测结果标签为：0\n",
      "音频：save_audio/无人机室内7\\94e35cc3-9ccc-11eb-a32f-80fa5b45a5aa.wav 的预测结果标签为：0\n",
      "音频：save_audio/无人机室内7\\94e38615-9ccc-11eb-a11c-80fa5b45a5aa.wav 的预测结果标签为：0\n"
     ]
    },
    {
     "name": "stderr",
     "output_type": "stream",
     "text": [
      "\r",
      " 93%|██████████████████████████████████████████████████████████████████████████▍     | 296/318 [00:25<00:01, 12.06it/s]"
     ]
    },
    {
     "name": "stdout",
     "output_type": "stream",
     "text": [
      "音频：save_audio/无人机室内7\\94e3aa36-9ccc-11eb-8bd3-80fa5b45a5aa.wav 的预测结果标签为：0\n",
      "音频：save_audio/无人机室内7\\94e3d5fd-9ccc-11eb-b373-80fa5b45a5aa.wav 的预测结果标签为：0\n",
      "音频：save_audio/无人机室内7\\94e40fb0-9ccc-11eb-953e-80fa5b45a5aa.wav 的预测结果标签为：0\n"
     ]
    },
    {
     "name": "stderr",
     "output_type": "stream",
     "text": [
      " 94%|███████████████████████████████████████████████████████████████████████████▍    | 300/318 [00:25<00:01, 11.62it/s]"
     ]
    },
    {
     "name": "stdout",
     "output_type": "stream",
     "text": [
      "音频：save_audio/无人机室内7\\94e436a0-9ccc-11eb-8f30-80fa5b45a5aa.wav 的预测结果标签为：0\n",
      "音频：save_audio/无人机室内7\\94e4572e-9ccc-11eb-930d-80fa5b45a5aa.wav 的预测结果标签为：0\n",
      "音频：save_audio/无人机室内7\\94e48132-9ccc-11eb-80e1-80fa5b45a5aa.wav 的预测结果标签为：0\n"
     ]
    },
    {
     "name": "stderr",
     "output_type": "stream",
     "text": [
      "\r",
      " 95%|███████████████████████████████████████████████████████████████████████████▉    | 302/318 [00:25<00:01, 11.68it/s]"
     ]
    },
    {
     "name": "stdout",
     "output_type": "stream",
     "text": [
      "音频：save_audio/无人机室内7\\94e4ab80-9ccc-11eb-b137-80fa5b45a5aa.wav 的预测结果标签为：0\n",
      "音频：save_audio/无人机室内7\\94e4d272-9ccc-11eb-b5ee-80fa5b45a5aa.wav 的预测结果标签为：0\n",
      "音频：save_audio/无人机室内7\\94e4f96a-9ccc-11eb-892c-80fa5b45a5aa.wav 的预测结果标签为：0\n"
     ]
    },
    {
     "name": "stderr",
     "output_type": "stream",
     "text": [
      " 96%|████████████████████████████████████████████████████████████████████████████▉   | 306/318 [00:25<00:01, 11.71it/s]"
     ]
    },
    {
     "name": "stdout",
     "output_type": "stream",
     "text": [
      "音频：save_audio/无人机室内7\\94e52060-9ccc-11eb-bbc8-80fa5b45a5aa.wav 的预测结果标签为：0\n",
      "音频：save_audio/无人机室内7\\94e54752-9ccc-11eb-95ad-80fa5b45a5aa.wav 的预测结果标签为：0\n",
      "音频：save_audio/无人机室内7\\94e5820a-9ccc-11eb-8965-80fa5b45a5aa.wav 的预测结果标签为：0\n"
     ]
    },
    {
     "name": "stderr",
     "output_type": "stream",
     "text": [
      "\r",
      " 97%|█████████████████████████████████████████████████████████████████████████████▍  | 308/318 [00:26<00:00, 11.77it/s]"
     ]
    },
    {
     "name": "stdout",
     "output_type": "stream",
     "text": [
      "音频：save_audio/无人机室内7\\94e59a5a-9ccc-11eb-861d-80fa5b45a5aa.wav 的预测结果标签为：0\n",
      "音频：save_audio/无人机室内7\\94e5c4c6-9ccc-11eb-b395-80fa5b45a5aa.wav 的预测结果标签为：0\n",
      "音频：save_audio/无人机室内7\\94e5e327-9ccc-11eb-bb22-80fa5b45a5aa.wav 的预测结果标签为：0\n"
     ]
    },
    {
     "name": "stderr",
     "output_type": "stream",
     "text": [
      " 98%|██████████████████████████████████████████████████████████████████████████████▍ | 312/318 [00:26<00:00, 12.16it/s]"
     ]
    },
    {
     "name": "stdout",
     "output_type": "stream",
     "text": [
      "音频：save_audio/无人机室内7\\94e60b76-9ccc-11eb-8c10-80fa5b45a5aa.wav 的预测结果标签为：0\n",
      "音频：save_audio/无人机室内7\\94e620aa-9ccc-11eb-ada3-80fa5b45a5aa.wav 的预测结果标签为：0\n",
      "音频：save_audio/无人机室内7\\94e66631-9ccc-11eb-9dab-80fa5b45a5aa.wav 的预测结果标签为：0\n"
     ]
    },
    {
     "name": "stderr",
     "output_type": "stream",
     "text": [
      "\r",
      " 99%|██████████████████████████████████████████████████████████████████████████████▉ | 314/318 [00:26<00:00, 11.80it/s]"
     ]
    },
    {
     "name": "stdout",
     "output_type": "stream",
     "text": [
      "音频：save_audio/无人机室内7\\94e6a5fa-9ccc-11eb-93e2-80fa5b45a5aa.wav 的预测结果标签为：0\n",
      "音频：save_audio/无人机室内7\\94e6ce12-9ccc-11eb-83d8-80fa5b45a5aa.wav 的预测结果标签为：0\n",
      "音频：save_audio/无人机室内7\\94e71d83-9ccc-11eb-89ad-80fa5b45a5aa.wav 的预测结果标签为：0\n"
     ]
    },
    {
     "name": "stderr",
     "output_type": "stream",
     "text": [
      "100%|████████████████████████████████████████████████████████████████████████████████| 318/318 [00:26<00:00, 11.80it/s]"
     ]
    },
    {
     "name": "stdout",
     "output_type": "stream",
     "text": [
      "音频：save_audio/无人机室内7\\94e741cd-9ccc-11eb-a8c4-80fa5b45a5aa.wav 的预测结果标签为：0\n",
      "音频：save_audio/无人机室内7\\94e768bd-9ccc-11eb-8212-80fa5b45a5aa.wav 的预测结果标签为：0\n",
      "音频：save_audio/无人机室内7\\94e78fb8-9ccc-11eb-8a1a-80fa5b45a5aa.wav 的预测结果标签为：0\n",
      "样本总数为318 正确检测的个数为318 检测率为1.000000\n",
      "[]\n"
     ]
    },
    {
     "name": "stderr",
     "output_type": "stream",
     "text": [
      "\n"
     ]
    }
   ],
   "source": [
    "#检测率\n",
    "path='save_audio/无人机室内7'\n",
    "sounds = os.listdir(path)\n",
    "correct_num=0\n",
    "wrong=[]\n",
    "for sound in tqdm(sounds):\n",
    "    sound_path = os.path.join(path, sound)\n",
    "    #wav, sr = librosa.load(path, sr=48000)\n",
    "    label = infer(sound_path)\n",
    "    print('音频：%s 的预测结果标签为：%d' % (sound_path, label))\n",
    "    if label==0:\n",
    "        correct_num+=1\n",
    "    else:\n",
    "        wrong.append(sound)\n",
    "print('样本总数为%d 正确检测的个数为%d 检测率为%f' % (len(sounds), correct_num, correct_num/len(sounds)))\n",
    "print(wrong)"
   ]
  },
  {
   "cell_type": "code",
   "execution_count": 10,
   "metadata": {
    "scrolled": true
   },
   "outputs": [
    {
     "name": "stderr",
     "output_type": "stream",
     "text": [
      "  0%|▏                                                                                 | 2/889 [00:00<01:37,  9.09it/s]"
     ]
    },
    {
     "name": "stdout",
     "output_type": "stream",
     "text": [
      "音频：dataset/UrbanSound8K/audio/fold2\\100652-3-0-0.wav 的预测结果标签为：1\n"
     ]
    },
    {
     "name": "stderr",
     "output_type": "stream",
     "text": [
      "\r",
      "  0%|▎                                                                                 | 3/889 [00:00<02:21,  6.28it/s]"
     ]
    },
    {
     "name": "stdout",
     "output_type": "stream",
     "text": [
      "音频：dataset/UrbanSound8K/audio/fold2\\100652-3-0-1.wav 的预测结果标签为：1\n"
     ]
    },
    {
     "name": "stderr",
     "output_type": "stream",
     "text": [
      "\r",
      "  0%|▎                                                                                 | 4/889 [00:00<02:52,  5.12it/s]"
     ]
    },
    {
     "name": "stdout",
     "output_type": "stream",
     "text": [
      "音频：dataset/UrbanSound8K/audio/fold2\\100652-3-0-2.wav 的预测结果标签为：1\n"
     ]
    },
    {
     "name": "stderr",
     "output_type": "stream",
     "text": [
      "  1%|▌                                                                                 | 6/889 [00:01<02:51,  5.16it/s]"
     ]
    },
    {
     "name": "stdout",
     "output_type": "stream",
     "text": [
      "音频：dataset/UrbanSound8K/audio/fold2\\100652-3-0-3.wav 的预测结果标签为：1\n",
      "音频：dataset/UrbanSound8K/audio/fold2\\102104-3-0-0.wav 的预测结果标签为：1\n"
     ]
    },
    {
     "name": "stderr",
     "output_type": "stream",
     "text": [
      "\r",
      "  1%|▋                                                                                 | 7/889 [00:01<03:11,  4.60it/s]"
     ]
    },
    {
     "name": "stdout",
     "output_type": "stream",
     "text": [
      "音频：dataset/UrbanSound8K/audio/fold2\\102858-5-0-0.wav 的预测结果标签为：1\n"
     ]
    },
    {
     "name": "stderr",
     "output_type": "stream",
     "text": [
      "\r",
      "  1%|▋                                                                                 | 8/889 [00:01<03:23,  4.34it/s]"
     ]
    },
    {
     "name": "stdout",
     "output_type": "stream",
     "text": [
      "音频：dataset/UrbanSound8K/audio/fold2\\102858-5-0-1.wav 的预测结果标签为：1\n"
     ]
    },
    {
     "name": "stderr",
     "output_type": "stream",
     "text": [
      "\r",
      "  1%|▊                                                                                 | 9/889 [00:01<03:31,  4.16it/s]"
     ]
    },
    {
     "name": "stdout",
     "output_type": "stream",
     "text": [
      "音频：dataset/UrbanSound8K/audio/fold2\\102871-8-0-0.wav 的预测结果标签为：1\n"
     ]
    },
    {
     "name": "stderr",
     "output_type": "stream",
     "text": [
      "\r",
      "  1%|▉                                                                                | 10/889 [00:02<03:41,  3.97it/s]"
     ]
    },
    {
     "name": "stdout",
     "output_type": "stream",
     "text": [
      "音频：dataset/UrbanSound8K/audio/fold2\\102871-8-0-1.wav 的预测结果标签为：1\n"
     ]
    },
    {
     "name": "stderr",
     "output_type": "stream",
     "text": [
      "\r",
      "  1%|█                                                                                | 11/889 [00:02<03:46,  3.88it/s]"
     ]
    },
    {
     "name": "stdout",
     "output_type": "stream",
     "text": [
      "音频：dataset/UrbanSound8K/audio/fold2\\102871-8-0-10.wav 的预测结果标签为：1\n"
     ]
    },
    {
     "name": "stderr",
     "output_type": "stream",
     "text": [
      "\r",
      "  1%|█                                                                                | 12/889 [00:02<03:55,  3.72it/s]"
     ]
    },
    {
     "name": "stdout",
     "output_type": "stream",
     "text": [
      "音频：dataset/UrbanSound8K/audio/fold2\\102871-8-0-11.wav 的预测结果标签为：1\n"
     ]
    },
    {
     "name": "stderr",
     "output_type": "stream",
     "text": [
      "\r",
      "  1%|█▏                                                                               | 13/889 [00:03<03:53,  3.75it/s]"
     ]
    },
    {
     "name": "stdout",
     "output_type": "stream",
     "text": [
      "音频：dataset/UrbanSound8K/audio/fold2\\102871-8-0-12.wav 的预测结果标签为：1\n"
     ]
    },
    {
     "name": "stderr",
     "output_type": "stream",
     "text": [
      "\r",
      "  2%|█▎                                                                               | 14/889 [00:03<04:01,  3.63it/s]"
     ]
    },
    {
     "name": "stdout",
     "output_type": "stream",
     "text": [
      "音频：dataset/UrbanSound8K/audio/fold2\\102871-8-0-13.wav 的预测结果标签为：1\n"
     ]
    },
    {
     "name": "stderr",
     "output_type": "stream",
     "text": [
      "\r",
      "  2%|█▎                                                                               | 15/889 [00:03<04:03,  3.58it/s]"
     ]
    },
    {
     "name": "stdout",
     "output_type": "stream",
     "text": [
      "音频：dataset/UrbanSound8K/audio/fold2\\102871-8-0-14.wav 的预测结果标签为：1\n"
     ]
    },
    {
     "name": "stderr",
     "output_type": "stream",
     "text": [
      "\r",
      "  2%|█▍                                                                               | 16/889 [00:03<04:04,  3.57it/s]"
     ]
    },
    {
     "name": "stdout",
     "output_type": "stream",
     "text": [
      "音频：dataset/UrbanSound8K/audio/fold2\\102871-8-0-15.wav 的预测结果标签为：1\n"
     ]
    },
    {
     "name": "stderr",
     "output_type": "stream",
     "text": [
      "\r",
      "  2%|█▌                                                                               | 17/889 [00:04<04:02,  3.59it/s]"
     ]
    },
    {
     "name": "stdout",
     "output_type": "stream",
     "text": [
      "音频：dataset/UrbanSound8K/audio/fold2\\102871-8-0-2.wav 的预测结果标签为：1\n"
     ]
    },
    {
     "name": "stderr",
     "output_type": "stream",
     "text": [
      "\r",
      "  2%|█▋                                                                               | 18/889 [00:04<04:13,  3.43it/s]"
     ]
    },
    {
     "name": "stdout",
     "output_type": "stream",
     "text": [
      "音频：dataset/UrbanSound8K/audio/fold2\\102871-8-0-3.wav 的预测结果标签为：1\n"
     ]
    },
    {
     "name": "stderr",
     "output_type": "stream",
     "text": [
      "\r",
      "  2%|█▋                                                                               | 19/889 [00:04<04:13,  3.44it/s]"
     ]
    },
    {
     "name": "stdout",
     "output_type": "stream",
     "text": [
      "音频：dataset/UrbanSound8K/audio/fold2\\102871-8-0-4.wav 的预测结果标签为：1\n"
     ]
    },
    {
     "name": "stderr",
     "output_type": "stream",
     "text": [
      "\r",
      "  2%|█▊                                                                               | 20/889 [00:05<04:09,  3.49it/s]"
     ]
    },
    {
     "name": "stdout",
     "output_type": "stream",
     "text": [
      "音频：dataset/UrbanSound8K/audio/fold2\\102871-8-0-5.wav 的预测结果标签为：1\n"
     ]
    },
    {
     "name": "stderr",
     "output_type": "stream",
     "text": [
      "\r",
      "  2%|█▉                                                                               | 21/889 [00:05<04:07,  3.51it/s]"
     ]
    },
    {
     "name": "stdout",
     "output_type": "stream",
     "text": [
      "音频：dataset/UrbanSound8K/audio/fold2\\102871-8-0-6.wav 的预测结果标签为：1\n"
     ]
    },
    {
     "name": "stderr",
     "output_type": "stream",
     "text": [
      "\r",
      "  2%|██                                                                               | 22/889 [00:05<04:05,  3.54it/s]"
     ]
    },
    {
     "name": "stdout",
     "output_type": "stream",
     "text": [
      "音频：dataset/UrbanSound8K/audio/fold2\\102871-8-0-7.wav 的预测结果标签为：1\n"
     ]
    },
    {
     "name": "stderr",
     "output_type": "stream",
     "text": [
      "\r",
      "  3%|██                                                                               | 23/889 [00:05<04:02,  3.56it/s]"
     ]
    },
    {
     "name": "stdout",
     "output_type": "stream",
     "text": [
      "音频：dataset/UrbanSound8K/audio/fold2\\102871-8-0-8.wav 的预测结果标签为：1\n"
     ]
    },
    {
     "name": "stderr",
     "output_type": "stream",
     "text": [
      "  3%|██▎                                                                              | 25/889 [00:06<03:23,  4.24it/s]"
     ]
    },
    {
     "name": "stdout",
     "output_type": "stream",
     "text": [
      "音频：dataset/UrbanSound8K/audio/fold2\\102871-8-0-9.wav 的预测结果标签为：1\n",
      "音频：dataset/UrbanSound8K/audio/fold2\\104817-4-0-0.wav 的预测结果标签为：1\n"
     ]
    },
    {
     "name": "stderr",
     "output_type": "stream",
     "text": [
      "  3%|██▍                                                                              | 27/889 [00:06<02:30,  5.71it/s]"
     ]
    },
    {
     "name": "stdout",
     "output_type": "stream",
     "text": [
      "音频：dataset/UrbanSound8K/audio/fold2\\104817-4-0-1.wav 的预测结果标签为：1\n",
      "音频：dataset/UrbanSound8K/audio/fold2\\104817-4-0-10.wav 的预测结果标签为：1\n"
     ]
    },
    {
     "name": "stderr",
     "output_type": "stream",
     "text": [
      "  3%|██▋                                                                              | 29/889 [00:06<02:00,  7.12it/s]"
     ]
    },
    {
     "name": "stdout",
     "output_type": "stream",
     "text": [
      "音频：dataset/UrbanSound8K/audio/fold2\\104817-4-0-11.wav 的预测结果标签为：1\n",
      "音频：dataset/UrbanSound8K/audio/fold2\\104817-4-0-2.wav 的预测结果标签为：1\n"
     ]
    },
    {
     "name": "stderr",
     "output_type": "stream",
     "text": [
      "\r",
      "  3%|██▊                                                                              | 31/889 [00:07<01:49,  7.84it/s]"
     ]
    },
    {
     "name": "stdout",
     "output_type": "stream",
     "text": [
      "音频：dataset/UrbanSound8K/audio/fold2\\104817-4-0-3.wav 的预测结果标签为：1\n",
      "音频：dataset/UrbanSound8K/audio/fold2\\104817-4-0-4.wav 的预测结果标签为：1\n"
     ]
    },
    {
     "name": "stderr",
     "output_type": "stream",
     "text": [
      "\r",
      "  4%|███                                                                              | 33/889 [00:07<01:43,  8.27it/s]"
     ]
    },
    {
     "name": "stdout",
     "output_type": "stream",
     "text": [
      "音频：dataset/UrbanSound8K/audio/fold2\\104817-4-0-5.wav 的预测结果标签为：1\n",
      "音频：dataset/UrbanSound8K/audio/fold2\\104817-4-0-6.wav 的预测结果标签为：1\n"
     ]
    },
    {
     "name": "stderr",
     "output_type": "stream",
     "text": [
      "  4%|███▏                                                                             | 35/889 [00:07<01:42,  8.37it/s]"
     ]
    },
    {
     "name": "stdout",
     "output_type": "stream",
     "text": [
      "音频：dataset/UrbanSound8K/audio/fold2\\104817-4-0-7.wav 的预测结果标签为：1\n",
      "音频：dataset/UrbanSound8K/audio/fold2\\104817-4-0-8.wav 的预测结果标签为：1\n"
     ]
    },
    {
     "name": "stderr",
     "output_type": "stream",
     "text": [
      "  4%|███▎                                                                             | 37/889 [00:07<01:36,  8.82it/s]"
     ]
    },
    {
     "name": "stdout",
     "output_type": "stream",
     "text": [
      "音频：dataset/UrbanSound8K/audio/fold2\\104817-4-0-9.wav 的预测结果标签为：1\n",
      "音频：dataset/UrbanSound8K/audio/fold2\\106015-5-0-0.wav 的预测结果标签为：1\n"
     ]
    },
    {
     "name": "stderr",
     "output_type": "stream",
     "text": [
      "\r",
      "  4%|███▍                                                                             | 38/889 [00:07<01:33,  9.10it/s]"
     ]
    },
    {
     "name": "stdout",
     "output_type": "stream",
     "text": [
      "音频：dataset/UrbanSound8K/audio/fold2\\106015-5-0-1.wav 的预测结果标签为：1\n",
      "音频：dataset/UrbanSound8K/audio/fold2\\106015-5-0-10.wav 的预测结果标签为：1\n",
      "音频：dataset/UrbanSound8K/audio/fold2\\106015-5-0-11.wav 的预测结果标签为：1"
     ]
    },
    {
     "name": "stderr",
     "output_type": "stream",
     "text": [
      "  5%|███▋                                                                             | 41/889 [00:08<01:31,  9.23it/s]"
     ]
    },
    {
     "name": "stdout",
     "output_type": "stream",
     "text": [
      "\n",
      "音频：dataset/UrbanSound8K/audio/fold2\\106015-5-0-12.wav 的预测结果标签为：1\n"
     ]
    },
    {
     "name": "stderr",
     "output_type": "stream",
     "text": [
      "  5%|███▉                                                                             | 43/889 [00:08<01:30,  9.30it/s]"
     ]
    },
    {
     "name": "stdout",
     "output_type": "stream",
     "text": [
      "音频：dataset/UrbanSound8K/audio/fold2\\106015-5-0-13.wav 的预测结果标签为：1\n",
      "音频：dataset/UrbanSound8K/audio/fold2\\106015-5-0-14.wav 的预测结果标签为：1\n"
     ]
    },
    {
     "name": "stderr",
     "output_type": "stream",
     "text": [
      "\r",
      "  5%|████                                                                             | 44/889 [00:08<01:35,  8.88it/s]"
     ]
    },
    {
     "name": "stdout",
     "output_type": "stream",
     "text": [
      "音频：dataset/UrbanSound8K/audio/fold2\\106015-5-0-15.wav 的预测结果标签为：1\n",
      "音频：dataset/UrbanSound8K/audio/fold2\\106015-5-0-16.wav 的预测结果标签为：1\n",
      "音频：dataset/UrbanSound8K/audio/fold2\\106015-5-0-17.wav 的预测结果标签为：1"
     ]
    },
    {
     "name": "stderr",
     "output_type": "stream",
     "text": [
      "\r",
      "  5%|████▏                                                                            | 46/889 [00:08<01:30,  9.30it/s]"
     ]
    },
    {
     "name": "stdout",
     "output_type": "stream",
     "text": [
      "\n",
      "音频：dataset/UrbanSound8K/audio/fold2\\106015-5-0-18.wav 的预测结果标签为：1\n",
      "音频：dataset/UrbanSound8K/audio/fold2\\106015-5-0-19.wav 的预测结果标签为：1"
     ]
    },
    {
     "name": "stderr",
     "output_type": "stream",
     "text": [
      "\r",
      "  5%|████▎                                                                            | 48/889 [00:08<01:28,  9.53it/s]"
     ]
    },
    {
     "name": "stdout",
     "output_type": "stream",
     "text": [
      "\n",
      "音频：dataset/UrbanSound8K/audio/fold2\\106015-5-0-2.wav 的预测结果标签为：1\n",
      "音频：dataset/UrbanSound8K/audio/fold2\\106015-5-0-20.wav 的预测结果标签为：1"
     ]
    },
    {
     "name": "stderr",
     "output_type": "stream",
     "text": [
      "\r",
      "  6%|████▌                                                                            | 50/889 [00:09<01:27,  9.60it/s]"
     ]
    },
    {
     "name": "stdout",
     "output_type": "stream",
     "text": [
      "\n",
      "音频：dataset/UrbanSound8K/audio/fold2\\106015-5-0-3.wav 的预测结果标签为：1\n",
      "音频：dataset/UrbanSound8K/audio/fold2\\106015-5-0-4.wav 的预测结果标签为：1"
     ]
    },
    {
     "name": "stderr",
     "output_type": "stream",
     "text": [
      "  6%|████▉                                                                            | 54/889 [00:09<01:22, 10.17it/s]"
     ]
    },
    {
     "name": "stdout",
     "output_type": "stream",
     "text": [
      "\n",
      "音频：dataset/UrbanSound8K/audio/fold2\\106015-5-0-5.wav 的预测结果标签为：1\n",
      "音频：dataset/UrbanSound8K/audio/fold2\\106015-5-0-6.wav 的预测结果标签为：1\n"
     ]
    },
    {
     "name": "stderr",
     "output_type": "stream",
     "text": [
      "\r",
      "  6%|█████                                                                            | 56/889 [00:09<01:22, 10.11it/s]"
     ]
    },
    {
     "name": "stdout",
     "output_type": "stream",
     "text": [
      "音频：dataset/UrbanSound8K/audio/fold2\\106015-5-0-7.wav 的预测结果标签为：1\n",
      "音频：dataset/UrbanSound8K/audio/fold2\\106015-5-0-8.wav 的预测结果标签为：1\n",
      "音频：dataset/UrbanSound8K/audio/fold2\\106015-5-0-9.wav 的预测结果标签为：1"
     ]
    },
    {
     "name": "stderr",
     "output_type": "stream",
     "text": [
      "\r",
      "  7%|█████▎                                                                           | 58/889 [00:09<01:19, 10.41it/s]"
     ]
    },
    {
     "name": "stdout",
     "output_type": "stream",
     "text": [
      "\n",
      "音频：dataset/UrbanSound8K/audio/fold2\\108187-3-2-0.wav 的预测结果标签为：1\n",
      "音频：dataset/UrbanSound8K/audio/fold2\\108187-3-3-0.wav 的预测结果标签为：1\n"
     ]
    },
    {
     "name": "stderr",
     "output_type": "stream",
     "text": [
      "\r",
      "  7%|█████▍                                                                           | 60/889 [00:09<01:17, 10.69it/s]"
     ]
    },
    {
     "name": "stdout",
     "output_type": "stream",
     "text": [
      "音频：dataset/UrbanSound8K/audio/fold2\\108187-3-4-0.wav 的预测结果标签为：1\n",
      "音频：dataset/UrbanSound8K/audio/fold2\\108187-3-6-0.wav 的预测结果标签为：1\n",
      "音频：dataset/UrbanSound8K/audio/fold2\\109703-2-0-134.wav 的预测结果标签为：1"
     ]
    },
    {
     "name": "stderr",
     "output_type": "stream",
     "text": [
      "\r",
      "  7%|█████▋                                                                           | 62/889 [00:10<01:18, 10.58it/s]"
     ]
    },
    {
     "name": "stdout",
     "output_type": "stream",
     "text": [
      "\n",
      "音频：dataset/UrbanSound8K/audio/fold2\\109703-2-0-14.wav 的预测结果标签为：1\n"
     ]
    },
    {
     "name": "stderr",
     "output_type": "stream",
     "text": [
      "\r",
      "  7%|█████▊                                                                           | 64/889 [00:10<01:22, 10.05it/s]"
     ]
    },
    {
     "name": "stdout",
     "output_type": "stream",
     "text": [
      "音频：dataset/UrbanSound8K/audio/fold2\\109703-2-0-153.wav 的预测结果标签为：1\n",
      "音频：dataset/UrbanSound8K/audio/fold2\\109703-2-0-29.wav 的预测结果标签为：1\n"
     ]
    },
    {
     "name": "stderr",
     "output_type": "stream",
     "text": [
      "  8%|██████                                                                           | 67/889 [00:10<01:25,  9.62it/s]"
     ]
    },
    {
     "name": "stdout",
     "output_type": "stream",
     "text": [
      "音频：dataset/UrbanSound8K/audio/fold2\\109703-2-0-32.wav 的预测结果标签为：1\n",
      "音频：dataset/UrbanSound8K/audio/fold2\\109703-2-0-48.wav 的预测结果标签为：1\n"
     ]
    },
    {
     "name": "stderr",
     "output_type": "stream",
     "text": [
      "\r",
      "  8%|██████▏                                                                          | 68/889 [00:10<01:28,  9.30it/s]"
     ]
    },
    {
     "name": "stdout",
     "output_type": "stream",
     "text": [
      "音频：dataset/UrbanSound8K/audio/fold2\\109703-2-0-50.wav 的预测结果标签为：1\n"
     ]
    },
    {
     "name": "stderr",
     "output_type": "stream",
     "text": [
      "\r",
      "  8%|██████▎                                                                          | 69/889 [00:11<02:07,  6.42it/s]"
     ]
    },
    {
     "name": "stdout",
     "output_type": "stream",
     "text": [
      "音频：dataset/UrbanSound8K/audio/fold2\\112195-3-0-38.wav 的预测结果标签为：1\n"
     ]
    },
    {
     "name": "stderr",
     "output_type": "stream",
     "text": [
      "\r",
      "  8%|██████▍                                                                          | 70/889 [00:11<02:39,  5.14it/s]"
     ]
    },
    {
     "name": "stdout",
     "output_type": "stream",
     "text": [
      "音频：dataset/UrbanSound8K/audio/fold2\\112195-3-0-48.wav 的预测结果标签为：1\n"
     ]
    },
    {
     "name": "stderr",
     "output_type": "stream",
     "text": [
      "\r",
      "  8%|██████▍                                                                          | 71/889 [00:11<03:01,  4.51it/s]"
     ]
    },
    {
     "name": "stdout",
     "output_type": "stream",
     "text": [
      "音频：dataset/UrbanSound8K/audio/fold2\\112195-3-0-57.wav 的预测结果标签为：1\n"
     ]
    },
    {
     "name": "stderr",
     "output_type": "stream",
     "text": [
      "\r",
      "  8%|██████▌                                                                          | 72/889 [00:11<03:14,  4.20it/s]"
     ]
    },
    {
     "name": "stdout",
     "output_type": "stream",
     "text": [
      "音频：dataset/UrbanSound8K/audio/fold2\\112195-3-0-80.wav 的预测结果标签为：1\n"
     ]
    },
    {
     "name": "stderr",
     "output_type": "stream",
     "text": [
      "\r",
      "  8%|██████▋                                                                          | 73/889 [00:12<04:04,  3.34it/s]"
     ]
    },
    {
     "name": "stdout",
     "output_type": "stream",
     "text": [
      "音频：dataset/UrbanSound8K/audio/fold2\\113201-5-0-0.wav 的预测结果标签为：1\n"
     ]
    },
    {
     "name": "stderr",
     "output_type": "stream",
     "text": [
      "\r",
      "  8%|██████▋                                                                          | 74/889 [00:12<04:29,  3.02it/s]"
     ]
    },
    {
     "name": "stdout",
     "output_type": "stream",
     "text": [
      "音频：dataset/UrbanSound8K/audio/fold2\\113201-5-0-1.wav 的预测结果标签为：1\n"
     ]
    },
    {
     "name": "stderr",
     "output_type": "stream",
     "text": [
      "\r",
      "  8%|██████▊                                                                          | 75/889 [00:13<04:56,  2.75it/s]"
     ]
    },
    {
     "name": "stdout",
     "output_type": "stream",
     "text": [
      "音频：dataset/UrbanSound8K/audio/fold2\\113201-5-0-2.wav 的预测结果标签为：1\n"
     ]
    },
    {
     "name": "stderr",
     "output_type": "stream",
     "text": [
      "\r",
      "  9%|██████▉                                                                          | 76/889 [00:13<05:10,  2.62it/s]"
     ]
    },
    {
     "name": "stdout",
     "output_type": "stream",
     "text": [
      "音频：dataset/UrbanSound8K/audio/fold2\\113201-5-0-3.wav 的预测结果标签为：1\n"
     ]
    },
    {
     "name": "stderr",
     "output_type": "stream",
     "text": [
      "\r",
      "  9%|███████                                                                          | 77/889 [00:14<05:18,  2.55it/s]"
     ]
    },
    {
     "name": "stdout",
     "output_type": "stream",
     "text": [
      "音频：dataset/UrbanSound8K/audio/fold2\\113201-5-0-4.wav 的预测结果标签为：1\n"
     ]
    },
    {
     "name": "stderr",
     "output_type": "stream",
     "text": [
      "\r",
      "  9%|███████                                                                          | 78/889 [00:14<05:15,  2.57it/s]"
     ]
    },
    {
     "name": "stdout",
     "output_type": "stream",
     "text": [
      "音频：dataset/UrbanSound8K/audio/fold2\\113201-5-0-5.wav 的预测结果标签为：1\n"
     ]
    },
    {
     "name": "stderr",
     "output_type": "stream",
     "text": [
      "\r",
      "  9%|███████▏                                                                         | 79/889 [00:14<05:22,  2.51it/s]"
     ]
    },
    {
     "name": "stdout",
     "output_type": "stream",
     "text": [
      "音频：dataset/UrbanSound8K/audio/fold2\\113201-5-0-6.wav 的预测结果标签为：1\n"
     ]
    },
    {
     "name": "stderr",
     "output_type": "stream",
     "text": [
      "\r",
      "  9%|███████▎                                                                         | 80/889 [00:15<05:19,  2.53it/s]"
     ]
    },
    {
     "name": "stdout",
     "output_type": "stream",
     "text": [
      "音频：dataset/UrbanSound8K/audio/fold2\\113201-5-0-7.wav 的预测结果标签为：1\n",
      "音频：dataset/UrbanSound8K/audio/fold2\\113785-3-0-0.wav 的预测结果标签为：1\n"
     ]
    },
    {
     "name": "stderr",
     "output_type": "stream",
     "text": [
      "  9%|███████▌                                                                         | 83/889 [00:15<03:18,  4.05it/s]"
     ]
    },
    {
     "name": "stdout",
     "output_type": "stream",
     "text": [
      "音频：dataset/UrbanSound8K/audio/fold2\\113785-3-1-0.wav 的预测结果标签为：1\n",
      "音频：dataset/UrbanSound8K/audio/fold2\\115537-3-0-0.wav 的预测结果标签为：1\n"
     ]
    },
    {
     "name": "stderr",
     "output_type": "stream",
     "text": [
      "\r",
      "  9%|███████▋                                                                         | 84/889 [00:15<03:15,  4.12it/s]"
     ]
    },
    {
     "name": "stdout",
     "output_type": "stream",
     "text": [
      "音频：dataset/UrbanSound8K/audio/fold2\\118723-4-0-0.wav 的预测结果标签为：1\n",
      "音频：dataset/UrbanSound8K/audio/fold2\\118962-3-0-0.wav 的预测结果标签为：1\n"
     ]
    },
    {
     "name": "stderr",
     "output_type": "stream",
     "text": [
      "\r",
      " 10%|███████▊                                                                         | 86/889 [00:16<03:00,  4.45it/s]"
     ]
    },
    {
     "name": "stdout",
     "output_type": "stream",
     "text": [
      "音频：dataset/UrbanSound8K/audio/fold2\\123688-8-0-0.wav 的预测结果标签为：1\n"
     ]
    },
    {
     "name": "stderr",
     "output_type": "stream",
     "text": [
      "\r",
      " 10%|███████▉                                                                         | 87/889 [00:16<03:17,  4.07it/s]"
     ]
    },
    {
     "name": "stdout",
     "output_type": "stream",
     "text": [
      "音频：dataset/UrbanSound8K/audio/fold2\\123688-8-0-1.wav 的预测结果标签为：1\n"
     ]
    },
    {
     "name": "stderr",
     "output_type": "stream",
     "text": [
      "\r",
      " 10%|████████                                                                         | 88/889 [00:16<03:24,  3.91it/s]"
     ]
    },
    {
     "name": "stdout",
     "output_type": "stream",
     "text": [
      "音频：dataset/UrbanSound8K/audio/fold2\\123688-8-0-10.wav 的预测结果标签为：1\n"
     ]
    },
    {
     "name": "stderr",
     "output_type": "stream",
     "text": [
      "\r",
      " 10%|████████                                                                         | 89/889 [00:16<03:29,  3.81it/s]"
     ]
    },
    {
     "name": "stdout",
     "output_type": "stream",
     "text": [
      "音频：dataset/UrbanSound8K/audio/fold2\\123688-8-0-11.wav 的预测结果标签为：1\n"
     ]
    },
    {
     "name": "stderr",
     "output_type": "stream",
     "text": [
      "\r",
      " 10%|████████▏                                                                        | 90/889 [00:17<03:32,  3.76it/s]"
     ]
    },
    {
     "name": "stdout",
     "output_type": "stream",
     "text": [
      "音频：dataset/UrbanSound8K/audio/fold2\\123688-8-0-12.wav 的预测结果标签为：1\n"
     ]
    },
    {
     "name": "stderr",
     "output_type": "stream",
     "text": [
      "\r",
      " 10%|████████▎                                                                        | 91/889 [00:17<03:36,  3.69it/s]"
     ]
    },
    {
     "name": "stdout",
     "output_type": "stream",
     "text": [
      "音频：dataset/UrbanSound8K/audio/fold2\\123688-8-0-13.wav 的预测结果标签为：1\n"
     ]
    },
    {
     "name": "stderr",
     "output_type": "stream",
     "text": [
      "\r",
      " 10%|████████▍                                                                        | 92/889 [00:17<03:34,  3.71it/s]"
     ]
    },
    {
     "name": "stdout",
     "output_type": "stream",
     "text": [
      "音频：dataset/UrbanSound8K/audio/fold2\\123688-8-0-14.wav 的预测结果标签为：1\n"
     ]
    },
    {
     "name": "stderr",
     "output_type": "stream",
     "text": [
      "\r",
      " 10%|████████▍                                                                        | 93/889 [00:18<03:39,  3.62it/s]"
     ]
    },
    {
     "name": "stdout",
     "output_type": "stream",
     "text": [
      "音频：dataset/UrbanSound8K/audio/fold2\\123688-8-0-15.wav 的预测结果标签为：1\n"
     ]
    },
    {
     "name": "stderr",
     "output_type": "stream",
     "text": [
      "\r",
      " 11%|████████▌                                                                        | 94/889 [00:18<03:46,  3.51it/s]"
     ]
    },
    {
     "name": "stdout",
     "output_type": "stream",
     "text": [
      "音频：dataset/UrbanSound8K/audio/fold2\\123688-8-0-16.wav 的预测结果标签为：1\n"
     ]
    },
    {
     "name": "stderr",
     "output_type": "stream",
     "text": [
      "\r",
      " 11%|████████▋                                                                        | 95/889 [00:18<03:39,  3.62it/s]"
     ]
    },
    {
     "name": "stdout",
     "output_type": "stream",
     "text": [
      "音频：dataset/UrbanSound8K/audio/fold2\\123688-8-0-17.wav 的预测结果标签为：1\n"
     ]
    },
    {
     "name": "stderr",
     "output_type": "stream",
     "text": [
      "\r",
      " 11%|████████▋                                                                        | 96/889 [00:18<03:42,  3.56it/s]"
     ]
    },
    {
     "name": "stdout",
     "output_type": "stream",
     "text": [
      "音频：dataset/UrbanSound8K/audio/fold2\\123688-8-0-18.wav 的预测结果标签为：1\n"
     ]
    },
    {
     "name": "stderr",
     "output_type": "stream",
     "text": [
      "\r",
      " 11%|████████▊                                                                        | 97/889 [00:19<03:41,  3.57it/s]"
     ]
    },
    {
     "name": "stdout",
     "output_type": "stream",
     "text": [
      "音频：dataset/UrbanSound8K/audio/fold2\\123688-8-0-2.wav 的预测结果标签为：1\n"
     ]
    },
    {
     "name": "stderr",
     "output_type": "stream",
     "text": [
      "\r",
      " 11%|████████▉                                                                        | 98/889 [00:19<03:40,  3.59it/s]"
     ]
    },
    {
     "name": "stdout",
     "output_type": "stream",
     "text": [
      "音频：dataset/UrbanSound8K/audio/fold2\\123688-8-0-3.wav 的预测结果标签为：1\n"
     ]
    },
    {
     "name": "stderr",
     "output_type": "stream",
     "text": [
      "\r",
      " 11%|█████████                                                                        | 99/889 [00:19<03:39,  3.60it/s]"
     ]
    },
    {
     "name": "stdout",
     "output_type": "stream",
     "text": [
      "音频：dataset/UrbanSound8K/audio/fold2\\123688-8-0-4.wav 的预测结果标签为：1\n"
     ]
    },
    {
     "name": "stderr",
     "output_type": "stream",
     "text": [
      "\r",
      " 11%|████████▉                                                                       | 100/889 [00:20<03:37,  3.64it/s]"
     ]
    },
    {
     "name": "stdout",
     "output_type": "stream",
     "text": [
      "音频：dataset/UrbanSound8K/audio/fold2\\123688-8-0-5.wav 的预测结果标签为：1\n"
     ]
    },
    {
     "name": "stderr",
     "output_type": "stream",
     "text": [
      "\r",
      " 11%|█████████                                                                       | 101/889 [00:20<03:37,  3.62it/s]"
     ]
    },
    {
     "name": "stdout",
     "output_type": "stream",
     "text": [
      "音频：dataset/UrbanSound8K/audio/fold2\\123688-8-0-6.wav 的预测结果标签为：1\n"
     ]
    },
    {
     "name": "stderr",
     "output_type": "stream",
     "text": [
      "\r",
      " 11%|█████████▏                                                                      | 102/889 [00:20<03:37,  3.63it/s]"
     ]
    },
    {
     "name": "stdout",
     "output_type": "stream",
     "text": [
      "音频：dataset/UrbanSound8K/audio/fold2\\123688-8-0-7.wav 的预测结果标签为：1\n"
     ]
    },
    {
     "name": "stderr",
     "output_type": "stream",
     "text": [
      "\r",
      " 12%|█████████▎                                                                      | 103/889 [00:20<03:39,  3.58it/s]"
     ]
    },
    {
     "name": "stdout",
     "output_type": "stream",
     "text": [
      "音频：dataset/UrbanSound8K/audio/fold2\\123688-8-0-8.wav 的预测结果标签为：1\n"
     ]
    },
    {
     "name": "stderr",
     "output_type": "stream",
     "text": [
      "\r",
      " 12%|█████████▎                                                                      | 104/889 [00:21<03:36,  3.63it/s]"
     ]
    },
    {
     "name": "stdout",
     "output_type": "stream",
     "text": [
      "音频：dataset/UrbanSound8K/audio/fold2\\123688-8-0-9.wav 的预测结果标签为：1\n"
     ]
    },
    {
     "name": "stderr",
     "output_type": "stream",
     "text": [
      "\r",
      " 12%|█████████▍                                                                      | 105/889 [00:21<03:43,  3.51it/s]"
     ]
    },
    {
     "name": "stdout",
     "output_type": "stream",
     "text": [
      "音频：dataset/UrbanSound8K/audio/fold2\\123688-8-1-0.wav 的预测结果标签为：1\n"
     ]
    },
    {
     "name": "stderr",
     "output_type": "stream",
     "text": [
      "\r",
      " 12%|█████████▌                                                                      | 106/889 [00:21<03:45,  3.47it/s]"
     ]
    },
    {
     "name": "stdout",
     "output_type": "stream",
     "text": [
      "音频：dataset/UrbanSound8K/audio/fold2\\123688-8-1-1.wav 的预测结果标签为：1\n"
     ]
    },
    {
     "name": "stderr",
     "output_type": "stream",
     "text": [
      "\r",
      " 12%|█████████▋                                                                      | 107/889 [00:22<03:41,  3.53it/s]"
     ]
    },
    {
     "name": "stdout",
     "output_type": "stream",
     "text": [
      "音频：dataset/UrbanSound8K/audio/fold2\\123688-8-1-2.wav 的预测结果标签为：1\n"
     ]
    },
    {
     "name": "stderr",
     "output_type": "stream",
     "text": [
      "\r",
      " 12%|█████████▋                                                                      | 108/889 [00:22<03:36,  3.61it/s]"
     ]
    },
    {
     "name": "stdout",
     "output_type": "stream",
     "text": [
      "音频：dataset/UrbanSound8K/audio/fold2\\123688-8-1-3.wav 的预测结果标签为：1\n"
     ]
    },
    {
     "name": "stderr",
     "output_type": "stream",
     "text": [
      "\r",
      " 12%|█████████▊                                                                      | 109/889 [00:22<03:36,  3.61it/s]"
     ]
    },
    {
     "name": "stdout",
     "output_type": "stream",
     "text": [
      "音频：dataset/UrbanSound8K/audio/fold2\\123688-8-1-4.wav 的预测结果标签为：1\n"
     ]
    },
    {
     "name": "stderr",
     "output_type": "stream",
     "text": [
      "\r",
      " 12%|█████████▉                                                                      | 110/889 [00:22<03:32,  3.67it/s]"
     ]
    },
    {
     "name": "stdout",
     "output_type": "stream",
     "text": [
      "音频：dataset/UrbanSound8K/audio/fold2\\123688-8-1-5.wav 的预测结果标签为：1\n"
     ]
    },
    {
     "name": "stderr",
     "output_type": "stream",
     "text": [
      "\r",
      " 12%|█████████▉                                                                      | 111/889 [00:23<03:32,  3.67it/s]"
     ]
    },
    {
     "name": "stdout",
     "output_type": "stream",
     "text": [
      "音频：dataset/UrbanSound8K/audio/fold2\\123688-8-2-0.wav 的预测结果标签为：1\n"
     ]
    },
    {
     "name": "stderr",
     "output_type": "stream",
     "text": [
      "\r",
      " 13%|██████████                                                                      | 112/889 [00:23<03:40,  3.52it/s]"
     ]
    },
    {
     "name": "stdout",
     "output_type": "stream",
     "text": [
      "音频：dataset/UrbanSound8K/audio/fold2\\123688-8-2-1.wav 的预测结果标签为：1\n"
     ]
    },
    {
     "name": "stderr",
     "output_type": "stream",
     "text": [
      "\r",
      " 13%|██████████▏                                                                     | 113/889 [00:23<03:36,  3.58it/s]"
     ]
    },
    {
     "name": "stdout",
     "output_type": "stream",
     "text": [
      "音频：dataset/UrbanSound8K/audio/fold2\\123688-8-2-2.wav 的预测结果标签为：1\n"
     ]
    },
    {
     "name": "stderr",
     "output_type": "stream",
     "text": [
      "\r",
      " 13%|██████████▎                                                                     | 114/889 [00:23<03:31,  3.66it/s]"
     ]
    },
    {
     "name": "stdout",
     "output_type": "stream",
     "text": [
      "音频：dataset/UrbanSound8K/audio/fold2\\123688-8-2-3.wav 的预测结果标签为：1\n"
     ]
    },
    {
     "name": "stderr",
     "output_type": "stream",
     "text": [
      " 13%|██████████▍                                                                     | 116/889 [00:24<02:52,  4.48it/s]"
     ]
    },
    {
     "name": "stdout",
     "output_type": "stream",
     "text": [
      "音频：dataset/UrbanSound8K/audio/fold2\\123688-8-2-4.wav 的预测结果标签为：1\n",
      "音频：dataset/UrbanSound8K/audio/fold2\\127872-0-0-0.wav 的预测结果标签为：1\n"
     ]
    },
    {
     "name": "stderr",
     "output_type": "stream",
     "text": [
      "\r",
      " 13%|██████████▌                                                                     | 118/889 [00:24<02:21,  5.46it/s]"
     ]
    },
    {
     "name": "stdout",
     "output_type": "stream",
     "text": [
      "音频：dataset/UrbanSound8K/audio/fold2\\132073-1-0-0.wav 的预测结果标签为：1\n",
      "音频：dataset/UrbanSound8K/audio/fold2\\132073-1-1-0.wav 的预测结果标签为：1\n",
      "音频：dataset/UrbanSound8K/audio/fold2\\132073-1-2-0.wav 的预测结果标签为：1"
     ]
    },
    {
     "name": "stderr",
     "output_type": "stream",
     "text": [
      "\r",
      " 13%|██████████▊                                                                     | 120/889 [00:24<01:59,  6.44it/s]"
     ]
    },
    {
     "name": "stdout",
     "output_type": "stream",
     "text": [
      "\n",
      "音频：dataset/UrbanSound8K/audio/fold2\\132073-1-3-0.wav 的预测结果标签为：1\n",
      "音频：dataset/UrbanSound8K/audio/fold2\\132073-1-4-0.wav 的预测结果标签为：1\n"
     ]
    },
    {
     "name": "stderr",
     "output_type": "stream",
     "text": [
      " 14%|███████████                                                                     | 123/889 [00:24<01:36,  7.97it/s]"
     ]
    },
    {
     "name": "stdout",
     "output_type": "stream",
     "text": [
      "音频：dataset/UrbanSound8K/audio/fold2\\132073-1-5-0.wav 的预测结果标签为：1\n",
      "音频：dataset/UrbanSound8K/audio/fold2\\132073-1-6-0.wav 的预测结果标签为：1\n"
     ]
    },
    {
     "name": "stderr",
     "output_type": "stream",
     "text": [
      "\r",
      " 14%|███████████▏                                                                    | 124/889 [00:25<02:08,  5.96it/s]"
     ]
    },
    {
     "name": "stdout",
     "output_type": "stream",
     "text": [
      "音频：dataset/UrbanSound8K/audio/fold2\\14387-9-0-11.wav 的预测结果标签为：1\n"
     ]
    },
    {
     "name": "stderr",
     "output_type": "stream",
     "text": [
      "\r",
      " 14%|███████████▏                                                                    | 125/889 [00:25<02:40,  4.75it/s]"
     ]
    },
    {
     "name": "stdout",
     "output_type": "stream",
     "text": [
      "音频：dataset/UrbanSound8K/audio/fold2\\14387-9-0-12.wav 的预测结果标签为：1\n"
     ]
    },
    {
     "name": "stderr",
     "output_type": "stream",
     "text": [
      "\r",
      " 14%|███████████▎                                                                    | 126/889 [00:25<02:52,  4.42it/s]"
     ]
    },
    {
     "name": "stdout",
     "output_type": "stream",
     "text": [
      "音频：dataset/UrbanSound8K/audio/fold2\\14387-9-0-15.wav 的预测结果标签为：1\n"
     ]
    },
    {
     "name": "stderr",
     "output_type": "stream",
     "text": [
      "\r",
      " 14%|███████████▍                                                                    | 127/889 [00:26<03:06,  4.09it/s]"
     ]
    },
    {
     "name": "stdout",
     "output_type": "stream",
     "text": [
      "音频：dataset/UrbanSound8K/audio/fold2\\14387-9-0-16.wav 的预测结果标签为：1\n"
     ]
    },
    {
     "name": "stderr",
     "output_type": "stream",
     "text": [
      "\r",
      " 14%|███████████▌                                                                    | 128/889 [00:26<03:14,  3.92it/s]"
     ]
    },
    {
     "name": "stdout",
     "output_type": "stream",
     "text": [
      "音频：dataset/UrbanSound8K/audio/fold2\\14387-9-0-19.wav 的预测结果标签为：1\n"
     ]
    },
    {
     "name": "stderr",
     "output_type": "stream",
     "text": [
      "\r",
      " 15%|███████████▌                                                                    | 129/889 [00:26<03:23,  3.74it/s]"
     ]
    },
    {
     "name": "stdout",
     "output_type": "stream",
     "text": [
      "音频：dataset/UrbanSound8K/audio/fold2\\14387-9-0-7.wav 的预测结果标签为：1\n"
     ]
    },
    {
     "name": "stderr",
     "output_type": "stream",
     "text": [
      "\r",
      " 15%|███████████▋                                                                    | 130/889 [00:27<04:06,  3.08it/s]"
     ]
    },
    {
     "name": "stdout",
     "output_type": "stream",
     "text": [
      "音频：dataset/UrbanSound8K/audio/fold2\\143970-5-0-0.wav 的预测结果标签为：1\n"
     ]
    },
    {
     "name": "stderr",
     "output_type": "stream",
     "text": [
      "\r",
      " 15%|███████████▊                                                                    | 131/889 [00:27<03:45,  3.36it/s]"
     ]
    },
    {
     "name": "stdout",
     "output_type": "stream",
     "text": [
      "音频：dataset/UrbanSound8K/audio/fold2\\143970-5-0-1.wav 的预测结果标签为：1\n"
     ]
    },
    {
     "name": "stderr",
     "output_type": "stream",
     "text": [
      "\r",
      " 15%|███████████▉                                                                    | 132/889 [00:27<03:49,  3.30it/s]"
     ]
    },
    {
     "name": "stdout",
     "output_type": "stream",
     "text": [
      "音频：dataset/UrbanSound8K/audio/fold2\\143970-5-0-2.wav 的预测结果标签为：1\n"
     ]
    },
    {
     "name": "stderr",
     "output_type": "stream",
     "text": [
      " 15%|████████████                                                                    | 134/889 [00:28<03:16,  3.84it/s]"
     ]
    },
    {
     "name": "stdout",
     "output_type": "stream",
     "text": [
      "音频：dataset/UrbanSound8K/audio/fold2\\143970-5-0-3.wav 的预测结果标签为：1\n",
      "音频：dataset/UrbanSound8K/audio/fold2\\145577-1-0-0.wav 的预测结果标签为：1\n"
     ]
    },
    {
     "name": "stderr",
     "output_type": "stream",
     "text": [
      "\r",
      " 15%|████████████▏                                                                   | 135/889 [00:28<03:01,  4.15it/s]"
     ]
    },
    {
     "name": "stdout",
     "output_type": "stream",
     "text": [
      "音频：dataset/UrbanSound8K/audio/fold2\\145608-6-0-0.wav 的预测结果标签为：1\n"
     ]
    },
    {
     "name": "stderr",
     "output_type": "stream",
     "text": [
      "\r",
      " 15%|████████████▏                                                                   | 136/889 [00:28<02:59,  4.20it/s]"
     ]
    },
    {
     "name": "stdout",
     "output_type": "stream",
     "text": [
      "音频：dataset/UrbanSound8K/audio/fold2\\145608-6-1-0.wav 的预测结果标签为：1\n"
     ]
    },
    {
     "name": "stderr",
     "output_type": "stream",
     "text": [
      " 16%|████████████▍                                                                   | 138/889 [00:28<02:36,  4.80it/s]"
     ]
    },
    {
     "name": "stdout",
     "output_type": "stream",
     "text": [
      "音频：dataset/UrbanSound8K/audio/fold2\\145608-6-2-0.wav 的预测结果标签为：1\n",
      "音频：dataset/UrbanSound8K/audio/fold2\\145608-6-3-0.wav 的预测结果标签为：1\n"
     ]
    },
    {
     "name": "stderr",
     "output_type": "stream",
     "text": [
      "\r",
      " 16%|████████████▌                                                                   | 139/889 [00:29<02:49,  4.43it/s]"
     ]
    },
    {
     "name": "stdout",
     "output_type": "stream",
     "text": [
      "音频：dataset/UrbanSound8K/audio/fold2\\146690-0-0-100.wav 的预测结果标签为：0\n"
     ]
    },
    {
     "name": "stderr",
     "output_type": "stream",
     "text": [
      "\r",
      " 16%|████████████▌                                                                   | 140/889 [00:29<03:01,  4.14it/s]"
     ]
    },
    {
     "name": "stdout",
     "output_type": "stream",
     "text": [
      "音频：dataset/UrbanSound8K/audio/fold2\\146690-0-0-112.wav 的预测结果标签为：1\n"
     ]
    },
    {
     "name": "stderr",
     "output_type": "stream",
     "text": [
      "\r",
      " 16%|████████████▋                                                                   | 141/889 [00:29<03:08,  3.96it/s]"
     ]
    },
    {
     "name": "stdout",
     "output_type": "stream",
     "text": [
      "音频：dataset/UrbanSound8K/audio/fold2\\146690-0-0-115.wav 的预测结果标签为：1\n"
     ]
    },
    {
     "name": "stderr",
     "output_type": "stream",
     "text": [
      "\r",
      " 16%|████████████▊                                                                   | 142/889 [00:30<03:21,  3.71it/s]"
     ]
    },
    {
     "name": "stdout",
     "output_type": "stream",
     "text": [
      "音频：dataset/UrbanSound8K/audio/fold2\\146690-0-0-116.wav 的预测结果标签为：1\n"
     ]
    },
    {
     "name": "stderr",
     "output_type": "stream",
     "text": [
      "\r",
      " 16%|████████████▊                                                                   | 143/889 [00:30<03:32,  3.51it/s]"
     ]
    },
    {
     "name": "stdout",
     "output_type": "stream",
     "text": [
      "音频：dataset/UrbanSound8K/audio/fold2\\146690-0-0-117.wav 的预测结果标签为：0\n"
     ]
    },
    {
     "name": "stderr",
     "output_type": "stream",
     "text": [
      "\r",
      " 16%|████████████▉                                                                   | 144/889 [00:30<03:33,  3.50it/s]"
     ]
    },
    {
     "name": "stdout",
     "output_type": "stream",
     "text": [
      "音频：dataset/UrbanSound8K/audio/fold2\\146690-0-0-125.wav 的预测结果标签为：0\n"
     ]
    },
    {
     "name": "stderr",
     "output_type": "stream",
     "text": [
      "\r",
      " 16%|█████████████                                                                   | 145/889 [00:30<03:30,  3.53it/s]"
     ]
    },
    {
     "name": "stdout",
     "output_type": "stream",
     "text": [
      "音频：dataset/UrbanSound8K/audio/fold2\\146690-0-0-137.wav 的预测结果标签为：0\n"
     ]
    },
    {
     "name": "stderr",
     "output_type": "stream",
     "text": [
      "\r",
      " 16%|█████████████▏                                                                  | 146/889 [00:31<03:29,  3.54it/s]"
     ]
    },
    {
     "name": "stdout",
     "output_type": "stream",
     "text": [
      "音频：dataset/UrbanSound8K/audio/fold2\\146690-0-0-140.wav 的预测结果标签为：0\n"
     ]
    },
    {
     "name": "stderr",
     "output_type": "stream",
     "text": [
      "\r",
      " 17%|█████████████▏                                                                  | 147/889 [00:31<03:33,  3.47it/s]"
     ]
    },
    {
     "name": "stdout",
     "output_type": "stream",
     "text": [
      "音频：dataset/UrbanSound8K/audio/fold2\\146690-0-0-151.wav 的预测结果标签为：0\n"
     ]
    },
    {
     "name": "stderr",
     "output_type": "stream",
     "text": [
      "\r",
      " 17%|█████████████▎                                                                  | 148/889 [00:31<03:25,  3.60it/s]"
     ]
    },
    {
     "name": "stdout",
     "output_type": "stream",
     "text": [
      "音频：dataset/UrbanSound8K/audio/fold2\\146690-0-0-154.wav 的预测结果标签为：0\n"
     ]
    },
    {
     "name": "stderr",
     "output_type": "stream",
     "text": [
      "\r",
      " 17%|█████████████▍                                                                  | 149/889 [00:32<03:26,  3.59it/s]"
     ]
    },
    {
     "name": "stdout",
     "output_type": "stream",
     "text": [
      "音频：dataset/UrbanSound8K/audio/fold2\\146690-0-0-155.wav 的预测结果标签为：0\n"
     ]
    },
    {
     "name": "stderr",
     "output_type": "stream",
     "text": [
      "\r",
      " 17%|█████████████▍                                                                  | 150/889 [00:32<03:28,  3.55it/s]"
     ]
    },
    {
     "name": "stdout",
     "output_type": "stream",
     "text": [
      "音频：dataset/UrbanSound8K/audio/fold2\\146690-0-0-165.wav 的预测结果标签为：1\n"
     ]
    },
    {
     "name": "stderr",
     "output_type": "stream",
     "text": [
      "\r",
      " 17%|█████████████▌                                                                  | 151/889 [00:32<03:26,  3.57it/s]"
     ]
    },
    {
     "name": "stdout",
     "output_type": "stream",
     "text": [
      "音频：dataset/UrbanSound8K/audio/fold2\\146690-0-0-17.wav 的预测结果标签为：0\n"
     ]
    },
    {
     "name": "stderr",
     "output_type": "stream",
     "text": [
      "\r",
      " 17%|█████████████▋                                                                  | 152/889 [00:32<03:21,  3.65it/s]"
     ]
    },
    {
     "name": "stdout",
     "output_type": "stream",
     "text": [
      "音频：dataset/UrbanSound8K/audio/fold2\\146690-0-0-18.wav 的预测结果标签为：0\n"
     ]
    },
    {
     "name": "stderr",
     "output_type": "stream",
     "text": [
      "\r",
      " 17%|█████████████▊                                                                  | 153/889 [00:33<03:25,  3.57it/s]"
     ]
    },
    {
     "name": "stdout",
     "output_type": "stream",
     "text": [
      "音频：dataset/UrbanSound8K/audio/fold2\\146690-0-0-25.wav 的预测结果标签为：0\n"
     ]
    },
    {
     "name": "stderr",
     "output_type": "stream",
     "text": [
      "\r",
      " 17%|█████████████▊                                                                  | 154/889 [00:33<03:26,  3.56it/s]"
     ]
    },
    {
     "name": "stdout",
     "output_type": "stream",
     "text": [
      "音频：dataset/UrbanSound8K/audio/fold2\\146690-0-0-35.wav 的预测结果标签为：0\n"
     ]
    },
    {
     "name": "stderr",
     "output_type": "stream",
     "text": [
      "\r",
      " 17%|█████████████▉                                                                  | 155/889 [00:33<03:24,  3.60it/s]"
     ]
    },
    {
     "name": "stdout",
     "output_type": "stream",
     "text": [
      "音频：dataset/UrbanSound8K/audio/fold2\\146690-0-0-38.wav 的预测结果标签为：0\n"
     ]
    },
    {
     "name": "stderr",
     "output_type": "stream",
     "text": [
      "\r",
      " 18%|██████████████                                                                  | 156/889 [00:34<03:29,  3.50it/s]"
     ]
    },
    {
     "name": "stdout",
     "output_type": "stream",
     "text": [
      "音频：dataset/UrbanSound8K/audio/fold2\\146690-0-0-43.wav 的预测结果标签为：0\n"
     ]
    },
    {
     "name": "stderr",
     "output_type": "stream",
     "text": [
      "\r",
      " 18%|██████████████▏                                                                 | 157/889 [00:34<03:27,  3.52it/s]"
     ]
    },
    {
     "name": "stdout",
     "output_type": "stream",
     "text": [
      "音频：dataset/UrbanSound8K/audio/fold2\\146690-0-0-47.wav 的预测结果标签为：1\n"
     ]
    },
    {
     "name": "stderr",
     "output_type": "stream",
     "text": [
      "\r",
      " 18%|██████████████▏                                                                 | 158/889 [00:34<03:27,  3.52it/s]"
     ]
    },
    {
     "name": "stdout",
     "output_type": "stream",
     "text": [
      "音频：dataset/UrbanSound8K/audio/fold2\\146690-0-0-64.wav 的预测结果标签为：0\n"
     ]
    },
    {
     "name": "stderr",
     "output_type": "stream",
     "text": [
      "\r",
      " 18%|██████████████▎                                                                 | 159/889 [00:34<03:30,  3.47it/s]"
     ]
    },
    {
     "name": "stdout",
     "output_type": "stream",
     "text": [
      "音频：dataset/UrbanSound8K/audio/fold2\\146690-0-0-8.wav 的预测结果标签为：0\n"
     ]
    },
    {
     "name": "stderr",
     "output_type": "stream",
     "text": [
      "\r",
      " 18%|██████████████▍                                                                 | 160/889 [00:35<03:25,  3.54it/s]"
     ]
    },
    {
     "name": "stdout",
     "output_type": "stream",
     "text": [
      "音频：dataset/UrbanSound8K/audio/fold2\\146690-0-0-80.wav 的预测结果标签为：0\n"
     ]
    },
    {
     "name": "stderr",
     "output_type": "stream",
     "text": [
      "\r",
      " 18%|██████████████▍                                                                 | 161/889 [00:35<03:21,  3.61it/s]"
     ]
    },
    {
     "name": "stdout",
     "output_type": "stream",
     "text": [
      "音频：dataset/UrbanSound8K/audio/fold2\\146690-0-0-86.wav 的预测结果标签为：0\n"
     ]
    },
    {
     "name": "stderr",
     "output_type": "stream",
     "text": [
      "\r",
      " 18%|██████████████▌                                                                 | 162/889 [00:35<03:24,  3.56it/s]"
     ]
    },
    {
     "name": "stdout",
     "output_type": "stream",
     "text": [
      "音频：dataset/UrbanSound8K/audio/fold2\\146690-0-0-87.wav 的预测结果标签为：0\n"
     ]
    },
    {
     "name": "stderr",
     "output_type": "stream",
     "text": [
      " 18%|██████████████▊                                                                 | 164/889 [00:36<02:42,  4.46it/s]"
     ]
    },
    {
     "name": "stdout",
     "output_type": "stream",
     "text": [
      "音频：dataset/UrbanSound8K/audio/fold2\\146690-0-0-93.wav 的预测结果标签为：0\n",
      "音频：dataset/UrbanSound8K/audio/fold2\\147672-3-0-0.wav 的预测结果标签为：1\n",
      "音频：dataset/UrbanSound8K/audio/fold2\\147672-3-1-0.wav 的预测结果标签为：1"
     ]
    },
    {
     "name": "stderr",
     "output_type": "stream",
     "text": [
      " 19%|██████████████▉                                                                 | 166/889 [00:36<01:58,  6.12it/s]"
     ]
    },
    {
     "name": "stdout",
     "output_type": "stream",
     "text": [
      "\n",
      "音频：dataset/UrbanSound8K/audio/fold2\\147672-3-2-0.wav 的预测结果标签为：1\n"
     ]
    },
    {
     "name": "stderr",
     "output_type": "stream",
     "text": [
      "\r",
      " 19%|███████████████                                                                 | 167/889 [00:36<02:31,  4.76it/s]"
     ]
    },
    {
     "name": "stdout",
     "output_type": "stream",
     "text": [
      "音频：dataset/UrbanSound8K/audio/fold2\\14780-9-0-0.wav 的预测结果标签为：1\n"
     ]
    },
    {
     "name": "stderr",
     "output_type": "stream",
     "text": [
      "\r",
      " 19%|███████████████                                                                 | 168/889 [00:36<02:41,  4.45it/s]"
     ]
    },
    {
     "name": "stdout",
     "output_type": "stream",
     "text": [
      "音频：dataset/UrbanSound8K/audio/fold2\\14780-9-0-1.wav 的预测结果标签为：1\n"
     ]
    },
    {
     "name": "stderr",
     "output_type": "stream",
     "text": [
      "\r",
      " 19%|███████████████▏                                                                | 169/889 [00:37<02:56,  4.07it/s]"
     ]
    },
    {
     "name": "stdout",
     "output_type": "stream",
     "text": [
      "音频：dataset/UrbanSound8K/audio/fold2\\14780-9-0-2.wav 的预测结果标签为：1\n"
     ]
    },
    {
     "name": "stderr",
     "output_type": "stream",
     "text": [
      "\r",
      " 19%|███████████████▎                                                                | 170/889 [00:37<03:08,  3.81it/s]"
     ]
    },
    {
     "name": "stdout",
     "output_type": "stream",
     "text": [
      "音频：dataset/UrbanSound8K/audio/fold2\\147926-0-0-10.wav 的预测结果标签为：1\n"
     ]
    },
    {
     "name": "stderr",
     "output_type": "stream",
     "text": [
      "\r",
      " 19%|███████████████▍                                                                | 171/889 [00:37<03:15,  3.68it/s]"
     ]
    },
    {
     "name": "stdout",
     "output_type": "stream",
     "text": [
      "音频：dataset/UrbanSound8K/audio/fold2\\147926-0-0-11.wav 的预测结果标签为：1\n"
     ]
    },
    {
     "name": "stderr",
     "output_type": "stream",
     "text": [
      "\r",
      " 19%|███████████████▍                                                                | 172/889 [00:38<03:13,  3.70it/s]"
     ]
    },
    {
     "name": "stdout",
     "output_type": "stream",
     "text": [
      "音频：dataset/UrbanSound8K/audio/fold2\\147926-0-0-12.wav 的预测结果标签为：1\n"
     ]
    },
    {
     "name": "stderr",
     "output_type": "stream",
     "text": [
      "\r",
      " 19%|███████████████▌                                                                | 173/889 [00:38<03:13,  3.69it/s]"
     ]
    },
    {
     "name": "stdout",
     "output_type": "stream",
     "text": [
      "音频：dataset/UrbanSound8K/audio/fold2\\147926-0-0-16.wav 的预测结果标签为：1\n"
     ]
    },
    {
     "name": "stderr",
     "output_type": "stream",
     "text": [
      "\r",
      " 20%|███████████████▋                                                                | 174/889 [00:38<03:18,  3.60it/s]"
     ]
    },
    {
     "name": "stdout",
     "output_type": "stream",
     "text": [
      "音频：dataset/UrbanSound8K/audio/fold2\\147926-0-0-17.wav 的预测结果标签为：1\n"
     ]
    },
    {
     "name": "stderr",
     "output_type": "stream",
     "text": [
      "\r",
      " 20%|███████████████▋                                                                | 175/889 [00:38<03:15,  3.66it/s]"
     ]
    },
    {
     "name": "stdout",
     "output_type": "stream",
     "text": [
      "音频：dataset/UrbanSound8K/audio/fold2\\147926-0-0-2.wav 的预测结果标签为：1\n"
     ]
    },
    {
     "name": "stderr",
     "output_type": "stream",
     "text": [
      "\r",
      " 20%|███████████████▊                                                                | 176/889 [00:39<03:13,  3.68it/s]"
     ]
    },
    {
     "name": "stdout",
     "output_type": "stream",
     "text": [
      "音频：dataset/UrbanSound8K/audio/fold2\\147926-0-0-20.wav 的预测结果标签为：1\n"
     ]
    },
    {
     "name": "stderr",
     "output_type": "stream",
     "text": [
      "\r",
      " 20%|███████████████▉                                                                | 177/889 [00:39<03:13,  3.68it/s]"
     ]
    },
    {
     "name": "stdout",
     "output_type": "stream",
     "text": [
      "音频：dataset/UrbanSound8K/audio/fold2\\147926-0-0-21.wav 的预测结果标签为：1\n"
     ]
    },
    {
     "name": "stderr",
     "output_type": "stream",
     "text": [
      "\r",
      " 20%|████████████████                                                                | 178/889 [00:39<03:13,  3.67it/s]"
     ]
    },
    {
     "name": "stdout",
     "output_type": "stream",
     "text": [
      "音频：dataset/UrbanSound8K/audio/fold2\\147926-0-0-27.wav 的预测结果标签为：1\n"
     ]
    },
    {
     "name": "stderr",
     "output_type": "stream",
     "text": [
      "\r",
      " 20%|████████████████                                                                | 179/889 [00:39<03:15,  3.63it/s]"
     ]
    },
    {
     "name": "stdout",
     "output_type": "stream",
     "text": [
      "音频：dataset/UrbanSound8K/audio/fold2\\147926-0-0-28.wav 的预测结果标签为：1\n"
     ]
    },
    {
     "name": "stderr",
     "output_type": "stream",
     "text": [
      "\r",
      " 20%|████████████████▏                                                               | 180/889 [00:40<03:15,  3.63it/s]"
     ]
    },
    {
     "name": "stdout",
     "output_type": "stream",
     "text": [
      "音频：dataset/UrbanSound8K/audio/fold2\\147926-0-0-34.wav 的预测结果标签为：1\n"
     ]
    },
    {
     "name": "stderr",
     "output_type": "stream",
     "text": [
      "\r",
      " 20%|████████████████▎                                                               | 181/889 [00:40<03:16,  3.60it/s]"
     ]
    },
    {
     "name": "stdout",
     "output_type": "stream",
     "text": [
      "音频：dataset/UrbanSound8K/audio/fold2\\147926-0-0-35.wav 的预测结果标签为：1\n"
     ]
    },
    {
     "name": "stderr",
     "output_type": "stream",
     "text": [
      "\r",
      " 20%|████████████████▍                                                               | 182/889 [00:40<03:16,  3.61it/s]"
     ]
    },
    {
     "name": "stdout",
     "output_type": "stream",
     "text": [
      "音频：dataset/UrbanSound8K/audio/fold2\\147926-0-0-36.wav 的预测结果标签为：1\n"
     ]
    },
    {
     "name": "stderr",
     "output_type": "stream",
     "text": [
      "\r",
      " 21%|████████████████▍                                                               | 183/889 [00:41<03:15,  3.61it/s]"
     ]
    },
    {
     "name": "stdout",
     "output_type": "stream",
     "text": [
      "音频：dataset/UrbanSound8K/audio/fold2\\147926-0-0-37.wav 的预测结果标签为：1\n"
     ]
    },
    {
     "name": "stderr",
     "output_type": "stream",
     "text": [
      "\r",
      " 21%|████████████████▌                                                               | 184/889 [00:41<03:16,  3.58it/s]"
     ]
    },
    {
     "name": "stdout",
     "output_type": "stream",
     "text": [
      "音频：dataset/UrbanSound8K/audio/fold2\\147926-0-0-39.wav 的预测结果标签为：1\n"
     ]
    },
    {
     "name": "stderr",
     "output_type": "stream",
     "text": [
      "\r",
      " 21%|████████████████▋                                                               | 185/889 [00:41<03:19,  3.53it/s]"
     ]
    },
    {
     "name": "stdout",
     "output_type": "stream",
     "text": [
      "音频：dataset/UrbanSound8K/audio/fold2\\147926-0-0-4.wav 的预测结果标签为：1\n"
     ]
    },
    {
     "name": "stderr",
     "output_type": "stream",
     "text": [
      "\r",
      " 21%|████████████████▋                                                               | 186/889 [00:41<03:16,  3.57it/s]"
     ]
    },
    {
     "name": "stdout",
     "output_type": "stream",
     "text": [
      "音频：dataset/UrbanSound8K/audio/fold2\\147926-0-0-41.wav 的预测结果标签为：1\n"
     ]
    },
    {
     "name": "stderr",
     "output_type": "stream",
     "text": [
      "\r",
      " 21%|████████████████▊                                                               | 187/889 [00:42<03:19,  3.52it/s]"
     ]
    },
    {
     "name": "stdout",
     "output_type": "stream",
     "text": [
      "音频：dataset/UrbanSound8K/audio/fold2\\147926-0-0-42.wav 的预测结果标签为：1\n"
     ]
    },
    {
     "name": "stderr",
     "output_type": "stream",
     "text": [
      "\r",
      " 21%|████████████████▉                                                               | 188/889 [00:42<03:30,  3.33it/s]"
     ]
    },
    {
     "name": "stdout",
     "output_type": "stream",
     "text": [
      "音频：dataset/UrbanSound8K/audio/fold2\\147926-0-0-44.wav 的预测结果标签为：1\n"
     ]
    },
    {
     "name": "stderr",
     "output_type": "stream",
     "text": [
      "\r",
      " 21%|█████████████████                                                               | 189/889 [00:42<03:28,  3.36it/s]"
     ]
    },
    {
     "name": "stdout",
     "output_type": "stream",
     "text": [
      "音频：dataset/UrbanSound8K/audio/fold2\\147926-0-0-5.wav 的预测结果标签为：1\n"
     ]
    },
    {
     "name": "stderr",
     "output_type": "stream",
     "text": [
      "\r",
      " 21%|█████████████████                                                               | 190/889 [00:43<03:19,  3.50it/s]"
     ]
    },
    {
     "name": "stdout",
     "output_type": "stream",
     "text": [
      "音频：dataset/UrbanSound8K/audio/fold2\\147926-0-0-50.wav 的预测结果标签为：1\n"
     ]
    },
    {
     "name": "stderr",
     "output_type": "stream",
     "text": [
      "\r",
      " 21%|█████████████████▏                                                              | 191/889 [00:43<03:19,  3.49it/s]"
     ]
    },
    {
     "name": "stdout",
     "output_type": "stream",
     "text": [
      "音频：dataset/UrbanSound8K/audio/fold2\\147926-0-0-52.wav 的预测结果标签为：1\n"
     ]
    },
    {
     "name": "stderr",
     "output_type": "stream",
     "text": [
      "\r",
      " 22%|█████████████████▎                                                              | 192/889 [00:43<03:21,  3.46it/s]"
     ]
    },
    {
     "name": "stdout",
     "output_type": "stream",
     "text": [
      "音频：dataset/UrbanSound8K/audio/fold2\\147926-0-0-54.wav 的预测结果标签为：1\n"
     ]
    },
    {
     "name": "stderr",
     "output_type": "stream",
     "text": [
      " 22%|█████████████████▍                                                              | 194/889 [00:44<02:45,  4.19it/s]"
     ]
    },
    {
     "name": "stdout",
     "output_type": "stream",
     "text": [
      "音频：dataset/UrbanSound8K/audio/fold2\\147926-0-0-7.wav 的预测结果标签为：1\n",
      "音频：dataset/UrbanSound8K/audio/fold2\\149177-6-0-0.wav 的预测结果标签为：1\n"
     ]
    },
    {
     "name": "stderr",
     "output_type": "stream",
     "text": [
      "\r",
      " 22%|█████████████████▌                                                              | 195/889 [00:44<02:58,  3.88it/s]"
     ]
    },
    {
     "name": "stdout",
     "output_type": "stream",
     "text": [
      "音频：dataset/UrbanSound8K/audio/fold2\\149254-9-0-25.wav 的预测结果标签为：1\n"
     ]
    },
    {
     "name": "stderr",
     "output_type": "stream",
     "text": [
      "\r",
      " 22%|█████████████████▋                                                              | 196/889 [00:44<02:59,  3.85it/s]"
     ]
    },
    {
     "name": "stdout",
     "output_type": "stream",
     "text": [
      "音频：dataset/UrbanSound8K/audio/fold2\\149254-9-0-29.wav 的预测结果标签为：1\n"
     ]
    },
    {
     "name": "stderr",
     "output_type": "stream",
     "text": [
      "\r",
      " 22%|█████████████████▋                                                              | 197/889 [00:44<03:03,  3.78it/s]"
     ]
    },
    {
     "name": "stdout",
     "output_type": "stream",
     "text": [
      "音频：dataset/UrbanSound8K/audio/fold2\\149254-9-0-30.wav 的预测结果标签为：1\n"
     ]
    },
    {
     "name": "stderr",
     "output_type": "stream",
     "text": [
      "\r",
      " 22%|█████████████████▊                                                              | 198/889 [00:45<03:05,  3.72it/s]"
     ]
    },
    {
     "name": "stdout",
     "output_type": "stream",
     "text": [
      "音频：dataset/UrbanSound8K/audio/fold2\\149254-9-0-42.wav 的预测结果标签为：1\n"
     ]
    },
    {
     "name": "stderr",
     "output_type": "stream",
     "text": [
      "\r",
      " 22%|█████████████████▉                                                              | 199/889 [00:45<03:08,  3.67it/s]"
     ]
    },
    {
     "name": "stdout",
     "output_type": "stream",
     "text": [
      "音频：dataset/UrbanSound8K/audio/fold2\\149254-9-0-51.wav 的预测结果标签为：1\n"
     ]
    },
    {
     "name": "stderr",
     "output_type": "stream",
     "text": [
      "\r",
      " 22%|█████████████████▉                                                              | 200/889 [00:45<03:12,  3.58it/s]"
     ]
    },
    {
     "name": "stdout",
     "output_type": "stream",
     "text": [
      "音频：dataset/UrbanSound8K/audio/fold2\\149254-9-0-56.wav 的预测结果标签为：1\n"
     ]
    },
    {
     "name": "stderr",
     "output_type": "stream",
     "text": [
      "\r",
      " 23%|██████████████████                                                              | 201/889 [00:46<03:11,  3.58it/s]"
     ]
    },
    {
     "name": "stdout",
     "output_type": "stream",
     "text": [
      "音频：dataset/UrbanSound8K/audio/fold2\\149370-9-0-15.wav 的预测结果标签为：1\n"
     ]
    },
    {
     "name": "stderr",
     "output_type": "stream",
     "text": [
      "\r",
      " 23%|██████████████████▏                                                             | 202/889 [00:46<03:11,  3.59it/s]"
     ]
    },
    {
     "name": "stdout",
     "output_type": "stream",
     "text": [
      "音频：dataset/UrbanSound8K/audio/fold2\\149370-9-0-19.wav 的预测结果标签为：1\n"
     ]
    },
    {
     "name": "stderr",
     "output_type": "stream",
     "text": [
      "\r",
      " 23%|██████████████████▎                                                             | 203/889 [00:46<03:17,  3.48it/s]"
     ]
    },
    {
     "name": "stdout",
     "output_type": "stream",
     "text": [
      "音频：dataset/UrbanSound8K/audio/fold2\\149370-9-0-21.wav 的预测结果标签为：1\n"
     ]
    },
    {
     "name": "stderr",
     "output_type": "stream",
     "text": [
      "\r",
      " 23%|██████████████████▎                                                             | 204/889 [00:46<03:15,  3.51it/s]"
     ]
    },
    {
     "name": "stdout",
     "output_type": "stream",
     "text": [
      "音频：dataset/UrbanSound8K/audio/fold2\\149370-9-0-22.wav 的预测结果标签为：1\n"
     ]
    },
    {
     "name": "stderr",
     "output_type": "stream",
     "text": [
      "\r",
      " 23%|██████████████████▍                                                             | 205/889 [00:47<03:13,  3.53it/s]"
     ]
    },
    {
     "name": "stdout",
     "output_type": "stream",
     "text": [
      "音频：dataset/UrbanSound8K/audio/fold2\\149370-9-0-32.wav 的预测结果标签为：1\n"
     ]
    },
    {
     "name": "stderr",
     "output_type": "stream",
     "text": [
      "\r",
      " 23%|██████████████████▌                                                             | 206/889 [00:47<03:13,  3.52it/s]"
     ]
    },
    {
     "name": "stdout",
     "output_type": "stream",
     "text": [
      "音频：dataset/UrbanSound8K/audio/fold2\\149370-9-0-37.wav 的预测结果标签为：1\n"
     ]
    },
    {
     "name": "stderr",
     "output_type": "stream",
     "text": [
      "\r",
      " 23%|██████████████████▋                                                             | 207/889 [00:47<03:18,  3.44it/s]"
     ]
    },
    {
     "name": "stdout",
     "output_type": "stream",
     "text": [
      "音频：dataset/UrbanSound8K/audio/fold2\\152908-5-0-0.wav 的预测结果标签为：1\n"
     ]
    },
    {
     "name": "stderr",
     "output_type": "stream",
     "text": [
      "\r",
      " 23%|██████████████████▋                                                             | 208/889 [00:48<03:15,  3.49it/s]"
     ]
    },
    {
     "name": "stdout",
     "output_type": "stream",
     "text": [
      "音频：dataset/UrbanSound8K/audio/fold2\\152908-5-0-1.wav 的预测结果标签为：1\n"
     ]
    },
    {
     "name": "stderr",
     "output_type": "stream",
     "text": [
      "\r",
      " 24%|██████████████████▊                                                             | 209/889 [00:48<03:14,  3.49it/s]"
     ]
    },
    {
     "name": "stdout",
     "output_type": "stream",
     "text": [
      "音频：dataset/UrbanSound8K/audio/fold2\\152908-5-0-10.wav 的预测结果标签为：1\n"
     ]
    },
    {
     "name": "stderr",
     "output_type": "stream",
     "text": [
      "\r",
      " 24%|██████████████████▉                                                             | 210/889 [00:48<03:16,  3.46it/s]"
     ]
    },
    {
     "name": "stdout",
     "output_type": "stream",
     "text": [
      "音频：dataset/UrbanSound8K/audio/fold2\\152908-5-0-11.wav 的预测结果标签为：1\n"
     ]
    },
    {
     "name": "stderr",
     "output_type": "stream",
     "text": [
      "\r",
      " 24%|██████████████████▉                                                             | 211/889 [00:48<03:16,  3.45it/s]"
     ]
    },
    {
     "name": "stdout",
     "output_type": "stream",
     "text": [
      "音频：dataset/UrbanSound8K/audio/fold2\\152908-5-0-12.wav 的预测结果标签为：1\n"
     ]
    },
    {
     "name": "stderr",
     "output_type": "stream",
     "text": [
      "\r",
      " 24%|███████████████████                                                             | 212/889 [00:49<03:14,  3.48it/s]"
     ]
    },
    {
     "name": "stdout",
     "output_type": "stream",
     "text": [
      "音频：dataset/UrbanSound8K/audio/fold2\\152908-5-0-13.wav 的预测结果标签为：1\n"
     ]
    },
    {
     "name": "stderr",
     "output_type": "stream",
     "text": [
      "\r",
      " 24%|███████████████████▏                                                            | 213/889 [00:49<03:18,  3.41it/s]"
     ]
    },
    {
     "name": "stdout",
     "output_type": "stream",
     "text": [
      "音频：dataset/UrbanSound8K/audio/fold2\\152908-5-0-2.wav 的预测结果标签为：1\n"
     ]
    },
    {
     "name": "stderr",
     "output_type": "stream",
     "text": [
      "\r",
      " 24%|███████████████████▎                                                            | 214/889 [00:49<03:16,  3.44it/s]"
     ]
    },
    {
     "name": "stdout",
     "output_type": "stream",
     "text": [
      "音频：dataset/UrbanSound8K/audio/fold2\\152908-5-0-3.wav 的预测结果标签为：1\n"
     ]
    },
    {
     "name": "stderr",
     "output_type": "stream",
     "text": [
      "\r",
      " 24%|███████████████████▎                                                            | 215/889 [00:50<03:16,  3.43it/s]"
     ]
    },
    {
     "name": "stdout",
     "output_type": "stream",
     "text": [
      "音频：dataset/UrbanSound8K/audio/fold2\\152908-5-0-4.wav 的预测结果标签为：1\n"
     ]
    },
    {
     "name": "stderr",
     "output_type": "stream",
     "text": [
      "\r",
      " 24%|███████████████████▍                                                            | 216/889 [00:50<03:11,  3.52it/s]"
     ]
    },
    {
     "name": "stdout",
     "output_type": "stream",
     "text": [
      "音频：dataset/UrbanSound8K/audio/fold2\\152908-5-0-5.wav 的预测结果标签为：1\n"
     ]
    },
    {
     "name": "stderr",
     "output_type": "stream",
     "text": [
      "\r",
      " 24%|███████████████████▌                                                            | 217/889 [00:50<03:16,  3.42it/s]"
     ]
    },
    {
     "name": "stdout",
     "output_type": "stream",
     "text": [
      "音频：dataset/UrbanSound8K/audio/fold2\\152908-5-0-6.wav 的预测结果标签为：1\n"
     ]
    },
    {
     "name": "stderr",
     "output_type": "stream",
     "text": [
      "\r",
      " 25%|███████████████████▌                                                            | 218/889 [00:50<03:15,  3.44it/s]"
     ]
    },
    {
     "name": "stdout",
     "output_type": "stream",
     "text": [
      "音频：dataset/UrbanSound8K/audio/fold2\\152908-5-0-7.wav 的预测结果标签为：1\n"
     ]
    },
    {
     "name": "stderr",
     "output_type": "stream",
     "text": [
      "\r",
      " 25%|███████████████████▋                                                            | 219/889 [00:51<03:11,  3.49it/s]"
     ]
    },
    {
     "name": "stdout",
     "output_type": "stream",
     "text": [
      "音频：dataset/UrbanSound8K/audio/fold2\\152908-5-0-8.wav 的预测结果标签为：1\n"
     ]
    },
    {
     "name": "stderr",
     "output_type": "stream",
     "text": [
      " 25%|███████████████████▉                                                            | 221/889 [00:51<02:34,  4.32it/s]"
     ]
    },
    {
     "name": "stdout",
     "output_type": "stream",
     "text": [
      "音频：dataset/UrbanSound8K/audio/fold2\\152908-5-0-9.wav 的预测结果标签为：1\n",
      "音频：dataset/UrbanSound8K/audio/fold2\\155129-1-0-0.wav 的预测结果标签为：1\n"
     ]
    },
    {
     "name": "stderr",
     "output_type": "stream",
     "text": [
      "\r",
      " 25%|███████████████████▉                                                            | 222/889 [00:51<02:11,  5.08it/s]"
     ]
    },
    {
     "name": "stdout",
     "output_type": "stream",
     "text": [
      "音频：dataset/UrbanSound8K/audio/fold2\\155129-1-1-0.wav 的预测结果标签为：1\n"
     ]
    },
    {
     "name": "stderr",
     "output_type": "stream",
     "text": [
      "\r",
      " 25%|████████████████████                                                            | 223/889 [00:51<02:11,  5.06it/s]"
     ]
    },
    {
     "name": "stdout",
     "output_type": "stream",
     "text": [
      "音频：dataset/UrbanSound8K/audio/fold2\\155129-1-2-0.wav 的预测结果标签为：1\n"
     ]
    },
    {
     "name": "stderr",
     "output_type": "stream",
     "text": [
      "\r",
      " 25%|████████████████████▏                                                           | 224/889 [00:52<02:31,  4.38it/s]"
     ]
    },
    {
     "name": "stdout",
     "output_type": "stream",
     "text": [
      "音频：dataset/UrbanSound8K/audio/fold2\\155219-2-0-0.wav 的预测结果标签为：1\n"
     ]
    },
    {
     "name": "stderr",
     "output_type": "stream",
     "text": [
      "\r",
      " 25%|████████████████████▏                                                           | 225/889 [00:52<02:38,  4.19it/s]"
     ]
    },
    {
     "name": "stdout",
     "output_type": "stream",
     "text": [
      "音频：dataset/UrbanSound8K/audio/fold2\\155219-2-0-1.wav 的预测结果标签为：1\n"
     ]
    },
    {
     "name": "stderr",
     "output_type": "stream",
     "text": [
      "\r",
      " 25%|████████████████████▎                                                           | 226/889 [00:52<02:47,  3.96it/s]"
     ]
    },
    {
     "name": "stdout",
     "output_type": "stream",
     "text": [
      "音频：dataset/UrbanSound8K/audio/fold2\\155219-2-0-22.wav 的预测结果标签为：1\n"
     ]
    },
    {
     "name": "stderr",
     "output_type": "stream",
     "text": [
      "\r",
      " 26%|████████████████████▍                                                           | 227/889 [00:53<02:51,  3.86it/s]"
     ]
    },
    {
     "name": "stdout",
     "output_type": "stream",
     "text": [
      "音频：dataset/UrbanSound8K/audio/fold2\\155219-2-0-24.wav 的预测结果标签为：1\n"
     ]
    },
    {
     "name": "stderr",
     "output_type": "stream",
     "text": [
      "\r",
      " 26%|████████████████████▌                                                           | 228/889 [00:53<02:54,  3.79it/s]"
     ]
    },
    {
     "name": "stdout",
     "output_type": "stream",
     "text": [
      "音频：dataset/UrbanSound8K/audio/fold2\\155219-2-0-25.wav 的预测结果标签为：1\n"
     ]
    },
    {
     "name": "stderr",
     "output_type": "stream",
     "text": [
      "\r",
      " 26%|████████████████████▌                                                           | 229/889 [00:53<02:57,  3.73it/s]"
     ]
    },
    {
     "name": "stdout",
     "output_type": "stream",
     "text": [
      "音频：dataset/UrbanSound8K/audio/fold2\\155219-2-0-26.wav 的预测结果标签为：1\n"
     ]
    },
    {
     "name": "stderr",
     "output_type": "stream",
     "text": [
      "\r",
      " 26%|████████████████████▋                                                           | 230/889 [00:53<02:56,  3.73it/s]"
     ]
    },
    {
     "name": "stdout",
     "output_type": "stream",
     "text": [
      "音频：dataset/UrbanSound8K/audio/fold2\\155219-2-0-51.wav 的预测结果标签为：1\n"
     ]
    },
    {
     "name": "stderr",
     "output_type": "stream",
     "text": [
      "\r",
      " 26%|████████████████████▊                                                           | 231/889 [00:54<03:00,  3.65it/s]"
     ]
    },
    {
     "name": "stdout",
     "output_type": "stream",
     "text": [
      "音频：dataset/UrbanSound8K/audio/fold2\\155219-2-0-57.wav 的预测结果标签为：1\n",
      "音频：dataset/UrbanSound8K/audio/fold2\\155234-1-0-0.wav 的预测结果标签为：1"
     ]
    },
    {
     "name": "stderr",
     "output_type": "stream",
     "text": [
      "\r",
      " 26%|████████████████████▉                                                           | 232/889 [00:54<02:44,  3.99it/s]"
     ]
    },
    {
     "name": "stdout",
     "output_type": "stream",
     "text": [
      "\n"
     ]
    },
    {
     "name": "stderr",
     "output_type": "stream",
     "text": [
      "\r",
      " 26%|████████████████████▉                                                           | 233/889 [00:54<02:35,  4.22it/s]"
     ]
    },
    {
     "name": "stdout",
     "output_type": "stream",
     "text": [
      "音频：dataset/UrbanSound8K/audio/fold2\\156893-7-0-0.wav 的预测结果标签为：1\n"
     ]
    },
    {
     "name": "stderr",
     "output_type": "stream",
     "text": [
      " 26%|█████████████████████▏                                                          | 235/889 [00:54<02:11,  4.99it/s]"
     ]
    },
    {
     "name": "stdout",
     "output_type": "stream",
     "text": [
      "音频：dataset/UrbanSound8K/audio/fold2\\156893-7-1-0.wav 的预测结果标签为：1\n",
      "音频：dataset/UrbanSound8K/audio/fold2\\156893-7-10-0.wav 的预测结果标签为：1\n"
     ]
    },
    {
     "name": "stderr",
     "output_type": "stream",
     "text": [
      "\r",
      " 27%|█████████████████████▏                                                          | 236/889 [00:55<02:29,  4.37it/s]"
     ]
    },
    {
     "name": "stdout",
     "output_type": "stream",
     "text": [
      "音频：dataset/UrbanSound8K/audio/fold2\\156893-7-11-0.wav 的预测结果标签为：1\n"
     ]
    },
    {
     "name": "stderr",
     "output_type": "stream",
     "text": [
      "\r",
      " 27%|█████████████████████▎                                                          | 237/889 [00:55<02:25,  4.48it/s]"
     ]
    },
    {
     "name": "stdout",
     "output_type": "stream",
     "text": [
      "音频：dataset/UrbanSound8K/audio/fold2\\156893-7-2-0.wav 的预测结果标签为：1\n"
     ]
    },
    {
     "name": "stderr",
     "output_type": "stream",
     "text": [
      " 27%|█████████████████████▌                                                          | 239/889 [00:55<02:20,  4.63it/s]"
     ]
    },
    {
     "name": "stdout",
     "output_type": "stream",
     "text": [
      "音频：dataset/UrbanSound8K/audio/fold2\\156893-7-3-0.wav 的预测结果标签为：1\n",
      "音频：dataset/UrbanSound8K/audio/fold2\\156893-7-4-0.wav 的预测结果标签为：1\n"
     ]
    },
    {
     "name": "stderr",
     "output_type": "stream",
     "text": [
      "\r",
      " 27%|█████████████████████▌                                                          | 240/889 [00:56<02:24,  4.51it/s]"
     ]
    },
    {
     "name": "stdout",
     "output_type": "stream",
     "text": [
      "音频：dataset/UrbanSound8K/audio/fold2\\156893-7-5-0.wav 的预测结果标签为：1\n"
     ]
    },
    {
     "name": "stderr",
     "output_type": "stream",
     "text": [
      "\r",
      " 27%|█████████████████████▋                                                          | 241/889 [00:56<02:24,  4.49it/s]"
     ]
    },
    {
     "name": "stdout",
     "output_type": "stream",
     "text": [
      "音频：dataset/UrbanSound8K/audio/fold2\\156893-7-6-0.wav 的预测结果标签为：1\n"
     ]
    },
    {
     "name": "stderr",
     "output_type": "stream",
     "text": [
      "\r",
      " 27%|█████████████████████▊                                                          | 242/889 [00:56<02:40,  4.04it/s]"
     ]
    },
    {
     "name": "stdout",
     "output_type": "stream",
     "text": [
      "音频：dataset/UrbanSound8K/audio/fold2\\156893-7-7-0.wav 的预测结果标签为：1\n"
     ]
    },
    {
     "name": "stderr",
     "output_type": "stream",
     "text": [
      " 27%|█████████████████████▉                                                          | 244/889 [00:57<02:25,  4.44it/s]"
     ]
    },
    {
     "name": "stdout",
     "output_type": "stream",
     "text": [
      "音频：dataset/UrbanSound8K/audio/fold2\\156893-7-8-0.wav 的预测结果标签为：1\n",
      "音频：dataset/UrbanSound8K/audio/fold2\\156893-7-9-0.wav 的预测结果标签为：1\n"
     ]
    },
    {
     "name": "stderr",
     "output_type": "stream",
     "text": [
      "\r",
      " 28%|██████████████████████                                                          | 245/889 [00:57<02:35,  4.14it/s]"
     ]
    },
    {
     "name": "stdout",
     "output_type": "stream",
     "text": [
      "音频：dataset/UrbanSound8K/audio/fold2\\158597-2-0-16.wav 的预测结果标签为：1\n"
     ]
    },
    {
     "name": "stderr",
     "output_type": "stream",
     "text": [
      "\r",
      " 28%|██████████████████████▏                                                         | 246/889 [00:57<02:40,  4.00it/s]"
     ]
    },
    {
     "name": "stdout",
     "output_type": "stream",
     "text": [
      "音频：dataset/UrbanSound8K/audio/fold2\\158597-2-0-2.wav 的预测结果标签为：1\n"
     ]
    },
    {
     "name": "stderr",
     "output_type": "stream",
     "text": [
      "\r",
      " 28%|██████████████████████▏                                                         | 247/889 [00:57<02:46,  3.86it/s]"
     ]
    },
    {
     "name": "stdout",
     "output_type": "stream",
     "text": [
      "音频：dataset/UrbanSound8K/audio/fold2\\158597-2-0-3.wav 的预测结果标签为：1\n"
     ]
    },
    {
     "name": "stderr",
     "output_type": "stream",
     "text": [
      "\r",
      " 28%|██████████████████████▎                                                         | 248/889 [00:58<02:52,  3.71it/s]"
     ]
    },
    {
     "name": "stdout",
     "output_type": "stream",
     "text": [
      "音频：dataset/UrbanSound8K/audio/fold2\\158597-2-0-30.wav 的预测结果标签为：1\n"
     ]
    },
    {
     "name": "stderr",
     "output_type": "stream",
     "text": [
      "\r",
      " 28%|██████████████████████▍                                                         | 249/889 [00:58<02:56,  3.63it/s]"
     ]
    },
    {
     "name": "stdout",
     "output_type": "stream",
     "text": [
      "音频：dataset/UrbanSound8K/audio/fold2\\158597-2-0-33.wav 的预测结果标签为：1\n"
     ]
    },
    {
     "name": "stderr",
     "output_type": "stream",
     "text": [
      "\r",
      " 28%|██████████████████████▍                                                         | 250/889 [00:58<03:06,  3.43it/s]"
     ]
    },
    {
     "name": "stdout",
     "output_type": "stream",
     "text": [
      "音频：dataset/UrbanSound8K/audio/fold2\\158597-2-0-41.wav 的预测结果标签为：1\n"
     ]
    },
    {
     "name": "stderr",
     "output_type": "stream",
     "text": [
      "\r",
      " 28%|██████████████████████▌                                                         | 251/889 [00:59<03:49,  2.77it/s]"
     ]
    },
    {
     "name": "stdout",
     "output_type": "stream",
     "text": [
      "音频：dataset/UrbanSound8K/audio/fold2\\158597-2-0-57.wav 的预测结果标签为：1\n"
     ]
    },
    {
     "name": "stderr",
     "output_type": "stream",
     "text": [
      " 28%|██████████████████████▊                                                         | 253/889 [00:59<03:05,  3.44it/s]"
     ]
    },
    {
     "name": "stdout",
     "output_type": "stream",
     "text": [
      "音频：dataset/UrbanSound8K/audio/fold2\\158597-2-0-85.wav 的预测结果标签为：1\n",
      "音频：dataset/UrbanSound8K/audio/fold2\\158607-3-0-0.wav 的预测结果标签为：1\n"
     ]
    },
    {
     "name": "stderr",
     "output_type": "stream",
     "text": [
      " 29%|██████████████████████▉                                                         | 255/889 [01:00<02:35,  4.08it/s]"
     ]
    },
    {
     "name": "stdout",
     "output_type": "stream",
     "text": [
      "音频：dataset/UrbanSound8K/audio/fold2\\158607-3-1-0.wav 的预测结果标签为：1\n",
      "音频：dataset/UrbanSound8K/audio/fold2\\158607-3-2-0.wav 的预测结果标签为：1\n"
     ]
    },
    {
     "name": "stderr",
     "output_type": "stream",
     "text": [
      "\r",
      " 29%|███████████████████████▏                                                        | 257/889 [01:00<02:07,  4.97it/s]"
     ]
    },
    {
     "name": "stdout",
     "output_type": "stream",
     "text": [
      "音频：dataset/UrbanSound8K/audio/fold2\\159710-6-0-0.wav 的预测结果标签为：1\n",
      "音频：dataset/UrbanSound8K/audio/fold2\\159743-8-0-0.wav 的预测结果标签为：1\n"
     ]
    },
    {
     "name": "stderr",
     "output_type": "stream",
     "text": [
      " 29%|███████████████████████▎                                                        | 259/889 [01:00<01:37,  6.47it/s]"
     ]
    },
    {
     "name": "stdout",
     "output_type": "stream",
     "text": [
      "音频：dataset/UrbanSound8K/audio/fold2\\159747-8-0-0.wav 的预测结果标签为：1\n",
      "音频：dataset/UrbanSound8K/audio/fold2\\159747-8-0-1.wav 的预测结果标签为：1\n"
     ]
    },
    {
     "name": "stderr",
     "output_type": "stream",
     "text": [
      " 29%|███████████████████████▍                                                        | 261/889 [01:00<01:27,  7.19it/s]"
     ]
    },
    {
     "name": "stdout",
     "output_type": "stream",
     "text": [
      "音频：dataset/UrbanSound8K/audio/fold2\\159747-8-0-10.wav 的预测结果标签为：1\n",
      "音频：dataset/UrbanSound8K/audio/fold2\\159747-8-0-11.wav 的预测结果标签为：1\n"
     ]
    },
    {
     "name": "stderr",
     "output_type": "stream",
     "text": [
      " 30%|███████████████████████▋                                                        | 263/889 [01:01<01:17,  8.04it/s]"
     ]
    },
    {
     "name": "stdout",
     "output_type": "stream",
     "text": [
      "音频：dataset/UrbanSound8K/audio/fold2\\159747-8-0-12.wav 的预测结果标签为：1\n",
      "音频：dataset/UrbanSound8K/audio/fold2\\159747-8-0-13.wav 的预测结果标签为：1\n",
      "音频：dataset/UrbanSound8K/audio/fold2\\159747-8-0-14.wav 的预测结果标签为：1"
     ]
    },
    {
     "name": "stderr",
     "output_type": "stream",
     "text": [
      " 30%|███████████████████████▊                                                        | 265/889 [01:01<01:10,  8.81it/s]"
     ]
    },
    {
     "name": "stdout",
     "output_type": "stream",
     "text": [
      "\n",
      "音频：dataset/UrbanSound8K/audio/fold2\\159747-8-0-15.wav 的预测结果标签为：1\n"
     ]
    },
    {
     "name": "stderr",
     "output_type": "stream",
     "text": [
      " 30%|████████████████████████                                                        | 267/889 [01:01<01:08,  9.03it/s]"
     ]
    },
    {
     "name": "stdout",
     "output_type": "stream",
     "text": [
      "音频：dataset/UrbanSound8K/audio/fold2\\159747-8-0-16.wav 的预测结果标签为：1\n",
      "音频：dataset/UrbanSound8K/audio/fold2\\159747-8-0-17.wav 的预测结果标签为：1\n"
     ]
    },
    {
     "name": "stderr",
     "output_type": "stream",
     "text": [
      " 30%|████████████████████████▏                                                       | 269/889 [01:01<01:10,  8.85it/s]"
     ]
    },
    {
     "name": "stdout",
     "output_type": "stream",
     "text": [
      "音频：dataset/UrbanSound8K/audio/fold2\\159747-8-0-18.wav 的预测结果标签为：1\n",
      "音频：dataset/UrbanSound8K/audio/fold2\\159747-8-0-19.wav 的预测结果标签为：1\n"
     ]
    },
    {
     "name": "stderr",
     "output_type": "stream",
     "text": [
      "\r",
      " 30%|████████████████████████▎                                                       | 270/889 [01:01<01:10,  8.83it/s]"
     ]
    },
    {
     "name": "stdout",
     "output_type": "stream",
     "text": [
      "音频：dataset/UrbanSound8K/audio/fold2\\159747-8-0-2.wav 的预测结果标签为：1\n",
      "音频：dataset/UrbanSound8K/audio/fold2\\159747-8-0-20.wav 的预测结果标签为：1\n",
      "音频：dataset/UrbanSound8K/audio/fold2\\159747-8-0-21.wav 的预测结果标签为：1"
     ]
    },
    {
     "name": "stderr",
     "output_type": "stream",
     "text": [
      " 31%|████████████████████████▌                                                       | 273/889 [01:02<01:08,  9.04it/s]"
     ]
    },
    {
     "name": "stdout",
     "output_type": "stream",
     "text": [
      "\n",
      "音频：dataset/UrbanSound8K/audio/fold2\\159747-8-0-3.wav 的预测结果标签为：1\n"
     ]
    },
    {
     "name": "stderr",
     "output_type": "stream",
     "text": [
      " 31%|████████████████████████▋                                                       | 275/889 [01:02<01:06,  9.26it/s]"
     ]
    },
    {
     "name": "stdout",
     "output_type": "stream",
     "text": [
      "音频：dataset/UrbanSound8K/audio/fold2\\159747-8-0-4.wav 的预测结果标签为：1\n",
      "音频：dataset/UrbanSound8K/audio/fold2\\159747-8-0-5.wav 的预测结果标签为：1\n"
     ]
    },
    {
     "name": "stderr",
     "output_type": "stream",
     "text": [
      " 31%|████████████████████████▉                                                       | 277/889 [01:02<01:08,  8.98it/s]"
     ]
    },
    {
     "name": "stdout",
     "output_type": "stream",
     "text": [
      "音频：dataset/UrbanSound8K/audio/fold2\\159747-8-0-6.wav 的预测结果标签为：1\n",
      "音频：dataset/UrbanSound8K/audio/fold2\\159747-8-0-7.wav 的预测结果标签为：1\n"
     ]
    },
    {
     "name": "stderr",
     "output_type": "stream",
     "text": [
      " 31%|█████████████████████████                                                       | 279/889 [01:02<01:08,  8.88it/s]"
     ]
    },
    {
     "name": "stdout",
     "output_type": "stream",
     "text": [
      "音频：dataset/UrbanSound8K/audio/fold2\\159747-8-0-8.wav 的预测结果标签为：1\n",
      "音频：dataset/UrbanSound8K/audio/fold2\\159747-8-0-9.wav 的预测结果标签为：1\n"
     ]
    },
    {
     "name": "stderr",
     "output_type": "stream",
     "text": [
      " 32%|█████████████████████████▎                                                      | 281/889 [01:03<01:06,  9.12it/s]"
     ]
    },
    {
     "name": "stdout",
     "output_type": "stream",
     "text": [
      "音频：dataset/UrbanSound8K/audio/fold2\\159750-8-0-0.wav 的预测结果标签为：1\n",
      "音频：dataset/UrbanSound8K/audio/fold2\\159750-8-0-1.wav 的预测结果标签为：1\n"
     ]
    },
    {
     "name": "stderr",
     "output_type": "stream",
     "text": [
      " 32%|█████████████████████████▍                                                      | 283/889 [01:03<01:08,  8.90it/s]"
     ]
    },
    {
     "name": "stdout",
     "output_type": "stream",
     "text": [
      "音频：dataset/UrbanSound8K/audio/fold2\\159750-8-0-2.wav 的预测结果标签为：1\n",
      "音频：dataset/UrbanSound8K/audio/fold2\\159750-8-0-3.wav 的预测结果标签为：1\n"
     ]
    },
    {
     "name": "stderr",
     "output_type": "stream",
     "text": [
      " 32%|█████████████████████████▋                                                      | 286/889 [01:03<01:05,  9.17it/s]"
     ]
    },
    {
     "name": "stdout",
     "output_type": "stream",
     "text": [
      "音频：dataset/UrbanSound8K/audio/fold2\\159750-8-0-4.wav 的预测结果标签为：1\n",
      "音频：dataset/UrbanSound8K/audio/fold2\\159750-8-0-5.wav 的预测结果标签为：1\n",
      "音频：dataset/UrbanSound8K/audio/fold2\\159750-8-0-6.wav 的预测结果标签为：1\n"
     ]
    },
    {
     "name": "stderr",
     "output_type": "stream",
     "text": [
      " 32%|█████████████████████████▉                                                      | 288/889 [01:03<01:08,  8.74it/s]"
     ]
    },
    {
     "name": "stdout",
     "output_type": "stream",
     "text": [
      "音频：dataset/UrbanSound8K/audio/fold2\\159750-8-0-7.wav 的预测结果标签为：1\n",
      "音频：dataset/UrbanSound8K/audio/fold2\\159750-8-0-8.wav 的预测结果标签为：1\n"
     ]
    },
    {
     "name": "stderr",
     "output_type": "stream",
     "text": [
      "\r",
      " 33%|██████████████████████████                                                      | 289/889 [01:04<01:38,  6.11it/s]"
     ]
    },
    {
     "name": "stdout",
     "output_type": "stream",
     "text": [
      "音频：dataset/UrbanSound8K/audio/fold2\\160011-2-0-0.wav 的预测结果标签为：1\n"
     ]
    },
    {
     "name": "stderr",
     "output_type": "stream",
     "text": [
      "\r",
      " 33%|██████████████████████████                                                      | 290/889 [01:04<01:59,  5.03it/s]"
     ]
    },
    {
     "name": "stdout",
     "output_type": "stream",
     "text": [
      "音频：dataset/UrbanSound8K/audio/fold2\\160011-2-0-1.wav 的预测结果标签为：1\n"
     ]
    },
    {
     "name": "stderr",
     "output_type": "stream",
     "text": [
      "\r",
      " 33%|██████████████████████████▏                                                     | 291/889 [01:04<02:16,  4.39it/s]"
     ]
    },
    {
     "name": "stdout",
     "output_type": "stream",
     "text": [
      "音频：dataset/UrbanSound8K/audio/fold2\\160011-2-0-12.wav 的预测结果标签为：1\n"
     ]
    },
    {
     "name": "stderr",
     "output_type": "stream",
     "text": [
      "\r",
      " 33%|██████████████████████████▎                                                     | 292/889 [01:04<02:29,  4.00it/s]"
     ]
    },
    {
     "name": "stdout",
     "output_type": "stream",
     "text": [
      "音频：dataset/UrbanSound8K/audio/fold2\\160011-2-0-3.wav 的预测结果标签为：1\n"
     ]
    },
    {
     "name": "stderr",
     "output_type": "stream",
     "text": [
      "\r",
      " 33%|██████████████████████████▎                                                     | 293/889 [01:05<02:33,  3.87it/s]"
     ]
    },
    {
     "name": "stdout",
     "output_type": "stream",
     "text": [
      "音频：dataset/UrbanSound8K/audio/fold2\\160011-2-0-34.wav 的预测结果标签为：1\n"
     ]
    },
    {
     "name": "stderr",
     "output_type": "stream",
     "text": [
      "\r",
      " 33%|██████████████████████████▍                                                     | 294/889 [01:05<02:35,  3.83it/s]"
     ]
    },
    {
     "name": "stdout",
     "output_type": "stream",
     "text": [
      "音频：dataset/UrbanSound8K/audio/fold2\\160011-2-0-5.wav 的预测结果标签为：1\n"
     ]
    },
    {
     "name": "stderr",
     "output_type": "stream",
     "text": [
      "\r",
      " 33%|██████████████████████████▌                                                     | 295/889 [01:05<02:39,  3.73it/s]"
     ]
    },
    {
     "name": "stdout",
     "output_type": "stream",
     "text": [
      "音频：dataset/UrbanSound8K/audio/fold2\\160011-2-0-7.wav 的预测结果标签为：1\n"
     ]
    },
    {
     "name": "stderr",
     "output_type": "stream",
     "text": [
      "\r",
      " 33%|██████████████████████████▋                                                     | 296/889 [01:06<02:42,  3.65it/s]"
     ]
    },
    {
     "name": "stdout",
     "output_type": "stream",
     "text": [
      "音频：dataset/UrbanSound8K/audio/fold2\\160011-2-0-9.wav 的预测结果标签为：1\n",
      "音频：dataset/UrbanSound8K/audio/fold2\\160092-3-0-0.wav 的预测结果标签为：1\n"
     ]
    },
    {
     "name": "stderr",
     "output_type": "stream",
     "text": [
      "\r",
      " 34%|██████████████████████████▊                                                     | 298/889 [01:06<02:36,  3.78it/s]"
     ]
    },
    {
     "name": "stdout",
     "output_type": "stream",
     "text": [
      "音频：dataset/UrbanSound8K/audio/fold2\\160366-3-0-13.wav 的预测结果标签为：1\n"
     ]
    },
    {
     "name": "stderr",
     "output_type": "stream",
     "text": [
      "\r",
      " 34%|██████████████████████████▉                                                     | 299/889 [01:07<03:04,  3.20it/s]"
     ]
    },
    {
     "name": "stdout",
     "output_type": "stream",
     "text": [
      "音频：dataset/UrbanSound8K/audio/fold2\\160366-3-0-4.wav 的预测结果标签为：1\n"
     ]
    },
    {
     "name": "stderr",
     "output_type": "stream",
     "text": [
      "\r",
      " 34%|██████████████████████████▉                                                     | 300/889 [01:07<03:53,  2.53it/s]"
     ]
    },
    {
     "name": "stdout",
     "output_type": "stream",
     "text": [
      "音频：dataset/UrbanSound8K/audio/fold2\\160366-3-0-7.wav 的预测结果标签为：1\n"
     ]
    },
    {
     "name": "stderr",
     "output_type": "stream",
     "text": [
      " 34%|███████████████████████████▏                                                    | 302/889 [01:08<03:04,  3.18it/s]"
     ]
    },
    {
     "name": "stdout",
     "output_type": "stream",
     "text": [
      "音频：dataset/UrbanSound8K/audio/fold2\\160366-3-0-8.wav 的预测结果标签为：1\n",
      "音频：dataset/UrbanSound8K/audio/fold2\\162541-1-0-0.wav 的预测结果标签为：1\n"
     ]
    },
    {
     "name": "stderr",
     "output_type": "stream",
     "text": [
      " 34%|███████████████████████████▎                                                    | 304/889 [01:08<02:04,  4.69it/s]"
     ]
    },
    {
     "name": "stdout",
     "output_type": "stream",
     "text": [
      "音频：dataset/UrbanSound8K/audio/fold2\\162541-1-1-0.wav 的预测结果标签为：1\n",
      "音频：dataset/UrbanSound8K/audio/fold2\\162541-1-2-0.wav 的预测结果标签为：1\n"
     ]
    },
    {
     "name": "stderr",
     "output_type": "stream",
     "text": [
      "\r",
      " 34%|███████████████████████████▍                                                    | 305/889 [01:08<01:49,  5.35it/s]"
     ]
    },
    {
     "name": "stdout",
     "output_type": "stream",
     "text": [
      "音频：dataset/UrbanSound8K/audio/fold2\\163460-6-0-0.wav 的预测结果标签为：1\n"
     ]
    },
    {
     "name": "stderr",
     "output_type": "stream",
     "text": [
      " 35%|███████████████████████████▋                                                    | 307/889 [01:08<01:54,  5.10it/s]"
     ]
    },
    {
     "name": "stdout",
     "output_type": "stream",
     "text": [
      "音频：dataset/UrbanSound8K/audio/fold2\\165643-4-0-0.wav 的预测结果标签为：1\n",
      "音频：dataset/UrbanSound8K/audio/fold2\\165775-7-0-0.wav 的预测结果标签为：1\n"
     ]
    },
    {
     "name": "stderr",
     "output_type": "stream",
     "text": [
      " 35%|███████████████████████████▊                                                    | 309/889 [01:09<01:27,  6.61it/s]"
     ]
    },
    {
     "name": "stdout",
     "output_type": "stream",
     "text": [
      "音频：dataset/UrbanSound8K/audio/fold2\\165775-7-1-0.wav 的预测结果标签为：1\n",
      "音频：dataset/UrbanSound8K/audio/fold2\\166421-3-0-29.wav 的预测结果标签为：1\n"
     ]
    },
    {
     "name": "stderr",
     "output_type": "stream",
     "text": [
      " 35%|████████████████████████████                                                    | 312/889 [01:09<01:12,  7.97it/s]"
     ]
    },
    {
     "name": "stdout",
     "output_type": "stream",
     "text": [
      "音频：dataset/UrbanSound8K/audio/fold2\\166421-3-0-31.wav 的预测结果标签为：1\n",
      "音频：dataset/UrbanSound8K/audio/fold2\\166421-3-0-5.wav 的预测结果标签为：1\n",
      "音频：dataset/UrbanSound8K/audio/fold2\\168713-9-0-32.wav 的预测结果标签为：1\n"
     ]
    },
    {
     "name": "stderr",
     "output_type": "stream",
     "text": [
      " 35%|████████████████████████████▎                                                   | 314/889 [01:09<01:06,  8.60it/s]"
     ]
    },
    {
     "name": "stdout",
     "output_type": "stream",
     "text": [
      "音频：dataset/UrbanSound8K/audio/fold2\\168713-9-0-33.wav 的预测结果标签为：1\n",
      "音频：dataset/UrbanSound8K/audio/fold2\\168713-9-0-38.wav 的预测结果标签为：1\n"
     ]
    },
    {
     "name": "stderr",
     "output_type": "stream",
     "text": [
      " 36%|████████████████████████████▍                                                   | 316/889 [01:09<01:03,  9.02it/s]"
     ]
    },
    {
     "name": "stdout",
     "output_type": "stream",
     "text": [
      "音频：dataset/UrbanSound8K/audio/fold2\\168713-9-0-46.wav 的预测结果标签为：1\n",
      "音频：dataset/UrbanSound8K/audio/fold2\\168713-9-0-62.wav 的预测结果标签为：1\n"
     ]
    },
    {
     "name": "stderr",
     "output_type": "stream",
     "text": [
      "\r",
      " 36%|████████████████████████████▌                                                   | 317/889 [01:09<01:02,  9.11it/s]"
     ]
    },
    {
     "name": "stdout",
     "output_type": "stream",
     "text": [
      "音频：dataset/UrbanSound8K/audio/fold2\\168713-9-0-82.wav 的预测结果标签为：1\n"
     ]
    },
    {
     "name": "stderr",
     "output_type": "stream",
     "text": [
      "\r",
      " 36%|████████████████████████████▌                                                   | 318/889 [01:10<01:31,  6.23it/s]"
     ]
    },
    {
     "name": "stdout",
     "output_type": "stream",
     "text": [
      "音频：dataset/UrbanSound8K/audio/fold2\\169098-7-0-0.wav 的预测结果标签为：1\n"
     ]
    },
    {
     "name": "stderr",
     "output_type": "stream",
     "text": [
      "\r",
      " 36%|████████████████████████████▋                                                   | 319/889 [01:10<01:48,  5.23it/s]"
     ]
    },
    {
     "name": "stdout",
     "output_type": "stream",
     "text": [
      "音频：dataset/UrbanSound8K/audio/fold2\\169098-7-0-1.wav 的预测结果标签为：1\n"
     ]
    },
    {
     "name": "stderr",
     "output_type": "stream",
     "text": [
      "\r",
      " 36%|████████████████████████████▊                                                   | 320/889 [01:10<02:03,  4.60it/s]"
     ]
    },
    {
     "name": "stdout",
     "output_type": "stream",
     "text": [
      "音频：dataset/UrbanSound8K/audio/fold2\\169098-7-0-2.wav 的预测结果标签为：1\n"
     ]
    },
    {
     "name": "stderr",
     "output_type": "stream",
     "text": [
      "\r",
      " 36%|████████████████████████████▉                                                   | 321/889 [01:11<02:14,  4.23it/s]"
     ]
    },
    {
     "name": "stdout",
     "output_type": "stream",
     "text": [
      "音频：dataset/UrbanSound8K/audio/fold2\\169098-7-0-3.wav 的预测结果标签为：1\n"
     ]
    },
    {
     "name": "stderr",
     "output_type": "stream",
     "text": [
      "\r",
      " 36%|████████████████████████████▉                                                   | 322/889 [01:11<02:19,  4.06it/s]"
     ]
    },
    {
     "name": "stdout",
     "output_type": "stream",
     "text": [
      "音频：dataset/UrbanSound8K/audio/fold2\\169098-7-0-4.wav 的预测结果标签为：1\n"
     ]
    },
    {
     "name": "stderr",
     "output_type": "stream",
     "text": [
      "\r",
      " 36%|█████████████████████████████                                                   | 323/889 [01:11<02:24,  3.91it/s]"
     ]
    },
    {
     "name": "stdout",
     "output_type": "stream",
     "text": [
      "音频：dataset/UrbanSound8K/audio/fold2\\169098-7-0-5.wav 的预测结果标签为：1\n"
     ]
    },
    {
     "name": "stderr",
     "output_type": "stream",
     "text": [
      "\r",
      " 36%|█████████████████████████████▏                                                  | 324/889 [01:11<02:28,  3.79it/s]"
     ]
    },
    {
     "name": "stdout",
     "output_type": "stream",
     "text": [
      "音频：dataset/UrbanSound8K/audio/fold2\\169098-7-0-6.wav 的预测结果标签为：1\n"
     ]
    },
    {
     "name": "stderr",
     "output_type": "stream",
     "text": [
      "\r",
      " 37%|█████████████████████████████▏                                                  | 325/889 [01:12<02:28,  3.80it/s]"
     ]
    },
    {
     "name": "stdout",
     "output_type": "stream",
     "text": [
      "音频：dataset/UrbanSound8K/audio/fold2\\169098-7-0-7.wav 的预测结果标签为：1\n"
     ]
    },
    {
     "name": "stderr",
     "output_type": "stream",
     "text": [
      "\r",
      " 37%|█████████████████████████████▎                                                  | 326/889 [01:12<02:28,  3.80it/s]"
     ]
    },
    {
     "name": "stdout",
     "output_type": "stream",
     "text": [
      "音频：dataset/UrbanSound8K/audio/fold2\\169098-7-0-8.wav 的预测结果标签为：1\n"
     ]
    },
    {
     "name": "stderr",
     "output_type": "stream",
     "text": [
      "\r",
      " 37%|█████████████████████████████▍                                                  | 327/889 [01:12<02:31,  3.71it/s]"
     ]
    },
    {
     "name": "stdout",
     "output_type": "stream",
     "text": [
      "音频：dataset/UrbanSound8K/audio/fold2\\169098-7-0-9.wav 的预测结果标签为：1\n"
     ]
    },
    {
     "name": "stderr",
     "output_type": "stream",
     "text": [
      "\r",
      " 37%|█████████████████████████████▌                                                  | 328/889 [01:12<02:32,  3.67it/s]"
     ]
    },
    {
     "name": "stdout",
     "output_type": "stream",
     "text": [
      "音频：dataset/UrbanSound8K/audio/fold2\\169098-7-1-0.wav 的预测结果标签为：1\n"
     ]
    },
    {
     "name": "stderr",
     "output_type": "stream",
     "text": [
      "\r",
      " 37%|█████████████████████████████▌                                                  | 329/889 [01:13<02:32,  3.67it/s]"
     ]
    },
    {
     "name": "stdout",
     "output_type": "stream",
     "text": [
      "音频：dataset/UrbanSound8K/audio/fold2\\169098-7-2-0.wav 的预测结果标签为：1\n"
     ]
    },
    {
     "name": "stderr",
     "output_type": "stream",
     "text": [
      "\r",
      " 37%|█████████████████████████████▋                                                  | 330/889 [01:13<02:34,  3.61it/s]"
     ]
    },
    {
     "name": "stdout",
     "output_type": "stream",
     "text": [
      "音频：dataset/UrbanSound8K/audio/fold2\\169098-7-3-0.wav 的预测结果标签为：1\n"
     ]
    },
    {
     "name": "stderr",
     "output_type": "stream",
     "text": [
      "\r",
      " 37%|█████████████████████████████▊                                                  | 331/889 [01:13<02:41,  3.47it/s]"
     ]
    },
    {
     "name": "stdout",
     "output_type": "stream",
     "text": [
      "音频：dataset/UrbanSound8K/audio/fold2\\169098-7-3-1.wav 的预测结果标签为：1\n"
     ]
    },
    {
     "name": "stderr",
     "output_type": "stream",
     "text": [
      "\r",
      " 37%|█████████████████████████████▉                                                  | 332/889 [01:14<02:36,  3.57it/s]"
     ]
    },
    {
     "name": "stdout",
     "output_type": "stream",
     "text": [
      "音频：dataset/UrbanSound8K/audio/fold2\\169098-7-4-0.wav 的预测结果标签为：1\n"
     ]
    },
    {
     "name": "stderr",
     "output_type": "stream",
     "text": [
      "\r",
      " 37%|█████████████████████████████▉                                                  | 333/889 [01:14<02:33,  3.62it/s]"
     ]
    },
    {
     "name": "stdout",
     "output_type": "stream",
     "text": [
      "音频：dataset/UrbanSound8K/audio/fold2\\169098-7-4-1.wav 的预测结果标签为：1\n"
     ]
    },
    {
     "name": "stderr",
     "output_type": "stream",
     "text": [
      "\r",
      " 38%|██████████████████████████████                                                  | 334/889 [01:14<02:32,  3.63it/s]"
     ]
    },
    {
     "name": "stdout",
     "output_type": "stream",
     "text": [
      "音频：dataset/UrbanSound8K/audio/fold2\\169098-7-4-10.wav 的预测结果标签为：1\n"
     ]
    },
    {
     "name": "stderr",
     "output_type": "stream",
     "text": [
      "\r",
      " 38%|██████████████████████████████▏                                                 | 335/889 [01:14<02:30,  3.68it/s]"
     ]
    },
    {
     "name": "stdout",
     "output_type": "stream",
     "text": [
      "音频：dataset/UrbanSound8K/audio/fold2\\169098-7-4-11.wav 的预测结果标签为：1\n"
     ]
    },
    {
     "name": "stderr",
     "output_type": "stream",
     "text": [
      "\r",
      " 38%|██████████████████████████████▏                                                 | 336/889 [01:15<02:30,  3.68it/s]"
     ]
    },
    {
     "name": "stdout",
     "output_type": "stream",
     "text": [
      "音频：dataset/UrbanSound8K/audio/fold2\\169098-7-4-2.wav 的预测结果标签为：1\n"
     ]
    },
    {
     "name": "stderr",
     "output_type": "stream",
     "text": [
      "\r",
      " 38%|██████████████████████████████▎                                                 | 337/889 [01:15<02:30,  3.67it/s]"
     ]
    },
    {
     "name": "stdout",
     "output_type": "stream",
     "text": [
      "音频：dataset/UrbanSound8K/audio/fold2\\169098-7-4-3.wav 的预测结果标签为：1\n"
     ]
    },
    {
     "name": "stderr",
     "output_type": "stream",
     "text": [
      "\r",
      " 38%|██████████████████████████████▍                                                 | 338/889 [01:15<02:29,  3.69it/s]"
     ]
    },
    {
     "name": "stdout",
     "output_type": "stream",
     "text": [
      "音频：dataset/UrbanSound8K/audio/fold2\\169098-7-4-4.wav 的预测结果标签为：1\n"
     ]
    },
    {
     "name": "stderr",
     "output_type": "stream",
     "text": [
      "\r",
      " 38%|██████████████████████████████▌                                                 | 339/889 [01:16<02:32,  3.62it/s]"
     ]
    },
    {
     "name": "stdout",
     "output_type": "stream",
     "text": [
      "音频：dataset/UrbanSound8K/audio/fold2\\169098-7-4-5.wav 的预测结果标签为：1\n"
     ]
    },
    {
     "name": "stderr",
     "output_type": "stream",
     "text": [
      "\r",
      " 38%|██████████████████████████████▌                                                 | 340/889 [01:16<02:29,  3.66it/s]"
     ]
    },
    {
     "name": "stdout",
     "output_type": "stream",
     "text": [
      "音频：dataset/UrbanSound8K/audio/fold2\\169098-7-4-6.wav 的预测结果标签为：1\n"
     ]
    },
    {
     "name": "stderr",
     "output_type": "stream",
     "text": [
      "\r",
      " 38%|██████████████████████████████▋                                                 | 341/889 [01:16<02:32,  3.60it/s]"
     ]
    },
    {
     "name": "stdout",
     "output_type": "stream",
     "text": [
      "音频：dataset/UrbanSound8K/audio/fold2\\169098-7-4-7.wav 的预测结果标签为：1\n"
     ]
    },
    {
     "name": "stderr",
     "output_type": "stream",
     "text": [
      "\r",
      " 38%|██████████████████████████████▊                                                 | 342/889 [01:16<02:34,  3.54it/s]"
     ]
    },
    {
     "name": "stdout",
     "output_type": "stream",
     "text": [
      "音频：dataset/UrbanSound8K/audio/fold2\\169098-7-4-8.wav 的预测结果标签为：1\n"
     ]
    },
    {
     "name": "stderr",
     "output_type": "stream",
     "text": [
      "\r",
      " 39%|██████████████████████████████▊                                                 | 343/889 [01:17<02:31,  3.62it/s]"
     ]
    },
    {
     "name": "stdout",
     "output_type": "stream",
     "text": [
      "音频：dataset/UrbanSound8K/audio/fold2\\169098-7-4-9.wav 的预测结果标签为：1\n"
     ]
    },
    {
     "name": "stderr",
     "output_type": "stream",
     "text": [
      "\r",
      " 39%|██████████████████████████████▉                                                 | 344/889 [01:17<02:29,  3.65it/s]"
     ]
    },
    {
     "name": "stdout",
     "output_type": "stream",
     "text": [
      "音频：dataset/UrbanSound8K/audio/fold2\\172593-2-0-10.wav 的预测结果标签为：1\n"
     ]
    },
    {
     "name": "stderr",
     "output_type": "stream",
     "text": [
      "\r",
      " 39%|███████████████████████████████                                                 | 345/889 [01:17<02:31,  3.60it/s]"
     ]
    },
    {
     "name": "stdout",
     "output_type": "stream",
     "text": [
      "音频：dataset/UrbanSound8K/audio/fold2\\172593-2-0-13.wav 的预测结果标签为：1\n"
     ]
    },
    {
     "name": "stderr",
     "output_type": "stream",
     "text": [
      "\r",
      " 39%|███████████████████████████████▏                                                | 346/889 [01:17<02:32,  3.57it/s]"
     ]
    },
    {
     "name": "stdout",
     "output_type": "stream",
     "text": [
      "音频：dataset/UrbanSound8K/audio/fold2\\172593-2-0-14.wav 的预测结果标签为：1\n"
     ]
    },
    {
     "name": "stderr",
     "output_type": "stream",
     "text": [
      "\r",
      " 39%|███████████████████████████████▏                                                | 347/889 [01:18<02:30,  3.60it/s]"
     ]
    },
    {
     "name": "stdout",
     "output_type": "stream",
     "text": [
      "音频：dataset/UrbanSound8K/audio/fold2\\172593-2-0-18.wav 的预测结果标签为：1\n"
     ]
    },
    {
     "name": "stderr",
     "output_type": "stream",
     "text": [
      "\r",
      " 39%|███████████████████████████████▎                                                | 348/889 [01:18<02:27,  3.66it/s]"
     ]
    },
    {
     "name": "stdout",
     "output_type": "stream",
     "text": [
      "音频：dataset/UrbanSound8K/audio/fold2\\172593-2-0-22.wav 的预测结果标签为：1\n"
     ]
    },
    {
     "name": "stderr",
     "output_type": "stream",
     "text": [
      "\r",
      " 39%|███████████████████████████████▍                                                | 349/889 [01:18<02:28,  3.64it/s]"
     ]
    },
    {
     "name": "stdout",
     "output_type": "stream",
     "text": [
      "音频：dataset/UrbanSound8K/audio/fold2\\172593-2-0-27.wav 的预测结果标签为：1\n"
     ]
    },
    {
     "name": "stderr",
     "output_type": "stream",
     "text": [
      "\r",
      " 39%|███████████████████████████████▍                                                | 350/889 [01:19<02:28,  3.62it/s]"
     ]
    },
    {
     "name": "stdout",
     "output_type": "stream",
     "text": [
      "音频：dataset/UrbanSound8K/audio/fold2\\172593-2-0-28.wav 的预测结果标签为：1\n"
     ]
    },
    {
     "name": "stderr",
     "output_type": "stream",
     "text": [
      "\r",
      " 39%|███████████████████████████████▌                                                | 351/889 [01:19<02:26,  3.68it/s]"
     ]
    },
    {
     "name": "stdout",
     "output_type": "stream",
     "text": [
      "音频：dataset/UrbanSound8K/audio/fold2\\172593-2-0-29.wav 的预测结果标签为：1\n",
      "音频：dataset/UrbanSound8K/audio/fold2\\17307-1-0-0.wav 的预测结果标签为：1\n"
     ]
    },
    {
     "name": "stderr",
     "output_type": "stream",
     "text": [
      "\r",
      " 40%|███████████████████████████████▊                                                | 353/889 [01:19<02:20,  3.81it/s]"
     ]
    },
    {
     "name": "stdout",
     "output_type": "stream",
     "text": [
      "音频：dataset/UrbanSound8K/audio/fold2\\173995-3-0-0.wav 的预测结果标签为：1\n"
     ]
    },
    {
     "name": "stderr",
     "output_type": "stream",
     "text": [
      "\r",
      " 40%|███████████████████████████████▊                                                | 354/889 [01:20<02:38,  3.37it/s]"
     ]
    },
    {
     "name": "stdout",
     "output_type": "stream",
     "text": [
      "音频：dataset/UrbanSound8K/audio/fold2\\173995-3-0-11.wav 的预测结果标签为：1\n"
     ]
    },
    {
     "name": "stderr",
     "output_type": "stream",
     "text": [
      "\r",
      " 40%|███████████████████████████████▉                                                | 355/889 [01:20<02:55,  3.05it/s]"
     ]
    },
    {
     "name": "stdout",
     "output_type": "stream",
     "text": [
      "音频：dataset/UrbanSound8K/audio/fold2\\173995-3-0-27.wav 的预测结果标签为：1\n"
     ]
    },
    {
     "name": "stderr",
     "output_type": "stream",
     "text": [
      " 40%|████████████████████████████████▏                                               | 357/889 [01:21<02:27,  3.60it/s]"
     ]
    },
    {
     "name": "stdout",
     "output_type": "stream",
     "text": [
      "音频：dataset/UrbanSound8K/audio/fold2\\173995-3-0-3.wav 的预测结果标签为：1\n",
      "音频：dataset/UrbanSound8K/audio/fold2\\174293-6-0-0.wav 的预测结果标签为：1\n",
      "音频：dataset/UrbanSound8K/audio/fold2\\174293-6-1-0.wav 的预测结果标签为：1\n"
     ]
    },
    {
     "name": "stderr",
     "output_type": "stream",
     "text": [
      "\r",
      " 40%|████████████████████████████████▎                                               | 359/889 [01:21<01:57,  4.53it/s]"
     ]
    },
    {
     "name": "stdout",
     "output_type": "stream",
     "text": [
      "音频：dataset/UrbanSound8K/audio/fold2\\174293-6-2-0.wav 的预测结果标签为：1\n",
      "音频：dataset/UrbanSound8K/audio/fold2\\174906-2-0-10.wav 的预测结果标签为：1"
     ]
    },
    {
     "name": "stderr",
     "output_type": "stream",
     "text": [
      " 41%|████████████████████████████████▍                                               | 361/889 [01:21<01:26,  6.12it/s]"
     ]
    },
    {
     "name": "stdout",
     "output_type": "stream",
     "text": [
      "\n",
      "音频：dataset/UrbanSound8K/audio/fold2\\174906-2-0-11.wav 的预测结果标签为：1\n"
     ]
    },
    {
     "name": "stderr",
     "output_type": "stream",
     "text": [
      "\r",
      " 41%|████████████████████████████████▌                                               | 362/889 [01:21<01:17,  6.77it/s]"
     ]
    },
    {
     "name": "stdout",
     "output_type": "stream",
     "text": [
      "音频：dataset/UrbanSound8K/audio/fold2\\174906-2-0-14.wav 的预测结果标签为：1\n",
      "音频：dataset/UrbanSound8K/audio/fold2\\174906-2-0-18.wav 的预测结果标签为：1\n"
     ]
    },
    {
     "name": "stderr",
     "output_type": "stream",
     "text": [
      " 41%|████████████████████████████████▊                                               | 365/889 [01:21<01:09,  7.51it/s]"
     ]
    },
    {
     "name": "stdout",
     "output_type": "stream",
     "text": [
      "音频：dataset/UrbanSound8K/audio/fold2\\174906-2-0-20.wav 的预测结果标签为：1\n",
      "音频：dataset/UrbanSound8K/audio/fold2\\174906-2-0-21.wav 的预测结果标签为：1\n"
     ]
    },
    {
     "name": "stderr",
     "output_type": "stream",
     "text": [
      "\r",
      " 41%|█████████████████████████████████                                               | 367/889 [01:22<01:03,  8.20it/s]"
     ]
    },
    {
     "name": "stdout",
     "output_type": "stream",
     "text": [
      "音频：dataset/UrbanSound8K/audio/fold2\\174906-2-0-6.wav 的预测结果标签为：1\n",
      "音频：dataset/UrbanSound8K/audio/fold2\\174906-2-0-8.wav 的预测结果标签为：1\n"
     ]
    },
    {
     "name": "stderr",
     "output_type": "stream",
     "text": [
      "\r",
      " 41%|█████████████████████████████████                                               | 368/889 [01:22<01:25,  6.11it/s]"
     ]
    },
    {
     "name": "stdout",
     "output_type": "stream",
     "text": [
      "音频：dataset/UrbanSound8K/audio/fold2\\174994-3-0-0.wav 的预测结果标签为：1\n"
     ]
    },
    {
     "name": "stderr",
     "output_type": "stream",
     "text": [
      "\r",
      " 42%|█████████████████████████████████▏                                              | 369/889 [01:22<01:41,  5.14it/s]"
     ]
    },
    {
     "name": "stdout",
     "output_type": "stream",
     "text": [
      "音频：dataset/UrbanSound8K/audio/fold2\\174994-3-0-1.wav 的预测结果标签为：1\n"
     ]
    },
    {
     "name": "stderr",
     "output_type": "stream",
     "text": [
      "\r",
      " 42%|█████████████████████████████████▎                                              | 370/889 [01:22<01:56,  4.47it/s]"
     ]
    },
    {
     "name": "stdout",
     "output_type": "stream",
     "text": [
      "音频：dataset/UrbanSound8K/audio/fold2\\174994-3-0-2.wav 的预测结果标签为：1\n"
     ]
    },
    {
     "name": "stderr",
     "output_type": "stream",
     "text": [
      " 42%|█████████████████████████████████▌                                              | 373/889 [01:23<01:40,  5.14it/s]"
     ]
    },
    {
     "name": "stdout",
     "output_type": "stream",
     "text": [
      "音频：dataset/UrbanSound8K/audio/fold2\\174994-3-0-4.wav 的预测结果标签为：1\n",
      "音频：dataset/UrbanSound8K/audio/fold2\\175844-1-0-0.wav 的预测结果标签为：1\n",
      "音频：dataset/UrbanSound8K/audio/fold2\\176634-1-0-0.wav 的预测结果标签为：1\n"
     ]
    },
    {
     "name": "stderr",
     "output_type": "stream",
     "text": [
      "\r",
      " 42%|█████████████████████████████████▋                                              | 375/889 [01:23<01:24,  6.07it/s]"
     ]
    },
    {
     "name": "stdout",
     "output_type": "stream",
     "text": [
      "音频：dataset/UrbanSound8K/audio/fold2\\177592-5-0-0.wav 的预测结果标签为：1\n",
      "音频：dataset/UrbanSound8K/audio/fold2\\177592-5-0-1.wav 的预测结果标签为：1\n",
      "音频：dataset/UrbanSound8K/audio/fold2\\177592-5-0-10.wav 的预测结果标签为：1\n"
     ]
    },
    {
     "name": "stderr",
     "output_type": "stream",
     "text": [
      " 43%|██████████████████████████████████                                              | 378/889 [01:23<01:10,  7.28it/s]"
     ]
    },
    {
     "name": "stdout",
     "output_type": "stream",
     "text": [
      "音频：dataset/UrbanSound8K/audio/fold2\\177592-5-0-2.wav 的预测结果标签为：1\n",
      "音频：dataset/UrbanSound8K/audio/fold2\\177592-5-0-3.wav 的预测结果标签为：1\n"
     ]
    },
    {
     "name": "stderr",
     "output_type": "stream",
     "text": [
      " 43%|██████████████████████████████████▏                                             | 380/889 [01:24<01:02,  8.12it/s]"
     ]
    },
    {
     "name": "stdout",
     "output_type": "stream",
     "text": [
      "音频：dataset/UrbanSound8K/audio/fold2\\177592-5-0-4.wav 的预测结果标签为：1\n",
      "音频：dataset/UrbanSound8K/audio/fold2\\177592-5-0-5.wav 的预测结果标签为：1\n"
     ]
    },
    {
     "name": "stderr",
     "output_type": "stream",
     "text": [
      " 43%|██████████████████████████████████▍                                             | 383/889 [01:24<00:56,  9.00it/s]"
     ]
    },
    {
     "name": "stdout",
     "output_type": "stream",
     "text": [
      "音频：dataset/UrbanSound8K/audio/fold2\\177592-5-0-6.wav 的预测结果标签为：1\n",
      "音频：dataset/UrbanSound8K/audio/fold2\\177592-5-0-7.wav 的预测结果标签为：1\n",
      "音频：dataset/UrbanSound8K/audio/fold2\\177592-5-0-8.wav 的预测结果标签为：1\n"
     ]
    },
    {
     "name": "stderr",
     "output_type": "stream",
     "text": [
      " 43%|██████████████████████████████████▋                                             | 385/889 [01:24<00:54,  9.20it/s]"
     ]
    },
    {
     "name": "stdout",
     "output_type": "stream",
     "text": [
      "音频：dataset/UrbanSound8K/audio/fold2\\177592-5-0-9.wav 的预测结果标签为：1\n",
      "音频：dataset/UrbanSound8K/audio/fold2\\178520-2-0-11.wav 的预测结果标签为：1\n"
     ]
    },
    {
     "name": "stderr",
     "output_type": "stream",
     "text": [
      "\r",
      " 44%|██████████████████████████████████▊                                             | 387/889 [01:24<00:52,  9.50it/s]"
     ]
    },
    {
     "name": "stdout",
     "output_type": "stream",
     "text": [
      "音频：dataset/UrbanSound8K/audio/fold2\\178520-2-0-23.wav 的预测结果标签为：1\n",
      "音频：dataset/UrbanSound8K/audio/fold2\\178520-2-0-27.wav 的预测结果标签为：1\n",
      "音频：dataset/UrbanSound8K/audio/fold2\\178520-2-0-28.wav 的预测结果标签为：1\n"
     ]
    },
    {
     "name": "stderr",
     "output_type": "stream",
     "text": [
      "\r",
      " 44%|███████████████████████████████████                                             | 389/889 [01:25<00:52,  9.61it/s]"
     ]
    },
    {
     "name": "stdout",
     "output_type": "stream",
     "text": [
      "音频：dataset/UrbanSound8K/audio/fold2\\178520-2-0-29.wav 的预测结果标签为：1\n",
      "音频：dataset/UrbanSound8K/audio/fold2\\178520-2-0-38.wav 的预测结果标签为：1\n"
     ]
    },
    {
     "name": "stderr",
     "output_type": "stream",
     "text": [
      " 44%|███████████████████████████████████▎                                            | 392/889 [01:25<00:51,  9.66it/s]"
     ]
    },
    {
     "name": "stdout",
     "output_type": "stream",
     "text": [
      "音频：dataset/UrbanSound8K/audio/fold2\\178520-2-0-39.wav 的预测结果标签为：1\n",
      "音频：dataset/UrbanSound8K/audio/fold2\\178520-2-0-42.wav 的预测结果标签为：1\n",
      "音频：dataset/UrbanSound8K/audio/fold2\\178521-2-0-18.wav 的预测结果标签为：1"
     ]
    },
    {
     "name": "stderr",
     "output_type": "stream",
     "text": [
      "\r",
      " 44%|███████████████████████████████████▍                                            | 394/889 [01:25<00:50,  9.74it/s]"
     ]
    },
    {
     "name": "stdout",
     "output_type": "stream",
     "text": [
      "\n",
      "音频：dataset/UrbanSound8K/audio/fold2\\178521-2-0-2.wav 的预测结果标签为：1\n"
     ]
    },
    {
     "name": "stderr",
     "output_type": "stream",
     "text": [
      " 45%|███████████████████████████████████▋                                            | 396/889 [01:25<00:54,  9.08it/s]"
     ]
    },
    {
     "name": "stdout",
     "output_type": "stream",
     "text": [
      "音频：dataset/UrbanSound8K/audio/fold2\\178521-2-0-22.wav 的预测结果标签为：1\n",
      "音频：dataset/UrbanSound8K/audio/fold2\\178521-2-0-69.wav 的预测结果标签为：1\n"
     ]
    },
    {
     "name": "stderr",
     "output_type": "stream",
     "text": [
      " 45%|███████████████████████████████████▊                                            | 398/889 [01:25<00:55,  8.89it/s]"
     ]
    },
    {
     "name": "stdout",
     "output_type": "stream",
     "text": [
      "音频：dataset/UrbanSound8K/audio/fold2\\178521-2-0-7.wav 的预测结果标签为：1\n",
      "音频：dataset/UrbanSound8K/audio/fold2\\178521-2-0-70.wav 的预测结果标签为：1\n"
     ]
    },
    {
     "name": "stderr",
     "output_type": "stream",
     "text": [
      "\r",
      " 45%|███████████████████████████████████▉                                            | 399/889 [01:26<00:55,  8.86it/s]"
     ]
    },
    {
     "name": "stdout",
     "output_type": "stream",
     "text": [
      "音频：dataset/UrbanSound8K/audio/fold2\\178521-2-0-86.wav 的预测结果标签为：1\n",
      "音频：dataset/UrbanSound8K/audio/fold2\\178521-2-0-93.wav 的预测结果标签为：1\n"
     ]
    },
    {
     "name": "stderr",
     "output_type": "stream",
     "text": [
      " 45%|████████████████████████████████████▏                                           | 402/889 [01:26<00:52,  9.29it/s]"
     ]
    },
    {
     "name": "stdout",
     "output_type": "stream",
     "text": [
      "音频：dataset/UrbanSound8K/audio/fold2\\179096-3-0-1.wav 的预测结果标签为：1\n",
      "音频：dataset/UrbanSound8K/audio/fold2\\179096-3-0-10.wav 的预测结果标签为：1\n"
     ]
    },
    {
     "name": "stderr",
     "output_type": "stream",
     "text": [
      " 45%|████████████████████████████████████▎                                           | 404/889 [01:26<00:51,  9.46it/s]"
     ]
    },
    {
     "name": "stdout",
     "output_type": "stream",
     "text": [
      "音频：dataset/UrbanSound8K/audio/fold2\\179096-3-0-5.wav 的预测结果标签为：1\n",
      "音频：dataset/UrbanSound8K/audio/fold2\\179096-3-0-9.wav 的预测结果标签为：1\n",
      "音频：dataset/UrbanSound8K/audio/fold2\\179864-1-0-0.wav 的预测结果标签为：1"
     ]
    },
    {
     "name": "stderr",
     "output_type": "stream",
     "text": [
      "\r",
      " 46%|████████████████████████████████████▌                                           | 406/889 [01:26<00:48,  9.93it/s]"
     ]
    },
    {
     "name": "stdout",
     "output_type": "stream",
     "text": [
      "\n",
      "音频：dataset/UrbanSound8K/audio/fold2\\179866-1-0-0.wav 的预测结果标签为：1\n",
      "音频：dataset/UrbanSound8K/audio/fold2\\179866-1-1-0.wav 的预测结果标签为：1\n"
     ]
    },
    {
     "name": "stderr",
     "output_type": "stream",
     "text": [
      "\r",
      " 46%|████████████████████████████████████▋                                           | 408/889 [01:27<00:56,  8.48it/s]"
     ]
    },
    {
     "name": "stdout",
     "output_type": "stream",
     "text": [
      "音频：dataset/UrbanSound8K/audio/fold2\\180126-4-0-0.wav 的预测结果标签为：1\n"
     ]
    },
    {
     "name": "stderr",
     "output_type": "stream",
     "text": [
      "\r",
      " 46%|████████████████████████████████████▊                                           | 409/889 [01:27<01:19,  6.02it/s]"
     ]
    },
    {
     "name": "stdout",
     "output_type": "stream",
     "text": [
      "音频：dataset/UrbanSound8K/audio/fold2\\180126-4-1-0.wav 的预测结果标签为：1\n"
     ]
    },
    {
     "name": "stderr",
     "output_type": "stream",
     "text": [
      "\r",
      " 46%|████████████████████████████████████▉                                           | 410/889 [01:27<01:33,  5.15it/s]"
     ]
    },
    {
     "name": "stdout",
     "output_type": "stream",
     "text": [
      "音频：dataset/UrbanSound8K/audio/fold2\\180126-4-1-1.wav 的预测结果标签为：1\n"
     ]
    },
    {
     "name": "stderr",
     "output_type": "stream",
     "text": [
      " 46%|█████████████████████████████████████                                           | 412/889 [01:28<01:39,  4.81it/s]"
     ]
    },
    {
     "name": "stdout",
     "output_type": "stream",
     "text": [
      "音频：dataset/UrbanSound8K/audio/fold2\\180126-4-1-2.wav 的预测结果标签为：1\n",
      "音频：dataset/UrbanSound8K/audio/fold2\\180126-4-2-0.wav 的预测结果标签为：1\n"
     ]
    },
    {
     "name": "stderr",
     "output_type": "stream",
     "text": [
      "\r",
      " 46%|█████████████████████████████████████▏                                          | 413/889 [01:28<01:48,  4.39it/s]"
     ]
    },
    {
     "name": "stdout",
     "output_type": "stream",
     "text": [
      "音频：dataset/UrbanSound8K/audio/fold2\\180126-4-3-0.wav 的预测结果标签为：1\n"
     ]
    },
    {
     "name": "stderr",
     "output_type": "stream",
     "text": [
      "\r",
      " 47%|█████████████████████████████████████▎                                          | 414/889 [01:28<01:54,  4.14it/s]"
     ]
    },
    {
     "name": "stdout",
     "output_type": "stream",
     "text": [
      "音频：dataset/UrbanSound8K/audio/fold2\\180126-4-4-0.wav 的预测结果标签为：1\n"
     ]
    },
    {
     "name": "stderr",
     "output_type": "stream",
     "text": [
      "\r",
      " 47%|█████████████████████████████████████▎                                          | 415/889 [01:28<01:59,  3.98it/s]"
     ]
    },
    {
     "name": "stdout",
     "output_type": "stream",
     "text": [
      "音频：dataset/UrbanSound8K/audio/fold2\\180126-4-4-1.wav 的预测结果标签为：1\n"
     ]
    },
    {
     "name": "stderr",
     "output_type": "stream",
     "text": [
      " 47%|█████████████████████████████████████▌                                          | 417/889 [01:29<01:39,  4.72it/s]"
     ]
    },
    {
     "name": "stdout",
     "output_type": "stream",
     "text": [
      "音频：dataset/UrbanSound8K/audio/fold2\\180126-4-4-2.wav 的预测结果标签为：1\n",
      "音频：dataset/UrbanSound8K/audio/fold2\\182739-2-0-13.wav 的预测结果标签为：1\n"
     ]
    },
    {
     "name": "stderr",
     "output_type": "stream",
     "text": [
      " 47%|█████████████████████████████████████▋                                          | 419/889 [01:29<01:14,  6.30it/s]"
     ]
    },
    {
     "name": "stdout",
     "output_type": "stream",
     "text": [
      "音频：dataset/UrbanSound8K/audio/fold2\\182739-2-0-17.wav 的预测结果标签为：1\n",
      "音频：dataset/UrbanSound8K/audio/fold2\\182739-2-0-24.wav 的预测结果标签为：1\n"
     ]
    },
    {
     "name": "stderr",
     "output_type": "stream",
     "text": [
      " 47%|█████████████████████████████████████▉                                          | 421/889 [01:29<01:03,  7.35it/s]"
     ]
    },
    {
     "name": "stdout",
     "output_type": "stream",
     "text": [
      "音频：dataset/UrbanSound8K/audio/fold2\\182739-2-0-35.wav 的预测结果标签为：1\n",
      "音频：dataset/UrbanSound8K/audio/fold2\\182739-2-0-56.wav 的预测结果标签为：1\n"
     ]
    },
    {
     "name": "stderr",
     "output_type": "stream",
     "text": [
      " 48%|██████████████████████████████████████                                          | 423/889 [01:29<00:56,  8.27it/s]"
     ]
    },
    {
     "name": "stdout",
     "output_type": "stream",
     "text": [
      "音频：dataset/UrbanSound8K/audio/fold2\\182739-2-0-62.wav 的预测结果标签为：1\n",
      "音频：dataset/UrbanSound8K/audio/fold2\\182739-2-0-78.wav 的预测结果标签为：1\n"
     ]
    },
    {
     "name": "stderr",
     "output_type": "stream",
     "text": [
      " 48%|██████████████████████████████████████▏                                         | 425/889 [01:30<00:55,  8.41it/s]"
     ]
    },
    {
     "name": "stdout",
     "output_type": "stream",
     "text": [
      "音频：dataset/UrbanSound8K/audio/fold2\\182739-2-0-85.wav 的预测结果标签为：1\n",
      "音频：dataset/UrbanSound8K/audio/fold2\\18453-3-0-0.wav 的预测结果标签为：1\n"
     ]
    },
    {
     "name": "stderr",
     "output_type": "stream",
     "text": [
      "\r",
      " 48%|██████████████████████████████████████▎                                         | 426/889 [01:30<01:16,  6.04it/s]"
     ]
    },
    {
     "name": "stdout",
     "output_type": "stream",
     "text": [
      "音频：dataset/UrbanSound8K/audio/fold2\\185800-4-0-0.wav 的预测结果标签为：0\n"
     ]
    },
    {
     "name": "stderr",
     "output_type": "stream",
     "text": [
      " 48%|██████████████████████████████████████▌                                         | 428/889 [01:30<01:27,  5.26it/s]"
     ]
    },
    {
     "name": "stdout",
     "output_type": "stream",
     "text": [
      "音频：dataset/UrbanSound8K/audio/fold2\\185800-4-0-1.wav 的预测结果标签为：1\n",
      "音频：dataset/UrbanSound8K/audio/fold2\\185800-4-1-0.wav 的预测结果标签为：1\n"
     ]
    },
    {
     "name": "stderr",
     "output_type": "stream",
     "text": [
      "\r",
      " 48%|██████████████████████████████████████▌                                         | 429/889 [01:31<01:45,  4.36it/s]"
     ]
    },
    {
     "name": "stdout",
     "output_type": "stream",
     "text": [
      "音频：dataset/UrbanSound8K/audio/fold2\\185800-4-2-0.wav 的预测结果标签为：1\n"
     ]
    },
    {
     "name": "stderr",
     "output_type": "stream",
     "text": [
      "\r",
      " 48%|██████████████████████████████████████▋                                         | 430/889 [01:31<01:50,  4.14it/s]"
     ]
    },
    {
     "name": "stdout",
     "output_type": "stream",
     "text": [
      "音频：dataset/UrbanSound8K/audio/fold2\\185800-4-2-1.wav 的预测结果标签为：1\n"
     ]
    },
    {
     "name": "stderr",
     "output_type": "stream",
     "text": [
      "\r",
      " 48%|██████████████████████████████████████▊                                         | 431/889 [01:31<01:55,  3.96it/s]"
     ]
    },
    {
     "name": "stdout",
     "output_type": "stream",
     "text": [
      "音频：dataset/UrbanSound8K/audio/fold2\\185800-4-2-2.wav 的预测结果标签为：1\n"
     ]
    },
    {
     "name": "stderr",
     "output_type": "stream",
     "text": [
      "\r",
      " 49%|██████████████████████████████████████▉                                         | 432/889 [01:32<02:03,  3.70it/s]"
     ]
    },
    {
     "name": "stdout",
     "output_type": "stream",
     "text": [
      "音频：dataset/UrbanSound8K/audio/fold2\\18581-3-0-0.wav 的预测结果标签为：1\n"
     ]
    },
    {
     "name": "stderr",
     "output_type": "stream",
     "text": [
      "\r",
      " 49%|██████████████████████████████████████▉                                         | 433/889 [01:32<02:02,  3.73it/s]"
     ]
    },
    {
     "name": "stdout",
     "output_type": "stream",
     "text": [
      "音频：dataset/UrbanSound8K/audio/fold2\\18581-3-0-5.wav 的预测结果标签为：1\n"
     ]
    },
    {
     "name": "stderr",
     "output_type": "stream",
     "text": [
      "\r",
      " 49%|███████████████████████████████████████                                         | 434/889 [01:32<02:00,  3.78it/s]"
     ]
    },
    {
     "name": "stdout",
     "output_type": "stream",
     "text": [
      "音频：dataset/UrbanSound8K/audio/fold2\\18581-3-1-1.wav 的预测结果标签为：1\n"
     ]
    },
    {
     "name": "stderr",
     "output_type": "stream",
     "text": [
      " 49%|███████████████████████████████████████▏                                        | 436/889 [01:32<01:41,  4.46it/s]"
     ]
    },
    {
     "name": "stdout",
     "output_type": "stream",
     "text": [
      "音频：dataset/UrbanSound8K/audio/fold2\\18581-3-1-3.wav 的预测结果标签为：1\n",
      "音频：dataset/UrbanSound8K/audio/fold2\\189023-0-0-0.wav 的预测结果标签为：1\n"
     ]
    },
    {
     "name": "stderr",
     "output_type": "stream",
     "text": [
      " 49%|███████████████████████████████████████▌                                        | 439/889 [01:33<01:12,  6.19it/s]"
     ]
    },
    {
     "name": "stdout",
     "output_type": "stream",
     "text": [
      "音频：dataset/UrbanSound8K/audio/fold2\\189023-0-0-1.wav 的预测结果标签为：1\n",
      "音频：dataset/UrbanSound8K/audio/fold2\\189023-0-0-10.wav 的预测结果标签为：1\n",
      "音频：dataset/UrbanSound8K/audio/fold2\\189023-0-0-11.wav 的预测结果标签为：1\n"
     ]
    },
    {
     "name": "stderr",
     "output_type": "stream",
     "text": [
      " 50%|███████████████████████████████████████▋                                        | 441/889 [01:33<01:00,  7.46it/s]"
     ]
    },
    {
     "name": "stdout",
     "output_type": "stream",
     "text": [
      "音频：dataset/UrbanSound8K/audio/fold2\\189023-0-0-12.wav 的预测结果标签为：1\n",
      "音频：dataset/UrbanSound8K/audio/fold2\\189023-0-0-13.wav 的预测结果标签为：1\n"
     ]
    },
    {
     "name": "stderr",
     "output_type": "stream",
     "text": [
      " 50%|███████████████████████████████████████▊                                        | 443/889 [01:33<00:52,  8.42it/s]"
     ]
    },
    {
     "name": "stdout",
     "output_type": "stream",
     "text": [
      "音频：dataset/UrbanSound8K/audio/fold2\\189023-0-0-2.wav 的预测结果标签为：1\n",
      "音频：dataset/UrbanSound8K/audio/fold2\\189023-0-0-3.wav 的预测结果标签为：1\n",
      "音频：dataset/UrbanSound8K/audio/fold2\\189023-0-0-4.wav 的预测结果标签为：1"
     ]
    },
    {
     "name": "stderr",
     "output_type": "stream",
     "text": [
      "\r",
      " 50%|████████████████████████████████████████                                        | 445/889 [01:33<00:50,  8.76it/s]"
     ]
    },
    {
     "name": "stdout",
     "output_type": "stream",
     "text": [
      "\n",
      "音频：dataset/UrbanSound8K/audio/fold2\\189023-0-0-5.wav 的预测结果标签为：1\n"
     ]
    },
    {
     "name": "stderr",
     "output_type": "stream",
     "text": [
      " 50%|████████████████████████████████████████▏                                       | 447/889 [01:34<00:48,  9.06it/s]"
     ]
    },
    {
     "name": "stdout",
     "output_type": "stream",
     "text": [
      "音频：dataset/UrbanSound8K/audio/fold2\\189023-0-0-6.wav 的预测结果标签为：1\n",
      "音频：dataset/UrbanSound8K/audio/fold2\\189023-0-0-7.wav 的预测结果标签为：1\n",
      "音频：dataset/UrbanSound8K/audio/fold2\\189023-0-0-8.wav 的预测结果标签为：1"
     ]
    },
    {
     "name": "stderr",
     "output_type": "stream",
     "text": [
      " 51%|████████████████████████████████████████▍                                       | 449/889 [01:34<00:47,  9.35it/s]"
     ]
    },
    {
     "name": "stdout",
     "output_type": "stream",
     "text": [
      "\n",
      "音频：dataset/UrbanSound8K/audio/fold2\\189023-0-0-9.wav 的预测结果标签为：1\n"
     ]
    },
    {
     "name": "stderr",
     "output_type": "stream",
     "text": [
      "\r",
      " 51%|████████████████████████████████████████▍                                       | 450/889 [01:34<01:08,  6.38it/s]"
     ]
    },
    {
     "name": "stdout",
     "output_type": "stream",
     "text": [
      "音频：dataset/UrbanSound8K/audio/fold2\\189991-0-0-0.wav 的预测结果标签为：1\n"
     ]
    },
    {
     "name": "stderr",
     "output_type": "stream",
     "text": [
      "\r",
      " 51%|████████████████████████████████████████▌                                       | 451/889 [01:34<01:25,  5.14it/s]"
     ]
    },
    {
     "name": "stdout",
     "output_type": "stream",
     "text": [
      "音频：dataset/UrbanSound8K/audio/fold2\\189991-0-0-1.wav 的预测结果标签为：1\n"
     ]
    },
    {
     "name": "stderr",
     "output_type": "stream",
     "text": [
      "\r",
      " 51%|████████████████████████████████████████▋                                       | 452/889 [01:35<01:36,  4.53it/s]"
     ]
    },
    {
     "name": "stdout",
     "output_type": "stream",
     "text": [
      "音频：dataset/UrbanSound8K/audio/fold2\\189991-0-0-2.wav 的预测结果标签为：1\n"
     ]
    },
    {
     "name": "stderr",
     "output_type": "stream",
     "text": [
      "\r",
      " 51%|████████████████████████████████████████▊                                       | 453/889 [01:35<01:43,  4.21it/s]"
     ]
    },
    {
     "name": "stdout",
     "output_type": "stream",
     "text": [
      "音频：dataset/UrbanSound8K/audio/fold2\\189991-0-0-3.wav 的预测结果标签为：1\n"
     ]
    },
    {
     "name": "stderr",
     "output_type": "stream",
     "text": [
      "\r",
      " 51%|████████████████████████████████████████▊                                       | 454/889 [01:35<01:47,  4.04it/s]"
     ]
    },
    {
     "name": "stdout",
     "output_type": "stream",
     "text": [
      "音频：dataset/UrbanSound8K/audio/fold2\\189991-0-0-4.wav 的预测结果标签为：1\n"
     ]
    },
    {
     "name": "stderr",
     "output_type": "stream",
     "text": [
      "\r",
      " 51%|████████████████████████████████████████▉                                       | 455/889 [01:36<01:53,  3.84it/s]"
     ]
    },
    {
     "name": "stdout",
     "output_type": "stream",
     "text": [
      "音频：dataset/UrbanSound8K/audio/fold2\\189991-0-0-5.wav 的预测结果标签为：1\n"
     ]
    },
    {
     "name": "stderr",
     "output_type": "stream",
     "text": [
      "\r",
      " 51%|█████████████████████████████████████████                                       | 456/889 [01:36<01:55,  3.75it/s]"
     ]
    },
    {
     "name": "stdout",
     "output_type": "stream",
     "text": [
      "音频：dataset/UrbanSound8K/audio/fold2\\189991-0-0-6.wav 的预测结果标签为：1\n"
     ]
    },
    {
     "name": "stderr",
     "output_type": "stream",
     "text": [
      "\r",
      " 51%|█████████████████████████████████████████                                       | 457/889 [01:36<01:56,  3.72it/s]"
     ]
    },
    {
     "name": "stdout",
     "output_type": "stream",
     "text": [
      "音频：dataset/UrbanSound8K/audio/fold2\\189991-0-0-7.wav 的预测结果标签为：1\n"
     ]
    },
    {
     "name": "stderr",
     "output_type": "stream",
     "text": [
      " 52%|█████████████████████████████████████████▎                                      | 459/889 [01:36<01:34,  4.55it/s]"
     ]
    },
    {
     "name": "stdout",
     "output_type": "stream",
     "text": [
      "音频：dataset/UrbanSound8K/audio/fold2\\19218-3-0-0.wav 的预测结果标签为：1\n",
      "音频：dataset/UrbanSound8K/audio/fold2\\192269-2-0-1.wav 的预测结果标签为：1\n"
     ]
    },
    {
     "name": "stderr",
     "output_type": "stream",
     "text": [
      " 52%|█████████████████████████████████████████▍                                      | 461/889 [01:37<01:11,  5.98it/s]"
     ]
    },
    {
     "name": "stdout",
     "output_type": "stream",
     "text": [
      "音频：dataset/UrbanSound8K/audio/fold2\\192269-2-0-11.wav 的预测结果标签为：1\n",
      "音频：dataset/UrbanSound8K/audio/fold2\\192269-2-0-18.wav 的预测结果标签为：1\n"
     ]
    },
    {
     "name": "stderr",
     "output_type": "stream",
     "text": [
      "\r",
      " 52%|█████████████████████████████████████████▌                                      | 462/889 [01:37<01:02,  6.80it/s]"
     ]
    },
    {
     "name": "stdout",
     "output_type": "stream",
     "text": [
      "音频：dataset/UrbanSound8K/audio/fold2\\192269-2-0-24.wav 的预测结果标签为：1\n",
      "音频：dataset/UrbanSound8K/audio/fold2\\192269-2-0-35.wav 的预测结果标签为：1\n"
     ]
    },
    {
     "name": "stderr",
     "output_type": "stream",
     "text": [
      " 52%|█████████████████████████████████████████▊                                      | 465/889 [01:37<00:53,  7.99it/s]"
     ]
    },
    {
     "name": "stdout",
     "output_type": "stream",
     "text": [
      "音频：dataset/UrbanSound8K/audio/fold2\\192269-2-0-37.wav 的预测结果标签为：1\n",
      "音频：dataset/UrbanSound8K/audio/fold2\\192269-2-0-54.wav 的预测结果标签为：1\n",
      "音频：dataset/UrbanSound8K/audio/fold2\\192269-2-0-56.wav 的预测结果标签为：1\n"
     ]
    },
    {
     "name": "stderr",
     "output_type": "stream",
     "text": [
      "\r",
      " 53%|██████████████████████████████████████████                                      | 467/889 [01:38<01:08,  6.17it/s]"
     ]
    },
    {
     "name": "stdout",
     "output_type": "stream",
     "text": [
      "音频：dataset/UrbanSound8K/audio/fold2\\194841-9-0-130.wav 的预测结果标签为：1\n"
     ]
    },
    {
     "name": "stderr",
     "output_type": "stream",
     "text": [
      "\r",
      " 53%|██████████████████████████████████████████                                      | 468/889 [01:38<01:41,  4.14it/s]"
     ]
    },
    {
     "name": "stdout",
     "output_type": "stream",
     "text": [
      "音频：dataset/UrbanSound8K/audio/fold2\\194841-9-0-144.wav 的预测结果标签为：1\n"
     ]
    },
    {
     "name": "stderr",
     "output_type": "stream",
     "text": [
      "\r",
      " 53%|██████████████████████████████████████████▏                                     | 469/889 [01:38<02:06,  3.31it/s]"
     ]
    },
    {
     "name": "stdout",
     "output_type": "stream",
     "text": [
      "音频：dataset/UrbanSound8K/audio/fold2\\194841-9-0-164.wav 的预测结果标签为：1\n"
     ]
    },
    {
     "name": "stderr",
     "output_type": "stream",
     "text": [
      "\r",
      " 53%|██████████████████████████████████████████▎                                     | 470/889 [01:39<02:19,  3.00it/s]"
     ]
    },
    {
     "name": "stdout",
     "output_type": "stream",
     "text": [
      "音频：dataset/UrbanSound8K/audio/fold2\\194841-9-0-178.wav 的预测结果标签为：1\n"
     ]
    },
    {
     "name": "stderr",
     "output_type": "stream",
     "text": [
      "\r",
      " 53%|██████████████████████████████████████████▍                                     | 471/889 [01:39<02:50,  2.45it/s]"
     ]
    },
    {
     "name": "stdout",
     "output_type": "stream",
     "text": [
      "音频：dataset/UrbanSound8K/audio/fold2\\194841-9-0-222.wav 的预测结果标签为：1\n"
     ]
    },
    {
     "name": "stderr",
     "output_type": "stream",
     "text": [
      "\r",
      " 53%|██████████████████████████████████████████▍                                     | 472/889 [01:40<02:41,  2.58it/s]"
     ]
    },
    {
     "name": "stdout",
     "output_type": "stream",
     "text": [
      "音频：dataset/UrbanSound8K/audio/fold2\\194841-9-0-48.wav 的预测结果标签为：1\n"
     ]
    },
    {
     "name": "stderr",
     "output_type": "stream",
     "text": [
      "\r",
      " 53%|██████████████████████████████████████████▌                                     | 473/889 [01:40<02:27,  2.82it/s]"
     ]
    },
    {
     "name": "stdout",
     "output_type": "stream",
     "text": [
      "音频：dataset/UrbanSound8K/audio/fold2\\196063-2-0-0.wav 的预测结果标签为：1\n"
     ]
    },
    {
     "name": "stderr",
     "output_type": "stream",
     "text": [
      "\r",
      " 53%|██████████████████████████████████████████▋                                     | 474/889 [01:40<02:19,  2.98it/s]"
     ]
    },
    {
     "name": "stdout",
     "output_type": "stream",
     "text": [
      "音频：dataset/UrbanSound8K/audio/fold2\\196063-2-0-1.wav 的预测结果标签为：1\n"
     ]
    },
    {
     "name": "stderr",
     "output_type": "stream",
     "text": [
      "\r",
      " 53%|██████████████████████████████████████████▋                                     | 475/889 [01:41<02:11,  3.15it/s]"
     ]
    },
    {
     "name": "stdout",
     "output_type": "stream",
     "text": [
      "音频：dataset/UrbanSound8K/audio/fold2\\196063-2-0-2.wav 的预测结果标签为：1\n"
     ]
    },
    {
     "name": "stderr",
     "output_type": "stream",
     "text": [
      "\r",
      " 54%|██████████████████████████████████████████▊                                     | 476/889 [01:41<02:05,  3.30it/s]"
     ]
    },
    {
     "name": "stdout",
     "output_type": "stream",
     "text": [
      "音频：dataset/UrbanSound8K/audio/fold2\\196067-2-0-0.wav 的预测结果标签为：1\n"
     ]
    },
    {
     "name": "stderr",
     "output_type": "stream",
     "text": [
      "\r",
      " 54%|██████████████████████████████████████████▉                                     | 477/889 [01:41<01:52,  3.67it/s]"
     ]
    },
    {
     "name": "stdout",
     "output_type": "stream",
     "text": [
      "音频：dataset/UrbanSound8K/audio/fold2\\196078-2-0-0.wav 的预测结果标签为：1\n"
     ]
    },
    {
     "name": "stderr",
     "output_type": "stream",
     "text": [
      "\r",
      " 54%|███████████████████████████████████████████                                     | 478/889 [01:41<01:47,  3.82it/s]"
     ]
    },
    {
     "name": "stdout",
     "output_type": "stream",
     "text": [
      "音频：dataset/UrbanSound8K/audio/fold2\\196082-2-0-0.wav 的预测结果标签为：1\n"
     ]
    },
    {
     "name": "stderr",
     "output_type": "stream",
     "text": [
      "\r",
      " 54%|███████████████████████████████████████████                                     | 479/889 [01:42<01:48,  3.77it/s]"
     ]
    },
    {
     "name": "stdout",
     "output_type": "stream",
     "text": [
      "音频：dataset/UrbanSound8K/audio/fold2\\196384-9-0-11.wav 的预测结果标签为：1\n"
     ]
    },
    {
     "name": "stderr",
     "output_type": "stream",
     "text": [
      "\r",
      " 54%|███████████████████████████████████████████▏                                    | 480/889 [01:42<01:48,  3.78it/s]"
     ]
    },
    {
     "name": "stdout",
     "output_type": "stream",
     "text": [
      "音频：dataset/UrbanSound8K/audio/fold2\\196384-9-0-15.wav 的预测结果标签为：1\n"
     ]
    },
    {
     "name": "stderr",
     "output_type": "stream",
     "text": [
      "\r",
      " 54%|███████████████████████████████████████████▎                                    | 481/889 [01:42<01:46,  3.82it/s]"
     ]
    },
    {
     "name": "stdout",
     "output_type": "stream",
     "text": [
      "音频：dataset/UrbanSound8K/audio/fold2\\196384-9-0-16.wav 的预测结果标签为：1\n"
     ]
    },
    {
     "name": "stderr",
     "output_type": "stream",
     "text": [
      "\r",
      " 54%|███████████████████████████████████████████▎                                    | 482/889 [01:42<01:46,  3.82it/s]"
     ]
    },
    {
     "name": "stdout",
     "output_type": "stream",
     "text": [
      "音频：dataset/UrbanSound8K/audio/fold2\\196384-9-0-18.wav 的预测结果标签为：1\n"
     ]
    },
    {
     "name": "stderr",
     "output_type": "stream",
     "text": [
      "\r",
      " 54%|███████████████████████████████████████████▍                                    | 483/889 [01:43<01:51,  3.64it/s]"
     ]
    },
    {
     "name": "stdout",
     "output_type": "stream",
     "text": [
      "音频：dataset/UrbanSound8K/audio/fold2\\196384-9-0-2.wav 的预测结果标签为：1\n"
     ]
    },
    {
     "name": "stderr",
     "output_type": "stream",
     "text": [
      " 55%|███████████████████████████████████████████▋                                    | 486/889 [01:43<01:26,  4.68it/s]"
     ]
    },
    {
     "name": "stdout",
     "output_type": "stream",
     "text": [
      "音频：dataset/UrbanSound8K/audio/fold2\\196384-9-0-27.wav 的预测结果标签为：1\n",
      "音频：dataset/UrbanSound8K/audio/fold2\\197320-6-0-0.wav 的预测结果标签为：1\n",
      "音频：dataset/UrbanSound8K/audio/fold2\\197320-6-1-0.wav 的预测结果标签为：1\n"
     ]
    },
    {
     "name": "stderr",
     "output_type": "stream",
     "text": [
      "\r",
      " 55%|███████████████████████████████████████████▉                                    | 488/889 [01:43<01:11,  5.65it/s]"
     ]
    },
    {
     "name": "stdout",
     "output_type": "stream",
     "text": [
      "音频：dataset/UrbanSound8K/audio/fold2\\197320-6-10-0.wav 的预测结果标签为：1\n",
      "音频：dataset/UrbanSound8K/audio/fold2\\197320-6-11-0.wav 的预测结果标签为：1\n"
     ]
    },
    {
     "name": "stderr",
     "output_type": "stream",
     "text": [
      " 55%|████████████████████████████████████████████                                    | 490/889 [01:44<00:59,  6.72it/s]"
     ]
    },
    {
     "name": "stdout",
     "output_type": "stream",
     "text": [
      "音频：dataset/UrbanSound8K/audio/fold2\\197320-6-12-0.wav 的预测结果标签为：1\n",
      "音频：dataset/UrbanSound8K/audio/fold2\\197320-6-2-0.wav 的预测结果标签为：1\n"
     ]
    },
    {
     "name": "stderr",
     "output_type": "stream",
     "text": [
      "\r",
      " 55%|████████████████████████████████████████████▏                                   | 491/889 [01:44<00:55,  7.19it/s]"
     ]
    },
    {
     "name": "stdout",
     "output_type": "stream",
     "text": [
      "音频：dataset/UrbanSound8K/audio/fold2\\197320-6-3-0.wav 的预测结果标签为：1\n",
      "音频：dataset/UrbanSound8K/audio/fold2\\197320-6-4-0.wav 的预测结果标签为：1\n",
      "音频：dataset/UrbanSound8K/audio/fold2\\197320-6-5-0.wav 的预测结果标签为：1"
     ]
    },
    {
     "name": "stderr",
     "output_type": "stream",
     "text": [
      " 56%|████████████████████████████████████████████▌                                   | 495/889 [01:44<00:44,  8.80it/s]"
     ]
    },
    {
     "name": "stdout",
     "output_type": "stream",
     "text": [
      "\n",
      "音频：dataset/UrbanSound8K/audio/fold2\\197320-6-6-0.wav 的预测结果标签为：1\n",
      "音频：dataset/UrbanSound8K/audio/fold2\\197320-6-7-0.wav 的预测结果标签为：1\n"
     ]
    },
    {
     "name": "stderr",
     "output_type": "stream",
     "text": [
      "\r",
      " 56%|████████████████████████████████████████████▋                                   | 497/889 [01:44<00:41,  9.35it/s]"
     ]
    },
    {
     "name": "stdout",
     "output_type": "stream",
     "text": [
      "音频：dataset/UrbanSound8K/audio/fold2\\197320-6-8-0.wav 的预测结果标签为：1\n",
      "音频：dataset/UrbanSound8K/audio/fold2\\197320-6-9-0.wav 的预测结果标签为：1\n"
     ]
    },
    {
     "name": "stderr",
     "output_type": "stream",
     "text": [
      "\r",
      " 56%|████████████████████████████████████████████▉                                   | 499/889 [01:44<00:41,  9.31it/s]"
     ]
    },
    {
     "name": "stdout",
     "output_type": "stream",
     "text": [
      "音频：dataset/UrbanSound8K/audio/fold2\\201652-5-0-0.wav 的预测结果标签为：1\n",
      "音频：dataset/UrbanSound8K/audio/fold2\\201652-5-0-1.wav 的预测结果标签为：1\n"
     ]
    },
    {
     "name": "stderr",
     "output_type": "stream",
     "text": [
      " 56%|█████████████████████████████████████████████                                   | 501/889 [01:45<00:41,  9.42it/s]"
     ]
    },
    {
     "name": "stdout",
     "output_type": "stream",
     "text": [
      "音频：dataset/UrbanSound8K/audio/fold2\\201652-5-0-2.wav 的预测结果标签为：1\n",
      "音频：dataset/UrbanSound8K/audio/fold2\\201652-5-0-3.wav 的预测结果标签为：1\n"
     ]
    },
    {
     "name": "stderr",
     "output_type": "stream",
     "text": [
      " 57%|█████████████████████████████████████████████▎                                  | 504/889 [01:45<00:40,  9.44it/s]"
     ]
    },
    {
     "name": "stdout",
     "output_type": "stream",
     "text": [
      "音频：dataset/UrbanSound8K/audio/fold2\\201652-5-1-0.wav 的预测结果标签为：1\n",
      "音频：dataset/UrbanSound8K/audio/fold2\\201652-5-2-0.wav 的预测结果标签为：1\n",
      "音频：dataset/UrbanSound8K/audio/fold2\\201652-5-2-1.wav 的预测结果标签为：1\n"
     ]
    },
    {
     "name": "stderr",
     "output_type": "stream",
     "text": [
      " 57%|█████████████████████████████████████████████▌                                  | 507/889 [01:45<00:39,  9.76it/s]"
     ]
    },
    {
     "name": "stdout",
     "output_type": "stream",
     "text": [
      "音频：dataset/UrbanSound8K/audio/fold2\\201652-5-2-2.wav 的预测结果标签为：1\n",
      "音频：dataset/UrbanSound8K/audio/fold2\\201652-5-2-3.wav 的预测结果标签为：1\n",
      "音频：dataset/UrbanSound8K/audio/fold2\\201652-5-2-4.wav 的预测结果标签为：1\n"
     ]
    },
    {
     "name": "stderr",
     "output_type": "stream",
     "text": [
      "\r",
      " 57%|█████████████████████████████████████████████▊                                  | 509/889 [01:45<00:38,  9.87it/s]"
     ]
    },
    {
     "name": "stdout",
     "output_type": "stream",
     "text": [
      "音频：dataset/UrbanSound8K/audio/fold2\\201652-5-2-5.wav 的预测结果标签为：1\n",
      "音频：dataset/UrbanSound8K/audio/fold2\\201652-5-3-0.wav 的预测结果标签为：1\n"
     ]
    },
    {
     "name": "stderr",
     "output_type": "stream",
     "text": [
      "\r",
      " 57%|█████████████████████████████████████████████▉                                  | 510/889 [01:46<00:42,  8.96it/s]"
     ]
    },
    {
     "name": "stdout",
     "output_type": "stream",
     "text": [
      "音频：dataset/UrbanSound8K/audio/fold2\\201652-5-3-1.wav 的预测结果标签为：1\n",
      "音频：dataset/UrbanSound8K/audio/fold2\\201652-5-3-2.wav 的预测结果标签为：1\n",
      "音频：dataset/UrbanSound8K/audio/fold2\\201652-5-3-3.wav 的预测结果标签为：1"
     ]
    },
    {
     "name": "stderr",
     "output_type": "stream",
     "text": [
      " 58%|██████████████████████████████████████████████▏                                 | 513/889 [01:46<00:40,  9.32it/s]"
     ]
    },
    {
     "name": "stdout",
     "output_type": "stream",
     "text": [
      "\n",
      "音频：dataset/UrbanSound8K/audio/fold2\\201652-5-3-4.wav 的预测结果标签为：1\n"
     ]
    },
    {
     "name": "stderr",
     "output_type": "stream",
     "text": [
      " 58%|██████████████████████████████████████████████▎                                 | 515/889 [01:46<00:41,  8.98it/s]"
     ]
    },
    {
     "name": "stdout",
     "output_type": "stream",
     "text": [
      "音频：dataset/UrbanSound8K/audio/fold2\\201652-5-4-0.wav 的预测结果标签为：1\n",
      "音频：dataset/UrbanSound8K/audio/fold2\\201652-5-4-1.wav 的预测结果标签为：1\n"
     ]
    },
    {
     "name": "stderr",
     "output_type": "stream",
     "text": [
      " 58%|██████████████████████████████████████████████▌                                 | 517/889 [01:46<00:39,  9.37it/s]"
     ]
    },
    {
     "name": "stdout",
     "output_type": "stream",
     "text": [
      "音频：dataset/UrbanSound8K/audio/fold2\\201652-5-4-2.wav 的预测结果标签为：1\n",
      "音频：dataset/UrbanSound8K/audio/fold2\\201652-5-4-3.wav 的预测结果标签为：1\n",
      "音频：dataset/UrbanSound8K/audio/fold2\\201652-5-4-4.wav 的预测结果标签为：1"
     ]
    },
    {
     "name": "stderr",
     "output_type": "stream",
     "text": [
      "\r",
      " 58%|██████████████████████████████████████████████▋                                 | 519/889 [01:47<00:39,  9.42it/s]"
     ]
    },
    {
     "name": "stdout",
     "output_type": "stream",
     "text": [
      "\n",
      "音频：dataset/UrbanSound8K/audio/fold2\\201652-5-4-5.wav 的预测结果标签为：1\n"
     ]
    },
    {
     "name": "stderr",
     "output_type": "stream",
     "text": [
      " 59%|██████████████████████████████████████████████▉                                 | 521/889 [01:47<00:39,  9.30it/s]"
     ]
    },
    {
     "name": "stdout",
     "output_type": "stream",
     "text": [
      "音频：dataset/UrbanSound8K/audio/fold2\\201652-5-4-6.wav 的预测结果标签为：1\n",
      "音频：dataset/UrbanSound8K/audio/fold2\\201652-5-4-7.wav 的预测结果标签为：1\n"
     ]
    },
    {
     "name": "stderr",
     "output_type": "stream",
     "text": [
      " 59%|███████████████████████████████████████████████                                 | 523/889 [01:47<00:40,  9.11it/s]"
     ]
    },
    {
     "name": "stdout",
     "output_type": "stream",
     "text": [
      "音频：dataset/UrbanSound8K/audio/fold2\\201652-5-4-8.wav 的预测结果标签为：1\n",
      "音频：dataset/UrbanSound8K/audio/fold2\\201652-5-4-9.wav 的预测结果标签为：1\n"
     ]
    },
    {
     "name": "stderr",
     "output_type": "stream",
     "text": [
      " 59%|███████████████████████████████████████████████▏                                | 525/889 [01:47<00:39,  9.14it/s]"
     ]
    },
    {
     "name": "stdout",
     "output_type": "stream",
     "text": [
      "音频：dataset/UrbanSound8K/audio/fold2\\201652-5-5-0.wav 的预测结果标签为：1\n",
      "音频：dataset/UrbanSound8K/audio/fold2\\201652-5-5-1.wav 的预测结果标签为：1\n"
     ]
    },
    {
     "name": "stderr",
     "output_type": "stream",
     "text": [
      "\r",
      " 59%|███████████████████████████████████████████████▍                                | 527/889 [01:47<00:38,  9.39it/s]"
     ]
    },
    {
     "name": "stdout",
     "output_type": "stream",
     "text": [
      "音频：dataset/UrbanSound8K/audio/fold2\\201652-5-5-2.wav 的预测结果标签为：1\n",
      "音频：dataset/UrbanSound8K/audio/fold2\\201652-5-5-3.wav 的预测结果标签为：1\n"
     ]
    },
    {
     "name": "stderr",
     "output_type": "stream",
     "text": [
      " 60%|███████████████████████████████████████████████▌                                | 529/889 [01:48<00:40,  8.82it/s]"
     ]
    },
    {
     "name": "stdout",
     "output_type": "stream",
     "text": [
      "音频：dataset/UrbanSound8K/audio/fold2\\201652-5-5-4.wav 的预测结果标签为：1\n",
      "音频：dataset/UrbanSound8K/audio/fold2\\201652-5-5-5.wav 的预测结果标签为：1\n"
     ]
    },
    {
     "name": "stderr",
     "output_type": "stream",
     "text": [
      " 60%|███████████████████████████████████████████████▊                                | 531/889 [01:48<00:42,  8.36it/s]"
     ]
    },
    {
     "name": "stdout",
     "output_type": "stream",
     "text": [
      "音频：dataset/UrbanSound8K/audio/fold2\\203128-3-1-0.wav 的预测结果标签为：1\n",
      "音频：dataset/UrbanSound8K/audio/fold2\\203128-3-3-0.wav 的预测结果标签为：1\n"
     ]
    },
    {
     "name": "stderr",
     "output_type": "stream",
     "text": [
      " 60%|███████████████████████████████████████████████▉                                | 533/889 [01:48<00:52,  6.76it/s]"
     ]
    },
    {
     "name": "stdout",
     "output_type": "stream",
     "text": [
      "音频：dataset/UrbanSound8K/audio/fold2\\203128-3-6-0.wav 的预测结果标签为：1\n",
      "音频：dataset/UrbanSound8K/audio/fold2\\203128-3-9-0.wav 的预测结果标签为：1\n"
     ]
    },
    {
     "name": "stderr",
     "output_type": "stream",
     "text": [
      "\r",
      " 60%|████████████████████████████████████████████████                                | 534/889 [01:49<01:05,  5.43it/s]"
     ]
    },
    {
     "name": "stdout",
     "output_type": "stream",
     "text": [
      "音频：dataset/UrbanSound8K/audio/fold2\\203929-7-1-0.wav 的预测结果标签为：1\n"
     ]
    },
    {
     "name": "stderr",
     "output_type": "stream",
     "text": [
      "\r",
      " 60%|████████████████████████████████████████████████▏                               | 535/889 [01:49<01:15,  4.67it/s]"
     ]
    },
    {
     "name": "stdout",
     "output_type": "stream",
     "text": [
      "音频：dataset/UrbanSound8K/audio/fold2\\203929-7-1-1.wav 的预测结果标签为：1\n"
     ]
    },
    {
     "name": "stderr",
     "output_type": "stream",
     "text": [
      "\r",
      " 60%|████████████████████████████████████████████████▏                               | 536/889 [01:49<01:21,  4.32it/s]"
     ]
    },
    {
     "name": "stdout",
     "output_type": "stream",
     "text": [
      "音频：dataset/UrbanSound8K/audio/fold2\\203929-7-1-2.wav 的预测结果标签为：1\n"
     ]
    },
    {
     "name": "stderr",
     "output_type": "stream",
     "text": [
      "\r",
      " 60%|████████████████████████████████████████████████▎                               | 537/889 [01:49<01:25,  4.09it/s]"
     ]
    },
    {
     "name": "stdout",
     "output_type": "stream",
     "text": [
      "音频：dataset/UrbanSound8K/audio/fold2\\203929-7-1-3.wav 的预测结果标签为：1\n"
     ]
    },
    {
     "name": "stderr",
     "output_type": "stream",
     "text": [
      "\r",
      " 61%|████████████████████████████████████████████████▍                               | 538/889 [01:50<01:27,  4.03it/s]"
     ]
    },
    {
     "name": "stdout",
     "output_type": "stream",
     "text": [
      "音频：dataset/UrbanSound8K/audio/fold2\\203929-7-1-6.wav 的预测结果标签为：1\n"
     ]
    },
    {
     "name": "stderr",
     "output_type": "stream",
     "text": [
      "\r",
      " 61%|████████████████████████████████████████████████▌                               | 539/889 [01:50<01:29,  3.92it/s]"
     ]
    },
    {
     "name": "stdout",
     "output_type": "stream",
     "text": [
      "音频：dataset/UrbanSound8K/audio/fold2\\203929-7-1-7.wav 的预测结果标签为：1\n"
     ]
    },
    {
     "name": "stderr",
     "output_type": "stream",
     "text": [
      "\r",
      " 61%|████████████████████████████████████████████████▌                               | 540/889 [01:50<01:28,  3.94it/s]"
     ]
    },
    {
     "name": "stdout",
     "output_type": "stream",
     "text": [
      "音频：dataset/UrbanSound8K/audio/fold2\\203929-7-1-8.wav 的预测结果标签为：1\n"
     ]
    },
    {
     "name": "stderr",
     "output_type": "stream",
     "text": [
      "\r",
      " 61%|████████████████████████████████████████████████▋                               | 541/889 [01:50<01:29,  3.88it/s]"
     ]
    },
    {
     "name": "stdout",
     "output_type": "stream",
     "text": [
      "音频：dataset/UrbanSound8K/audio/fold2\\203929-7-10-0.wav 的预测结果标签为：1\n"
     ]
    },
    {
     "name": "stderr",
     "output_type": "stream",
     "text": [
      "\r",
      " 61%|████████████████████████████████████████████████▊                               | 542/889 [01:51<01:34,  3.69it/s]"
     ]
    },
    {
     "name": "stdout",
     "output_type": "stream",
     "text": [
      "音频：dataset/UrbanSound8K/audio/fold2\\203929-7-10-1.wav 的预测结果标签为：1\n"
     ]
    },
    {
     "name": "stderr",
     "output_type": "stream",
     "text": [
      "\r",
      " 61%|████████████████████████████████████████████████▊                               | 543/889 [01:51<01:32,  3.75it/s]"
     ]
    },
    {
     "name": "stdout",
     "output_type": "stream",
     "text": [
      "音频：dataset/UrbanSound8K/audio/fold2\\203929-7-10-2.wav 的预测结果标签为：1\n"
     ]
    },
    {
     "name": "stderr",
     "output_type": "stream",
     "text": [
      "\r",
      " 61%|████████████████████████████████████████████████▉                               | 544/889 [01:51<01:31,  3.75it/s]"
     ]
    },
    {
     "name": "stdout",
     "output_type": "stream",
     "text": [
      "音频：dataset/UrbanSound8K/audio/fold2\\203929-7-2-0.wav 的预测结果标签为：1\n"
     ]
    },
    {
     "name": "stderr",
     "output_type": "stream",
     "text": [
      "\r",
      " 61%|█████████████████████████████████████████████████                               | 545/889 [01:52<01:34,  3.65it/s]"
     ]
    },
    {
     "name": "stdout",
     "output_type": "stream",
     "text": [
      "音频：dataset/UrbanSound8K/audio/fold2\\203929-7-2-11.wav 的预测结果标签为：1\n"
     ]
    },
    {
     "name": "stderr",
     "output_type": "stream",
     "text": [
      "\r",
      " 61%|█████████████████████████████████████████████████▏                              | 546/889 [01:52<01:35,  3.60it/s]"
     ]
    },
    {
     "name": "stdout",
     "output_type": "stream",
     "text": [
      "音频：dataset/UrbanSound8K/audio/fold2\\203929-7-2-2.wav 的预测结果标签为：1\n"
     ]
    },
    {
     "name": "stderr",
     "output_type": "stream",
     "text": [
      "\r",
      " 62%|█████████████████████████████████████████████████▏                              | 547/889 [01:52<01:33,  3.66it/s]"
     ]
    },
    {
     "name": "stdout",
     "output_type": "stream",
     "text": [
      "音频：dataset/UrbanSound8K/audio/fold2\\203929-7-2-3.wav 的预测结果标签为：1\n"
     ]
    },
    {
     "name": "stderr",
     "output_type": "stream",
     "text": [
      "\r",
      " 62%|█████████████████████████████████████████████████▎                              | 548/889 [01:52<01:32,  3.70it/s]"
     ]
    },
    {
     "name": "stdout",
     "output_type": "stream",
     "text": [
      "音频：dataset/UrbanSound8K/audio/fold2\\203929-7-2-5.wav 的预测结果标签为：1\n"
     ]
    },
    {
     "name": "stderr",
     "output_type": "stream",
     "text": [
      "\r",
      " 62%|█████████████████████████████████████████████████▍                              | 549/889 [01:53<01:34,  3.62it/s]"
     ]
    },
    {
     "name": "stdout",
     "output_type": "stream",
     "text": [
      "音频：dataset/UrbanSound8K/audio/fold2\\203929-7-2-6.wav 的预测结果标签为：1\n"
     ]
    },
    {
     "name": "stderr",
     "output_type": "stream",
     "text": [
      "\r",
      " 62%|█████████████████████████████████████████████████▍                              | 550/889 [01:53<01:32,  3.68it/s]"
     ]
    },
    {
     "name": "stdout",
     "output_type": "stream",
     "text": [
      "音频：dataset/UrbanSound8K/audio/fold2\\203929-7-2-8.wav 的预测结果标签为：1\n"
     ]
    },
    {
     "name": "stderr",
     "output_type": "stream",
     "text": [
      "\r",
      " 62%|█████████████████████████████████████████████████▌                              | 551/889 [01:53<01:31,  3.68it/s]"
     ]
    },
    {
     "name": "stdout",
     "output_type": "stream",
     "text": [
      "音频：dataset/UrbanSound8K/audio/fold2\\203929-7-2-9.wav 的预测结果标签为：1\n"
     ]
    },
    {
     "name": "stderr",
     "output_type": "stream",
     "text": [
      "\r",
      " 62%|█████████████████████████████████████████████████▋                              | 552/889 [01:53<01:30,  3.72it/s]"
     ]
    },
    {
     "name": "stdout",
     "output_type": "stream",
     "text": [
      "音频：dataset/UrbanSound8K/audio/fold2\\203929-7-3-1.wav 的预测结果标签为：1\n"
     ]
    },
    {
     "name": "stderr",
     "output_type": "stream",
     "text": [
      "\r",
      " 62%|█████████████████████████████████████████████████▊                              | 553/889 [01:54<01:33,  3.61it/s]"
     ]
    },
    {
     "name": "stdout",
     "output_type": "stream",
     "text": [
      "音频：dataset/UrbanSound8K/audio/fold2\\203929-7-3-10.wav 的预测结果标签为：1\n"
     ]
    },
    {
     "name": "stderr",
     "output_type": "stream",
     "text": [
      "\r",
      " 62%|█████████████████████████████████████████████████▊                              | 554/889 [01:54<01:30,  3.68it/s]"
     ]
    },
    {
     "name": "stdout",
     "output_type": "stream",
     "text": [
      "音频：dataset/UrbanSound8K/audio/fold2\\203929-7-3-2.wav 的预测结果标签为：1\n"
     ]
    },
    {
     "name": "stderr",
     "output_type": "stream",
     "text": [
      "\r",
      " 62%|█████████████████████████████████████████████████▉                              | 555/889 [01:54<01:31,  3.66it/s]"
     ]
    },
    {
     "name": "stdout",
     "output_type": "stream",
     "text": [
      "音频：dataset/UrbanSound8K/audio/fold2\\203929-7-3-3.wav 的预测结果标签为：1\n"
     ]
    },
    {
     "name": "stderr",
     "output_type": "stream",
     "text": [
      "\r",
      " 63%|██████████████████████████████████████████████████                              | 556/889 [01:55<01:33,  3.54it/s]"
     ]
    },
    {
     "name": "stdout",
     "output_type": "stream",
     "text": [
      "音频：dataset/UrbanSound8K/audio/fold2\\203929-7-3-5.wav 的预测结果标签为：1\n"
     ]
    },
    {
     "name": "stderr",
     "output_type": "stream",
     "text": [
      "\r",
      " 63%|██████████████████████████████████████████████████                              | 557/889 [01:55<01:34,  3.53it/s]"
     ]
    },
    {
     "name": "stdout",
     "output_type": "stream",
     "text": [
      "音频：dataset/UrbanSound8K/audio/fold2\\203929-7-3-9.wav 的预测结果标签为：1\n"
     ]
    },
    {
     "name": "stderr",
     "output_type": "stream",
     "text": [
      "\r",
      " 63%|██████████████████████████████████████████████████▏                             | 558/889 [01:55<01:32,  3.59it/s]"
     ]
    },
    {
     "name": "stdout",
     "output_type": "stream",
     "text": [
      "音频：dataset/UrbanSound8K/audio/fold2\\203929-7-4-0.wav 的预测结果标签为：1\n"
     ]
    },
    {
     "name": "stderr",
     "output_type": "stream",
     "text": [
      "\r",
      " 63%|██████████████████████████████████████████████████▎                             | 559/889 [01:55<01:30,  3.67it/s]"
     ]
    },
    {
     "name": "stdout",
     "output_type": "stream",
     "text": [
      "音频：dataset/UrbanSound8K/audio/fold2\\203929-7-4-1.wav 的预测结果标签为：1\n"
     ]
    },
    {
     "name": "stderr",
     "output_type": "stream",
     "text": [
      "\r",
      " 63%|██████████████████████████████████████████████████▍                             | 560/889 [01:56<01:32,  3.58it/s]"
     ]
    },
    {
     "name": "stdout",
     "output_type": "stream",
     "text": [
      "音频：dataset/UrbanSound8K/audio/fold2\\203929-7-4-10.wav 的预测结果标签为：1\n"
     ]
    },
    {
     "name": "stderr",
     "output_type": "stream",
     "text": [
      "\r",
      " 63%|██████████████████████████████████████████████████▍                             | 561/889 [01:56<01:29,  3.68it/s]"
     ]
    },
    {
     "name": "stdout",
     "output_type": "stream",
     "text": [
      "音频：dataset/UrbanSound8K/audio/fold2\\203929-7-4-11.wav 的预测结果标签为：1\n"
     ]
    },
    {
     "name": "stderr",
     "output_type": "stream",
     "text": [
      "\r",
      " 63%|██████████████████████████████████████████████████▌                             | 562/889 [01:56<01:27,  3.76it/s]"
     ]
    },
    {
     "name": "stdout",
     "output_type": "stream",
     "text": [
      "音频：dataset/UrbanSound8K/audio/fold2\\203929-7-4-12.wav 的预测结果标签为：1\n"
     ]
    },
    {
     "name": "stderr",
     "output_type": "stream",
     "text": [
      "\r",
      " 63%|██████████████████████████████████████████████████▋                             | 563/889 [01:56<01:26,  3.78it/s]"
     ]
    },
    {
     "name": "stdout",
     "output_type": "stream",
     "text": [
      "音频：dataset/UrbanSound8K/audio/fold2\\203929-7-4-2.wav 的预测结果标签为：1\n"
     ]
    },
    {
     "name": "stderr",
     "output_type": "stream",
     "text": [
      "\r",
      " 63%|██████████████████████████████████████████████████▊                             | 564/889 [01:57<01:29,  3.64it/s]"
     ]
    },
    {
     "name": "stdout",
     "output_type": "stream",
     "text": [
      "音频：dataset/UrbanSound8K/audio/fold2\\203929-7-4-4.wav 的预测结果标签为：1\n"
     ]
    },
    {
     "name": "stderr",
     "output_type": "stream",
     "text": [
      "\r",
      " 64%|██████████████████████████████████████████████████▊                             | 565/889 [01:57<01:27,  3.70it/s]"
     ]
    },
    {
     "name": "stdout",
     "output_type": "stream",
     "text": [
      "音频：dataset/UrbanSound8K/audio/fold2\\203929-7-4-6.wav 的预测结果标签为：1\n"
     ]
    },
    {
     "name": "stderr",
     "output_type": "stream",
     "text": [
      "\r",
      " 64%|██████████████████████████████████████████████████▉                             | 566/889 [01:57<01:25,  3.78it/s]"
     ]
    },
    {
     "name": "stdout",
     "output_type": "stream",
     "text": [
      "音频：dataset/UrbanSound8K/audio/fold2\\203929-7-4-7.wav 的预测结果标签为：1\n"
     ]
    },
    {
     "name": "stderr",
     "output_type": "stream",
     "text": [
      "\r",
      " 64%|███████████████████████████████████████████████████                             | 567/889 [01:57<01:25,  3.77it/s]"
     ]
    },
    {
     "name": "stdout",
     "output_type": "stream",
     "text": [
      "音频：dataset/UrbanSound8K/audio/fold2\\203929-7-4-8.wav 的预测结果标签为：1\n"
     ]
    },
    {
     "name": "stderr",
     "output_type": "stream",
     "text": [
      "\r",
      " 64%|███████████████████████████████████████████████████                             | 568/889 [01:58<01:27,  3.68it/s]"
     ]
    },
    {
     "name": "stdout",
     "output_type": "stream",
     "text": [
      "音频：dataset/UrbanSound8K/audio/fold2\\203929-7-5-0.wav 的预测结果标签为：1\n"
     ]
    },
    {
     "name": "stderr",
     "output_type": "stream",
     "text": [
      "\r",
      " 64%|███████████████████████████████████████████████████▏                            | 569/889 [01:58<01:26,  3.71it/s]"
     ]
    },
    {
     "name": "stdout",
     "output_type": "stream",
     "text": [
      "音频：dataset/UrbanSound8K/audio/fold2\\203929-7-5-1.wav 的预测结果标签为：1\n"
     ]
    },
    {
     "name": "stderr",
     "output_type": "stream",
     "text": [
      "\r",
      " 64%|███████████████████████████████████████████████████▎                            | 570/889 [01:58<01:24,  3.76it/s]"
     ]
    },
    {
     "name": "stdout",
     "output_type": "stream",
     "text": [
      "音频：dataset/UrbanSound8K/audio/fold2\\203929-7-5-10.wav 的预测结果标签为：1\n"
     ]
    },
    {
     "name": "stderr",
     "output_type": "stream",
     "text": [
      "\r",
      " 64%|███████████████████████████████████████████████████▍                            | 571/889 [01:59<01:23,  3.80it/s]"
     ]
    },
    {
     "name": "stdout",
     "output_type": "stream",
     "text": [
      "音频：dataset/UrbanSound8K/audio/fold2\\203929-7-5-11.wav 的预测结果标签为：1\n"
     ]
    },
    {
     "name": "stderr",
     "output_type": "stream",
     "text": [
      "\r",
      " 64%|███████████████████████████████████████████████████▍                            | 572/889 [01:59<01:24,  3.77it/s]"
     ]
    },
    {
     "name": "stdout",
     "output_type": "stream",
     "text": [
      "音频：dataset/UrbanSound8K/audio/fold2\\203929-7-5-6.wav 的预测结果标签为：1\n"
     ]
    },
    {
     "name": "stderr",
     "output_type": "stream",
     "text": [
      "\r",
      " 64%|███████████████████████████████████████████████████▌                            | 573/889 [01:59<01:25,  3.69it/s]"
     ]
    },
    {
     "name": "stdout",
     "output_type": "stream",
     "text": [
      "音频：dataset/UrbanSound8K/audio/fold2\\203929-7-5-7.wav 的预测结果标签为：1\n"
     ]
    },
    {
     "name": "stderr",
     "output_type": "stream",
     "text": [
      "\r",
      " 65%|███████████████████████████████████████████████████▋                            | 574/889 [01:59<01:25,  3.70it/s]"
     ]
    },
    {
     "name": "stdout",
     "output_type": "stream",
     "text": [
      "音频：dataset/UrbanSound8K/audio/fold2\\203929-7-6-1.wav 的预测结果标签为：1\n"
     ]
    },
    {
     "name": "stderr",
     "output_type": "stream",
     "text": [
      "\r",
      " 65%|███████████████████████████████████████████████████▋                            | 575/889 [02:00<01:24,  3.70it/s]"
     ]
    },
    {
     "name": "stdout",
     "output_type": "stream",
     "text": [
      "音频：dataset/UrbanSound8K/audio/fold2\\203929-7-6-10.wav 的预测结果标签为：1\n"
     ]
    },
    {
     "name": "stderr",
     "output_type": "stream",
     "text": [
      "\r",
      " 65%|███████████████████████████████████████████████████▊                            | 576/889 [02:00<01:24,  3.72it/s]"
     ]
    },
    {
     "name": "stdout",
     "output_type": "stream",
     "text": [
      "音频：dataset/UrbanSound8K/audio/fold2\\203929-7-6-11.wav 的预测结果标签为：1\n"
     ]
    },
    {
     "name": "stderr",
     "output_type": "stream",
     "text": [
      "\r",
      " 65%|███████████████████████████████████████████████████▉                            | 577/889 [02:00<01:25,  3.66it/s]"
     ]
    },
    {
     "name": "stdout",
     "output_type": "stream",
     "text": [
      "音频：dataset/UrbanSound8K/audio/fold2\\203929-7-6-2.wav 的预测结果标签为：1\n"
     ]
    },
    {
     "name": "stderr",
     "output_type": "stream",
     "text": [
      "\r",
      " 65%|████████████████████████████████████████████████████                            | 578/889 [02:00<01:24,  3.69it/s]"
     ]
    },
    {
     "name": "stdout",
     "output_type": "stream",
     "text": [
      "音频：dataset/UrbanSound8K/audio/fold2\\203929-7-6-3.wav 的预测结果标签为：1\n"
     ]
    },
    {
     "name": "stderr",
     "output_type": "stream",
     "text": [
      "\r",
      " 65%|████████████████████████████████████████████████████                            | 579/889 [02:01<01:25,  3.63it/s]"
     ]
    },
    {
     "name": "stdout",
     "output_type": "stream",
     "text": [
      "音频：dataset/UrbanSound8K/audio/fold2\\203929-7-6-8.wav 的预测结果标签为：1\n"
     ]
    },
    {
     "name": "stderr",
     "output_type": "stream",
     "text": [
      "\r",
      " 65%|████████████████████████████████████████████████████▏                           | 580/889 [02:01<01:25,  3.62it/s]"
     ]
    },
    {
     "name": "stdout",
     "output_type": "stream",
     "text": [
      "音频：dataset/UrbanSound8K/audio/fold2\\203929-7-6-9.wav 的预测结果标签为：1\n"
     ]
    },
    {
     "name": "stderr",
     "output_type": "stream",
     "text": [
      "\r",
      " 65%|████████████████████████████████████████████████████▎                           | 581/889 [02:01<01:25,  3.61it/s]"
     ]
    },
    {
     "name": "stdout",
     "output_type": "stream",
     "text": [
      "音频：dataset/UrbanSound8K/audio/fold2\\203929-7-7-0.wav 的预测结果标签为：1\n"
     ]
    },
    {
     "name": "stderr",
     "output_type": "stream",
     "text": [
      "\r",
      " 65%|████████████████████████████████████████████████████▎                           | 582/889 [02:02<01:24,  3.65it/s]"
     ]
    },
    {
     "name": "stdout",
     "output_type": "stream",
     "text": [
      "音频：dataset/UrbanSound8K/audio/fold2\\203929-7-7-10.wav 的预测结果标签为：1\n"
     ]
    },
    {
     "name": "stderr",
     "output_type": "stream",
     "text": [
      "\r",
      " 66%|████████████████████████████████████████████████████▍                           | 583/889 [02:02<01:25,  3.57it/s]"
     ]
    },
    {
     "name": "stdout",
     "output_type": "stream",
     "text": [
      "音频：dataset/UrbanSound8K/audio/fold2\\203929-7-7-12.wav 的预测结果标签为：1\n"
     ]
    },
    {
     "name": "stderr",
     "output_type": "stream",
     "text": [
      "\r",
      " 66%|████████████████████████████████████████████████████▌                           | 584/889 [02:02<01:23,  3.64it/s]"
     ]
    },
    {
     "name": "stdout",
     "output_type": "stream",
     "text": [
      "音频：dataset/UrbanSound8K/audio/fold2\\203929-7-7-13.wav 的预测结果标签为：1\n"
     ]
    },
    {
     "name": "stderr",
     "output_type": "stream",
     "text": [
      "\r",
      " 66%|████████████████████████████████████████████████████▋                           | 585/889 [02:02<01:23,  3.64it/s]"
     ]
    },
    {
     "name": "stdout",
     "output_type": "stream",
     "text": [
      "音频：dataset/UrbanSound8K/audio/fold2\\203929-7-7-14.wav 的预测结果标签为：1\n"
     ]
    },
    {
     "name": "stderr",
     "output_type": "stream",
     "text": [
      "\r",
      " 66%|████████████████████████████████████████████████████▋                           | 586/889 [02:03<01:22,  3.69it/s]"
     ]
    },
    {
     "name": "stdout",
     "output_type": "stream",
     "text": [
      "音频：dataset/UrbanSound8K/audio/fold2\\203929-7-7-15.wav 的预测结果标签为：1\n"
     ]
    },
    {
     "name": "stderr",
     "output_type": "stream",
     "text": [
      "\r",
      " 66%|████████████████████████████████████████████████████▊                           | 587/889 [02:03<01:22,  3.68it/s]"
     ]
    },
    {
     "name": "stdout",
     "output_type": "stream",
     "text": [
      "音频：dataset/UrbanSound8K/audio/fold2\\203929-7-7-16.wav 的预测结果标签为：1\n"
     ]
    },
    {
     "name": "stderr",
     "output_type": "stream",
     "text": [
      "\r",
      " 66%|████████████████████████████████████████████████████▉                           | 588/889 [02:03<01:20,  3.74it/s]"
     ]
    },
    {
     "name": "stdout",
     "output_type": "stream",
     "text": [
      "音频：dataset/UrbanSound8K/audio/fold2\\203929-7-7-2.wav 的预测结果标签为：1\n"
     ]
    },
    {
     "name": "stderr",
     "output_type": "stream",
     "text": [
      "\r",
      " 66%|█████████████████████████████████████████████████████                           | 589/889 [02:03<01:19,  3.75it/s]"
     ]
    },
    {
     "name": "stdout",
     "output_type": "stream",
     "text": [
      "音频：dataset/UrbanSound8K/audio/fold2\\203929-7-7-3.wav 的预测结果标签为：1\n"
     ]
    },
    {
     "name": "stderr",
     "output_type": "stream",
     "text": [
      "\r",
      " 66%|█████████████████████████████████████████████████████                           | 590/889 [02:04<01:23,  3.58it/s]"
     ]
    },
    {
     "name": "stdout",
     "output_type": "stream",
     "text": [
      "音频：dataset/UrbanSound8K/audio/fold2\\203929-7-7-4.wav 的预测结果标签为：1\n"
     ]
    },
    {
     "name": "stderr",
     "output_type": "stream",
     "text": [
      "\r",
      " 66%|█████████████████████████████████████████████████████▏                          | 591/889 [02:04<01:22,  3.62it/s]"
     ]
    },
    {
     "name": "stdout",
     "output_type": "stream",
     "text": [
      "音频：dataset/UrbanSound8K/audio/fold2\\203929-7-7-9.wav 的预测结果标签为：1\n"
     ]
    },
    {
     "name": "stderr",
     "output_type": "stream",
     "text": [
      "\r",
      " 67%|█████████████████████████████████████████████████████▎                          | 592/889 [02:04<01:21,  3.63it/s]"
     ]
    },
    {
     "name": "stdout",
     "output_type": "stream",
     "text": [
      "音频：dataset/UrbanSound8K/audio/fold2\\203929-7-8-0.wav 的预测结果标签为：1\n"
     ]
    },
    {
     "name": "stderr",
     "output_type": "stream",
     "text": [
      "\r",
      " 67%|█████████████████████████████████████████████████████▎                          | 593/889 [02:05<01:22,  3.59it/s]"
     ]
    },
    {
     "name": "stdout",
     "output_type": "stream",
     "text": [
      "音频：dataset/UrbanSound8K/audio/fold2\\203929-7-9-0.wav 的预测结果标签为：1\n"
     ]
    },
    {
     "name": "stderr",
     "output_type": "stream",
     "text": [
      "\r",
      " 67%|█████████████████████████████████████████████████████▍                          | 594/889 [02:05<01:21,  3.63it/s]"
     ]
    },
    {
     "name": "stdout",
     "output_type": "stream",
     "text": [
      "音频：dataset/UrbanSound8K/audio/fold2\\203929-7-9-11.wav 的预测结果标签为：1\n"
     ]
    },
    {
     "name": "stderr",
     "output_type": "stream",
     "text": [
      "\r",
      " 67%|█████████████████████████████████████████████████████▌                          | 595/889 [02:05<01:19,  3.69it/s]"
     ]
    },
    {
     "name": "stdout",
     "output_type": "stream",
     "text": [
      "音频：dataset/UrbanSound8K/audio/fold2\\203929-7-9-12.wav 的预测结果标签为：1\n"
     ]
    },
    {
     "name": "stderr",
     "output_type": "stream",
     "text": [
      "\r",
      " 67%|█████████████████████████████████████████████████████▋                          | 596/889 [02:05<01:18,  3.72it/s]"
     ]
    },
    {
     "name": "stdout",
     "output_type": "stream",
     "text": [
      "音频：dataset/UrbanSound8K/audio/fold2\\203929-7-9-15.wav 的预测结果标签为：1\n"
     ]
    },
    {
     "name": "stderr",
     "output_type": "stream",
     "text": [
      "\r",
      " 67%|█████████████████████████████████████████████████████▋                          | 597/889 [02:06<01:20,  3.61it/s]"
     ]
    },
    {
     "name": "stdout",
     "output_type": "stream",
     "text": [
      "音频：dataset/UrbanSound8K/audio/fold2\\203929-7-9-17.wav 的预测结果标签为：1\n"
     ]
    },
    {
     "name": "stderr",
     "output_type": "stream",
     "text": [
      "\r",
      " 67%|█████████████████████████████████████████████████████▊                          | 598/889 [02:06<01:18,  3.69it/s]"
     ]
    },
    {
     "name": "stdout",
     "output_type": "stream",
     "text": [
      "音频：dataset/UrbanSound8K/audio/fold2\\203929-7-9-18.wav 的预测结果标签为：1\n"
     ]
    },
    {
     "name": "stderr",
     "output_type": "stream",
     "text": [
      "\r",
      " 67%|█████████████████████████████████████████████████████▉                          | 599/889 [02:06<01:16,  3.77it/s]"
     ]
    },
    {
     "name": "stdout",
     "output_type": "stream",
     "text": [
      "音频：dataset/UrbanSound8K/audio/fold2\\203929-7-9-19.wav 的预测结果标签为：1\n"
     ]
    },
    {
     "name": "stderr",
     "output_type": "stream",
     "text": [
      "\r",
      " 67%|█████████████████████████████████████████████████████▉                          | 600/889 [02:06<01:17,  3.74it/s]"
     ]
    },
    {
     "name": "stdout",
     "output_type": "stream",
     "text": [
      "音频：dataset/UrbanSound8K/audio/fold2\\203929-7-9-20.wav 的预测结果标签为：1\n"
     ]
    },
    {
     "name": "stderr",
     "output_type": "stream",
     "text": [
      "\r",
      " 68%|██████████████████████████████████████████████████████                          | 601/889 [02:07<01:21,  3.55it/s]"
     ]
    },
    {
     "name": "stdout",
     "output_type": "stream",
     "text": [
      "音频：dataset/UrbanSound8K/audio/fold2\\203929-7-9-24.wav 的预测结果标签为：1\n"
     ]
    },
    {
     "name": "stderr",
     "output_type": "stream",
     "text": [
      "\r",
      " 68%|██████████████████████████████████████████████████████▏                         | 602/889 [02:07<01:20,  3.58it/s]"
     ]
    },
    {
     "name": "stdout",
     "output_type": "stream",
     "text": [
      "音频：dataset/UrbanSound8K/audio/fold2\\203929-7-9-4.wav 的预测结果标签为：1\n"
     ]
    },
    {
     "name": "stderr",
     "output_type": "stream",
     "text": [
      "\r",
      " 68%|██████████████████████████████████████████████████████▎                         | 603/889 [02:07<01:18,  3.64it/s]"
     ]
    },
    {
     "name": "stdout",
     "output_type": "stream",
     "text": [
      "音频：dataset/UrbanSound8K/audio/fold2\\203929-7-9-6.wav 的预测结果标签为：1\n"
     ]
    },
    {
     "name": "stderr",
     "output_type": "stream",
     "text": [
      "\r",
      " 68%|██████████████████████████████████████████████████████▎                         | 604/889 [02:08<01:18,  3.63it/s]"
     ]
    },
    {
     "name": "stdout",
     "output_type": "stream",
     "text": [
      "音频：dataset/UrbanSound8K/audio/fold2\\203929-7-9-8.wav 的预测结果标签为：1\n"
     ]
    },
    {
     "name": "stderr",
     "output_type": "stream",
     "text": [
      "\r",
      " 68%|██████████████████████████████████████████████████████▍                         | 605/889 [02:08<01:19,  3.55it/s]"
     ]
    },
    {
     "name": "stdout",
     "output_type": "stream",
     "text": [
      "音频：dataset/UrbanSound8K/audio/fold2\\203929-7-9-9.wav 的预测结果标签为：1\n",
      "音频：dataset/UrbanSound8K/audio/fold2\\204773-3-7-1.wav 的预测结果标签为：1\n",
      "音频：dataset/UrbanSound8K/audio/fold2\\204773-3-8-0.wav 的预测结果标签为：1\n"
     ]
    },
    {
     "name": "stderr",
     "output_type": "stream",
     "text": [
      " 68%|██████████████████████████████████████████████████████▋                         | 608/889 [02:08<00:55,  5.06it/s]"
     ]
    },
    {
     "name": "stdout",
     "output_type": "stream",
     "text": [
      "音频：dataset/UrbanSound8K/audio/fold2\\204773-3-9-0.wav 的预测结果标签为：1\n",
      "音频：dataset/UrbanSound8K/audio/fold2\\204773-3-9-1.wav 的预测结果标签为：1\n"
     ]
    },
    {
     "name": "stderr",
     "output_type": "stream",
     "text": [
      "\r",
      " 69%|██████████████████████████████████████████████████████▉                         | 610/889 [02:08<00:47,  5.81it/s]"
     ]
    },
    {
     "name": "stdout",
     "output_type": "stream",
     "text": [
      "音频：dataset/UrbanSound8K/audio/fold2\\22347-3-0-0.wav 的预测结果标签为：1\n"
     ]
    },
    {
     "name": "stderr",
     "output_type": "stream",
     "text": [
      "\r",
      " 69%|██████████████████████████████████████████████████████▉                         | 611/889 [02:09<00:56,  4.91it/s]"
     ]
    },
    {
     "name": "stdout",
     "output_type": "stream",
     "text": [
      "音频：dataset/UrbanSound8K/audio/fold2\\22347-3-1-1.wav 的预测结果标签为：1\n"
     ]
    },
    {
     "name": "stderr",
     "output_type": "stream",
     "text": [
      "\r",
      " 69%|███████████████████████████████████████████████████████                         | 612/889 [02:09<01:02,  4.46it/s]"
     ]
    },
    {
     "name": "stdout",
     "output_type": "stream",
     "text": [
      "音频：dataset/UrbanSound8K/audio/fold2\\22347-3-1-2.wav 的预测结果标签为：1\n"
     ]
    },
    {
     "name": "stderr",
     "output_type": "stream",
     "text": [
      " 69%|███████████████████████████████████████████████████████▎                        | 614/889 [02:09<00:58,  4.70it/s]"
     ]
    },
    {
     "name": "stdout",
     "output_type": "stream",
     "text": [
      "音频：dataset/UrbanSound8K/audio/fold2\\22347-3-3-0.wav 的预测结果标签为：1\n",
      "音频：dataset/UrbanSound8K/audio/fold2\\23131-3-0-0.wav 的预测结果标签为：1\n"
     ]
    },
    {
     "name": "stderr",
     "output_type": "stream",
     "text": [
      " 69%|███████████████████████████████████████████████████████▍                        | 616/889 [02:10<00:45,  5.98it/s]"
     ]
    },
    {
     "name": "stdout",
     "output_type": "stream",
     "text": [
      "音频：dataset/UrbanSound8K/audio/fold2\\23131-3-2-0.wav 的预测结果标签为：1\n",
      "音频：dataset/UrbanSound8K/audio/fold2\\23131-3-4-0.wav 的预测结果标签为：1\n"
     ]
    },
    {
     "name": "stderr",
     "output_type": "stream",
     "text": [
      "\r",
      " 69%|███████████████████████████████████████████████████████▌                        | 617/889 [02:10<00:42,  6.42it/s]"
     ]
    },
    {
     "name": "stdout",
     "output_type": "stream",
     "text": [
      "音频：dataset/UrbanSound8K/audio/fold2\\23131-3-5-0.wav 的预测结果标签为：1\n"
     ]
    },
    {
     "name": "stderr",
     "output_type": "stream",
     "text": [
      "\r",
      " 70%|███████████████████████████████████████████████████████▌                        | 618/889 [02:10<00:51,  5.27it/s]"
     ]
    },
    {
     "name": "stdout",
     "output_type": "stream",
     "text": [
      "音频：dataset/UrbanSound8K/audio/fold2\\27349-3-0-2.wav 的预测结果标签为：1\n"
     ]
    },
    {
     "name": "stderr",
     "output_type": "stream",
     "text": [
      "\r",
      " 70%|███████████████████████████████████████████████████████▋                        | 619/889 [02:10<00:56,  4.82it/s]"
     ]
    },
    {
     "name": "stdout",
     "output_type": "stream",
     "text": [
      "音频：dataset/UrbanSound8K/audio/fold2\\27349-3-0-6.wav 的预测结果标签为：1\n"
     ]
    },
    {
     "name": "stderr",
     "output_type": "stream",
     "text": [
      "\r",
      " 70%|███████████████████████████████████████████████████████▊                        | 620/889 [02:11<01:01,  4.35it/s]"
     ]
    },
    {
     "name": "stdout",
     "output_type": "stream",
     "text": [
      "音频：dataset/UrbanSound8K/audio/fold2\\27349-3-1-2.wav 的预测结果标签为：1\n"
     ]
    },
    {
     "name": "stderr",
     "output_type": "stream",
     "text": [
      " 70%|███████████████████████████████████████████████████████▉                        | 622/889 [02:11<00:55,  4.85it/s]"
     ]
    },
    {
     "name": "stdout",
     "output_type": "stream",
     "text": [
      "音频：dataset/UrbanSound8K/audio/fold2\\27349-3-2-1.wav 的预测结果标签为：1\n",
      "音频：dataset/UrbanSound8K/audio/fold2\\33849-3-0-0.wav 的预测结果标签为：1\n"
     ]
    },
    {
     "name": "stderr",
     "output_type": "stream",
     "text": [
      " 70%|████████████████████████████████████████████████████████▏                       | 624/889 [02:11<00:47,  5.59it/s]"
     ]
    },
    {
     "name": "stdout",
     "output_type": "stream",
     "text": [
      "音频：dataset/UrbanSound8K/audio/fold2\\33849-3-2-0.wav 的预测结果标签为：1\n",
      "音频：dataset/UrbanSound8K/audio/fold2\\33849-3-3-0.wav 的预测结果标签为：1\n"
     ]
    },
    {
     "name": "stderr",
     "output_type": "stream",
     "text": [
      " 70%|████████████████████████████████████████████████████████▎                       | 626/889 [02:12<00:41,  6.33it/s]"
     ]
    },
    {
     "name": "stdout",
     "output_type": "stream",
     "text": [
      "音频：dataset/UrbanSound8K/audio/fold2\\33849-3-4-0.wav 的预测结果标签为：1\n",
      "音频：dataset/UrbanSound8K/audio/fold2\\34621-4-0-0.wav 的预测结果标签为：1\n"
     ]
    },
    {
     "name": "stderr",
     "output_type": "stream",
     "text": [
      " 71%|████████████████████████████████████████████████████████▌                       | 628/889 [02:12<00:37,  6.94it/s]"
     ]
    },
    {
     "name": "stdout",
     "output_type": "stream",
     "text": [
      "音频：dataset/UrbanSound8K/audio/fold2\\34621-4-1-0.wav 的预测结果标签为：1\n",
      "音频：dataset/UrbanSound8K/audio/fold2\\34621-4-11-0.wav 的预测结果标签为：1\n"
     ]
    },
    {
     "name": "stderr",
     "output_type": "stream",
     "text": [
      " 71%|████████████████████████████████████████████████████████▋                       | 630/889 [02:12<00:34,  7.53it/s]"
     ]
    },
    {
     "name": "stdout",
     "output_type": "stream",
     "text": [
      "音频：dataset/UrbanSound8K/audio/fold2\\34621-4-12-0.wav 的预测结果标签为：1\n",
      "音频：dataset/UrbanSound8K/audio/fold2\\34621-4-13-0.wav 的预测结果标签为：1\n"
     ]
    },
    {
     "name": "stderr",
     "output_type": "stream",
     "text": [
      " 71%|████████████████████████████████████████████████████████▊                       | 632/889 [02:12<00:31,  8.09it/s]"
     ]
    },
    {
     "name": "stdout",
     "output_type": "stream",
     "text": [
      "音频：dataset/UrbanSound8K/audio/fold2\\34621-4-14-0.wav 的预测结果标签为：1\n",
      "音频：dataset/UrbanSound8K/audio/fold2\\34621-4-15-0.wav 的预测结果标签为：1\n"
     ]
    },
    {
     "name": "stderr",
     "output_type": "stream",
     "text": [
      " 71%|█████████████████████████████████████████████████████████                       | 634/889 [02:13<00:33,  7.73it/s]"
     ]
    },
    {
     "name": "stdout",
     "output_type": "stream",
     "text": [
      "音频：dataset/UrbanSound8K/audio/fold2\\34621-4-16-0.wav 的预测结果标签为：1\n",
      "音频：dataset/UrbanSound8K/audio/fold2\\34621-4-17-0.wav 的预测结果标签为：1\n"
     ]
    },
    {
     "name": "stderr",
     "output_type": "stream",
     "text": [
      " 72%|█████████████████████████████████████████████████████████▏                      | 636/889 [02:13<00:35,  7.13it/s]"
     ]
    },
    {
     "name": "stdout",
     "output_type": "stream",
     "text": [
      "音频：dataset/UrbanSound8K/audio/fold2\\34621-4-18-0.wav 的预测结果标签为：1\n",
      "音频：dataset/UrbanSound8K/audio/fold2\\34621-4-2-0.wav 的预测结果标签为：1\n"
     ]
    },
    {
     "name": "stderr",
     "output_type": "stream",
     "text": [
      " 72%|█████████████████████████████████████████████████████████▍                      | 638/889 [02:13<00:31,  8.07it/s]"
     ]
    },
    {
     "name": "stdout",
     "output_type": "stream",
     "text": [
      "音频：dataset/UrbanSound8K/audio/fold2\\34621-4-20-0.wav 的预测结果标签为：1\n",
      "音频：dataset/UrbanSound8K/audio/fold2\\34621-4-21-0.wav 的预测结果标签为：1\n",
      "音频：dataset/UrbanSound8K/audio/fold2\\34621-4-22-0.wav 的预测结果标签为：1"
     ]
    },
    {
     "name": "stderr",
     "output_type": "stream",
     "text": [
      " 72%|█████████████████████████████████████████████████████████▌                      | 640/889 [02:13<00:32,  7.67it/s]"
     ]
    },
    {
     "name": "stdout",
     "output_type": "stream",
     "text": [
      "\n",
      "音频：dataset/UrbanSound8K/audio/fold2\\34621-4-24-0.wav 的预测结果标签为：1\n"
     ]
    },
    {
     "name": "stderr",
     "output_type": "stream",
     "text": [
      "\r",
      " 72%|█████████████████████████████████████████████████████████▋                      | 641/889 [02:14<00:32,  7.54it/s]"
     ]
    },
    {
     "name": "stdout",
     "output_type": "stream",
     "text": [
      "音频：dataset/UrbanSound8K/audio/fold2\\34621-4-25-0.wav 的预测结果标签为：1\n"
     ]
    },
    {
     "name": "stderr",
     "output_type": "stream",
     "text": [
      " 72%|█████████████████████████████████████████████████████████▊                      | 643/889 [02:14<00:37,  6.58it/s]"
     ]
    },
    {
     "name": "stdout",
     "output_type": "stream",
     "text": [
      "音频：dataset/UrbanSound8K/audio/fold2\\34621-4-26-0.wav 的预测结果标签为：1\n",
      "音频：dataset/UrbanSound8K/audio/fold2\\34621-4-27-0.wav 的预测结果标签为：1\n"
     ]
    },
    {
     "name": "stderr",
     "output_type": "stream",
     "text": [
      " 73%|██████████████████████████████████████████████████████████                      | 645/889 [02:14<00:34,  7.07it/s]"
     ]
    },
    {
     "name": "stdout",
     "output_type": "stream",
     "text": [
      "音频：dataset/UrbanSound8K/audio/fold2\\34621-4-4-0.wav 的预测结果标签为：1\n",
      "音频：dataset/UrbanSound8K/audio/fold2\\34621-4-5-0.wav 的预测结果标签为：1\n",
      "音频：dataset/UrbanSound8K/audio/fold2\\34621-4-7-0.wav 的预测结果标签为：1"
     ]
    },
    {
     "name": "stderr",
     "output_type": "stream",
     "text": [
      " 73%|██████████████████████████████████████████████████████████▏                     | 647/889 [02:14<00:30,  8.00it/s]"
     ]
    },
    {
     "name": "stdout",
     "output_type": "stream",
     "text": [
      "\n",
      "音频：dataset/UrbanSound8K/audio/fold2\\34621-4-8-0.wav 的预测结果标签为：1\n"
     ]
    },
    {
     "name": "stderr",
     "output_type": "stream",
     "text": [
      " 73%|██████████████████████████████████████████████████████████▍                     | 649/889 [02:15<00:40,  5.90it/s]"
     ]
    },
    {
     "name": "stdout",
     "output_type": "stream",
     "text": [
      "音频：dataset/UrbanSound8K/audio/fold2\\35800-6-0-0.wav 的预测结果标签为：1\n",
      "音频：dataset/UrbanSound8K/audio/fold2\\37236-6-0-0.wav 的预测结果标签为：1\n"
     ]
    },
    {
     "name": "stderr",
     "output_type": "stream",
     "text": [
      "\r",
      " 73%|██████████████████████████████████████████████████████████▍                     | 650/889 [02:15<00:47,  5.01it/s]"
     ]
    },
    {
     "name": "stdout",
     "output_type": "stream",
     "text": [
      "音频：dataset/UrbanSound8K/audio/fold2\\39970-9-0-108.wav 的预测结果标签为：1\n"
     ]
    },
    {
     "name": "stderr",
     "output_type": "stream",
     "text": [
      "\r",
      " 73%|██████████████████████████████████████████████████████████▌                     | 651/889 [02:15<00:51,  4.58it/s]"
     ]
    },
    {
     "name": "stdout",
     "output_type": "stream",
     "text": [
      "音频：dataset/UrbanSound8K/audio/fold2\\39970-9-0-142.wav 的预测结果标签为：1\n"
     ]
    },
    {
     "name": "stderr",
     "output_type": "stream",
     "text": [
      "\r",
      " 73%|██████████████████████████████████████████████████████████▋                     | 652/889 [02:16<00:54,  4.31it/s]"
     ]
    },
    {
     "name": "stdout",
     "output_type": "stream",
     "text": [
      "音频：dataset/UrbanSound8K/audio/fold2\\39970-9-0-41.wav 的预测结果标签为：1\n"
     ]
    },
    {
     "name": "stderr",
     "output_type": "stream",
     "text": [
      "\r",
      " 73%|██████████████████████████████████████████████████████████▊                     | 653/889 [02:16<00:57,  4.07it/s]"
     ]
    },
    {
     "name": "stdout",
     "output_type": "stream",
     "text": [
      "音频：dataset/UrbanSound8K/audio/fold2\\39970-9-0-46.wav 的预测结果标签为：1\n"
     ]
    },
    {
     "name": "stderr",
     "output_type": "stream",
     "text": [
      "\r",
      " 74%|██████████████████████████████████████████████████████████▊                     | 654/889 [02:16<00:59,  3.93it/s]"
     ]
    },
    {
     "name": "stdout",
     "output_type": "stream",
     "text": [
      "音频：dataset/UrbanSound8K/audio/fold2\\39970-9-0-54.wav 的预测结果标签为：1\n"
     ]
    },
    {
     "name": "stderr",
     "output_type": "stream",
     "text": [
      "\r",
      " 74%|██████████████████████████████████████████████████████████▉                     | 655/889 [02:16<00:59,  3.95it/s]"
     ]
    },
    {
     "name": "stdout",
     "output_type": "stream",
     "text": [
      "音频：dataset/UrbanSound8K/audio/fold2\\39970-9-0-98.wav 的预测结果标签为：1\n"
     ]
    },
    {
     "name": "stderr",
     "output_type": "stream",
     "text": [
      "\r",
      " 74%|███████████████████████████████████████████████████████████                     | 656/889 [02:17<01:00,  3.84it/s]"
     ]
    },
    {
     "name": "stdout",
     "output_type": "stream",
     "text": [
      "音频：dataset/UrbanSound8K/audio/fold2\\40717-8-0-0.wav 的预测结果标签为：1\n"
     ]
    },
    {
     "name": "stderr",
     "output_type": "stream",
     "text": [
      "\r",
      " 74%|███████████████████████████████████████████████████████████                     | 657/889 [02:17<01:01,  3.78it/s]"
     ]
    },
    {
     "name": "stdout",
     "output_type": "stream",
     "text": [
      "音频：dataset/UrbanSound8K/audio/fold2\\40717-8-0-1.wav 的预测结果标签为：1\n"
     ]
    },
    {
     "name": "stderr",
     "output_type": "stream",
     "text": [
      "\r",
      " 74%|███████████████████████████████████████████████████████████▏                    | 658/889 [02:17<01:01,  3.74it/s]"
     ]
    },
    {
     "name": "stdout",
     "output_type": "stream",
     "text": [
      "音频：dataset/UrbanSound8K/audio/fold2\\40717-8-0-2.wav 的预测结果标签为：1\n"
     ]
    },
    {
     "name": "stderr",
     "output_type": "stream",
     "text": [
      "\r",
      " 74%|███████████████████████████████████████████████████████████▎                    | 659/889 [02:18<01:02,  3.67it/s]"
     ]
    },
    {
     "name": "stdout",
     "output_type": "stream",
     "text": [
      "音频：dataset/UrbanSound8K/audio/fold2\\40717-8-0-3.wav 的预测结果标签为：1\n"
     ]
    },
    {
     "name": "stderr",
     "output_type": "stream",
     "text": [
      "\r",
      " 74%|███████████████████████████████████████████████████████████▍                    | 660/889 [02:18<01:06,  3.43it/s]"
     ]
    },
    {
     "name": "stdout",
     "output_type": "stream",
     "text": [
      "音频：dataset/UrbanSound8K/audio/fold2\\40717-8-0-4.wav 的预测结果标签为：1\n"
     ]
    },
    {
     "name": "stderr",
     "output_type": "stream",
     "text": [
      "\r",
      " 74%|███████████████████████████████████████████████████████████▍                    | 661/889 [02:18<01:04,  3.51it/s]"
     ]
    },
    {
     "name": "stdout",
     "output_type": "stream",
     "text": [
      "音频：dataset/UrbanSound8K/audio/fold2\\40717-8-0-5.wav 的预测结果标签为：1\n"
     ]
    },
    {
     "name": "stderr",
     "output_type": "stream",
     "text": [
      "\r",
      " 74%|███████████████████████████████████████████████████████████▌                    | 662/889 [02:18<01:03,  3.57it/s]"
     ]
    },
    {
     "name": "stdout",
     "output_type": "stream",
     "text": [
      "音频：dataset/UrbanSound8K/audio/fold2\\40717-8-0-6.wav 的预测结果标签为：1\n",
      "音频：dataset/UrbanSound8K/audio/fold2\\4201-3-0-0.wav 的预测结果标签为：1\n",
      "音频：dataset/UrbanSound8K/audio/fold2\\4201-3-1-0.wav 的预测结果标签为：1"
     ]
    },
    {
     "name": "stderr",
     "output_type": "stream",
     "text": [
      " 75%|███████████████████████████████████████████████████████████▊                    | 665/889 [02:19<00:43,  5.16it/s]"
     ]
    },
    {
     "name": "stdout",
     "output_type": "stream",
     "text": [
      "\n",
      "音频：dataset/UrbanSound8K/audio/fold2\\4201-3-2-0.wav 的预测结果标签为：1\n"
     ]
    },
    {
     "name": "stderr",
     "output_type": "stream",
     "text": [
      "\r",
      " 75%|███████████████████████████████████████████████████████████▉                    | 666/889 [02:19<00:41,  5.31it/s]"
     ]
    },
    {
     "name": "stdout",
     "output_type": "stream",
     "text": [
      "音频：dataset/UrbanSound8K/audio/fold2\\4201-3-3-0.wav 的预测结果标签为：1\n"
     ]
    },
    {
     "name": "stderr",
     "output_type": "stream",
     "text": [
      "\r",
      " 75%|████████████████████████████████████████████████████████████                    | 667/889 [02:19<00:48,  4.62it/s]"
     ]
    },
    {
     "name": "stdout",
     "output_type": "stream",
     "text": [
      "音频：dataset/UrbanSound8K/audio/fold2\\44735-5-0-0.wav 的预测结果标签为：1\n"
     ]
    },
    {
     "name": "stderr",
     "output_type": "stream",
     "text": [
      " 75%|████████████████████████████████████████████████████████████▏                   | 669/889 [02:20<00:45,  4.87it/s]"
     ]
    },
    {
     "name": "stdout",
     "output_type": "stream",
     "text": [
      "音频：dataset/UrbanSound8K/audio/fold2\\44735-5-0-1.wav 的预测结果标签为：1\n",
      "音频：dataset/UrbanSound8K/audio/fold2\\46655-6-0-0.wav 的预测结果标签为：1\n"
     ]
    },
    {
     "name": "stderr",
     "output_type": "stream",
     "text": [
      "\r",
      " 75%|████████████████████████████████████████████████████████████▍                   | 671/889 [02:20<00:37,  5.74it/s]"
     ]
    },
    {
     "name": "stdout",
     "output_type": "stream",
     "text": [
      "音频：dataset/UrbanSound8K/audio/fold2\\46668-4-0-0.wav 的预测结果标签为：1\n",
      "音频：dataset/UrbanSound8K/audio/fold2\\46668-4-0-1.wav 的预测结果标签为：1\n"
     ]
    },
    {
     "name": "stderr",
     "output_type": "stream",
     "text": [
      " 76%|████████████████████████████████████████████████████████████▌                   | 673/889 [02:20<00:30,  7.14it/s]"
     ]
    },
    {
     "name": "stdout",
     "output_type": "stream",
     "text": [
      "音频：dataset/UrbanSound8K/audio/fold2\\46668-4-0-2.wav 的预测结果标签为：1\n",
      "音频：dataset/UrbanSound8K/audio/fold2\\4911-3-0-0.wav 的预测结果标签为：1\n"
     ]
    },
    {
     "name": "stderr",
     "output_type": "stream",
     "text": [
      "\r",
      " 76%|████████████████████████████████████████████████████████████▋                   | 674/889 [02:20<00:38,  5.64it/s]"
     ]
    },
    {
     "name": "stdout",
     "output_type": "stream",
     "text": [
      "音频：dataset/UrbanSound8K/audio/fold2\\49808-3-0-6.wav 的预测结果标签为：1\n"
     ]
    },
    {
     "name": "stderr",
     "output_type": "stream",
     "text": [
      "\r",
      " 76%|████████████████████████████████████████████████████████████▋                   | 675/889 [02:21<00:43,  4.89it/s]"
     ]
    },
    {
     "name": "stdout",
     "output_type": "stream",
     "text": [
      "音频：dataset/UrbanSound8K/audio/fold2\\49808-3-1-22.wav 的预测结果标签为：1\n"
     ]
    },
    {
     "name": "stderr",
     "output_type": "stream",
     "text": [
      " 76%|████████████████████████████████████████████████████████████▉                   | 677/889 [02:21<00:40,  5.19it/s]"
     ]
    },
    {
     "name": "stdout",
     "output_type": "stream",
     "text": [
      "音频：dataset/UrbanSound8K/audio/fold2\\49808-3-1-8.wav 的预测结果标签为：1\n",
      "音频：dataset/UrbanSound8K/audio/fold2\\50416-4-0-0.wav 的预测结果标签为：1\n"
     ]
    },
    {
     "name": "stderr",
     "output_type": "stream",
     "text": [
      " 76%|█████████████████████████████████████████████████████████████                   | 679/889 [02:21<00:32,  6.55it/s]"
     ]
    },
    {
     "name": "stdout",
     "output_type": "stream",
     "text": [
      "音频：dataset/UrbanSound8K/audio/fold2\\50416-4-0-1.wav 的预测结果标签为：1\n",
      "音频：dataset/UrbanSound8K/audio/fold2\\50416-4-0-2.wav 的预测结果标签为：1\n"
     ]
    },
    {
     "name": "stderr",
     "output_type": "stream",
     "text": [
      "\r",
      " 76%|█████████████████████████████████████████████████████████████▏                  | 680/889 [02:21<00:37,  5.51it/s]"
     ]
    },
    {
     "name": "stdout",
     "output_type": "stream",
     "text": [
      "音频：dataset/UrbanSound8K/audio/fold2\\50898-5-0-0.wav 的预测结果标签为：1\n"
     ]
    },
    {
     "name": "stderr",
     "output_type": "stream",
     "text": [
      "\r",
      " 77%|█████████████████████████████████████████████████████████████▎                  | 681/889 [02:22<00:42,  4.84it/s]"
     ]
    },
    {
     "name": "stdout",
     "output_type": "stream",
     "text": [
      "音频：dataset/UrbanSound8K/audio/fold2\\54545-3-0-0.wav 的预测结果标签为：1\n"
     ]
    },
    {
     "name": "stderr",
     "output_type": "stream",
     "text": [
      "\r",
      " 77%|█████████████████████████████████████████████████████████████▎                  | 682/889 [02:22<00:47,  4.35it/s]"
     ]
    },
    {
     "name": "stdout",
     "output_type": "stream",
     "text": [
      "音频：dataset/UrbanSound8K/audio/fold2\\54545-3-0-1.wav 的预测结果标签为：1\n"
     ]
    },
    {
     "name": "stderr",
     "output_type": "stream",
     "text": [
      "\r",
      " 77%|█████████████████████████████████████████████████████████████▍                  | 683/889 [02:22<00:50,  4.11it/s]"
     ]
    },
    {
     "name": "stdout",
     "output_type": "stream",
     "text": [
      "音频：dataset/UrbanSound8K/audio/fold2\\54545-3-0-2.wav 的预测结果标签为：1\n"
     ]
    },
    {
     "name": "stderr",
     "output_type": "stream",
     "text": [
      "\r",
      " 77%|█████████████████████████████████████████████████████████████▌                  | 684/889 [02:22<00:50,  4.06it/s]"
     ]
    },
    {
     "name": "stdout",
     "output_type": "stream",
     "text": [
      "音频：dataset/UrbanSound8K/audio/fold2\\56385-0-0-0.wav 的预测结果标签为：1\n"
     ]
    },
    {
     "name": "stderr",
     "output_type": "stream",
     "text": [
      "\r",
      " 77%|█████████████████████████████████████████████████████████████▋                  | 685/889 [02:23<00:51,  3.95it/s]"
     ]
    },
    {
     "name": "stdout",
     "output_type": "stream",
     "text": [
      "音频：dataset/UrbanSound8K/audio/fold2\\56385-0-0-1.wav 的预测结果标签为：1\n"
     ]
    },
    {
     "name": "stderr",
     "output_type": "stream",
     "text": [
      " 77%|█████████████████████████████████████████████████████████████▊                  | 687/889 [02:23<00:47,  4.29it/s]"
     ]
    },
    {
     "name": "stdout",
     "output_type": "stream",
     "text": [
      "音频：dataset/UrbanSound8K/audio/fold2\\56385-0-0-2.wav 的预测结果标签为：1\n",
      "音频：dataset/UrbanSound8K/audio/fold2\\58202-1-0-0.wav 的预测结果标签为：1\n"
     ]
    },
    {
     "name": "stderr",
     "output_type": "stream",
     "text": [
      "\r",
      " 77%|█████████████████████████████████████████████████████████████▉                  | 688/889 [02:23<00:48,  4.13it/s]"
     ]
    },
    {
     "name": "stdout",
     "output_type": "stream",
     "text": [
      "音频：dataset/UrbanSound8K/audio/fold2\\59594-4-0-0.wav 的预测结果标签为：1\n"
     ]
    },
    {
     "name": "stderr",
     "output_type": "stream",
     "text": [
      "\r",
      " 78%|██████████████████████████████████████████████████████████████                  | 689/889 [02:24<00:50,  3.96it/s]"
     ]
    },
    {
     "name": "stdout",
     "output_type": "stream",
     "text": [
      "音频：dataset/UrbanSound8K/audio/fold2\\59594-4-0-1.wav 的预测结果标签为：1\n"
     ]
    },
    {
     "name": "stderr",
     "output_type": "stream",
     "text": [
      "\r",
      " 78%|██████████████████████████████████████████████████████████████                  | 690/889 [02:24<00:52,  3.78it/s]"
     ]
    },
    {
     "name": "stdout",
     "output_type": "stream",
     "text": [
      "音频：dataset/UrbanSound8K/audio/fold2\\59594-4-0-2.wav 的预测结果标签为：0\n"
     ]
    },
    {
     "name": "stderr",
     "output_type": "stream",
     "text": [
      "\r",
      " 78%|██████████████████████████████████████████████████████████████▏                 | 691/889 [02:24<00:52,  3.78it/s]"
     ]
    },
    {
     "name": "stdout",
     "output_type": "stream",
     "text": [
      "音频：dataset/UrbanSound8K/audio/fold2\\59594-4-0-3.wav 的预测结果标签为：0\n"
     ]
    },
    {
     "name": "stderr",
     "output_type": "stream",
     "text": [
      "\r",
      " 78%|██████████████████████████████████████████████████████████████▎                 | 692/889 [02:25<00:52,  3.77it/s]"
     ]
    },
    {
     "name": "stdout",
     "output_type": "stream",
     "text": [
      "音频：dataset/UrbanSound8K/audio/fold2\\59594-4-0-4.wav 的预测结果标签为：0\n"
     ]
    },
    {
     "name": "stderr",
     "output_type": "stream",
     "text": [
      "\r",
      " 78%|██████████████████████████████████████████████████████████████▎                 | 693/889 [02:25<01:25,  2.30it/s]"
     ]
    },
    {
     "name": "stdout",
     "output_type": "stream",
     "text": [
      "音频：dataset/UrbanSound8K/audio/fold2\\60591-2-0-11.wav 的预测结果标签为：1\n"
     ]
    },
    {
     "name": "stderr",
     "output_type": "stream",
     "text": [
      "\r",
      " 78%|██████████████████████████████████████████████████████████████▍                 | 694/889 [02:26<01:15,  2.59it/s]"
     ]
    },
    {
     "name": "stdout",
     "output_type": "stream",
     "text": [
      "音频：dataset/UrbanSound8K/audio/fold2\\60591-2-0-12.wav 的预测结果标签为：1\n"
     ]
    },
    {
     "name": "stderr",
     "output_type": "stream",
     "text": [
      "\r",
      " 78%|██████████████████████████████████████████████████████████████▌                 | 695/889 [02:26<01:09,  2.81it/s]"
     ]
    },
    {
     "name": "stdout",
     "output_type": "stream",
     "text": [
      "音频：dataset/UrbanSound8K/audio/fold2\\60591-2-0-15.wav 的预测结果标签为：1\n"
     ]
    },
    {
     "name": "stderr",
     "output_type": "stream",
     "text": [
      "\r",
      " 78%|██████████████████████████████████████████████████████████████▋                 | 696/889 [02:26<01:04,  2.99it/s]"
     ]
    },
    {
     "name": "stdout",
     "output_type": "stream",
     "text": [
      "音频：dataset/UrbanSound8K/audio/fold2\\60591-2-0-16.wav 的预测结果标签为：1\n"
     ]
    },
    {
     "name": "stderr",
     "output_type": "stream",
     "text": [
      "\r",
      " 78%|██████████████████████████████████████████████████████████████▋                 | 697/889 [02:27<01:01,  3.12it/s]"
     ]
    },
    {
     "name": "stdout",
     "output_type": "stream",
     "text": [
      "音频：dataset/UrbanSound8K/audio/fold2\\60591-2-0-2.wav 的预测结果标签为：1\n"
     ]
    },
    {
     "name": "stderr",
     "output_type": "stream",
     "text": [
      "\r",
      " 79%|██████████████████████████████████████████████████████████████▊                 | 698/889 [02:27<00:58,  3.25it/s]"
     ]
    },
    {
     "name": "stdout",
     "output_type": "stream",
     "text": [
      "音频：dataset/UrbanSound8K/audio/fold2\\60591-2-0-4.wav 的预测结果标签为：1\n"
     ]
    },
    {
     "name": "stderr",
     "output_type": "stream",
     "text": [
      "\r",
      " 79%|██████████████████████████████████████████████████████████████▉                 | 699/889 [02:27<00:56,  3.34it/s]"
     ]
    },
    {
     "name": "stdout",
     "output_type": "stream",
     "text": [
      "音频：dataset/UrbanSound8K/audio/fold2\\60591-2-0-7.wav 的预测结果标签为：1\n"
     ]
    },
    {
     "name": "stderr",
     "output_type": "stream",
     "text": [
      "\r",
      " 79%|██████████████████████████████████████████████████████████████▉                 | 700/889 [02:27<00:54,  3.50it/s]"
     ]
    },
    {
     "name": "stdout",
     "output_type": "stream",
     "text": [
      "音频：dataset/UrbanSound8K/audio/fold2\\60591-2-0-8.wav 的预测结果标签为：1\n"
     ]
    },
    {
     "name": "stderr",
     "output_type": "stream",
     "text": [
      "\r",
      " 79%|███████████████████████████████████████████████████████████████                 | 701/889 [02:28<00:53,  3.50it/s]"
     ]
    },
    {
     "name": "stdout",
     "output_type": "stream",
     "text": [
      "音频：dataset/UrbanSound8K/audio/fold2\\60605-9-0-34.wav 的预测结果标签为：1\n"
     ]
    },
    {
     "name": "stderr",
     "output_type": "stream",
     "text": [
      "\r",
      " 79%|███████████████████████████████████████████████████████████████▏                | 702/889 [02:28<00:53,  3.51it/s]"
     ]
    },
    {
     "name": "stdout",
     "output_type": "stream",
     "text": [
      "音频：dataset/UrbanSound8K/audio/fold2\\60605-9-0-52.wav 的预测结果标签为：1\n"
     ]
    },
    {
     "name": "stderr",
     "output_type": "stream",
     "text": [
      "\r",
      " 79%|███████████████████████████████████████████████████████████████▎                | 703/889 [02:28<00:52,  3.54it/s]"
     ]
    },
    {
     "name": "stdout",
     "output_type": "stream",
     "text": [
      "音频：dataset/UrbanSound8K/audio/fold2\\60605-9-0-64.wav 的预测结果标签为：1\n"
     ]
    },
    {
     "name": "stderr",
     "output_type": "stream",
     "text": [
      "\r",
      " 79%|███████████████████████████████████████████████████████████████▎                | 704/889 [02:28<00:51,  3.60it/s]"
     ]
    },
    {
     "name": "stdout",
     "output_type": "stream",
     "text": [
      "音频：dataset/UrbanSound8K/audio/fold2\\60605-9-0-73.wav 的预测结果标签为：1\n"
     ]
    },
    {
     "name": "stderr",
     "output_type": "stream",
     "text": [
      "\r",
      " 79%|███████████████████████████████████████████████████████████████▍                | 705/889 [02:29<00:50,  3.62it/s]"
     ]
    },
    {
     "name": "stdout",
     "output_type": "stream",
     "text": [
      "音频：dataset/UrbanSound8K/audio/fold2\\60605-9-0-90.wav 的预测结果标签为：1\n"
     ]
    },
    {
     "name": "stderr",
     "output_type": "stream",
     "text": [
      "\r",
      " 79%|███████████████████████████████████████████████████████████████▌                | 706/889 [02:29<00:51,  3.54it/s]"
     ]
    },
    {
     "name": "stdout",
     "output_type": "stream",
     "text": [
      "音频：dataset/UrbanSound8K/audio/fold2\\60605-9-0-95.wav 的预测结果标签为：1\n"
     ]
    },
    {
     "name": "stderr",
     "output_type": "stream",
     "text": [
      "\r",
      " 80%|███████████████████████████████████████████████████████████████▌                | 707/889 [02:29<00:50,  3.59it/s]"
     ]
    },
    {
     "name": "stdout",
     "output_type": "stream",
     "text": [
      "音频：dataset/UrbanSound8K/audio/fold2\\63261-3-0-0.wav 的预测结果标签为：1\n"
     ]
    },
    {
     "name": "stderr",
     "output_type": "stream",
     "text": [
      "\r",
      " 80%|███████████████████████████████████████████████████████████████▋                | 708/889 [02:30<00:50,  3.60it/s]"
     ]
    },
    {
     "name": "stdout",
     "output_type": "stream",
     "text": [
      "音频：dataset/UrbanSound8K/audio/fold2\\63261-3-0-1.wav 的预测结果标签为：1\n"
     ]
    },
    {
     "name": "stderr",
     "output_type": "stream",
     "text": [
      "\r",
      " 80%|███████████████████████████████████████████████████████████████▊                | 709/889 [02:30<00:50,  3.57it/s]"
     ]
    },
    {
     "name": "stdout",
     "output_type": "stream",
     "text": [
      "音频：dataset/UrbanSound8K/audio/fold2\\66996-8-1-0.wav 的预测结果标签为：1\n"
     ]
    },
    {
     "name": "stderr",
     "output_type": "stream",
     "text": [
      "\r",
      " 80%|███████████████████████████████████████████████████████████████▉                | 710/889 [02:30<00:49,  3.63it/s]"
     ]
    },
    {
     "name": "stdout",
     "output_type": "stream",
     "text": [
      "音频：dataset/UrbanSound8K/audio/fold2\\66996-8-3-0.wav 的预测结果标签为：1\n"
     ]
    },
    {
     "name": "stderr",
     "output_type": "stream",
     "text": [
      "\r",
      " 80%|███████████████████████████████████████████████████████████████▉                | 711/889 [02:30<00:49,  3.62it/s]"
     ]
    },
    {
     "name": "stdout",
     "output_type": "stream",
     "text": [
      "音频：dataset/UrbanSound8K/audio/fold2\\69883-3-0-20.wav 的预测结果标签为：1\n"
     ]
    },
    {
     "name": "stderr",
     "output_type": "stream",
     "text": [
      "\r",
      " 80%|████████████████████████████████████████████████████████████████                | 712/889 [02:31<00:49,  3.57it/s]"
     ]
    },
    {
     "name": "stdout",
     "output_type": "stream",
     "text": [
      "音频：dataset/UrbanSound8K/audio/fold2\\69883-3-0-5.wav 的预测结果标签为：1\n"
     ]
    },
    {
     "name": "stderr",
     "output_type": "stream",
     "text": [
      " 80%|████████████████████████████████████████████████████████████████▎               | 714/889 [02:31<00:42,  4.10it/s]"
     ]
    },
    {
     "name": "stdout",
     "output_type": "stream",
     "text": [
      "音频：dataset/UrbanSound8K/audio/fold2\\69883-3-0-9.wav 的预测结果标签为：1\n",
      "音频：dataset/UrbanSound8K/audio/fold2\\71080-4-0-0.wav 的预测结果标签为：1\n"
     ]
    },
    {
     "name": "stderr",
     "output_type": "stream",
     "text": [
      "\r",
      " 80%|████████████████████████████████████████████████████████████████▎               | 715/889 [02:31<00:36,  4.73it/s]"
     ]
    },
    {
     "name": "stdout",
     "output_type": "stream",
     "text": [
      "音频：dataset/UrbanSound8K/audio/fold2\\71080-4-1-0.wav 的预测结果标签为：1\n"
     ]
    },
    {
     "name": "stderr",
     "output_type": "stream",
     "text": [
      "\r",
      " 81%|████████████████████████████████████████████████████████████████▍               | 716/889 [02:31<00:38,  4.52it/s]"
     ]
    },
    {
     "name": "stdout",
     "output_type": "stream",
     "text": [
      "音频：dataset/UrbanSound8K/audio/fold2\\72539-3-0-1.wav 的预测结果标签为：1\n"
     ]
    },
    {
     "name": "stderr",
     "output_type": "stream",
     "text": [
      "\r",
      " 81%|████████████████████████████████████████████████████████████████▌               | 717/889 [02:32<00:40,  4.20it/s]"
     ]
    },
    {
     "name": "stdout",
     "output_type": "stream",
     "text": [
      "音频：dataset/UrbanSound8K/audio/fold2\\72539-3-0-5.wav 的预测结果标签为：1\n"
     ]
    },
    {
     "name": "stderr",
     "output_type": "stream",
     "text": [
      "\r",
      " 81%|████████████████████████████████████████████████████████████████▌               | 718/889 [02:32<00:43,  3.97it/s]"
     ]
    },
    {
     "name": "stdout",
     "output_type": "stream",
     "text": [
      "音频：dataset/UrbanSound8K/audio/fold2\\72539-3-0-6.wav 的预测结果标签为：1\n"
     ]
    },
    {
     "name": "stderr",
     "output_type": "stream",
     "text": [
      "\r",
      " 81%|████████████████████████████████████████████████████████████████▋               | 719/889 [02:32<00:43,  3.91it/s]"
     ]
    },
    {
     "name": "stdout",
     "output_type": "stream",
     "text": [
      "音频：dataset/UrbanSound8K/audio/fold2\\72539-3-0-8.wav 的预测结果标签为：1\n"
     ]
    },
    {
     "name": "stderr",
     "output_type": "stream",
     "text": [
      "\r",
      " 81%|████████████████████████████████████████████████████████████████▊               | 720/889 [02:33<00:43,  3.93it/s]"
     ]
    },
    {
     "name": "stdout",
     "output_type": "stream",
     "text": [
      "音频：dataset/UrbanSound8K/audio/fold2\\72567-1-0-0.wav 的预测结果标签为：1\n"
     ]
    },
    {
     "name": "stderr",
     "output_type": "stream",
     "text": [
      "\r",
      " 81%|████████████████████████████████████████████████████████████████▉               | 721/889 [02:33<00:42,  3.93it/s]"
     ]
    },
    {
     "name": "stdout",
     "output_type": "stream",
     "text": [
      "音频：dataset/UrbanSound8K/audio/fold2\\72567-1-0-1.wav 的预测结果标签为：1\n"
     ]
    },
    {
     "name": "stderr",
     "output_type": "stream",
     "text": [
      "\r",
      " 81%|████████████████████████████████████████████████████████████████▉               | 722/889 [02:33<00:41,  4.03it/s]"
     ]
    },
    {
     "name": "stdout",
     "output_type": "stream",
     "text": [
      "音频：dataset/UrbanSound8K/audio/fold2\\72567-1-1-0.wav 的预测结果标签为：1\n"
     ]
    },
    {
     "name": "stderr",
     "output_type": "stream",
     "text": [
      "\r",
      " 81%|█████████████████████████████████████████████████████████████████               | 723/889 [02:33<00:42,  3.89it/s]"
     ]
    },
    {
     "name": "stdout",
     "output_type": "stream",
     "text": [
      "音频：dataset/UrbanSound8K/audio/fold2\\72567-1-2-0.wav 的预测结果标签为：1\n"
     ]
    },
    {
     "name": "stderr",
     "output_type": "stream",
     "text": [
      "\r",
      " 81%|█████████████████████████████████████████████████████████████████▏              | 724/889 [02:34<00:42,  3.86it/s]"
     ]
    },
    {
     "name": "stdout",
     "output_type": "stream",
     "text": [
      "音频：dataset/UrbanSound8K/audio/fold2\\72567-1-2-1.wav 的预测结果标签为：1\n"
     ]
    },
    {
     "name": "stderr",
     "output_type": "stream",
     "text": [
      "\r",
      " 82%|█████████████████████████████████████████████████████████████████▏              | 725/889 [02:34<00:43,  3.81it/s]"
     ]
    },
    {
     "name": "stdout",
     "output_type": "stream",
     "text": [
      "音频：dataset/UrbanSound8K/audio/fold2\\72567-1-2-2.wav 的预测结果标签为：1\n"
     ]
    },
    {
     "name": "stderr",
     "output_type": "stream",
     "text": [
      "\r",
      " 82%|█████████████████████████████████████████████████████████████████▎              | 726/889 [02:34<00:43,  3.76it/s]"
     ]
    },
    {
     "name": "stdout",
     "output_type": "stream",
     "text": [
      "音频：dataset/UrbanSound8K/audio/fold2\\72567-1-2-3.wav 的预测结果标签为：1\n"
     ]
    },
    {
     "name": "stderr",
     "output_type": "stream",
     "text": [
      "\r",
      " 82%|█████████████████████████████████████████████████████████████████▍              | 727/889 [02:34<00:42,  3.81it/s]"
     ]
    },
    {
     "name": "stdout",
     "output_type": "stream",
     "text": [
      "音频：dataset/UrbanSound8K/audio/fold2\\72567-1-2-4.wav 的预测结果标签为：1\n"
     ]
    },
    {
     "name": "stderr",
     "output_type": "stream",
     "text": [
      " 82%|█████████████████████████████████████████████████████████████████▌              | 729/889 [02:35<00:35,  4.54it/s]"
     ]
    },
    {
     "name": "stdout",
     "output_type": "stream",
     "text": [
      "音频：dataset/UrbanSound8K/audio/fold2\\72567-1-2-5.wav 的预测结果标签为：1\n",
      "音频：dataset/UrbanSound8K/audio/fold2\\72567-1-3-0.wav 的预测结果标签为：1\n"
     ]
    },
    {
     "name": "stderr",
     "output_type": "stream",
     "text": [
      "\r",
      " 82%|█████████████████████████████████████████████████████████████████▋              | 730/889 [02:35<00:36,  4.30it/s]"
     ]
    },
    {
     "name": "stdout",
     "output_type": "stream",
     "text": [
      "音频：dataset/UrbanSound8K/audio/fold2\\72567-1-4-0.wav 的预测结果标签为：1\n"
     ]
    },
    {
     "name": "stderr",
     "output_type": "stream",
     "text": [
      "\r",
      " 82%|█████████████████████████████████████████████████████████████████▊              | 731/889 [02:35<00:37,  4.19it/s]"
     ]
    },
    {
     "name": "stdout",
     "output_type": "stream",
     "text": [
      "音频：dataset/UrbanSound8K/audio/fold2\\72567-1-4-1.wav 的预测结果标签为：1\n"
     ]
    },
    {
     "name": "stderr",
     "output_type": "stream",
     "text": [
      "\r",
      " 82%|█████████████████████████████████████████████████████████████████▊              | 732/889 [02:36<00:37,  4.14it/s]"
     ]
    },
    {
     "name": "stdout",
     "output_type": "stream",
     "text": [
      "音频：dataset/UrbanSound8K/audio/fold2\\72567-1-4-2.wav 的预测结果标签为：1\n"
     ]
    },
    {
     "name": "stderr",
     "output_type": "stream",
     "text": [
      "\r",
      " 82%|█████████████████████████████████████████████████████████████████▉              | 733/889 [02:36<00:39,  4.00it/s]"
     ]
    },
    {
     "name": "stdout",
     "output_type": "stream",
     "text": [
      "音频：dataset/UrbanSound8K/audio/fold2\\72567-1-4-3.wav 的预测结果标签为：1\n"
     ]
    },
    {
     "name": "stderr",
     "output_type": "stream",
     "text": [
      "\r",
      " 83%|██████████████████████████████████████████████████████████████████              | 734/889 [02:36<00:40,  3.81it/s]"
     ]
    },
    {
     "name": "stdout",
     "output_type": "stream",
     "text": [
      "音频：dataset/UrbanSound8K/audio/fold2\\72567-1-4-4.wav 的预测结果标签为：1\n"
     ]
    },
    {
     "name": "stderr",
     "output_type": "stream",
     "text": [
      "\r",
      " 83%|██████████████████████████████████████████████████████████████████▏             | 735/889 [02:36<00:40,  3.81it/s]"
     ]
    },
    {
     "name": "stdout",
     "output_type": "stream",
     "text": [
      "音频：dataset/UrbanSound8K/audio/fold2\\72567-1-4-5.wav 的预测结果标签为：1\n"
     ]
    },
    {
     "name": "stderr",
     "output_type": "stream",
     "text": [
      "\r",
      " 83%|██████████████████████████████████████████████████████████████████▏             | 736/889 [02:37<00:39,  3.87it/s]"
     ]
    },
    {
     "name": "stdout",
     "output_type": "stream",
     "text": [
      "音频：dataset/UrbanSound8K/audio/fold2\\72567-1-4-6.wav 的预测结果标签为：1\n"
     ]
    },
    {
     "name": "stderr",
     "output_type": "stream",
     "text": [
      "\r",
      " 83%|██████████████████████████████████████████████████████████████████▎             | 737/889 [02:37<00:40,  3.78it/s]"
     ]
    },
    {
     "name": "stdout",
     "output_type": "stream",
     "text": [
      "音频：dataset/UrbanSound8K/audio/fold2\\72567-1-4-7.wav 的预测结果标签为：1\n"
     ]
    },
    {
     "name": "stderr",
     "output_type": "stream",
     "text": [
      " 83%|██████████████████████████████████████████████████████████████████▌             | 739/889 [02:37<00:36,  4.16it/s]"
     ]
    },
    {
     "name": "stdout",
     "output_type": "stream",
     "text": [
      "音频：dataset/UrbanSound8K/audio/fold2\\72567-1-5-0.wav 的预测结果标签为：1\n",
      "音频：dataset/UrbanSound8K/audio/fold2\\73623-7-0-0.wav 的预测结果标签为：1\n"
     ]
    },
    {
     "name": "stderr",
     "output_type": "stream",
     "text": [
      "\r",
      " 83%|██████████████████████████████████████████████████████████████████▌             | 740/889 [02:38<00:40,  3.66it/s]"
     ]
    },
    {
     "name": "stdout",
     "output_type": "stream",
     "text": [
      "音频：dataset/UrbanSound8K/audio/fold2\\73623-7-1-0.wav 的预测结果标签为：1\n"
     ]
    },
    {
     "name": "stderr",
     "output_type": "stream",
     "text": [
      "\r",
      " 83%|██████████████████████████████████████████████████████████████████▋             | 741/889 [02:38<00:40,  3.62it/s]"
     ]
    },
    {
     "name": "stdout",
     "output_type": "stream",
     "text": [
      "音频：dataset/UrbanSound8K/audio/fold2\\73623-7-1-1.wav 的预测结果标签为：1\n",
      "音频：dataset/UrbanSound8K/audio/fold2\\73623-7-2-0.wav 的预测结果标签为：1"
     ]
    },
    {
     "name": "stderr",
     "output_type": "stream",
     "text": [
      "\r",
      " 83%|██████████████████████████████████████████████████████████████████▊             | 742/889 [02:38<00:37,  3.96it/s]"
     ]
    },
    {
     "name": "stdout",
     "output_type": "stream",
     "text": [
      "\n"
     ]
    },
    {
     "name": "stderr",
     "output_type": "stream",
     "text": [
      " 84%|██████████████████████████████████████████████████████████████████▉             | 744/889 [02:39<00:32,  4.47it/s]"
     ]
    },
    {
     "name": "stdout",
     "output_type": "stream",
     "text": [
      "音频：dataset/UrbanSound8K/audio/fold2\\73623-7-3-0.wav 的预测结果标签为：1\n",
      "音频：dataset/UrbanSound8K/audio/fold2\\73623-7-4-0.wav 的预测结果标签为：1\n"
     ]
    },
    {
     "name": "stderr",
     "output_type": "stream",
     "text": [
      "\r",
      " 84%|███████████████████████████████████████████████████████████████████             | 745/889 [02:39<00:30,  4.67it/s]"
     ]
    },
    {
     "name": "stdout",
     "output_type": "stream",
     "text": [
      "音频：dataset/UrbanSound8K/audio/fold2\\73623-7-5-0.wav 的预测结果标签为：1\n"
     ]
    },
    {
     "name": "stderr",
     "output_type": "stream",
     "text": [
      "\r",
      " 84%|███████████████████████████████████████████████████████████████████▏            | 746/889 [02:39<00:30,  4.67it/s]"
     ]
    },
    {
     "name": "stdout",
     "output_type": "stream",
     "text": [
      "音频：dataset/UrbanSound8K/audio/fold2\\73623-7-6-0.wav 的预测结果标签为：1\n"
     ]
    },
    {
     "name": "stderr",
     "output_type": "stream",
     "text": [
      "\r",
      " 84%|███████████████████████████████████████████████████████████████████▏            | 747/889 [02:39<00:31,  4.44it/s]"
     ]
    },
    {
     "name": "stdout",
     "output_type": "stream",
     "text": [
      "音频：dataset/UrbanSound8K/audio/fold2\\74226-9-0-0.wav 的预测结果标签为：1\n"
     ]
    },
    {
     "name": "stderr",
     "output_type": "stream",
     "text": [
      "\r",
      " 84%|███████████████████████████████████████████████████████████████████▎            | 748/889 [02:40<00:33,  4.17it/s]"
     ]
    },
    {
     "name": "stdout",
     "output_type": "stream",
     "text": [
      "音频：dataset/UrbanSound8K/audio/fold2\\74226-9-0-10.wav 的预测结果标签为：1\n"
     ]
    },
    {
     "name": "stderr",
     "output_type": "stream",
     "text": [
      "\r",
      " 84%|███████████████████████████████████████████████████████████████████▍            | 749/889 [02:40<00:35,  3.98it/s]"
     ]
    },
    {
     "name": "stdout",
     "output_type": "stream",
     "text": [
      "音频：dataset/UrbanSound8K/audio/fold2\\74226-9-0-13.wav 的预测结果标签为：1\n"
     ]
    },
    {
     "name": "stderr",
     "output_type": "stream",
     "text": [
      "\r",
      " 84%|███████████████████████████████████████████████████████████████████▍            | 750/889 [02:40<00:35,  3.94it/s]"
     ]
    },
    {
     "name": "stdout",
     "output_type": "stream",
     "text": [
      "音频：dataset/UrbanSound8K/audio/fold2\\74226-9-0-14.wav 的预测结果标签为：1\n"
     ]
    },
    {
     "name": "stderr",
     "output_type": "stream",
     "text": [
      "\r",
      " 84%|███████████████████████████████████████████████████████████████████▌            | 751/889 [02:40<00:35,  3.90it/s]"
     ]
    },
    {
     "name": "stdout",
     "output_type": "stream",
     "text": [
      "音频：dataset/UrbanSound8K/audio/fold2\\74226-9-0-21.wav 的预测结果标签为：1\n"
     ]
    },
    {
     "name": "stderr",
     "output_type": "stream",
     "text": [
      "\r",
      " 85%|███████████████████████████████████████████████████████████████████▋            | 752/889 [02:41<00:35,  3.83it/s]"
     ]
    },
    {
     "name": "stdout",
     "output_type": "stream",
     "text": [
      "音频：dataset/UrbanSound8K/audio/fold2\\74226-9-0-6.wav 的预测结果标签为：1\n"
     ]
    },
    {
     "name": "stderr",
     "output_type": "stream",
     "text": [
      "\r",
      " 85%|███████████████████████████████████████████████████████████████████▊            | 753/889 [02:41<00:36,  3.75it/s]"
     ]
    },
    {
     "name": "stdout",
     "output_type": "stream",
     "text": [
      "音频：dataset/UrbanSound8K/audio/fold2\\74226-9-0-7.wav 的预测结果标签为：1\n"
     ]
    },
    {
     "name": "stderr",
     "output_type": "stream",
     "text": [
      "\r",
      " 85%|███████████████████████████████████████████████████████████████████▊            | 754/889 [02:41<00:37,  3.62it/s]"
     ]
    },
    {
     "name": "stdout",
     "output_type": "stream",
     "text": [
      "音频：dataset/UrbanSound8K/audio/fold2\\74458-9-0-5.wav 的预测结果标签为：1\n"
     ]
    },
    {
     "name": "stderr",
     "output_type": "stream",
     "text": [
      "\r",
      " 85%|███████████████████████████████████████████████████████████████████▉            | 755/889 [02:41<00:36,  3.69it/s]"
     ]
    },
    {
     "name": "stdout",
     "output_type": "stream",
     "text": [
      "音频：dataset/UrbanSound8K/audio/fold2\\74458-9-0-7.wav 的预测结果标签为：1\n"
     ]
    },
    {
     "name": "stderr",
     "output_type": "stream",
     "text": [
      "\r",
      " 85%|████████████████████████████████████████████████████████████████████            | 756/889 [02:42<00:35,  3.72it/s]"
     ]
    },
    {
     "name": "stdout",
     "output_type": "stream",
     "text": [
      "音频：dataset/UrbanSound8K/audio/fold2\\74458-9-1-12.wav 的预测结果标签为：1\n"
     ]
    },
    {
     "name": "stderr",
     "output_type": "stream",
     "text": [
      "\r",
      " 85%|████████████████████████████████████████████████████████████████████            | 757/889 [02:42<00:37,  3.56it/s]"
     ]
    },
    {
     "name": "stdout",
     "output_type": "stream",
     "text": [
      "音频：dataset/UrbanSound8K/audio/fold2\\74458-9-1-13.wav 的预测结果标签为：1\n"
     ]
    },
    {
     "name": "stderr",
     "output_type": "stream",
     "text": [
      "\r",
      " 85%|████████████████████████████████████████████████████████████████████▏           | 758/889 [02:42<00:36,  3.58it/s]"
     ]
    },
    {
     "name": "stdout",
     "output_type": "stream",
     "text": [
      "音频：dataset/UrbanSound8K/audio/fold2\\74458-9-1-5.wav 的预测结果标签为：1\n"
     ]
    },
    {
     "name": "stderr",
     "output_type": "stream",
     "text": [
      "\r",
      " 85%|████████████████████████████████████████████████████████████████████▎           | 759/889 [02:43<00:35,  3.64it/s]"
     ]
    },
    {
     "name": "stdout",
     "output_type": "stream",
     "text": [
      "音频：dataset/UrbanSound8K/audio/fold2\\74458-9-2-18.wav 的预测结果标签为：1\n"
     ]
    },
    {
     "name": "stderr",
     "output_type": "stream",
     "text": [
      "\r",
      " 85%|████████████████████████████████████████████████████████████████████▍           | 760/889 [02:43<00:35,  3.62it/s]"
     ]
    },
    {
     "name": "stdout",
     "output_type": "stream",
     "text": [
      "音频：dataset/UrbanSound8K/audio/fold2\\74495-3-0-0.wav 的预测结果标签为：1\n"
     ]
    },
    {
     "name": "stderr",
     "output_type": "stream",
     "text": [
      "\r",
      " 86%|████████████████████████████████████████████████████████████████████▍           | 761/889 [02:43<00:35,  3.58it/s]"
     ]
    },
    {
     "name": "stdout",
     "output_type": "stream",
     "text": [
      "音频：dataset/UrbanSound8K/audio/fold2\\74495-3-0-1.wav 的预测结果标签为：1\n"
     ]
    },
    {
     "name": "stderr",
     "output_type": "stream",
     "text": [
      "\r",
      " 86%|████████████████████████████████████████████████████████████████████▌           | 762/889 [02:43<00:35,  3.62it/s]"
     ]
    },
    {
     "name": "stdout",
     "output_type": "stream",
     "text": [
      "音频：dataset/UrbanSound8K/audio/fold2\\74507-0-0-0.wav 的预测结果标签为：1\n"
     ]
    },
    {
     "name": "stderr",
     "output_type": "stream",
     "text": [
      "\r",
      " 86%|████████████████████████████████████████████████████████████████████▋           | 763/889 [02:44<00:34,  3.65it/s]"
     ]
    },
    {
     "name": "stdout",
     "output_type": "stream",
     "text": [
      "音频：dataset/UrbanSound8K/audio/fold2\\74507-0-0-1.wav 的预测结果标签为：1\n"
     ]
    },
    {
     "name": "stderr",
     "output_type": "stream",
     "text": [
      "\r",
      " 86%|████████████████████████████████████████████████████████████████████▊           | 764/889 [02:44<00:34,  3.60it/s]"
     ]
    },
    {
     "name": "stdout",
     "output_type": "stream",
     "text": [
      "音频：dataset/UrbanSound8K/audio/fold2\\74507-0-0-10.wav 的预测结果标签为：1\n"
     ]
    },
    {
     "name": "stderr",
     "output_type": "stream",
     "text": [
      "\r",
      " 86%|████████████████████████████████████████████████████████████████████▊           | 765/889 [02:44<00:34,  3.60it/s]"
     ]
    },
    {
     "name": "stdout",
     "output_type": "stream",
     "text": [
      "音频：dataset/UrbanSound8K/audio/fold2\\74507-0-0-11.wav 的预测结果标签为：1\n"
     ]
    },
    {
     "name": "stderr",
     "output_type": "stream",
     "text": [
      "\r",
      " 86%|████████████████████████████████████████████████████████████████████▉           | 766/889 [02:44<00:33,  3.67it/s]"
     ]
    },
    {
     "name": "stdout",
     "output_type": "stream",
     "text": [
      "音频：dataset/UrbanSound8K/audio/fold2\\74507-0-0-12.wav 的预测结果标签为：1\n"
     ]
    },
    {
     "name": "stderr",
     "output_type": "stream",
     "text": [
      "\r",
      " 86%|█████████████████████████████████████████████████████████████████████           | 767/889 [02:45<00:33,  3.61it/s]"
     ]
    },
    {
     "name": "stdout",
     "output_type": "stream",
     "text": [
      "音频：dataset/UrbanSound8K/audio/fold2\\74507-0-0-13.wav 的预测结果标签为：1\n"
     ]
    },
    {
     "name": "stderr",
     "output_type": "stream",
     "text": [
      "\r",
      " 86%|█████████████████████████████████████████████████████████████████████           | 768/889 [02:45<00:33,  3.65it/s]"
     ]
    },
    {
     "name": "stdout",
     "output_type": "stream",
     "text": [
      "音频：dataset/UrbanSound8K/audio/fold2\\74507-0-0-14.wav 的预测结果标签为：1\n"
     ]
    },
    {
     "name": "stderr",
     "output_type": "stream",
     "text": [
      "\r",
      " 87%|█████████████████████████████████████████████████████████████████████▏          | 769/889 [02:45<00:31,  3.76it/s]"
     ]
    },
    {
     "name": "stdout",
     "output_type": "stream",
     "text": [
      "音频：dataset/UrbanSound8K/audio/fold2\\74507-0-0-15.wav 的预测结果标签为：1\n"
     ]
    },
    {
     "name": "stderr",
     "output_type": "stream",
     "text": [
      "\r",
      " 87%|█████████████████████████████████████████████████████████████████████▎          | 770/889 [02:46<00:31,  3.75it/s]"
     ]
    },
    {
     "name": "stdout",
     "output_type": "stream",
     "text": [
      "音频：dataset/UrbanSound8K/audio/fold2\\74507-0-0-16.wav 的预测结果标签为：1\n"
     ]
    },
    {
     "name": "stderr",
     "output_type": "stream",
     "text": [
      "\r",
      " 87%|█████████████████████████████████████████████████████████████████████▍          | 771/889 [02:46<00:31,  3.70it/s]"
     ]
    },
    {
     "name": "stdout",
     "output_type": "stream",
     "text": [
      "音频：dataset/UrbanSound8K/audio/fold2\\74507-0-0-17.wav 的预测结果标签为：1\n"
     ]
    },
    {
     "name": "stderr",
     "output_type": "stream",
     "text": [
      "\r",
      " 87%|█████████████████████████████████████████████████████████████████████▍          | 772/889 [02:46<00:31,  3.68it/s]"
     ]
    },
    {
     "name": "stdout",
     "output_type": "stream",
     "text": [
      "音频：dataset/UrbanSound8K/audio/fold2\\74507-0-0-18.wav 的预测结果标签为：1\n"
     ]
    },
    {
     "name": "stderr",
     "output_type": "stream",
     "text": [
      "\r",
      " 87%|█████████████████████████████████████████████████████████████████████▌          | 773/889 [02:46<00:30,  3.78it/s]"
     ]
    },
    {
     "name": "stdout",
     "output_type": "stream",
     "text": [
      "音频：dataset/UrbanSound8K/audio/fold2\\74507-0-0-2.wav 的预测结果标签为：1\n"
     ]
    },
    {
     "name": "stderr",
     "output_type": "stream",
     "text": [
      "\r",
      " 87%|█████████████████████████████████████████████████████████████████████▋          | 774/889 [02:47<00:30,  3.77it/s]"
     ]
    },
    {
     "name": "stdout",
     "output_type": "stream",
     "text": [
      "音频：dataset/UrbanSound8K/audio/fold2\\74507-0-0-20.wav 的预测结果标签为：1\n"
     ]
    },
    {
     "name": "stderr",
     "output_type": "stream",
     "text": [
      "\r",
      " 87%|█████████████████████████████████████████████████████████████████████▋          | 775/889 [02:47<00:30,  3.79it/s]"
     ]
    },
    {
     "name": "stdout",
     "output_type": "stream",
     "text": [
      "音频：dataset/UrbanSound8K/audio/fold2\\74507-0-0-22.wav 的预测结果标签为：1\n"
     ]
    },
    {
     "name": "stderr",
     "output_type": "stream",
     "text": [
      "\r",
      " 87%|█████████████████████████████████████████████████████████████████████▊          | 776/889 [02:47<00:30,  3.72it/s]"
     ]
    },
    {
     "name": "stdout",
     "output_type": "stream",
     "text": [
      "音频：dataset/UrbanSound8K/audio/fold2\\74507-0-0-23.wav 的预测结果标签为：1\n"
     ]
    },
    {
     "name": "stderr",
     "output_type": "stream",
     "text": [
      "\r",
      " 87%|█████████████████████████████████████████████████████████████████████▉          | 777/889 [02:47<00:30,  3.69it/s]"
     ]
    },
    {
     "name": "stdout",
     "output_type": "stream",
     "text": [
      "音频：dataset/UrbanSound8K/audio/fold2\\74507-0-0-24.wav 的预测结果标签为：1\n"
     ]
    },
    {
     "name": "stderr",
     "output_type": "stream",
     "text": [
      "\r",
      " 88%|██████████████████████████████████████████████████████████████████████          | 778/889 [02:48<00:30,  3.70it/s]"
     ]
    },
    {
     "name": "stdout",
     "output_type": "stream",
     "text": [
      "音频：dataset/UrbanSound8K/audio/fold2\\74507-0-0-25.wav 的预测结果标签为：1\n"
     ]
    },
    {
     "name": "stderr",
     "output_type": "stream",
     "text": [
      "\r",
      " 88%|██████████████████████████████████████████████████████████████████████          | 779/889 [02:48<00:30,  3.63it/s]"
     ]
    },
    {
     "name": "stdout",
     "output_type": "stream",
     "text": [
      "音频：dataset/UrbanSound8K/audio/fold2\\74507-0-0-27.wav 的预测结果标签为：1\n"
     ]
    },
    {
     "name": "stderr",
     "output_type": "stream",
     "text": [
      "\r",
      " 88%|██████████████████████████████████████████████████████████████████████▏         | 780/889 [02:48<00:30,  3.62it/s]"
     ]
    },
    {
     "name": "stdout",
     "output_type": "stream",
     "text": [
      "音频：dataset/UrbanSound8K/audio/fold2\\74507-0-0-28.wav 的预测结果标签为：1\n"
     ]
    },
    {
     "name": "stderr",
     "output_type": "stream",
     "text": [
      "\r",
      " 88%|██████████████████████████████████████████████████████████████████████▎         | 781/889 [02:49<00:29,  3.70it/s]"
     ]
    },
    {
     "name": "stdout",
     "output_type": "stream",
     "text": [
      "音频：dataset/UrbanSound8K/audio/fold2\\74507-0-0-3.wav 的预测结果标签为：1\n"
     ]
    },
    {
     "name": "stderr",
     "output_type": "stream",
     "text": [
      "\r",
      " 88%|██████████████████████████████████████████████████████████████████████▎         | 782/889 [02:49<00:28,  3.71it/s]"
     ]
    },
    {
     "name": "stdout",
     "output_type": "stream",
     "text": [
      "音频：dataset/UrbanSound8K/audio/fold2\\74507-0-0-4.wav 的预测结果标签为：1\n"
     ]
    },
    {
     "name": "stderr",
     "output_type": "stream",
     "text": [
      "\r",
      " 88%|██████████████████████████████████████████████████████████████████████▍         | 783/889 [02:49<00:29,  3.60it/s]"
     ]
    },
    {
     "name": "stdout",
     "output_type": "stream",
     "text": [
      "音频：dataset/UrbanSound8K/audio/fold2\\74507-0-0-5.wav 的预测结果标签为：1\n"
     ]
    },
    {
     "name": "stderr",
     "output_type": "stream",
     "text": [
      "\r",
      " 88%|██████████████████████████████████████████████████████████████████████▌         | 784/889 [02:49<00:29,  3.61it/s]"
     ]
    },
    {
     "name": "stdout",
     "output_type": "stream",
     "text": [
      "音频：dataset/UrbanSound8K/audio/fold2\\74507-0-0-6.wav 的预测结果标签为：1\n"
     ]
    },
    {
     "name": "stderr",
     "output_type": "stream",
     "text": [
      "\r",
      " 88%|██████████████████████████████████████████████████████████████████████▋         | 785/889 [02:50<00:28,  3.67it/s]"
     ]
    },
    {
     "name": "stdout",
     "output_type": "stream",
     "text": [
      "音频：dataset/UrbanSound8K/audio/fold2\\74507-0-0-8.wav 的预测结果标签为：1\n"
     ]
    },
    {
     "name": "stderr",
     "output_type": "stream",
     "text": [
      "\r",
      " 88%|██████████████████████████████████████████████████████████████████████▋         | 786/889 [02:50<00:28,  3.58it/s]"
     ]
    },
    {
     "name": "stdout",
     "output_type": "stream",
     "text": [
      "音频：dataset/UrbanSound8K/audio/fold2\\74507-0-0-9.wav 的预测结果标签为：1\n"
     ]
    },
    {
     "name": "stderr",
     "output_type": "stream",
     "text": [
      "\r",
      " 89%|██████████████████████████████████████████████████████████████████████▊         | 787/889 [02:50<00:27,  3.66it/s]"
     ]
    },
    {
     "name": "stdout",
     "output_type": "stream",
     "text": [
      "音频：dataset/UrbanSound8K/audio/fold2\\76086-4-0-12.wav 的预测结果标签为：1\n"
     ]
    },
    {
     "name": "stderr",
     "output_type": "stream",
     "text": [
      "\r",
      " 89%|██████████████████████████████████████████████████████████████████████▉         | 788/889 [02:50<00:27,  3.68it/s]"
     ]
    },
    {
     "name": "stdout",
     "output_type": "stream",
     "text": [
      "音频：dataset/UrbanSound8K/audio/fold2\\76086-4-0-14.wav 的预测结果标签为：1\n"
     ]
    },
    {
     "name": "stderr",
     "output_type": "stream",
     "text": [
      "\r",
      " 89%|███████████████████████████████████████████████████████████████████████         | 789/889 [02:51<00:27,  3.63it/s]"
     ]
    },
    {
     "name": "stdout",
     "output_type": "stream",
     "text": [
      "音频：dataset/UrbanSound8K/audio/fold2\\76086-4-0-17.wav 的预测结果标签为：1\n"
     ]
    },
    {
     "name": "stderr",
     "output_type": "stream",
     "text": [
      "\r",
      " 89%|███████████████████████████████████████████████████████████████████████         | 790/889 [02:51<00:27,  3.61it/s]"
     ]
    },
    {
     "name": "stdout",
     "output_type": "stream",
     "text": [
      "音频：dataset/UrbanSound8K/audio/fold2\\76086-4-0-18.wav 的预测结果标签为：1\n"
     ]
    },
    {
     "name": "stderr",
     "output_type": "stream",
     "text": [
      "\r",
      " 89%|███████████████████████████████████████████████████████████████████████▏        | 791/889 [02:51<00:26,  3.67it/s]"
     ]
    },
    {
     "name": "stdout",
     "output_type": "stream",
     "text": [
      "音频：dataset/UrbanSound8K/audio/fold2\\76086-4-0-19.wav 的预测结果标签为：1\n"
     ]
    },
    {
     "name": "stderr",
     "output_type": "stream",
     "text": [
      "\r",
      " 89%|███████████████████████████████████████████████████████████████████████▎        | 792/889 [02:52<00:26,  3.72it/s]"
     ]
    },
    {
     "name": "stdout",
     "output_type": "stream",
     "text": [
      "音频：dataset/UrbanSound8K/audio/fold2\\76086-4-0-2.wav 的预测结果标签为：1\n"
     ]
    },
    {
     "name": "stderr",
     "output_type": "stream",
     "text": [
      "\r",
      " 89%|███████████████████████████████████████████████████████████████████████▎        | 793/889 [02:52<00:25,  3.70it/s]"
     ]
    },
    {
     "name": "stdout",
     "output_type": "stream",
     "text": [
      "音频：dataset/UrbanSound8K/audio/fold2\\76086-4-0-22.wav 的预测结果标签为：1\n"
     ]
    },
    {
     "name": "stderr",
     "output_type": "stream",
     "text": [
      "\r",
      " 89%|███████████████████████████████████████████████████████████████████████▍        | 794/889 [02:52<00:26,  3.60it/s]"
     ]
    },
    {
     "name": "stdout",
     "output_type": "stream",
     "text": [
      "音频：dataset/UrbanSound8K/audio/fold2\\76086-4-0-23.wav 的预测结果标签为：1\n"
     ]
    },
    {
     "name": "stderr",
     "output_type": "stream",
     "text": [
      "\r",
      " 89%|███████████████████████████████████████████████████████████████████████▌        | 795/889 [02:52<00:25,  3.65it/s]"
     ]
    },
    {
     "name": "stdout",
     "output_type": "stream",
     "text": [
      "音频：dataset/UrbanSound8K/audio/fold2\\76086-4-0-24.wav 的预测结果标签为：1\n"
     ]
    },
    {
     "name": "stderr",
     "output_type": "stream",
     "text": [
      "\r",
      " 90%|███████████████████████████████████████████████████████████████████████▋        | 796/889 [02:53<00:25,  3.69it/s]"
     ]
    },
    {
     "name": "stdout",
     "output_type": "stream",
     "text": [
      "音频：dataset/UrbanSound8K/audio/fold2\\76086-4-0-27.wav 的预测结果标签为：1\n"
     ]
    },
    {
     "name": "stderr",
     "output_type": "stream",
     "text": [
      "\r",
      " 90%|███████████████████████████████████████████████████████████████████████▋        | 797/889 [02:53<00:24,  3.73it/s]"
     ]
    },
    {
     "name": "stdout",
     "output_type": "stream",
     "text": [
      "音频：dataset/UrbanSound8K/audio/fold2\\76086-4-0-29.wav 的预测结果标签为：1\n"
     ]
    },
    {
     "name": "stderr",
     "output_type": "stream",
     "text": [
      "\r",
      " 90%|███████████████████████████████████████████████████████████████████████▊        | 798/889 [02:53<00:25,  3.61it/s]"
     ]
    },
    {
     "name": "stdout",
     "output_type": "stream",
     "text": [
      "音频：dataset/UrbanSound8K/audio/fold2\\76086-4-0-3.wav 的预测结果标签为：1\n"
     ]
    },
    {
     "name": "stderr",
     "output_type": "stream",
     "text": [
      "\r",
      " 90%|███████████████████████████████████████████████████████████████████████▉        | 799/889 [02:53<00:24,  3.62it/s]"
     ]
    },
    {
     "name": "stdout",
     "output_type": "stream",
     "text": [
      "音频：dataset/UrbanSound8K/audio/fold2\\76086-4-0-32.wav 的预测结果标签为：1\n"
     ]
    },
    {
     "name": "stderr",
     "output_type": "stream",
     "text": [
      "\r",
      " 90%|███████████████████████████████████████████████████████████████████████▉        | 800/889 [02:54<00:25,  3.56it/s]"
     ]
    },
    {
     "name": "stdout",
     "output_type": "stream",
     "text": [
      "音频：dataset/UrbanSound8K/audio/fold2\\76086-4-0-36.wav 的预测结果标签为：1\n"
     ]
    },
    {
     "name": "stderr",
     "output_type": "stream",
     "text": [
      "\r",
      " 90%|████████████████████████████████████████████████████████████████████████        | 801/889 [02:54<00:25,  3.47it/s]"
     ]
    },
    {
     "name": "stdout",
     "output_type": "stream",
     "text": [
      "音频：dataset/UrbanSound8K/audio/fold2\\76086-4-0-38.wav 的预测结果标签为：1\n"
     ]
    },
    {
     "name": "stderr",
     "output_type": "stream",
     "text": [
      "\r",
      " 90%|████████████████████████████████████████████████████████████████████████▏       | 802/889 [02:54<00:24,  3.50it/s]"
     ]
    },
    {
     "name": "stdout",
     "output_type": "stream",
     "text": [
      "音频：dataset/UrbanSound8K/audio/fold2\\76086-4-0-43.wav 的预测结果标签为：1\n"
     ]
    },
    {
     "name": "stderr",
     "output_type": "stream",
     "text": [
      "\r",
      " 90%|████████████████████████████████████████████████████████████████████████▎       | 803/889 [02:55<00:24,  3.45it/s]"
     ]
    },
    {
     "name": "stdout",
     "output_type": "stream",
     "text": [
      "音频：dataset/UrbanSound8K/audio/fold2\\76086-4-0-50.wav 的预测结果标签为：1\n"
     ]
    },
    {
     "name": "stderr",
     "output_type": "stream",
     "text": [
      "\r",
      " 90%|████████████████████████████████████████████████████████████████████████▎       | 804/889 [02:55<00:24,  3.43it/s]"
     ]
    },
    {
     "name": "stdout",
     "output_type": "stream",
     "text": [
      "音频：dataset/UrbanSound8K/audio/fold2\\76086-4-0-53.wav 的预测结果标签为：1\n"
     ]
    },
    {
     "name": "stderr",
     "output_type": "stream",
     "text": [
      "\r",
      " 91%|████████████████████████████████████████████████████████████████████████▍       | 805/889 [02:55<00:23,  3.52it/s]"
     ]
    },
    {
     "name": "stdout",
     "output_type": "stream",
     "text": [
      "音频：dataset/UrbanSound8K/audio/fold2\\76086-4-0-55.wav 的预测结果标签为：1\n"
     ]
    },
    {
     "name": "stderr",
     "output_type": "stream",
     "text": [
      "\r",
      " 91%|████████████████████████████████████████████████████████████████████████▌       | 806/889 [02:55<00:23,  3.58it/s]"
     ]
    },
    {
     "name": "stdout",
     "output_type": "stream",
     "text": [
      "音频：dataset/UrbanSound8K/audio/fold2\\76086-4-0-56.wav 的预测结果标签为：1\n"
     ]
    },
    {
     "name": "stderr",
     "output_type": "stream",
     "text": [
      " 91%|████████████████████████████████████████████████████████████████████████▋       | 808/889 [02:56<00:18,  4.46it/s]"
     ]
    },
    {
     "name": "stdout",
     "output_type": "stream",
     "text": [
      "音频：dataset/UrbanSound8K/audio/fold2\\76086-4-0-58.wav 的预测结果标签为：1\n",
      "音频：dataset/UrbanSound8K/audio/fold2\\76089-6-0-0.wav 的预测结果标签为：1\n"
     ]
    },
    {
     "name": "stderr",
     "output_type": "stream",
     "text": [
      " 91%|████████████████████████████████████████████████████████████████████████▉       | 810/889 [02:56<00:13,  5.82it/s]"
     ]
    },
    {
     "name": "stdout",
     "output_type": "stream",
     "text": [
      "音频：dataset/UrbanSound8K/audio/fold2\\76090-6-0-0.wav 的预测结果标签为：1\n",
      "音频：dataset/UrbanSound8K/audio/fold2\\76090-6-1-0.wav 的预测结果标签为：1\n"
     ]
    },
    {
     "name": "stderr",
     "output_type": "stream",
     "text": [
      "\r",
      " 91%|████████████████████████████████████████████████████████████████████████▉       | 811/889 [02:56<00:12,  6.46it/s]"
     ]
    },
    {
     "name": "stdout",
     "output_type": "stream",
     "text": [
      "音频：dataset/UrbanSound8K/audio/fold2\\76091-6-0-0.wav 的预测结果标签为：1\n"
     ]
    },
    {
     "name": "stderr",
     "output_type": "stream",
     "text": [
      "\r",
      " 91%|█████████████████████████████████████████████████████████████████████████       | 812/889 [02:56<00:14,  5.36it/s]"
     ]
    },
    {
     "name": "stdout",
     "output_type": "stream",
     "text": [
      "音频：dataset/UrbanSound8K/audio/fold2\\76091-6-1-0.wav 的预测结果标签为：1\n",
      "音频：dataset/UrbanSound8K/audio/fold2\\76091-6-2-0.wav 的预测结果标签为：1\n",
      "音频：dataset/UrbanSound8K/audio/fold2\\76091-6-3-0.wav 的预测结果标签为：1\n"
     ]
    },
    {
     "name": "stderr",
     "output_type": "stream",
     "text": [
      " 92%|█████████████████████████████████████████████████████████████████████████▌      | 817/889 [02:57<00:09,  7.76it/s]"
     ]
    },
    {
     "name": "stdout",
     "output_type": "stream",
     "text": [
      "音频：dataset/UrbanSound8K/audio/fold2\\76091-6-4-0.wav 的预测结果标签为：1\n",
      "音频：dataset/UrbanSound8K/audio/fold2\\76091-6-5-0.wav 的预测结果标签为：1\n",
      "音频：dataset/UrbanSound8K/audio/fold2\\77751-4-0-0.wav 的预测结果标签为：1\n"
     ]
    },
    {
     "name": "stderr",
     "output_type": "stream",
     "text": [
      " 92%|█████████████████████████████████████████████████████████████████████████▋      | 819/889 [02:57<00:08,  8.36it/s]"
     ]
    },
    {
     "name": "stdout",
     "output_type": "stream",
     "text": [
      "音频：dataset/UrbanSound8K/audio/fold2\\77751-4-0-1.wav 的预测结果标签为：1\n",
      "音频：dataset/UrbanSound8K/audio/fold2\\77751-4-1-0.wav 的预测结果标签为：1\n"
     ]
    },
    {
     "name": "stderr",
     "output_type": "stream",
     "text": [
      "\r",
      " 92%|█████████████████████████████████████████████████████████████████████████▉      | 821/889 [02:57<00:07,  8.86it/s]"
     ]
    },
    {
     "name": "stdout",
     "output_type": "stream",
     "text": [
      "音频：dataset/UrbanSound8K/audio/fold2\\77751-4-1-1.wav 的预测结果标签为：1\n",
      "音频：dataset/UrbanSound8K/audio/fold2\\77751-4-2-0.wav 的预测结果标签为：1\n"
     ]
    },
    {
     "name": "stderr",
     "output_type": "stream",
     "text": [
      " 93%|██████████████████████████████████████████████████████████████████████████      | 823/889 [02:58<00:07,  8.60it/s]"
     ]
    },
    {
     "name": "stdout",
     "output_type": "stream",
     "text": [
      "音频：dataset/UrbanSound8K/audio/fold2\\77751-4-3-0.wav 的预测结果标签为：1\n",
      "音频：dataset/UrbanSound8K/audio/fold2\\77751-4-4-0.wav 的预测结果标签为：1\n"
     ]
    },
    {
     "name": "stderr",
     "output_type": "stream",
     "text": [
      " 93%|██████████████████████████████████████████████████████████████████████████▎     | 826/889 [02:58<00:06,  9.28it/s]"
     ]
    },
    {
     "name": "stdout",
     "output_type": "stream",
     "text": [
      "音频：dataset/UrbanSound8K/audio/fold2\\77751-4-5-0.wav 的预测结果标签为：1\n",
      "音频：dataset/UrbanSound8K/audio/fold2\\77751-4-6-0.wav 的预测结果标签为：1\n",
      "音频：dataset/UrbanSound8K/audio/fold2\\77751-4-7-0.wav 的预测结果标签为：1\n"
     ]
    },
    {
     "name": "stderr",
     "output_type": "stream",
     "text": [
      "\r",
      " 93%|██████████████████████████████████████████████████████████████████████████▌     | 828/889 [02:58<00:06,  9.35it/s]"
     ]
    },
    {
     "name": "stdout",
     "output_type": "stream",
     "text": [
      "音频：dataset/UrbanSound8K/audio/fold2\\77751-4-8-0.wav 的预测结果标签为：1\n",
      "音频：dataset/UrbanSound8K/audio/fold2\\77751-4-9-0.wav 的预测结果标签为：1\n"
     ]
    },
    {
     "name": "stderr",
     "output_type": "stream",
     "text": [
      "\r",
      " 93%|██████████████████████████████████████████████████████████████████████████▌     | 829/889 [02:58<00:06,  9.28it/s]"
     ]
    },
    {
     "name": "stdout",
     "output_type": "stream",
     "text": [
      "音频：dataset/UrbanSound8K/audio/fold2\\77751-4-9-1.wav 的预测结果标签为：1\n",
      "音频：dataset/UrbanSound8K/audio/fold2\\77751-4-9-2.wav 的预测结果标签为：1\n",
      "音频：dataset/UrbanSound8K/audio/fold2\\77751-4-9-3.wav 的预测结果标签为：1"
     ]
    },
    {
     "name": "stderr",
     "output_type": "stream",
     "text": [
      "\r",
      " 93%|██████████████████████████████████████████████████████████████████████████▊     | 831/889 [02:58<00:05,  9.67it/s]"
     ]
    },
    {
     "name": "stdout",
     "output_type": "stream",
     "text": [
      "\n"
     ]
    },
    {
     "name": "stderr",
     "output_type": "stream",
     "text": [
      "\r",
      " 94%|██████████████████████████████████████████████████████████████████████████▊     | 832/889 [02:59<00:09,  6.21it/s]"
     ]
    },
    {
     "name": "stdout",
     "output_type": "stream",
     "text": [
      "音频：dataset/UrbanSound8K/audio/fold2\\79377-9-0-10.wav 的预测结果标签为：1\n"
     ]
    },
    {
     "name": "stderr",
     "output_type": "stream",
     "text": [
      "\r",
      " 94%|██████████████████████████████████████████████████████████████████████████▉     | 833/889 [02:59<00:10,  5.23it/s]"
     ]
    },
    {
     "name": "stdout",
     "output_type": "stream",
     "text": [
      "音频：dataset/UrbanSound8K/audio/fold2\\79377-9-0-12.wav 的预测结果标签为：1\n"
     ]
    },
    {
     "name": "stderr",
     "output_type": "stream",
     "text": [
      "\r",
      " 94%|███████████████████████████████████████████████████████████████████████████     | 834/889 [02:59<00:11,  4.58it/s]"
     ]
    },
    {
     "name": "stdout",
     "output_type": "stream",
     "text": [
      "音频：dataset/UrbanSound8K/audio/fold2\\79377-9-0-13.wav 的预测结果标签为：1\n"
     ]
    },
    {
     "name": "stderr",
     "output_type": "stream",
     "text": [
      "\r",
      " 94%|███████████████████████████████████████████████████████████████████████████▏    | 835/889 [03:00<00:12,  4.26it/s]"
     ]
    },
    {
     "name": "stdout",
     "output_type": "stream",
     "text": [
      "音频：dataset/UrbanSound8K/audio/fold2\\79377-9-0-2.wav 的预测结果标签为：1\n"
     ]
    },
    {
     "name": "stderr",
     "output_type": "stream",
     "text": [
      "\r",
      " 94%|███████████████████████████████████████████████████████████████████████████▏    | 836/889 [03:00<00:13,  4.03it/s]"
     ]
    },
    {
     "name": "stdout",
     "output_type": "stream",
     "text": [
      "音频：dataset/UrbanSound8K/audio/fold2\\79377-9-0-4.wav 的预测结果标签为：1\n"
     ]
    },
    {
     "name": "stderr",
     "output_type": "stream",
     "text": [
      "\r",
      " 94%|███████████████████████████████████████████████████████████████████████████▎    | 837/889 [03:00<00:13,  3.91it/s]"
     ]
    },
    {
     "name": "stdout",
     "output_type": "stream",
     "text": [
      "音频：dataset/UrbanSound8K/audio/fold2\\79377-9-0-8.wav 的预测结果标签为：1\n"
     ]
    },
    {
     "name": "stderr",
     "output_type": "stream",
     "text": [
      "\r",
      " 94%|███████████████████████████████████████████████████████████████████████████▍    | 838/889 [03:00<00:13,  3.76it/s]"
     ]
    },
    {
     "name": "stdout",
     "output_type": "stream",
     "text": [
      "音频：dataset/UrbanSound8K/audio/fold2\\84359-2-0-0.wav 的预测结果标签为：1\n"
     ]
    },
    {
     "name": "stderr",
     "output_type": "stream",
     "text": [
      "\r",
      " 94%|███████████████████████████████████████████████████████████████████████████▌    | 839/889 [03:01<00:13,  3.77it/s]"
     ]
    },
    {
     "name": "stdout",
     "output_type": "stream",
     "text": [
      "音频：dataset/UrbanSound8K/audio/fold2\\84359-2-0-1.wav 的预测结果标签为：1\n"
     ]
    },
    {
     "name": "stderr",
     "output_type": "stream",
     "text": [
      "\r",
      " 94%|███████████████████████████████████████████████████████████████████████████▌    | 840/889 [03:01<00:13,  3.76it/s]"
     ]
    },
    {
     "name": "stdout",
     "output_type": "stream",
     "text": [
      "音频：dataset/UrbanSound8K/audio/fold2\\84359-2-0-2.wav 的预测结果标签为：1\n"
     ]
    },
    {
     "name": "stderr",
     "output_type": "stream",
     "text": [
      "\r",
      " 95%|███████████████████████████████████████████████████████████████████████████▋    | 841/889 [03:01<00:13,  3.60it/s]"
     ]
    },
    {
     "name": "stdout",
     "output_type": "stream",
     "text": [
      "音频：dataset/UrbanSound8K/audio/fold2\\84359-2-0-5.wav 的预测结果标签为：1\n"
     ]
    },
    {
     "name": "stderr",
     "output_type": "stream",
     "text": [
      "\r",
      " 95%|███████████████████████████████████████████████████████████████████████████▊    | 842/889 [03:01<00:12,  3.68it/s]"
     ]
    },
    {
     "name": "stdout",
     "output_type": "stream",
     "text": [
      "音频：dataset/UrbanSound8K/audio/fold2\\84359-2-0-6.wav 的预测结果标签为：1\n"
     ]
    },
    {
     "name": "stderr",
     "output_type": "stream",
     "text": [
      "\r",
      " 95%|███████████████████████████████████████████████████████████████████████████▊    | 843/889 [03:02<00:12,  3.69it/s]"
     ]
    },
    {
     "name": "stdout",
     "output_type": "stream",
     "text": [
      "音频：dataset/UrbanSound8K/audio/fold2\\84359-2-0-8.wav 的预测结果标签为：1\n"
     ]
    },
    {
     "name": "stderr",
     "output_type": "stream",
     "text": [
      "\r",
      " 95%|███████████████████████████████████████████████████████████████████████████▉    | 844/889 [03:02<00:12,  3.67it/s]"
     ]
    },
    {
     "name": "stdout",
     "output_type": "stream",
     "text": [
      "音频：dataset/UrbanSound8K/audio/fold2\\84359-2-0-9.wav 的预测结果标签为：1\n",
      "音频：dataset/UrbanSound8K/audio/fold2\\89211-3-0-0.wav 的预测结果标签为：1"
     ]
    },
    {
     "name": "stderr",
     "output_type": "stream",
     "text": [
      "\r",
      " 95%|████████████████████████████████████████████████████████████████████████████    | 845/889 [03:02<00:11,  3.99it/s]"
     ]
    },
    {
     "name": "stdout",
     "output_type": "stream",
     "text": [
      "\n"
     ]
    },
    {
     "name": "stderr",
     "output_type": "stream",
     "text": [
      "\r",
      " 95%|████████████████████████████████████████████████████████████████████████████▏   | 846/889 [03:02<00:10,  3.94it/s]"
     ]
    },
    {
     "name": "stdout",
     "output_type": "stream",
     "text": [
      "音频：dataset/UrbanSound8K/audio/fold2\\91396-8-0-0.wav 的预测结果标签为：1\n"
     ]
    },
    {
     "name": "stderr",
     "output_type": "stream",
     "text": [
      "\r",
      " 95%|████████████████████████████████████████████████████████████████████████████▏   | 847/889 [03:03<00:10,  3.91it/s]"
     ]
    },
    {
     "name": "stdout",
     "output_type": "stream",
     "text": [
      "音频：dataset/UrbanSound8K/audio/fold2\\91396-8-0-1.wav 的预测结果标签为：1\n"
     ]
    },
    {
     "name": "stderr",
     "output_type": "stream",
     "text": [
      "\r",
      " 95%|████████████████████████████████████████████████████████████████████████████▎   | 848/889 [03:03<00:11,  3.72it/s]"
     ]
    },
    {
     "name": "stdout",
     "output_type": "stream",
     "text": [
      "音频：dataset/UrbanSound8K/audio/fold2\\91396-8-0-2.wav 的预测结果标签为：1\n"
     ]
    },
    {
     "name": "stderr",
     "output_type": "stream",
     "text": [
      "\r",
      " 96%|████████████████████████████████████████████████████████████████████████████▍   | 849/889 [03:03<00:10,  3.66it/s]"
     ]
    },
    {
     "name": "stdout",
     "output_type": "stream",
     "text": [
      "音频：dataset/UrbanSound8K/audio/fold2\\91396-8-0-3.wav 的预测结果标签为：1\n"
     ]
    },
    {
     "name": "stderr",
     "output_type": "stream",
     "text": [
      "\r",
      " 96%|████████████████████████████████████████████████████████████████████████████▍   | 850/889 [03:04<00:10,  3.72it/s]"
     ]
    },
    {
     "name": "stdout",
     "output_type": "stream",
     "text": [
      "音频：dataset/UrbanSound8K/audio/fold2\\93193-9-0-4.wav 的预测结果标签为：1\n"
     ]
    },
    {
     "name": "stderr",
     "output_type": "stream",
     "text": [
      "\r",
      " 96%|████████████████████████████████████████████████████████████████████████████▌   | 851/889 [03:04<00:10,  3.66it/s]"
     ]
    },
    {
     "name": "stdout",
     "output_type": "stream",
     "text": [
      "音频：dataset/UrbanSound8K/audio/fold2\\93193-9-1-11.wav 的预测结果标签为：1\n"
     ]
    },
    {
     "name": "stderr",
     "output_type": "stream",
     "text": [
      "\r",
      " 96%|████████████████████████████████████████████████████████████████████████████▋   | 852/889 [03:04<00:10,  3.58it/s]"
     ]
    },
    {
     "name": "stdout",
     "output_type": "stream",
     "text": [
      "音频：dataset/UrbanSound8K/audio/fold2\\93193-9-1-18.wav 的预测结果标签为：1\n"
     ]
    },
    {
     "name": "stderr",
     "output_type": "stream",
     "text": [
      "\r",
      " 96%|████████████████████████████████████████████████████████████████████████████▊   | 853/889 [03:04<00:09,  3.64it/s]"
     ]
    },
    {
     "name": "stdout",
     "output_type": "stream",
     "text": [
      "音频：dataset/UrbanSound8K/audio/fold2\\93193-9-1-19.wav 的预测结果标签为：1\n"
     ]
    },
    {
     "name": "stderr",
     "output_type": "stream",
     "text": [
      "\r",
      " 96%|████████████████████████████████████████████████████████████████████████████▊   | 854/889 [03:05<00:09,  3.68it/s]"
     ]
    },
    {
     "name": "stdout",
     "output_type": "stream",
     "text": [
      "音频：dataset/UrbanSound8K/audio/fold2\\93193-9-1-22.wav 的预测结果标签为：1\n"
     ]
    },
    {
     "name": "stderr",
     "output_type": "stream",
     "text": [
      " 96%|█████████████████████████████████████████████████████████████████████████████   | 856/889 [03:05<00:07,  4.17it/s]"
     ]
    },
    {
     "name": "stdout",
     "output_type": "stream",
     "text": [
      "音频：dataset/UrbanSound8K/audio/fold2\\93193-9-1-6.wav 的预测结果标签为：1\n",
      "音频：dataset/UrbanSound8K/audio/fold2\\94401-1-0-0.wav 的预测结果标签为：1\n"
     ]
    },
    {
     "name": "stderr",
     "output_type": "stream",
     "text": [
      "\r",
      " 96%|█████████████████████████████████████████████████████████████████████████████   | 857/889 [03:05<00:07,  4.01it/s]"
     ]
    },
    {
     "name": "stdout",
     "output_type": "stream",
     "text": [
      "音频：dataset/UrbanSound8K/audio/fold2\\94710-5-0-0.wav 的预测结果标签为：1\n"
     ]
    },
    {
     "name": "stderr",
     "output_type": "stream",
     "text": [
      "\r",
      " 97%|█████████████████████████████████████████████████████████████████████████████▏  | 858/889 [03:06<00:07,  3.91it/s]"
     ]
    },
    {
     "name": "stdout",
     "output_type": "stream",
     "text": [
      "音频：dataset/UrbanSound8K/audio/fold2\\94710-5-0-1.wav 的预测结果标签为：1\n"
     ]
    },
    {
     "name": "stderr",
     "output_type": "stream",
     "text": [
      "\r",
      " 97%|█████████████████████████████████████████████████████████████████████████████▎  | 859/889 [03:06<00:07,  3.83it/s]"
     ]
    },
    {
     "name": "stdout",
     "output_type": "stream",
     "text": [
      "音频：dataset/UrbanSound8K/audio/fold2\\94710-5-0-2.wav 的预测结果标签为：1\n"
     ]
    },
    {
     "name": "stderr",
     "output_type": "stream",
     "text": [
      "\r",
      " 97%|█████████████████████████████████████████████████████████████████████████████▍  | 860/889 [03:06<00:07,  3.69it/s]"
     ]
    },
    {
     "name": "stdout",
     "output_type": "stream",
     "text": [
      "音频：dataset/UrbanSound8K/audio/fold2\\94710-5-0-3.wav 的预测结果标签为：1\n"
     ]
    },
    {
     "name": "stderr",
     "output_type": "stream",
     "text": [
      " 97%|█████████████████████████████████████████████████████████████████████████████▌  | 862/889 [03:07<00:05,  4.76it/s]"
     ]
    },
    {
     "name": "stdout",
     "output_type": "stream",
     "text": [
      "音频：dataset/UrbanSound8K/audio/fold2\\94710-5-1-0.wav 的预测结果标签为：1\n",
      "音频：dataset/UrbanSound8K/audio/fold2\\96169-9-1-10.wav 的预测结果标签为：1\n"
     ]
    },
    {
     "name": "stderr",
     "output_type": "stream",
     "text": [
      "\r",
      " 97%|█████████████████████████████████████████████████████████████████████████████▊  | 864/889 [03:07<00:04,  5.68it/s]"
     ]
    },
    {
     "name": "stdout",
     "output_type": "stream",
     "text": [
      "音频：dataset/UrbanSound8K/audio/fold2\\96169-9-1-3.wav 的预测结果标签为：1\n",
      "音频：dataset/UrbanSound8K/audio/fold2\\96169-9-1-49.wav 的预测结果标签为：1\n",
      "音频：dataset/UrbanSound8K/audio/fold2\\96169-9-1-55.wav 的预测结果标签为：1"
     ]
    },
    {
     "name": "stderr",
     "output_type": "stream",
     "text": [
      "\r",
      " 97%|█████████████████████████████████████████████████████████████████████████████▉  | 866/889 [03:07<00:03,  6.50it/s]"
     ]
    },
    {
     "name": "stdout",
     "output_type": "stream",
     "text": [
      "\n",
      "音频：dataset/UrbanSound8K/audio/fold2\\96169-9-1-61.wav 的预测结果标签为：1\n"
     ]
    },
    {
     "name": "stderr",
     "output_type": "stream",
     "text": [
      "\r",
      " 98%|██████████████████████████████████████████████████████████████████████████████  | 868/889 [03:07<00:02,  7.14it/s]"
     ]
    },
    {
     "name": "stdout",
     "output_type": "stream",
     "text": [
      "音频：dataset/UrbanSound8K/audio/fold2\\96169-9-1-74.wav 的预测结果标签为：1\n",
      "音频：dataset/UrbanSound8K/audio/fold2\\96475-9-0-0.wav 的预测结果标签为：1\n"
     ]
    },
    {
     "name": "stderr",
     "output_type": "stream",
     "text": [
      " 98%|██████████████████████████████████████████████████████████████████████████████▎ | 870/889 [03:07<00:02,  7.82it/s]"
     ]
    },
    {
     "name": "stdout",
     "output_type": "stream",
     "text": [
      "音频：dataset/UrbanSound8K/audio/fold2\\96475-9-0-3.wav 的预测结果标签为：1\n",
      "音频：dataset/UrbanSound8K/audio/fold2\\96475-9-0-4.wav 的预测结果标签为：1\n"
     ]
    },
    {
     "name": "stderr",
     "output_type": "stream",
     "text": [
      "\r",
      " 98%|██████████████████████████████████████████████████████████████████████████████▍ | 872/889 [03:08<00:02,  8.41it/s]"
     ]
    },
    {
     "name": "stdout",
     "output_type": "stream",
     "text": [
      "音频：dataset/UrbanSound8K/audio/fold2\\96475-9-0-5.wav 的预测结果标签为：1\n",
      "音频：dataset/UrbanSound8K/audio/fold2\\96475-9-0-6.wav 的预测结果标签为：1\n",
      "音频：dataset/UrbanSound8K/audio/fold2\\96475-9-0-9.wav 的预测结果标签为：1\n"
     ]
    },
    {
     "name": "stderr",
     "output_type": "stream",
     "text": [
      "\r",
      " 98%|██████████████████████████████████████████████████████████████████████████████▋ | 874/889 [03:08<00:02,  7.31it/s]"
     ]
    },
    {
     "name": "stdout",
     "output_type": "stream",
     "text": [
      "音频：dataset/UrbanSound8K/audio/fold2\\96920-9-0-0.wav 的预测结果标签为：1\n"
     ]
    },
    {
     "name": "stderr",
     "output_type": "stream",
     "text": [
      "\r",
      " 98%|██████████████████████████████████████████████████████████████████████████████▋ | 875/889 [03:08<00:02,  5.41it/s]"
     ]
    },
    {
     "name": "stdout",
     "output_type": "stream",
     "text": [
      "音频：dataset/UrbanSound8K/audio/fold2\\96920-9-0-11.wav 的预测结果标签为：1\n"
     ]
    },
    {
     "name": "stderr",
     "output_type": "stream",
     "text": [
      "\r",
      " 99%|██████████████████████████████████████████████████████████████████████████████▊ | 876/889 [03:08<00:02,  4.73it/s]"
     ]
    },
    {
     "name": "stdout",
     "output_type": "stream",
     "text": [
      "音频：dataset/UrbanSound8K/audio/fold2\\96920-9-0-13.wav 的预测结果标签为：1\n"
     ]
    },
    {
     "name": "stderr",
     "output_type": "stream",
     "text": [
      "\r",
      " 99%|██████████████████████████████████████████████████████████████████████████████▉ | 877/889 [03:09<00:02,  4.50it/s]"
     ]
    },
    {
     "name": "stdout",
     "output_type": "stream",
     "text": [
      "音频：dataset/UrbanSound8K/audio/fold2\\96920-9-0-2.wav 的预测结果标签为：1\n"
     ]
    },
    {
     "name": "stderr",
     "output_type": "stream",
     "text": [
      "\r",
      " 99%|███████████████████████████████████████████████████████████████████████████████ | 878/889 [03:09<00:02,  4.22it/s]"
     ]
    },
    {
     "name": "stdout",
     "output_type": "stream",
     "text": [
      "音频：dataset/UrbanSound8K/audio/fold2\\96920-9-0-3.wav 的预测结果标签为：1\n"
     ]
    },
    {
     "name": "stderr",
     "output_type": "stream",
     "text": [
      "\r",
      " 99%|███████████████████████████████████████████████████████████████████████████████ | 879/889 [03:09<00:02,  3.96it/s]"
     ]
    },
    {
     "name": "stdout",
     "output_type": "stream",
     "text": [
      "音频：dataset/UrbanSound8K/audio/fold2\\96920-9-0-8.wav 的预测结果标签为：1\n"
     ]
    },
    {
     "name": "stderr",
     "output_type": "stream",
     "text": [
      "\r",
      " 99%|███████████████████████████████████████████████████████████████████████████████▏| 880/889 [03:10<00:02,  3.85it/s]"
     ]
    },
    {
     "name": "stdout",
     "output_type": "stream",
     "text": [
      "音频：dataset/UrbanSound8K/audio/fold2\\97193-3-0-0.wav 的预测结果标签为：1\n"
     ]
    },
    {
     "name": "stderr",
     "output_type": "stream",
     "text": [
      "\r",
      " 99%|███████████████████████████████████████████████████████████████████████████████▎| 881/889 [03:10<00:02,  3.88it/s]"
     ]
    },
    {
     "name": "stdout",
     "output_type": "stream",
     "text": [
      "音频：dataset/UrbanSound8K/audio/fold2\\97193-3-0-1.wav 的预测结果标签为：1\n"
     ]
    },
    {
     "name": "stderr",
     "output_type": "stream",
     "text": [
      "\r",
      " 99%|███████████████████████████████████████████████████████████████████████████████▎| 882/889 [03:10<00:01,  3.91it/s]"
     ]
    },
    {
     "name": "stdout",
     "output_type": "stream",
     "text": [
      "音频：dataset/UrbanSound8K/audio/fold2\\97193-3-0-4.wav 的预测结果标签为：1\n"
     ]
    },
    {
     "name": "stderr",
     "output_type": "stream",
     "text": [
      " 99%|███████████████████████████████████████████████████████████████████████████████▌| 884/889 [03:10<00:01,  4.57it/s]"
     ]
    },
    {
     "name": "stdout",
     "output_type": "stream",
     "text": [
      "音频：dataset/UrbanSound8K/audio/fold2\\97193-3-0-6.wav 的预测结果标签为：1\n",
      "音频：dataset/UrbanSound8K/audio/fold2\\98202-9-0-10.wav 的预测结果标签为：1\n"
     ]
    },
    {
     "name": "stderr",
     "output_type": "stream",
     "text": [
      "100%|███████████████████████████████████████████████████████████████████████████████▋| 886/889 [03:11<00:00,  5.99it/s]"
     ]
    },
    {
     "name": "stdout",
     "output_type": "stream",
     "text": [
      "音频：dataset/UrbanSound8K/audio/fold2\\98202-9-0-4.wav 的预测结果标签为：1\n",
      "音频：dataset/UrbanSound8K/audio/fold2\\98202-9-0-7.wav 的预测结果标签为：1\n"
     ]
    },
    {
     "name": "stderr",
     "output_type": "stream",
     "text": [
      "100%|████████████████████████████████████████████████████████████████████████████████| 889/889 [03:11<00:00,  7.40it/s]"
     ]
    },
    {
     "name": "stdout",
     "output_type": "stream",
     "text": [
      "音频：dataset/UrbanSound8K/audio/fold2\\98202-9-1-20.wav 的预测结果标签为：1\n",
      "音频：dataset/UrbanSound8K/audio/fold2\\98202-9-1-27.wav 的预测结果标签为：1\n",
      "音频：dataset/UrbanSound8K/audio/fold2\\98202-9-1-5.wav 的预测结果标签为：1\n"
     ]
    },
    {
     "name": "stderr",
     "output_type": "stream",
     "text": [
      "\r",
      "100%|████████████████████████████████████████████████████████████████████████████████| 889/889 [03:11<00:00,  4.64it/s]"
     ]
    },
    {
     "name": "stdout",
     "output_type": "stream",
     "text": [
      "虚报的个数为24 虚警率为0.026997\n"
     ]
    },
    {
     "name": "stderr",
     "output_type": "stream",
     "text": [
      "\n"
     ]
    }
   ],
   "source": [
    "#虚警率\n",
    "sounds = os.listdir('dataset/UrbanSound8K/audio/fold2')\n",
    "wrong_num=0\n",
    "for sound in tqdm(sounds):\n",
    "    if sound[-4:] != '.wav':\n",
    "        continue\n",
    "    sound_path = os.path.join('dataset/UrbanSound8K/audio/fold2', sound)\n",
    "    #wav, sr = librosa.load(path, sr=48000)\n",
    "    label = infer(sound_path)\n",
    "    print('音频：%s 的预测结果标签为：%d' % (sound_path, label))\n",
    "    if label==0:\n",
    "        wrong_num+=1\n",
    "print('虚报的个数为%d 虚警率为%f' % (wrong_num, wrong_num/len(sounds)))"
   ]
  },
  {
   "cell_type": "code",
   "execution_count": null,
   "metadata": {},
   "outputs": [],
   "source": []
  }
 ],
 "metadata": {
  "kernelspec": {
   "display_name": "Python 3",
   "language": "python",
   "name": "python3"
  },
  "language_info": {
   "codemirror_mode": {
    "name": "ipython",
    "version": 3
   },
   "file_extension": ".py",
   "mimetype": "text/x-python",
   "name": "python",
   "nbconvert_exporter": "python",
   "pygments_lexer": "ipython3",
   "version": "3.8.5"
  }
 },
 "nbformat": 4,
 "nbformat_minor": 4
}
